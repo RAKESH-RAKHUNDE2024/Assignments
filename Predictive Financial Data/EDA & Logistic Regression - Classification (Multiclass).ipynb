{
 "cells": [
  {
   "cell_type": "code",
   "execution_count": null,
   "id": "d6641beb-88c0-47fb-af4a-787a55cc7d62",
   "metadata": {},
   "outputs": [],
   "source": []
  },
  {
   "cell_type": "markdown",
   "id": "ade6a694-bfe4-4806-83b7-8334c313747a",
   "metadata": {},
   "source": [
    "### Step - 1 Import Libraries & Load Data"
   ]
  },
  {
   "cell_type": "code",
   "execution_count": 1,
   "id": "ccbb0910-1b33-4f9d-9407-7f7d761c216b",
   "metadata": {},
   "outputs": [],
   "source": [
    "# Core Libraries\n",
    "\n",
    "import pandas as pd\n",
    "import numpy as np\n",
    "\n",
    "# Visualization\n",
    "\n",
    "import matplotlib.pyplot as plt\n",
    "import seaborn as sns\n",
    "import missingno as msno\n",
    "import joblib\n",
    "\n",
    "# Scikit learn\n",
    "\n",
    "from sklearn.model_selection import train_test_split, GridSearchCV\n",
    "from sklearn.preprocessing import StandardScaler, LabelEncoder, OneHotEncoder\n",
    "from sklearn.compose import ColumnTransformer\n",
    "from sklearn.pipeline import Pipeline\n",
    "from sklearn.metrics import accuracy_score,classification_report, confusion_matrix, roc_auc_score\n",
    "from sklearn.linear_model import LogisticRegression\n",
    "from sklearn.ensemble import RandomForestClassifier\n",
    "from sklearn.feature_selection import mutual_info_classif\n",
    "from sklearn.model_selection import cross_val_score\n",
    "\n",
    "# Suppress Warnings For Clarity\n",
    "\n",
    "import warnings\n",
    "warnings.filterwarnings(\"ignore\")"
   ]
  },
  {
   "cell_type": "code",
   "execution_count": null,
   "id": "4426bf68-703f-4147-b6e4-f18c7ca38097",
   "metadata": {},
   "outputs": [],
   "source": []
  },
  {
   "cell_type": "code",
   "execution_count": 2,
   "id": "fa46063a-3483-4d92-acbd-a13e4cf68bdc",
   "metadata": {},
   "outputs": [],
   "source": [
    "df = pd.read_csv('Cleaned_Predictive_Modeling_Data.csv')"
   ]
  },
  {
   "cell_type": "code",
   "execution_count": null,
   "id": "f1d53062-883c-41e9-bc02-ede85be8ec65",
   "metadata": {},
   "outputs": [],
   "source": []
  },
  {
   "cell_type": "code",
   "execution_count": 3,
   "id": "d01d5438-0929-4f1d-8e19-8ee120c85959",
   "metadata": {},
   "outputs": [
    {
     "data": {
      "text/html": [
       "<div>\n",
       "<style scoped>\n",
       "    .dataframe tbody tr th:only-of-type {\n",
       "        vertical-align: middle;\n",
       "    }\n",
       "\n",
       "    .dataframe tbody tr th {\n",
       "        vertical-align: top;\n",
       "    }\n",
       "\n",
       "    .dataframe thead th {\n",
       "        text-align: right;\n",
       "    }\n",
       "</style>\n",
       "<table border=\"1\" class=\"dataframe\">\n",
       "  <thead>\n",
       "    <tr style=\"text-align: right;\">\n",
       "      <th></th>\n",
       "      <th>Payment</th>\n",
       "      <th>gender</th>\n",
       "      <th>Age</th>\n",
       "      <th>Industry</th>\n",
       "      <th>Profession</th>\n",
       "      <th>Credit_Score</th>\n",
       "      <th>platform</th>\n",
       "      <th>device_model</th>\n",
       "      <th>income_lac</th>\n",
       "      <th>assest_cr</th>\n",
       "      <th>...</th>\n",
       "      <th>Debt</th>\n",
       "      <th>Gold</th>\n",
       "      <th>Alt_Investments</th>\n",
       "      <th>Housing_Loan</th>\n",
       "      <th>Auto_Loan</th>\n",
       "      <th>Personal_Loan</th>\n",
       "      <th>Credit_Card</th>\n",
       "      <th>Education_Loan</th>\n",
       "      <th>Gold_Loan</th>\n",
       "      <th>Other_loan</th>\n",
       "    </tr>\n",
       "  </thead>\n",
       "  <tbody>\n",
       "    <tr>\n",
       "      <th>0</th>\n",
       "      <td>Not Paid</td>\n",
       "      <td>Male</td>\n",
       "      <td>41</td>\n",
       "      <td>Educational Sector &amp; Training Institutes</td>\n",
       "      <td>Professor</td>\n",
       "      <td>750.0</td>\n",
       "      <td>android</td>\n",
       "      <td>Samsung</td>\n",
       "      <td>18.28</td>\n",
       "      <td>0.735700</td>\n",
       "      <td>...</td>\n",
       "      <td>2.007</td>\n",
       "      <td>0.000</td>\n",
       "      <td>0.000</td>\n",
       "      <td>0.0</td>\n",
       "      <td>0.0</td>\n",
       "      <td>0.00</td>\n",
       "      <td>0.0</td>\n",
       "      <td>0.0</td>\n",
       "      <td>0.0</td>\n",
       "      <td>0.0</td>\n",
       "    </tr>\n",
       "    <tr>\n",
       "      <th>1</th>\n",
       "      <td>Not Paid</td>\n",
       "      <td>Male</td>\n",
       "      <td>35</td>\n",
       "      <td>Miscellaneous, Metals, Construction &amp; Other Sp...</td>\n",
       "      <td>Other Professions</td>\n",
       "      <td>750.0</td>\n",
       "      <td>ios</td>\n",
       "      <td>Apple IPhone</td>\n",
       "      <td>35.00</td>\n",
       "      <td>0.701200</td>\n",
       "      <td>...</td>\n",
       "      <td>2.300</td>\n",
       "      <td>0.000</td>\n",
       "      <td>0.012</td>\n",
       "      <td>0.0</td>\n",
       "      <td>0.0</td>\n",
       "      <td>0.00</td>\n",
       "      <td>0.0</td>\n",
       "      <td>0.0</td>\n",
       "      <td>0.0</td>\n",
       "      <td>0.0</td>\n",
       "    </tr>\n",
       "    <tr>\n",
       "      <th>2</th>\n",
       "      <td>Not Paid</td>\n",
       "      <td>Male</td>\n",
       "      <td>39</td>\n",
       "      <td>Miscellaneous, Metals, Construction &amp; Other Sp...</td>\n",
       "      <td>Other Professions</td>\n",
       "      <td>864.0</td>\n",
       "      <td>ios</td>\n",
       "      <td>Apple IPhone</td>\n",
       "      <td>41.00</td>\n",
       "      <td>1.973681</td>\n",
       "      <td>...</td>\n",
       "      <td>2.795</td>\n",
       "      <td>0.051</td>\n",
       "      <td>0.000</td>\n",
       "      <td>3.1</td>\n",
       "      <td>0.0</td>\n",
       "      <td>0.00</td>\n",
       "      <td>0.0</td>\n",
       "      <td>0.0</td>\n",
       "      <td>0.0</td>\n",
       "      <td>0.0</td>\n",
       "    </tr>\n",
       "    <tr>\n",
       "      <th>3</th>\n",
       "      <td>Not Paid</td>\n",
       "      <td>Male</td>\n",
       "      <td>21</td>\n",
       "      <td>Educational Sector &amp; Training Institutes</td>\n",
       "      <td>Trading+ Business</td>\n",
       "      <td>0.0</td>\n",
       "      <td>android</td>\n",
       "      <td>Realme</td>\n",
       "      <td>2.10</td>\n",
       "      <td>0.210202</td>\n",
       "      <td>...</td>\n",
       "      <td>0.300</td>\n",
       "      <td>0.000</td>\n",
       "      <td>0.000</td>\n",
       "      <td>0.0</td>\n",
       "      <td>0.0</td>\n",
       "      <td>0.00</td>\n",
       "      <td>0.0</td>\n",
       "      <td>0.0</td>\n",
       "      <td>0.0</td>\n",
       "      <td>0.0</td>\n",
       "    </tr>\n",
       "    <tr>\n",
       "      <th>4</th>\n",
       "      <td>Not Paid</td>\n",
       "      <td>Male</td>\n",
       "      <td>28</td>\n",
       "      <td>Information Technology &amp; Software Services</td>\n",
       "      <td>Software Developer</td>\n",
       "      <td>753.0</td>\n",
       "      <td>android</td>\n",
       "      <td>Motorola</td>\n",
       "      <td>32.00</td>\n",
       "      <td>0.198472</td>\n",
       "      <td>...</td>\n",
       "      <td>1.400</td>\n",
       "      <td>0.000</td>\n",
       "      <td>0.000</td>\n",
       "      <td>0.0</td>\n",
       "      <td>0.0</td>\n",
       "      <td>1.31</td>\n",
       "      <td>0.0</td>\n",
       "      <td>0.0</td>\n",
       "      <td>0.0</td>\n",
       "      <td>0.0</td>\n",
       "    </tr>\n",
       "  </tbody>\n",
       "</table>\n",
       "<p>5 rows × 29 columns</p>\n",
       "</div>"
      ],
      "text/plain": [
       "    Payment gender  Age                                           Industry  \\\n",
       "0  Not Paid   Male   41           Educational Sector & Training Institutes   \n",
       "1  Not Paid   Male   35  Miscellaneous, Metals, Construction & Other Sp...   \n",
       "2  Not Paid   Male   39  Miscellaneous, Metals, Construction & Other Sp...   \n",
       "3  Not Paid   Male   21           Educational Sector & Training Institutes   \n",
       "4  Not Paid   Male   28         Information Technology & Software Services   \n",
       "\n",
       "           Profession  Credit_Score platform  device_model  income_lac  \\\n",
       "0           Professor         750.0  android       Samsung       18.28   \n",
       "1   Other Professions         750.0      ios  Apple IPhone       35.00   \n",
       "2   Other Professions         864.0      ios  Apple IPhone       41.00   \n",
       "3   Trading+ Business           0.0  android        Realme        2.10   \n",
       "4  Software Developer         753.0  android      Motorola       32.00   \n",
       "\n",
       "   assest_cr  ...   Debt   Gold  Alt_Investments Housing_Loan Auto_Loan  \\\n",
       "0   0.735700  ...  2.007  0.000            0.000          0.0       0.0   \n",
       "1   0.701200  ...  2.300  0.000            0.012          0.0       0.0   \n",
       "2   1.973681  ...  2.795  0.051            0.000          3.1       0.0   \n",
       "3   0.210202  ...  0.300  0.000            0.000          0.0       0.0   \n",
       "4   0.198472  ...  1.400  0.000            0.000          0.0       0.0   \n",
       "\n",
       "  Personal_Loan Credit_Card  Education_Loan  Gold_Loan  Other_loan  \n",
       "0          0.00         0.0             0.0        0.0         0.0  \n",
       "1          0.00         0.0             0.0        0.0         0.0  \n",
       "2          0.00         0.0             0.0        0.0         0.0  \n",
       "3          0.00         0.0             0.0        0.0         0.0  \n",
       "4          1.31         0.0             0.0        0.0         0.0  \n",
       "\n",
       "[5 rows x 29 columns]"
      ]
     },
     "execution_count": 3,
     "metadata": {},
     "output_type": "execute_result"
    }
   ],
   "source": [
    "# Create A Working Copy Of The Dataset\n",
    "\n",
    "data = df.copy()\n",
    "\n",
    "# Preview The First 5 Rows\n",
    "\n",
    "data.head()"
   ]
  },
  {
   "cell_type": "code",
   "execution_count": null,
   "id": "6eac77d6-a974-4ce0-8e26-b7b9de739153",
   "metadata": {},
   "outputs": [],
   "source": []
  },
  {
   "cell_type": "code",
   "execution_count": null,
   "id": "45c120df-6656-4d1a-ad14-717bc888c76f",
   "metadata": {},
   "outputs": [],
   "source": []
  },
  {
   "cell_type": "markdown",
   "id": "81b5a833-09b3-4c0f-b039-86db86f0a275",
   "metadata": {},
   "source": [
    "### Step - 2 Exploratory Data Analysis (EDA)"
   ]
  },
  {
   "cell_type": "code",
   "execution_count": null,
   "id": "2b0d8942-f4f0-4982-a5a9-c661ae23b854",
   "metadata": {},
   "outputs": [],
   "source": []
  },
  {
   "cell_type": "code",
   "execution_count": 4,
   "id": "711b7421-6d18-4c6f-a3a2-f920e8cf29b4",
   "metadata": {},
   "outputs": [
    {
     "name": "stdout",
     "output_type": "stream",
     "text": [
      "(9610, 29)\n"
     ]
    }
   ],
   "source": [
    "# Basic Info\n",
    "\n",
    "print(data.shape)"
   ]
  },
  {
   "cell_type": "code",
   "execution_count": null,
   "id": "cd8d2bb0-9278-40d8-9e47-d41eb1827887",
   "metadata": {},
   "outputs": [],
   "source": []
  },
  {
   "cell_type": "code",
   "execution_count": 5,
   "id": "d80578fc-13fb-4df4-b6e7-5dfd2a3c1963",
   "metadata": {},
   "outputs": [
    {
     "name": "stdout",
     "output_type": "stream",
     "text": [
      "<class 'pandas.core.frame.DataFrame'>\n",
      "RangeIndex: 9610 entries, 0 to 9609\n",
      "Data columns (total 29 columns):\n",
      " #   Column           Non-Null Count  Dtype  \n",
      "---  ------           --------------  -----  \n",
      " 0   Payment          9610 non-null   object \n",
      " 1   gender           9610 non-null   object \n",
      " 2   Age              9610 non-null   int64  \n",
      " 3   Industry         9610 non-null   object \n",
      " 4   Profession       9610 non-null   object \n",
      " 5   Credit_Score     9610 non-null   float64\n",
      " 6   platform         9610 non-null   object \n",
      " 7   device_model     9443 non-null   object \n",
      " 8   income_lac       9610 non-null   float64\n",
      " 9   assest_cr        9610 non-null   float64\n",
      " 10  Liabilities_cr   9610 non-null   float64\n",
      " 11  VUA              9610 non-null   float64\n",
      " 12  FBS_Latest       9610 non-null   float64\n",
      " 13  City_Group       9610 non-null   object \n",
      " 14  Income_Bucket    9610 non-null   object \n",
      " 15  Age_Bucket       9610 non-null   object \n",
      " 16  Cibil_Bucket     9610 non-null   object \n",
      " 17  Real_Estate      9610 non-null   float64\n",
      " 18  Equity           9610 non-null   float64\n",
      " 19  Debt             9610 non-null   float64\n",
      " 20  Gold             9610 non-null   float64\n",
      " 21  Alt_Investments  9610 non-null   float64\n",
      " 22  Housing_Loan     9610 non-null   float64\n",
      " 23  Auto_Loan        9610 non-null   float64\n",
      " 24  Personal_Loan    9610 non-null   float64\n",
      " 25  Credit_Card      9610 non-null   float64\n",
      " 26  Education_Loan   9610 non-null   float64\n",
      " 27  Gold_Loan        9610 non-null   float64\n",
      " 28  Other_loan       9610 non-null   float64\n",
      "dtypes: float64(18), int64(1), object(10)\n",
      "memory usage: 2.1+ MB\n",
      "None\n"
     ]
    }
   ],
   "source": [
    "print(data.info())"
   ]
  },
  {
   "cell_type": "code",
   "execution_count": null,
   "id": "32313822-188f-4fd8-9ddf-243438e128dd",
   "metadata": {},
   "outputs": [],
   "source": []
  },
  {
   "cell_type": "code",
   "execution_count": 6,
   "id": "c31acc3d-663f-43d5-b5d2-159fabec7490",
   "metadata": {},
   "outputs": [
    {
     "data": {
      "text/html": [
       "<div>\n",
       "<style scoped>\n",
       "    .dataframe tbody tr th:only-of-type {\n",
       "        vertical-align: middle;\n",
       "    }\n",
       "\n",
       "    .dataframe tbody tr th {\n",
       "        vertical-align: top;\n",
       "    }\n",
       "\n",
       "    .dataframe thead th {\n",
       "        text-align: right;\n",
       "    }\n",
       "</style>\n",
       "<table border=\"1\" class=\"dataframe\">\n",
       "  <thead>\n",
       "    <tr style=\"text-align: right;\">\n",
       "      <th></th>\n",
       "      <th>count</th>\n",
       "      <th>mean</th>\n",
       "      <th>std</th>\n",
       "      <th>min</th>\n",
       "      <th>25%</th>\n",
       "      <th>50%</th>\n",
       "      <th>75%</th>\n",
       "      <th>max</th>\n",
       "    </tr>\n",
       "  </thead>\n",
       "  <tbody>\n",
       "    <tr>\n",
       "      <th>Age</th>\n",
       "      <td>9610.0</td>\n",
       "      <td>34.770864</td>\n",
       "      <td>7.318480</td>\n",
       "      <td>20.0</td>\n",
       "      <td>30.000000</td>\n",
       "      <td>34.000000</td>\n",
       "      <td>38.000000</td>\n",
       "      <td>79.0000</td>\n",
       "    </tr>\n",
       "    <tr>\n",
       "      <th>Credit_Score</th>\n",
       "      <td>9610.0</td>\n",
       "      <td>704.592924</td>\n",
       "      <td>226.964148</td>\n",
       "      <td>0.0</td>\n",
       "      <td>750.000000</td>\n",
       "      <td>765.000000</td>\n",
       "      <td>800.000000</td>\n",
       "      <td>900.0000</td>\n",
       "    </tr>\n",
       "    <tr>\n",
       "      <th>income_lac</th>\n",
       "      <td>9610.0</td>\n",
       "      <td>29.264149</td>\n",
       "      <td>43.247297</td>\n",
       "      <td>0.0</td>\n",
       "      <td>12.000000</td>\n",
       "      <td>21.000000</td>\n",
       "      <td>36.000000</td>\n",
       "      <td>2655.0000</td>\n",
       "    </tr>\n",
       "    <tr>\n",
       "      <th>assest_cr</th>\n",
       "      <td>9610.0</td>\n",
       "      <td>1.584551</td>\n",
       "      <td>8.596432</td>\n",
       "      <td>0.0</td>\n",
       "      <td>0.109500</td>\n",
       "      <td>0.543500</td>\n",
       "      <td>1.579699</td>\n",
       "      <td>745.7500</td>\n",
       "    </tr>\n",
       "    <tr>\n",
       "      <th>Liabilities_cr</th>\n",
       "      <td>9610.0</td>\n",
       "      <td>0.203826</td>\n",
       "      <td>0.405375</td>\n",
       "      <td>0.0</td>\n",
       "      <td>0.000000</td>\n",
       "      <td>0.045000</td>\n",
       "      <td>0.257925</td>\n",
       "      <td>10.0000</td>\n",
       "    </tr>\n",
       "    <tr>\n",
       "      <th>VUA</th>\n",
       "      <td>9610.0</td>\n",
       "      <td>1.788372</td>\n",
       "      <td>8.643852</td>\n",
       "      <td>0.0</td>\n",
       "      <td>0.166995</td>\n",
       "      <td>0.664691</td>\n",
       "      <td>1.915880</td>\n",
       "      <td>745.8467</td>\n",
       "    </tr>\n",
       "    <tr>\n",
       "      <th>FBS_Latest</th>\n",
       "      <td>9610.0</td>\n",
       "      <td>52.795317</td>\n",
       "      <td>13.489080</td>\n",
       "      <td>0.0</td>\n",
       "      <td>44.000000</td>\n",
       "      <td>54.000000</td>\n",
       "      <td>63.000000</td>\n",
       "      <td>90.0000</td>\n",
       "    </tr>\n",
       "    <tr>\n",
       "      <th>Real_Estate</th>\n",
       "      <td>9610.0</td>\n",
       "      <td>9.015581</td>\n",
       "      <td>53.893237</td>\n",
       "      <td>0.0</td>\n",
       "      <td>0.000000</td>\n",
       "      <td>0.700000</td>\n",
       "      <td>10.000000</td>\n",
       "      <td>4815.0000</td>\n",
       "    </tr>\n",
       "    <tr>\n",
       "      <th>Equity</th>\n",
       "      <td>9610.0</td>\n",
       "      <td>3.471012</td>\n",
       "      <td>27.854233</td>\n",
       "      <td>0.0</td>\n",
       "      <td>0.050000</td>\n",
       "      <td>0.472000</td>\n",
       "      <td>2.000000</td>\n",
       "      <td>2100.8620</td>\n",
       "    </tr>\n",
       "    <tr>\n",
       "      <th>Debt</th>\n",
       "      <td>9610.0</td>\n",
       "      <td>2.671328</td>\n",
       "      <td>10.176906</td>\n",
       "      <td>0.0</td>\n",
       "      <td>0.252000</td>\n",
       "      <td>0.900000</td>\n",
       "      <td>2.525000</td>\n",
       "      <td>801.5000</td>\n",
       "    </tr>\n",
       "    <tr>\n",
       "      <th>Gold</th>\n",
       "      <td>9610.0</td>\n",
       "      <td>0.570999</td>\n",
       "      <td>12.097528</td>\n",
       "      <td>0.0</td>\n",
       "      <td>0.000000</td>\n",
       "      <td>0.013000</td>\n",
       "      <td>0.433000</td>\n",
       "      <td>1180.0000</td>\n",
       "    </tr>\n",
       "    <tr>\n",
       "      <th>Alt_Investments</th>\n",
       "      <td>9610.0</td>\n",
       "      <td>0.116586</td>\n",
       "      <td>3.760257</td>\n",
       "      <td>0.0</td>\n",
       "      <td>0.000000</td>\n",
       "      <td>0.000000</td>\n",
       "      <td>0.000000</td>\n",
       "      <td>365.0000</td>\n",
       "    </tr>\n",
       "    <tr>\n",
       "      <th>Housing_Loan</th>\n",
       "      <td>9610.0</td>\n",
       "      <td>1.518147</td>\n",
       "      <td>3.569885</td>\n",
       "      <td>0.0</td>\n",
       "      <td>0.000000</td>\n",
       "      <td>0.000000</td>\n",
       "      <td>1.700750</td>\n",
       "      <td>71.9620</td>\n",
       "    </tr>\n",
       "    <tr>\n",
       "      <th>Auto_Loan</th>\n",
       "      <td>9610.0</td>\n",
       "      <td>0.139257</td>\n",
       "      <td>0.454472</td>\n",
       "      <td>0.0</td>\n",
       "      <td>0.000000</td>\n",
       "      <td>0.000000</td>\n",
       "      <td>0.000000</td>\n",
       "      <td>22.4200</td>\n",
       "    </tr>\n",
       "    <tr>\n",
       "      <th>Personal_Loan</th>\n",
       "      <td>9610.0</td>\n",
       "      <td>0.214544</td>\n",
       "      <td>1.231665</td>\n",
       "      <td>0.0</td>\n",
       "      <td>0.000000</td>\n",
       "      <td>0.000000</td>\n",
       "      <td>0.013000</td>\n",
       "      <td>100.0000</td>\n",
       "    </tr>\n",
       "    <tr>\n",
       "      <th>Credit_Card</th>\n",
       "      <td>9610.0</td>\n",
       "      <td>0.010874</td>\n",
       "      <td>0.080131</td>\n",
       "      <td>0.0</td>\n",
       "      <td>0.000000</td>\n",
       "      <td>0.000000</td>\n",
       "      <td>0.000000</td>\n",
       "      <td>2.5000</td>\n",
       "    </tr>\n",
       "    <tr>\n",
       "      <th>Education_Loan</th>\n",
       "      <td>9610.0</td>\n",
       "      <td>0.021335</td>\n",
       "      <td>0.260654</td>\n",
       "      <td>0.0</td>\n",
       "      <td>0.000000</td>\n",
       "      <td>0.000000</td>\n",
       "      <td>0.000000</td>\n",
       "      <td>14.7000</td>\n",
       "    </tr>\n",
       "    <tr>\n",
       "      <th>Gold_Loan</th>\n",
       "      <td>9610.0</td>\n",
       "      <td>0.005674</td>\n",
       "      <td>0.084616</td>\n",
       "      <td>0.0</td>\n",
       "      <td>0.000000</td>\n",
       "      <td>0.000000</td>\n",
       "      <td>0.000000</td>\n",
       "      <td>2.6350</td>\n",
       "    </tr>\n",
       "    <tr>\n",
       "      <th>Other_loan</th>\n",
       "      <td>9610.0</td>\n",
       "      <td>0.128427</td>\n",
       "      <td>1.059929</td>\n",
       "      <td>0.0</td>\n",
       "      <td>0.000000</td>\n",
       "      <td>0.000000</td>\n",
       "      <td>0.000000</td>\n",
       "      <td>60.0000</td>\n",
       "    </tr>\n",
       "  </tbody>\n",
       "</table>\n",
       "</div>"
      ],
      "text/plain": [
       "                  count        mean         std   min         25%         50%  \\\n",
       "Age              9610.0   34.770864    7.318480  20.0   30.000000   34.000000   \n",
       "Credit_Score     9610.0  704.592924  226.964148   0.0  750.000000  765.000000   \n",
       "income_lac       9610.0   29.264149   43.247297   0.0   12.000000   21.000000   \n",
       "assest_cr        9610.0    1.584551    8.596432   0.0    0.109500    0.543500   \n",
       "Liabilities_cr   9610.0    0.203826    0.405375   0.0    0.000000    0.045000   \n",
       "VUA              9610.0    1.788372    8.643852   0.0    0.166995    0.664691   \n",
       "FBS_Latest       9610.0   52.795317   13.489080   0.0   44.000000   54.000000   \n",
       "Real_Estate      9610.0    9.015581   53.893237   0.0    0.000000    0.700000   \n",
       "Equity           9610.0    3.471012   27.854233   0.0    0.050000    0.472000   \n",
       "Debt             9610.0    2.671328   10.176906   0.0    0.252000    0.900000   \n",
       "Gold             9610.0    0.570999   12.097528   0.0    0.000000    0.013000   \n",
       "Alt_Investments  9610.0    0.116586    3.760257   0.0    0.000000    0.000000   \n",
       "Housing_Loan     9610.0    1.518147    3.569885   0.0    0.000000    0.000000   \n",
       "Auto_Loan        9610.0    0.139257    0.454472   0.0    0.000000    0.000000   \n",
       "Personal_Loan    9610.0    0.214544    1.231665   0.0    0.000000    0.000000   \n",
       "Credit_Card      9610.0    0.010874    0.080131   0.0    0.000000    0.000000   \n",
       "Education_Loan   9610.0    0.021335    0.260654   0.0    0.000000    0.000000   \n",
       "Gold_Loan        9610.0    0.005674    0.084616   0.0    0.000000    0.000000   \n",
       "Other_loan       9610.0    0.128427    1.059929   0.0    0.000000    0.000000   \n",
       "\n",
       "                        75%        max  \n",
       "Age               38.000000    79.0000  \n",
       "Credit_Score     800.000000   900.0000  \n",
       "income_lac        36.000000  2655.0000  \n",
       "assest_cr          1.579699   745.7500  \n",
       "Liabilities_cr     0.257925    10.0000  \n",
       "VUA                1.915880   745.8467  \n",
       "FBS_Latest        63.000000    90.0000  \n",
       "Real_Estate       10.000000  4815.0000  \n",
       "Equity             2.000000  2100.8620  \n",
       "Debt               2.525000   801.5000  \n",
       "Gold               0.433000  1180.0000  \n",
       "Alt_Investments    0.000000   365.0000  \n",
       "Housing_Loan       1.700750    71.9620  \n",
       "Auto_Loan          0.000000    22.4200  \n",
       "Personal_Loan      0.013000   100.0000  \n",
       "Credit_Card        0.000000     2.5000  \n",
       "Education_Loan     0.000000    14.7000  \n",
       "Gold_Loan          0.000000     2.6350  \n",
       "Other_loan         0.000000    60.0000  "
      ]
     },
     "execution_count": 6,
     "metadata": {},
     "output_type": "execute_result"
    }
   ],
   "source": [
    "# Numerical Statistics\n",
    "\n",
    "data.describe().T  "
   ]
  },
  {
   "cell_type": "code",
   "execution_count": null,
   "id": "db837031-1f73-4042-96fd-d79d17bb10d6",
   "metadata": {},
   "outputs": [],
   "source": []
  },
  {
   "cell_type": "code",
   "execution_count": 7,
   "id": "d91c2409-42bf-4201-add4-f6caa6edc62c",
   "metadata": {},
   "outputs": [
    {
     "name": "stdout",
     "output_type": "stream",
     "text": [
      "Payment              0\n",
      "gender               0\n",
      "Age                  0\n",
      "Industry             0\n",
      "Profession           0\n",
      "Credit_Score         0\n",
      "platform             0\n",
      "device_model       167\n",
      "income_lac           0\n",
      "assest_cr            0\n",
      "Liabilities_cr       0\n",
      "VUA                  0\n",
      "FBS_Latest           0\n",
      "City_Group           0\n",
      "Income_Bucket        0\n",
      "Age_Bucket           0\n",
      "Cibil_Bucket         0\n",
      "Real_Estate          0\n",
      "Equity               0\n",
      "Debt                 0\n",
      "Gold                 0\n",
      "Alt_Investments      0\n",
      "Housing_Loan         0\n",
      "Auto_Loan            0\n",
      "Personal_Loan        0\n",
      "Credit_Card          0\n",
      "Education_Loan       0\n",
      "Gold_Loan            0\n",
      "Other_loan           0\n",
      "dtype: int64\n"
     ]
    }
   ],
   "source": [
    "# Missing Values\n",
    "\n",
    "print(data.isnull().sum())"
   ]
  },
  {
   "cell_type": "code",
   "execution_count": null,
   "id": "fe7349fb-a89f-4e41-afba-9e8ecbe137ed",
   "metadata": {},
   "outputs": [],
   "source": []
  },
  {
   "cell_type": "markdown",
   "id": "89e56d9e-6b34-4b14-ae64-a3c5e1800c88",
   "metadata": {},
   "source": [
    "#### **->** Suggestion:- Handle Missing Values "
   ]
  },
  {
   "cell_type": "code",
   "execution_count": 8,
   "id": "bc0b6c23-94a6-436e-b732-b86cc83c05d1",
   "metadata": {},
   "outputs": [
    {
     "name": "stdout",
     "output_type": "stream",
     "text": [
      "The most frequent device model is: Apple IPhone\n",
      "\n",
      "Missing Values In 'device_model' After Filling: 0\n"
     ]
    }
   ],
   "source": [
    "# Find The Most Frequent Value (Mode) For The 'device_model' Column\n",
    "\n",
    "mode_device = data['device_model'].mode()[0]\n",
    "print(f\"The most frequent device model is: {mode_device}\")\n",
    "\n",
    "# Fill The Missing Values (NaN) With The Mode\n",
    "\n",
    "data['device_model'].fillna(mode_device, inplace=True)\n",
    "\n",
    "# Verify That There Are No More Missing Values\n",
    "\n",
    "print(f\"\\nMissing Values In 'device_model' After Filling: {data['device_model'].isnull().sum()}\")"
   ]
  },
  {
   "cell_type": "code",
   "execution_count": null,
   "id": "1c94328f-78e1-4191-9cfc-16107d83d3c2",
   "metadata": {},
   "outputs": [],
   "source": []
  },
  {
   "cell_type": "code",
   "execution_count": 9,
   "id": "0e65cab2-3b94-4ee8-9982-d2b3c1da1aa1",
   "metadata": {},
   "outputs": [
    {
     "data": {
      "image/png": "[encoded data removed]",
      "text/plain": [
       "<Figure size 2500x1000 with 3 Axes>"
      ]
     },
     "metadata": {},
     "output_type": "display_data"
    }
   ],
   "source": [
    "# Show & Visuliaze Any Missing alues\n",
    "\n",
    "plt.figure(figsize=(18, 6))\n",
    "msno.bar(\n",
    "    data,\n",
    "    color=\"#4CAF50\"   \n",
    ")\n",
    "plt.title(\"Non-Missing Values per Column\", fontsize=14)\n",
    "plt.tight_layout()\n",
    "plt.show()"
   ]
  },
  {
   "cell_type": "code",
   "execution_count": null,
   "id": "b601fc8c-9f7d-46bd-8e8b-5ac3bd550a5e",
   "metadata": {},
   "outputs": [],
   "source": []
  },
  {
   "cell_type": "code",
   "execution_count": 10,
   "id": "d2375ff6-047c-4b44-8e83-b7089ac8046d",
   "metadata": {},
   "outputs": [
    {
     "data": {
      "image/png": "[encoded data removed]",
      "text/plain": [
       "<Figure size 600x400 with 1 Axes>"
      ]
     },
     "metadata": {},
     "output_type": "display_data"
    }
   ],
   "source": [
    "# Target Variable Distribution\n",
    "\n",
    "plt.figure(figsize=(6,4))\n",
    "sns.countplot(x=\"Payment\", data=data)\n",
    "plt.title(\"Distribution Of Payment Classes\")\n",
    "plt.show()"
   ]
  },
  {
   "cell_type": "code",
   "execution_count": null,
   "id": "fca5b51e-cf2a-4b40-9dd3-3ca17e60d461",
   "metadata": {},
   "outputs": [],
   "source": []
  },
  {
   "cell_type": "code",
   "execution_count": 11,
   "id": "9a067ed9-e4b3-40cc-a5a0-f11af79eb411",
   "metadata": {},
   "outputs": [
    {
     "name": "stdout",
     "output_type": "stream",
     "text": [
      "['Age', 'Credit_Score', 'income_lac', 'assest_cr', 'Liabilities_cr', 'VUA', 'FBS_Latest', 'Real_Estate', 'Equity', 'Debt', 'Gold', 'Alt_Investments', 'Housing_Loan', 'Auto_Loan', 'Personal_Loan', 'Credit_Card', 'Education_Loan', 'Gold_Loan', 'Other_loan']\n"
     ]
    }
   ],
   "source": [
    "# Numeric & Categorical Separation\n",
    "\n",
    "num_cols = data.select_dtypes(include=[np.number]).columns.tolist()\n",
    "cat_cols = [c for c in data.columns if c not in num_cols and c != \"Payment\"]\n",
    "\n",
    "print(num_cols)"
   ]
  },
  {
   "cell_type": "code",
   "execution_count": null,
   "id": "b2d59794-65d0-4d11-9714-d5ff51ec83df",
   "metadata": {},
   "outputs": [],
   "source": []
  },
  {
   "cell_type": "code",
   "execution_count": 12,
   "id": "e88e5065-2d2f-48db-a4d7-d28c12ac390e",
   "metadata": {},
   "outputs": [
    {
     "name": "stdout",
     "output_type": "stream",
     "text": [
      "['gender', 'Industry', 'Profession', 'platform', 'device_model', 'City_Group', 'Income_Bucket', 'Age_Bucket', 'Cibil_Bucket']\n"
     ]
    }
   ],
   "source": [
    "print(cat_cols)"
   ]
  },
  {
   "cell_type": "code",
   "execution_count": null,
   "id": "3c4f77ee-cd9f-4e2d-b391-e3d94b1a7f69",
   "metadata": {},
   "outputs": [],
   "source": []
  },
  {
   "cell_type": "code",
   "execution_count": null,
   "id": "2949ce77-22f0-44f4-9b1b-d26ddd4fa258",
   "metadata": {},
   "outputs": [],
   "source": []
  },
  {
   "cell_type": "markdown",
   "id": "606c1edb-1170-4ec8-adc8-011d4cdb296a",
   "metadata": {},
   "source": [
    "### Step - 3 Correlation / Mutual Information"
   ]
  },
  {
   "cell_type": "code",
   "execution_count": 13,
   "id": "5845a9ba-5243-4bde-89a6-881d0a818c42",
   "metadata": {},
   "outputs": [],
   "source": [
    "# Encode Target Temporarily To Numeric\n",
    "\n",
    "y_tmp = LabelEncoder().fit_transform(data[\"Payment\"].astype(str))"
   ]
  },
  {
   "cell_type": "code",
   "execution_count": 14,
   "id": "5af549c5-6a1b-4310-bf6f-866aca2646f6",
   "metadata": {},
   "outputs": [
    {
     "data": {
      "text/plain": [
       "array([0, 0, 0, ..., 2, 0, 0])"
      ]
     },
     "execution_count": 14,
     "metadata": {},
     "output_type": "execute_result"
    }
   ],
   "source": [
    "y_tmp"
   ]
  },
  {
   "cell_type": "code",
   "execution_count": null,
   "id": "d8002f01-fba8-4a6e-b1e7-356d72aa0f33",
   "metadata": {},
   "outputs": [],
   "source": []
  },
  {
   "cell_type": "code",
   "execution_count": null,
   "id": "c522c4b4-5122-41b5-9629-6ae6c6355ae8",
   "metadata": {},
   "outputs": [],
   "source": [
    "# Mutual Info For Features\n",
    "\n",
    "mi_scores = mutual_info_classif(\n",
    "    pd.get_dummies(data[cat_cols + num_cols], drop_first=True),\n",
    "    y_tmp\n",
    ")\n",
    "\n",
    "mi = pd.Series(mi_scores, index=pd.get_dummies(data[cat_cols + num_cols], drop_first=True).columns)\n",
    "mi.sort_values(ascending=False).head(15).plot(kind=\"barh\", figsize=(8,6))\n",
    "plt.title(\"Top Features By Mutual Information With Payment\")\n",
    "plt.show()"
   ]
  },
  {
   "cell_type": "code",
   "execution_count": null,
   "id": "ab8d97a2-8d56-48f0-a918-6abec3f67e12",
   "metadata": {},
   "outputs": [],
   "source": []
  },
  {
   "cell_type": "code",
   "execution_count": null,
   "id": "d2413ae4-e27c-44dc-b1d4-20c57132bc6d",
   "metadata": {},
   "outputs": [],
   "source": []
  },
  {
   "cell_type": "markdown",
   "id": "fc4bc52f-23fc-407e-921a-a016579c6923",
   "metadata": {},
   "source": [
    "### Step - 4 Feature Engineering"
   ]
  },
  {
   "cell_type": "code",
   "execution_count": null,
   "id": "3be2913d-30f3-4060-9131-b80929406399",
   "metadata": {},
   "outputs": [],
   "source": []
  },
  {
   "cell_type": "code",
   "execution_count": null,
   "id": "147d7e90-098d-4184-b6a5-441f6795ec00",
   "metadata": {},
   "outputs": [],
   "source": [
    "# Engineered Columns\n",
    "\n",
    "data[\"Debt_to_asset_ratio\"] = data[\"Liabilities_cr\"] / (data[\"assest_cr\"] + 1e-6)                  # Total liabilities & Total Assets (In Crores)\n",
    "                             # + 1e-6 Is A Tiny Number (0.000001) Added To The Denominator To Avoid Dividing By Zero When Assest_cr Is 0 Or Missing.\n",
    "loan_cols = [\n",
    "    \"Housing_Loan\",\"Auto_Loan\",\"Personal_Loan\",\"Credit_Card\",\n",
    "    \"Education_Loan\",\"Gold_Loan\",\"Other_loan\"\n",
    "]\n",
    "data[\"Total_loans\"] = data[loan_cols].sum(axis=1)"
   ]
  },
  {
   "cell_type": "code",
   "execution_count": null,
   "id": "109267f9-200a-4235-89e4-da1cb906b2ac",
   "metadata": {},
   "outputs": [],
   "source": []
  },
  {
   "cell_type": "code",
   "execution_count": null,
   "id": "fa54fbfb-8f30-4b1f-a0f4-044da87cabeb",
   "metadata": {},
   "outputs": [],
   "source": []
  },
  {
   "cell_type": "markdown",
   "id": "6bcfe485-61bf-4f39-b706-d8773ae1b4ba",
   "metadata": {},
   "source": [
    "### Step - 5 Define Target & Predictors"
   ]
  },
  {
   "cell_type": "code",
   "execution_count": null,
   "id": "924f517d-44a0-4d4a-b01b-0494be1895bb",
   "metadata": {},
   "outputs": [],
   "source": [
    "# Map Target\n",
    "\n",
    "y = data[\"Payment\"].map({\n",
    "    \"Not Paid\":0,\n",
    "    \"Paid_Mild Positive\":1,\n",
    "    \"Paid_ Very Positive\":2\n",
    "})\n",
    "\n",
    "# Candidate Predictors (Adjust After EDA)\n",
    "\n",
    "features = [\n",
    "    \"gender\",\"Age\",\"Credit_Score\",\"Cibil_Bucket\",\"income_lac\",\n",
    "    \"assest_cr\",\"Liabilities_cr\",\"Debt_to_asset_ratio\",\n",
    "    \"VUA\",\"FBS_Latest\",\"City_Group\",\"platform\",\"device_model\",\n",
    "    \"Real_Estate\",\"Equity\",\"Debt\",\"Gold\",\"Alt_Investments\",\n",
    "    \"Total_loans\"\n",
    "]\n",
    "X = data[features]"
   ]
  },
  {
   "cell_type": "code",
   "execution_count": null,
   "id": "261c15c2-9a72-41a2-9ee3-1f1be2a3b8c0",
   "metadata": {},
   "outputs": [],
   "source": []
  },
  {
   "cell_type": "code",
   "execution_count": null,
   "id": "42164e3b-0dba-4560-9ba1-f012e1efa8e7",
   "metadata": {},
   "outputs": [],
   "source": [
    "y.head()"
   ]
  },
  {
   "cell_type": "code",
   "execution_count": null,
   "id": "5762d270-3300-4676-bede-9b886d2940f9",
   "metadata": {},
   "outputs": [],
   "source": []
  },
  {
   "cell_type": "code",
   "execution_count": null,
   "id": "83c0ee8d-23cc-4f30-ab0e-14103e3f38db",
   "metadata": {},
   "outputs": [],
   "source": [
    "X.head(2)"
   ]
  },
  {
   "cell_type": "code",
   "execution_count": null,
   "id": "ec47c03f-9752-41e0-a640-aa2619a08cb1",
   "metadata": {},
   "outputs": [],
   "source": []
  },
  {
   "cell_type": "markdown",
   "id": "17a98177-88d5-4994-acc1-6b98f1fdf213",
   "metadata": {},
   "source": [
    "### Step - 6 Pre-Processing Pipeline Scale Numeric, Categorical Features + Encoding"
   ]
  },
  {
   "cell_type": "code",
   "execution_count": null,
   "id": "fc18e5dc-5ae1-4ddb-b86e-727428b95952",
   "metadata": {},
   "outputs": [],
   "source": [
    "num_features = [\n",
    "    \"Age\",\"Credit_Score\",\"income_lac\",\"assest_cr\",\"Liabilities_cr\",\n",
    "    \"Debt_to_asset_ratio\",\"VUA\",\"FBS_Latest\",\"Real_Estate\",\n",
    "    \"Equity\",\"Debt\",\"Gold\",\"Alt_Investments\",\"Total_loans\"\n",
    "]\n",
    "cat_features = [\"gender\",\"Cibil_Bucket\",\"City_Group\",\"platform\",\"device_model\"]\n",
    "\n",
    "numeric_transformer = Pipeline(steps=[(\"scaler\", StandardScaler())])\n",
    "categorical_transformer = Pipeline(steps=[(\"onehot\", OneHotEncoder(handle_unknown=\"ignore\"))])\n",
    "\n",
    "preprocessor = ColumnTransformer(\n",
    "    transformers=[\n",
    "        (\"num\", numeric_transformer, num_features),\n",
    "        (\"cat\", categorical_transformer, cat_features)\n",
    "    ]\n",
    ")"
   ]
  },
  {
   "cell_type": "code",
   "execution_count": null,
   "id": "3324ad96-bb0a-4a14-9d71-1f33fb58a1c3",
   "metadata": {},
   "outputs": [],
   "source": []
  },
  {
   "cell_type": "code",
   "execution_count": null,
   "id": "27622e1a-75fa-4e88-bf68-441eda641e7e",
   "metadata": {},
   "outputs": [],
   "source": [
    "numeric_transformer"
   ]
  },
  {
   "cell_type": "code",
   "execution_count": null,
   "id": "bb916437-903e-4cae-bb2a-1974bcce01dc",
   "metadata": {},
   "outputs": [],
   "source": []
  },
  {
   "cell_type": "code",
   "execution_count": null,
   "id": "b3821b8a-b92c-496b-99b5-f44971610fe4",
   "metadata": {},
   "outputs": [],
   "source": [
    "categorical_transformer"
   ]
  },
  {
   "cell_type": "code",
   "execution_count": null,
   "id": "20d7de36-0286-4cd3-b0e1-75d749ae57e3",
   "metadata": {},
   "outputs": [],
   "source": []
  },
  {
   "cell_type": "code",
   "execution_count": null,
   "id": "ebb15cdd-9c5f-47e3-8779-f0180c2fdbd4",
   "metadata": {},
   "outputs": [],
   "source": [
    "preprocessor"
   ]
  },
  {
   "cell_type": "code",
   "execution_count": null,
   "id": "26ed313e-d1a8-40da-9aba-d98ed062b582",
   "metadata": {},
   "outputs": [],
   "source": []
  },
  {
   "cell_type": "code",
   "execution_count": null,
   "id": "4c3f32e1-c93f-4f51-84cf-2177653720bf",
   "metadata": {},
   "outputs": [],
   "source": []
  },
  {
   "cell_type": "markdown",
   "id": "40ae5d87-7d3a-4c93-8579-1c4bc0f811f5",
   "metadata": {},
   "source": [
    "### Step - 7 Train–Test Split"
   ]
  },
  {
   "cell_type": "code",
   "execution_count": null,
   "id": "3ac9f63e-31c9-4f0b-b2ec-840f8d1ed6cc",
   "metadata": {},
   "outputs": [],
   "source": [
    "X_train, X_test, y_train, y_test = train_test_split(\n",
    "    X, y, test_size=0.25, random_state=42, stratify=y\n",
    ")"
   ]
  },
  {
   "cell_type": "code",
   "execution_count": null,
   "id": "05306815-d886-4d52-9701-bef4dd166c88",
   "metadata": {},
   "outputs": [],
   "source": []
  },
  {
   "cell_type": "code",
   "execution_count": null,
   "id": "a82eef67-3a6c-4ac9-8c3c-b38c2fe541c3",
   "metadata": {},
   "outputs": [],
   "source": [
    "X_train.shape, X_test.shape, y_train.shape, y_test.shape"
   ]
  },
  {
   "cell_type": "code",
   "execution_count": null,
   "id": "65b45399-799e-4827-a086-4b15db615f65",
   "metadata": {},
   "outputs": [],
   "source": []
  },
  {
   "cell_type": "code",
   "execution_count": null,
   "id": "4f2c6cdb-383c-423d-ac72-0d40bca6505d",
   "metadata": {},
   "outputs": [],
   "source": []
  },
  {
   "cell_type": "markdown",
   "id": "d1481884-2ed3-402c-b63b-cf15768e0520",
   "metadata": {},
   "source": [
    "### Step - 8 Fit Base Logistic Regression Modeling "
   ]
  },
  {
   "cell_type": "code",
   "execution_count": null,
   "id": "1a2778c1-2ebc-45f0-8f58-c9574d5d4780",
   "metadata": {},
   "outputs": [],
   "source": [
    "# a) Define The Pipeline With class_weight='balanced'\n",
    "\n",
    "log_reg_balanced = Pipeline(steps=[\n",
    "    (\"preprocess\", preprocessor),\n",
    "    (\"clf\", LogisticRegression(multi_class=\"multinomial\",\n",
    "                                solver=\"lbfgs\",\n",
    "                                max_iter=500,\n",
    "                                class_weight='balanced')) \n",
    "])"
   ]
  },
  {
   "cell_type": "code",
   "execution_count": null,
   "id": "23f7f49d-6fdd-44a4-82e3-b5e94983af9b",
   "metadata": {},
   "outputs": [],
   "source": []
  },
  {
   "cell_type": "code",
   "execution_count": null,
   "id": "489e8847-8fd0-4edb-9082-79b85220816f",
   "metadata": {},
   "outputs": [],
   "source": [
    "log_reg_balanced"
   ]
  },
  {
   "cell_type": "code",
   "execution_count": null,
   "id": "ba17fd4f-e5f2-460e-b8e8-cb1c7ea7f7e2",
   "metadata": {},
   "outputs": [],
   "source": []
  },
  {
   "cell_type": "markdown",
   "id": "ee492b76-a36b-4bbe-8459-c7432e3f1475",
   "metadata": {},
   "source": [
    "### Step - 9 Hyperparameter Tuning & GridSearchCV Object:-"
   ]
  },
  {
   "cell_type": "code",
   "execution_count": null,
   "id": "eedf56f9-f1ab-4667-bca5-b8287bf4aeb7",
   "metadata": {},
   "outputs": [],
   "source": [
    "# a) Define The Hyperparameter Grid For Tuning.\n",
    "\n",
    "param_grid = {\n",
    "    \"clf__C\": [0.01, 0.1, 1, 10]\n",
    "}\n",
    "\n",
    "\n",
    "# b) Create GridSearchCV With A More Robust Scoring Metric\n",
    "\n",
    "grid = GridSearchCV(log_reg_balanced,\n",
    "                    param_grid,\n",
    "                    cv=5,\n",
    "                    n_jobs=-1,\n",
    "                    scoring=\"f1_weighted\")  \n",
    "\n",
    "grid.fit(X_train, y_train)\n",
    "\n",
    "print(f\"Best Params Based On F1-Weighted Score: {grid.best_params_}\")\n",
    "best_model = grid.best_estimator_"
   ]
  },
  {
   "cell_type": "code",
   "execution_count": null,
   "id": "722fcd7b-ff27-4d6c-b5e6-f285db56be8a",
   "metadata": {},
   "outputs": [],
   "source": []
  },
  {
   "cell_type": "code",
   "execution_count": null,
   "id": "f9702e57-1f49-4d25-8832-bb6d4b7e53ca",
   "metadata": {},
   "outputs": [],
   "source": [
    "print(grid)"
   ]
  },
  {
   "cell_type": "code",
   "execution_count": null,
   "id": "0603cbe0-3eeb-4332-949a-4b875c1c94e1",
   "metadata": {},
   "outputs": [],
   "source": []
  },
  {
   "cell_type": "markdown",
   "id": "b063594b-060b-46c6-958e-d553295ec8ed",
   "metadata": {},
   "source": [
    "### Step - 10 Evaluation Tuned Model"
   ]
  },
  {
   "cell_type": "code",
   "execution_count": null,
   "id": "a8e940b9-ca1b-4f41-ab20-08da6aa15b8d",
   "metadata": {},
   "outputs": [],
   "source": [
    "# Predict On The Test Set Using The Best Model From GridSearchCV\n",
    "\n",
    "y_pred = best_model.predict(X_test)\n",
    "\n",
    "# Corrected Print Statements (Using y_pred)\n",
    "\n",
    "print(\"Tuned Classification Report:\\n\", classification_report(y_test, y_pred, target_names=[\"Not Paid\", \"Mild\", \"Very\"]))\n",
    "print(\"\\nTuned Accuracy:\", accuracy_score(y_test, y_pred))"
   ]
  },
  {
   "cell_type": "code",
   "execution_count": null,
   "id": "b8f23a8f-a7d6-47f7-a4c0-2c4877ba0d4a",
   "metadata": {},
   "outputs": [],
   "source": []
  },
  {
   "cell_type": "markdown",
   "id": "b609b7bf-6845-48ec-baa6-2fa2ce71efc9",
   "metadata": {},
   "source": [
    "#### **->** Generate And Display The Confusion Matrix"
   ]
  },
  {
   "cell_type": "code",
   "execution_count": null,
   "id": "f19d6984-793f-4cda-8dba-97634515a608",
   "metadata": {},
   "outputs": [],
   "source": [
    "cm = confusion_matrix(y_test, y_pred)\n",
    "plt.figure(figsize=(7, 5))\n",
    "sns.heatmap(cm, annot=True, fmt=\"d\", cmap=\"Blues\",\n",
    "            xticklabels=[\"Not Paid\", \"Mild\", \"Very\"],\n",
    "            yticklabels=[\"Not Paid\", \"Mild\", \"Very\"])\n",
    "plt.title(\"Tuned Model Confusion Matrix\")\n",
    "plt.ylabel(\"Actual\")\n",
    "plt.xlabel(\"Predicted\")\n",
    "plt.show()"
   ]
  },
  {
   "cell_type": "code",
   "execution_count": null,
   "id": "fb9d1d64-46b8-4667-90bb-a5d71dd18afe",
   "metadata": {},
   "outputs": [],
   "source": []
  },
  {
   "cell_type": "code",
   "execution_count": null,
   "id": "a9c83450-262f-4732-ac6b-5bee523da98d",
   "metadata": {},
   "outputs": [],
   "source": []
  },
  {
   "cell_type": "markdown",
   "id": "26220bb4-e20a-4d02-91d4-b121b1e4dbba",
   "metadata": {},
   "source": [
    "### Step - 11 Save Model & Scaler"
   ]
  },
  {
   "cell_type": "code",
   "execution_count": null,
   "id": "a749ab5f-3386-45bf-bcf5-dd5ed84294ff",
   "metadata": {},
   "outputs": [],
   "source": [
    "joblib.dump(best_model, \"Best_Logistic_Model.pkl\")\n",
    "print(\"Model Saved.\")"
   ]
  },
  {
   "cell_type": "code",
   "execution_count": null,
   "id": "0bc79d00-d585-4aca-89f3-8b8363536013",
   "metadata": {},
   "outputs": [],
   "source": []
  },
  {
   "cell_type": "code",
   "execution_count": null,
   "id": "e5f9baef-7e12-4ee1-a614-bc487da6c20b",
   "metadata": {},
   "outputs": [],
   "source": []
  },
  {
   "cell_type": "markdown",
   "id": "05bf34fd-f962-414f-bcfa-2973c44f901f",
   "metadata": {},
   "source": [
    "### Step - 12 Add Cross Validation Scores"
   ]
  },
  {
   "cell_type": "code",
   "execution_count": null,
   "id": "6885406f-0a68-4156-b8f5-ef1a961b7bb2",
   "metadata": {},
   "outputs": [],
   "source": [
    "from sklearn.model_selection import cross_val_score\n",
    "\n",
    "cv_scores = cross_val_score(best_model, X, y, cv=5, scoring='accuracy')\n",
    "print(\"\\nCV Accuracy:\", np.mean(cv_scores))"
   ]
  },
  {
   "cell_type": "code",
   "execution_count": null,
   "id": "a9c0fe57-e35e-4f01-bc68-1c593834d7e8",
   "metadata": {},
   "outputs": [],
   "source": []
  },
  {
   "cell_type": "code",
   "execution_count": null,
   "id": "5b4e30ef-751c-4891-ad3d-035f45c4f50e",
   "metadata": {},
   "outputs": [],
   "source": [
    "cv_scores"
   ]
  },
  {
   "cell_type": "code",
   "execution_count": null,
   "id": "006c85f4-ade8-4081-92b0-198e89468202",
   "metadata": {},
   "outputs": [],
   "source": []
  },
  {
   "cell_type": "markdown",
   "id": "b3e34744-075e-4cd3-95e4-0474577bb0bd",
   "metadata": {},
   "source": [
    "### Step 13:- Predict On New Data"
   ]
  },
  {
   "cell_type": "code",
   "execution_count": null,
   "id": "12390354-49c0-4be6-9112-ffa172d762d0",
   "metadata": {},
   "outputs": [],
   "source": [
    "# Load Saved Pipeline\n",
    "\n",
    "model = joblib.load('Best_Logistic_Model.pkl')\n",
    "\n",
    "# Create New Data Sample, But Keep Original Column Names \n",
    "\n",
    "new_data = pd.DataFrame([{\n",
    "    'gender': 'Male',\n",
    "    'Age': 33,\n",
    "    'Credit_Score': 800,\n",
    "    'Cibil_Bucket': 'Good',\n",
    "    'income_lac': 15.2,\n",
    "    'assest_cr': 0.8,\n",
    "    'Liabilities_cr': 0.1,\n",
    "    'Debt_to_asset_ratio': 1.25, \n",
    "    'VUA': 0.32,\n",
    "    'FBS_Latest': 110.2,\n",
    "    'City_Group': 'Metropolitan',\n",
    "    'platform': 'android',\n",
    "    'device_model': 'Samsung',\n",
    "    'Real_Estate': 1.1,\n",
    "    'Equity': 2.5,\n",
    "    'Debt': 1.0,\n",
    "    'Gold': 0.4,\n",
    "    'Alt_Investments': 0.3,\n",
    "    'Total_loans': 2.0  # Engineered As Sum Of All Loans\n",
    "}])\n",
    "\n",
    "# Predict\n",
    "\n",
    "pred = model.predict(new_data)\n",
    "pred_proba = model.predict_proba(new_data)\n",
    "\n",
    "print(\"Predicted Class:\", pred[0])\n",
    "print(\"Class Probabilities:\", pred_proba[0])"
   ]
  },
  {
   "cell_type": "code",
   "execution_count": null,
   "id": "fca89d62-30ba-4da7-a98c-e9c26e60ea35",
   "metadata": {},
   "outputs": [],
   "source": []
  }
 ],
 "metadata": {
  "kernelspec": {
   "display_name": "Python [conda env:base] *",
   "language": "python",
   "name": "conda-base-py"
  },
  "language_info": {
   "codemirror_mode": {
    "name": "ipython",
    "version": 3
   },
   "file_extension": ".py",
   "mimetype": "text/x-python",
   "name": "python",
   "nbconvert_exporter": "python",
   "pygments_lexer": "ipython3",
   "version": "3.12.7"
  }
 },
 "nbformat": 4,
 "nbformat_minor": 5
}
