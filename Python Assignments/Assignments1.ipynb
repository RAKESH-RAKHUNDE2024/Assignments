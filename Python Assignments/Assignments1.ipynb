{
 "cells": [
  {
   "cell_type": "markdown",
   "id": "1e0e8c51-b7c8-4772-9e3d-a8569eaca93a",
   "metadata": {},
   "source": [
    "### ASSIGNMENTS - 1"
   ]
  },
  {
   "cell_type": "code",
   "execution_count": null,
   "id": "9608c64e-e7b8-4cc2-a19a-9817fccfa887",
   "metadata": {},
   "outputs": [],
   "source": []
  },
  {
   "cell_type": "markdown",
   "id": "d37c521d-fbe1-4a9c-838c-09c474f8916c",
   "metadata": {},
   "source": [
    "##### Que 1) In The Below Elements Which Of Them Are Values Or An Expression? Eg:- Values Can Be Integer Or String And Expressions Will Be Mathematical Operators.?\n",
    "\n",
    "##### * , 'hello',  -87.8,  - ,   / , +,  6"
   ]
  },
  {
   "cell_type": "code",
   "execution_count": 1,
   "id": "d7a70d68-c6d1-407d-b2f9-9fa80a88ffe6",
   "metadata": {},
   "outputs": [],
   "source": [
    "# Answer- \n",
    "\n",
    "# Values:- 'hello', -87.8, 6\n",
    "# Expressions:- *, -, /, +"
   ]
  },
  {
   "cell_type": "code",
   "execution_count": null,
   "id": "c2e10022-53dc-43a1-b714-c7f4150bb1af",
   "metadata": {},
   "outputs": [],
   "source": []
  },
  {
   "cell_type": "code",
   "execution_count": null,
   "id": "2f335fc3-2258-451f-aa6d-dfdaf526fbba",
   "metadata": {},
   "outputs": [],
   "source": []
  },
  {
   "cell_type": "markdown",
   "id": "81415cbc-b286-40b5-a5a0-f5036f10b575",
   "metadata": {},
   "source": [
    "##### Que 2) What Is The Difference Between String And Variable?"
   ]
  },
  {
   "cell_type": "code",
   "execution_count": 2,
   "id": "84e26133-3540-4091-856d-236822a389e8",
   "metadata": {},
   "outputs": [],
   "source": [
    "# Answer:- \n",
    "\n",
    "# A String And A Variable Are Both Important Concepts In Python, But They Serve Different Purposes:\n",
    "\n",
    "# Aspect\t                            String\t                                                            Variable\n",
    "# Definition\t     A String Is A Sequence Of Characters Enclosed In Quotes.\t       A Variable Is A Name That Stores A Value (Including A String).\n",
    "# Data Type\t         It Is A Data Type In Python (Like \"Hello\",'123').\t               It Is A Reference Or Label To Hold Data In Memory.\n",
    "# Usage              Example:- \"Python\", '123', \"Nagpur\"\t                           Name = \"Nagpur\"\n",
    "# Quotation Marks\t Strings Are Always Enclosed In Single, Double, Or Triple Quotes.  Variables Are Not Quoted; They Follow Naming Rules.\n",
    "# Purpose\t         Used To Represent Textual Data.\t                               Used To Store And Manipulate Data Of Any Type."
   ]
  },
  {
   "cell_type": "code",
   "execution_count": null,
   "id": "4f6b4582-914a-4ce3-a5ed-59499474d9e5",
   "metadata": {},
   "outputs": [],
   "source": []
  },
  {
   "cell_type": "code",
   "execution_count": null,
   "id": "e16d7ee4-bbe9-423e-b583-b113fa3fec7f",
   "metadata": {},
   "outputs": [],
   "source": []
  },
  {
   "cell_type": "markdown",
   "id": "ad6516ca-e05c-46d8-a9b2-96ba26ab2bda",
   "metadata": {},
   "source": [
    "##### Que 3) Describe Three Different Data Types.?"
   ]
  },
  {
   "cell_type": "code",
   "execution_count": 3,
   "id": "88588b3f-f5ff-4d57-94d8-78d7f28a22b8",
   "metadata": {},
   "outputs": [],
   "source": [
    "# Answer- Python Supports Several Built-In Data Types. Below Are Three Of The Most Commonly Used:\n",
    "\n",
    "# 1. Integer (int)\n",
    "# Description: Used To Represent Whole Numbers, Both Positive And Negative, Without Any Decimal Point.\n",
    "\n",
    "# 2. String (str)\n",
    "# Description: A Sequence Of Characters Enclosed In Single ('), Double (\"), Or Triple Quotes ('''/\"\"\").\n",
    "# Used For: Storing Text Like Names, Messages, Etc.\n",
    "\n",
    "# 3. Float (float)\n",
    "# Description: Represents Real Numbers (I.e., Numbers With A Decimal Point).\n",
    "# Used For: Mathematical Calculations Requiring Precision."
   ]
  },
  {
   "cell_type": "code",
   "execution_count": null,
   "id": "ad820788-17ed-4426-bb86-489c845680a9",
   "metadata": {},
   "outputs": [],
   "source": []
  },
  {
   "cell_type": "code",
   "execution_count": null,
   "id": "a3bb3df6-15f3-4d38-8fd7-411fc8844b79",
   "metadata": {},
   "outputs": [],
   "source": []
  },
  {
   "cell_type": "markdown",
   "id": "745b20a6-84f6-48af-a367-61d05163382d",
   "metadata": {},
   "source": [
    "##### Que 4.) What Is An Expression Made Up Of? What Do All Expressions Do?"
   ]
  },
  {
   "cell_type": "code",
   "execution_count": 4,
   "id": "e66ab652-c2c3-4be2-93c3-f9ea483ac19c",
   "metadata": {},
   "outputs": [],
   "source": [
    "# Answer:-\n",
    "# Expression Made Up Of:-\n",
    "# An Expression In Python Is Made Up Of Values, Variables, Operators, And Function Calls That Are Combined To Produce Another Value.\n",
    "\n",
    "# Examples Of Expression Components:-\n",
    "# Values:- 5, 3.14, 'hello'\n",
    "# Variables:- X, Total, Name\n",
    "# Operators:- +, -, *, /, ==, etc.\n",
    "# Function Calls:- len(\"Text\"), abs(-5), Etc.\n",
    "\n",
    "\n",
    "# All Expressions Do:-\n",
    "# All Expressions Are Evaluated To Produce A Single Value.\n",
    "# Whether It's A Mathematical Expression (3 + 2) Or A String Concatenation (\"Hello\" + \" World\"), The Result Is Always A Value.\n",
    "# The Value May Be Stored In A Variable, Printed, Or Used In Another Operation.\n",
    "\n",
    "# Summary:-\n",
    "# Expressions Are Made Up Of:- Values, Variables, Operators, And Function Calls.\n",
    "# All Expressions:- Evaluate To A Single Result (i.e., They Return A Value)."
   ]
  },
  {
   "cell_type": "code",
   "execution_count": null,
   "id": "47244a66-b595-43fa-aaa6-0d4962e762f6",
   "metadata": {},
   "outputs": [],
   "source": []
  },
  {
   "cell_type": "code",
   "execution_count": null,
   "id": "09cd2ccc-0bcb-4466-9ab1-08ae5cedef62",
   "metadata": {},
   "outputs": [],
   "source": []
  },
  {
   "cell_type": "markdown",
   "id": "a11b2ffb-bd9a-439c-8212-5dafcfd2b63d",
   "metadata": {},
   "source": [
    "##### Que 5) This Assignment Statements, Like Spam = 10. What Is The Difference Between An Expression And A Statement?"
   ]
  },
  {
   "cell_type": "code",
   "execution_count": 5,
   "id": "c74bf2a4-e797-4e0e-bb0f-b78f6c90e9bc",
   "metadata": {},
   "outputs": [],
   "source": [
    "# Answer:-\n",
    "# An Expression Is A Combination Of Values, Variables, And Operators That Evaluates To A Single Value.\n",
    "# Example: 3 + 5 → Evaluates To 8.\n",
    "\n",
    "# A Statement Is A Complete Instruction That Performs An Action.\n",
    "# Example: Spam = 10 → Assigns Value 10 To The Variable Spam.\n",
    "\n",
    "# Comparison Table:-\n",
    "# Aspect\t         Expression\t           Statement\n",
    "# Returns A Value?\t    Yes\t            Not Always\n",
    "# Purpose\t        Computes A Result\tPerforms An Action\n",
    "# Example\t          4 * 2 → 8\t        X = 4 * 2 (Assignment)"
   ]
  },
  {
   "cell_type": "code",
   "execution_count": null,
   "id": "a9418bcc-abc8-4942-80cb-10808069d61d",
   "metadata": {},
   "outputs": [],
   "source": []
  },
  {
   "cell_type": "code",
   "execution_count": null,
   "id": "508e5405-5027-4276-a7d2-7c0d979f08f0",
   "metadata": {},
   "outputs": [],
   "source": []
  },
  {
   "cell_type": "markdown",
   "id": "e6dd34f9-1785-4e1c-a116-92604b242ecc",
   "metadata": {},
   "source": [
    "##### Que 6) After Running The Following Code, What Does The Variable Bacon Contain?\n",
    "##### Bacon = 22\n",
    "##### Bacon + 1"
   ]
  },
  {
   "cell_type": "code",
   "execution_count": 6,
   "id": "f3d66645-c1c7-47cd-9687-0ba0759246a3",
   "metadata": {},
   "outputs": [],
   "source": [
    "# Answer:-\n",
    "\n",
    "# After Running This Code, The Variable Bacon Still Contains 22.\n",
    "\n",
    "# Explanation:-\n",
    "# Bacon = 22 Assigns The Value 22 To The Variable Bacon.\n",
    "# Bacon + 1 Evaluates To 23, But It Does Not Update The Value Of Bacon Because The Result Is Not Assigned Back To Bacon."
   ]
  },
  {
   "cell_type": "code",
   "execution_count": null,
   "id": "44a1cee1-c548-4af5-b457-f63b2c398172",
   "metadata": {},
   "outputs": [],
   "source": []
  },
  {
   "cell_type": "code",
   "execution_count": null,
   "id": "000f112b-1337-458c-adaf-bbf5b72b9b0b",
   "metadata": {},
   "outputs": [],
   "source": []
  },
  {
   "cell_type": "markdown",
   "id": "27d6343e-de1c-4260-aabd-803416a5695f",
   "metadata": {},
   "source": [
    "##### Que) 7. What Should The Values Of The Following Two Terms Be?\n",
    "##### 'spam' + 'spamspam'\n",
    "##### 'spam' * 3"
   ]
  },
  {
   "cell_type": "code",
   "execution_count": 7,
   "id": "b22eb2f1-bca8-4f41-83b3-55582ba5c15a",
   "metadata": {},
   "outputs": [],
   "source": [
    "# Answer:-\n",
    "\n",
    "# 'spam' + 'spamspam' Joins The Strings Together:\n",
    "# 'spam' + 'spamspam' → 'spamspamspam'\n",
    "\n",
    "# 'spam' * 3 Repeats The String 'spam' 3 Times:\n",
    "# 'spam' * 3 → 'spamspamspam'"
   ]
  },
  {
   "cell_type": "code",
   "execution_count": null,
   "id": "15309a46-fade-4638-a897-0be8bb4a1326",
   "metadata": {},
   "outputs": [],
   "source": []
  },
  {
   "cell_type": "code",
   "execution_count": null,
   "id": "848fa697-5cad-4d9c-b8fa-9a5c5a584016",
   "metadata": {},
   "outputs": [],
   "source": []
  },
  {
   "cell_type": "markdown",
   "id": "24a051ce-b7a3-4f6d-a9c9-43857c36b5d7",
   "metadata": {},
   "source": [
    "##### Que 8). Why Is Eggs A Valid Variable Name While 100 Is Invalid?"
   ]
  },
  {
   "cell_type": "code",
   "execution_count": 8,
   "id": "88e9d724-70a3-47a6-8643-e4d96cff8f8a",
   "metadata": {},
   "outputs": [],
   "source": [
    "# Answer:-\n",
    "\n",
    "# Eggs Is A Valid Variable Name Because It Follows Python’s Naming Rules:-\n",
    "# It Starts With A Letter\n",
    "# It Only Contains Letters, Digits, Or Underscores\n",
    "\n",
    "# 100 Is Invalid As A Variable Name Because:-\n",
    "# It Starts With A Number, Which Is Not Allowed In Python Variable Names."
   ]
  },
  {
   "cell_type": "code",
   "execution_count": null,
   "id": "9b334566-505b-4f8d-9401-19bb7d795e26",
   "metadata": {},
   "outputs": [],
   "source": []
  },
  {
   "cell_type": "code",
   "execution_count": null,
   "id": "bfef085d-0a00-4e98-8346-6064a2a98bf6",
   "metadata": {},
   "outputs": [],
   "source": []
  },
  {
   "cell_type": "markdown",
   "id": "02738178-09b1-46fe-ad63-accf8c2433e3",
   "metadata": {},
   "source": [
    "##### Que 9) What Three Functions Can Be Used To Get The Integer, Floating-point Number, Or String Version Of A Value?"
   ]
  },
  {
   "cell_type": "code",
   "execution_count": 9,
   "id": "89176a77-1f0e-4d8a-af44-8073619909b8",
   "metadata": {},
   "outputs": [],
   "source": [
    "# Answer:- The Three Built-In Python Functions Are:\n",
    "\n",
    "# Explanation:-\n",
    "# int() Removes Decimals And Returns The Integer Part.\n",
    "# float() Adds A Decimal Point To Whole Numbers.\n",
    "# str() Turns Numbers Or Other Types Into String Format (Text).\n",
    "\n",
    "\n",
    "# int(\"5\")       # ➝ 5\n",
    "# float(\"4.2\")   # ➝ 4.2\n",
    "# str(100)       # ➝ '100'"
   ]
  },
  {
   "cell_type": "code",
   "execution_count": null,
   "id": "2b097fec-61f8-42e6-b77b-0749878692f7",
   "metadata": {},
   "outputs": [],
   "source": []
  },
  {
   "cell_type": "code",
   "execution_count": null,
   "id": "34dafb77-d18f-48ca-8399-855549de776a",
   "metadata": {},
   "outputs": [],
   "source": []
  },
  {
   "cell_type": "markdown",
   "id": "7823e1ba-0d0c-4972-8882-7c25ac79d71b",
   "metadata": {},
   "source": [
    "##### Que 10) Why Does This Expression Cause An Error? How Can You Fix It?\n",
    "##### 'i Have Eaten ' + 99 + ' Burritos.'"
   ]
  },
  {
   "cell_type": "code",
   "execution_count": 10,
   "id": "f492788f-58ae-412a-b0d6-46b2f51753e9",
   "metadata": {},
   "outputs": [
    {
     "data": {
      "text/plain": [
       "'I Have Eaten 99 Burritos.'"
      ]
     },
     "execution_count": 10,
     "metadata": {},
     "output_type": "execute_result"
    }
   ],
   "source": [
    "# Answer:-\n",
    "\n",
    "# This Expression Causes A Typeerror Because Python Cannot Concatenate (Add) A String And An Integer Directly.\n",
    "\n",
    "# 'I Have Eaten' Is A String\n",
    "# 99 Is An Integer\n",
    "# 'Burritos.' Is A String\n",
    "\n",
    "# Python Does Not Automatically Convert The Integer 99 To A String During Concatenation.\n",
    "\n",
    "# How To Fix It:\n",
    "# You Need To Convert The Integer 99 To A String Using The str() Function:\n",
    "'I Have Eaten ' + str(99) + ' Burritos.'"
   ]
  },
  {
   "cell_type": "code",
   "execution_count": null,
   "id": "16bd1e6e-addb-4e71-bd43-2557222fb201",
   "metadata": {},
   "outputs": [],
   "source": []
  },
  {
   "cell_type": "code",
   "execution_count": null,
   "id": "5df20802-a14c-4c56-a646-884d88f3b8fc",
   "metadata": {},
   "outputs": [],
   "source": []
  },
  {
   "cell_type": "code",
   "execution_count": null,
   "id": "bbc6d923-abeb-4e67-979d-1c3306e47e8b",
   "metadata": {},
   "outputs": [],
   "source": []
  },
  {
   "cell_type": "markdown",
   "id": "f29391e8-6aa0-4fab-b1c4-9b7dff98dcac",
   "metadata": {},
   "source": [
    "### ASSIGNMENTS - 2"
   ]
  },
  {
   "cell_type": "code",
   "execution_count": null,
   "id": "5c9b125f-6faa-4235-9e51-70c92cc25a74",
   "metadata": {},
   "outputs": [],
   "source": []
  },
  {
   "cell_type": "code",
   "execution_count": null,
   "id": "64215a85-c5d1-4aa0-a9da-a716cd12c610",
   "metadata": {},
   "outputs": [],
   "source": []
  },
  {
   "cell_type": "markdown",
   "id": "f6783295-4f3c-49b8-b2e5-158d7dc5aecd",
   "metadata": {},
   "source": [
    "##### Que 1) what Are The Two Values Of The Boolean Data Type? How Do You Write Them?"
   ]
  },
  {
   "cell_type": "code",
   "execution_count": 11,
   "id": "1804b620-182e-460d-b94f-994f82a49f46",
   "metadata": {},
   "outputs": [
    {
     "name": "stdout",
     "output_type": "stream",
     "text": [
      "True\n",
      "False\n"
     ]
    }
   ],
   "source": [
    "# Answer- The Two Values Of The Boolean Data Type In Python Are:\n",
    "\n",
    "# True\n",
    "# False\n",
    "\n",
    "# They Are Written With An Uppercase First Letter:\n",
    "Is_active = True\n",
    "Is_logged_in = False\n",
    "\n",
    "print(Is_active)\n",
    "print(Is_logged_in)"
   ]
  },
  {
   "cell_type": "code",
   "execution_count": null,
   "id": "be27de63-5c5c-4eea-9435-b40cce9bfe33",
   "metadata": {},
   "outputs": [],
   "source": []
  },
  {
   "cell_type": "code",
   "execution_count": null,
   "id": "9b0ddea3-200e-4211-9b03-a810fb846bdf",
   "metadata": {},
   "outputs": [],
   "source": []
  },
  {
   "cell_type": "markdown",
   "id": "775160e5-f5a7-4ab4-922e-adb82cc7bfd2",
   "metadata": {},
   "source": [
    "##### Que 2) What Are The Three Different Types Of Boolean Operators?"
   ]
  },
  {
   "cell_type": "code",
   "execution_count": 12,
   "id": "955ba71e-b6c8-46d2-9e76-94b306d9437f",
   "metadata": {},
   "outputs": [],
   "source": [
    "# Answer:- The Three Boolean Operators In Python Are:-\n",
    "\n",
    "# A) And-\n",
    "# Returns True If Both Conditions Are True\n",
    "# True And True  \n",
    "\n",
    "# B) Or-\n",
    "# Returns True If At Least One Condition Is True\n",
    "# True Or False  \n",
    "\n",
    "# C) Not-\n",
    "# Reverses The Boolean Value (True Becomes False, And Vice Versa)\n",
    "# Not True "
   ]
  },
  {
   "cell_type": "code",
   "execution_count": null,
   "id": "b71dc6fd-571b-4b65-a52a-f32d068c7ac6",
   "metadata": {},
   "outputs": [],
   "source": []
  },
  {
   "cell_type": "code",
   "execution_count": null,
   "id": "98779179-556f-4e9c-8e80-b64de7d14f17",
   "metadata": {},
   "outputs": [],
   "source": []
  },
  {
   "cell_type": "markdown",
   "id": "3113fd16-c06f-4ef9-9e02-cf4a518d0da0",
   "metadata": {},
   "source": [
    "##### Que 3) Make A List Of Each Boolean Operator's Truth Tables (I.e. Every Possible Combination Of Boolean Values For The Operator And What It Evaluate )."
   ]
  },
  {
   "cell_type": "code",
   "execution_count": 13,
   "id": "9ab1e742-b479-433d-97ef-85f2c78f11c5",
   "metadata": {},
   "outputs": [],
   "source": [
    "# Answer:-\n",
    "# 1. And Operator Truth Table\n",
    "# A\t      B\t    A And B\n",
    "# True\t True\t True\n",
    "# True\t False\tFalse\n",
    "# False  True\tFalse\n",
    "# False  False\tFalse\n",
    "\n",
    "# 2. Or Operator Truth Table\n",
    "# A\t     B\t     A Or B\n",
    "# True   True\t True\n",
    "# True   False   True\n",
    "# False  True    True\n",
    "# False  False   False\n",
    "\n",
    "# 3. Not Operator Truth Table\n",
    "# A\t     Not A\n",
    "# True\t False\n",
    "# False  True\n",
    "\n",
    "# Summary:-\n",
    "# And → True Only If Both Are True\n",
    "# Or → True If At Least One Is True\n",
    "# Not → Reverses The Value"
   ]
  },
  {
   "cell_type": "code",
   "execution_count": null,
   "id": "50b4c51b-58b5-45ba-bc70-6c5f8d6dafab",
   "metadata": {},
   "outputs": [],
   "source": []
  },
  {
   "cell_type": "code",
   "execution_count": null,
   "id": "0c159da0-8008-485d-8928-734449c9b29d",
   "metadata": {},
   "outputs": [],
   "source": []
  },
  {
   "cell_type": "markdown",
   "id": "740d2be9-bda3-4ebd-8967-faaf1d3e30bf",
   "metadata": {},
   "source": [
    "##### Que 4.) What Are The Values Of The Following Expressions?\n",
    "##### (5 > 4) And (3 == 5)\n",
    "##### Not (5 > 4)\n",
    "##### (5 > 4) Or (3 == 5)\n",
    "##### Not ((5 > 4) Or (3 == 5))\n",
    "##### (True And True) And (True == False)\n",
    "##### (Not False) Or (Not True)"
   ]
  },
  {
   "cell_type": "code",
   "execution_count": 14,
   "id": "5674a6a5-cfe5-417b-886c-2298bd15fcf8",
   "metadata": {},
   "outputs": [],
   "source": [
    "# Answer:- \n",
    "# Summary Table:-\n",
    "\n",
    "# Expression\t                         Result\n",
    "# (5 > 4) and (3 == 5)\t                 False\n",
    "# not (5 > 4)\t                         False\n",
    "# (5 > 4) or (3 == 5)                    True\n",
    "# not ((5 > 4) or (3 == 5))              False\n",
    "# (True and True) and (True == False)\t False\n",
    "# (not False) or (not True)\t             True"
   ]
  },
  {
   "cell_type": "code",
   "execution_count": null,
   "id": "39912697-dc10-4477-8e9a-9b80b96606b1",
   "metadata": {},
   "outputs": [],
   "source": []
  },
  {
   "cell_type": "code",
   "execution_count": null,
   "id": "6c441fe7-7565-4c15-a30a-629a5b47ead4",
   "metadata": {},
   "outputs": [],
   "source": []
  },
  {
   "cell_type": "markdown",
   "id": "0e2198e9-c8fd-4d04-b76f-d081122aaedd",
   "metadata": {},
   "source": [
    "##### Que 5) What Are The Six Comparison Operators?"
   ]
  },
  {
   "cell_type": "code",
   "execution_count": 15,
   "id": "4c4ebd33-0129-43b1-9724-d5d4115c3b01",
   "metadata": {},
   "outputs": [],
   "source": [
    "# Answer:-\n",
    "\n",
    "# Python Provides Six Comparison Operators Used To Compare Two Values:\n",
    "\n",
    "# Operator  Meaning\t                  Example\tResult\n",
    "# ==\t    Equal To\t              5 == 5\tTrue\n",
    "# !=\t    Not Equal To\t          5 != 3\tTrue\n",
    "# >\t        Greater Than\t          7 > 2\t    True\n",
    "# <\t        Less Than\t              4 < 6\t    True\n",
    "# >=\t    Greater Than Or Equal To  5 >= 5\tTrue\n",
    "# <=\t    Less Than Or Equal To\t  3 <= 8\tTrue"
   ]
  },
  {
   "cell_type": "code",
   "execution_count": null,
   "id": "bb480b5b-f9d3-426a-8b02-2d443ab52447",
   "metadata": {},
   "outputs": [],
   "source": []
  },
  {
   "cell_type": "code",
   "execution_count": null,
   "id": "a838fa52-41c6-46e2-af69-b43717631bcc",
   "metadata": {},
   "outputs": [],
   "source": []
  },
  {
   "cell_type": "markdown",
   "id": "dc3dae9a-978d-497a-9bc2-b5f3c62889b2",
   "metadata": {},
   "source": [
    "##### Que 6) How Do You Tell The Difference Between The Equal To And Assignment Operators? Describe A Condition And When You Would Use One.?"
   ]
  },
  {
   "cell_type": "code",
   "execution_count": 16,
   "id": "31065d42-37d1-4343-9196-2871a45f32a6",
   "metadata": {},
   "outputs": [],
   "source": [
    "# Answer:-\n",
    "\n",
    "# |  Operator  |  Symbol  |  Purpose                         | Used In   |\n",
    "# |------------|----------|----------------------------------|-----------|\n",
    "# | Assignment |   `=`    | Assigns A Value To A Variable    | `x = 10`  |\n",
    "# | Equal To   |   `==`   | Compares Two Values For Equality | `x == 10` |"
   ]
  },
  {
   "cell_type": "code",
   "execution_count": null,
   "id": "5161796d-a7db-4b53-958d-6433fa25069b",
   "metadata": {},
   "outputs": [],
   "source": []
  },
  {
   "cell_type": "code",
   "execution_count": null,
   "id": "1b5bb549-2631-43e1-b3fd-96364f705ffc",
   "metadata": {},
   "outputs": [],
   "source": []
  },
  {
   "cell_type": "markdown",
   "id": "7802d476-84b5-47e0-9621-748f2cdef3d7",
   "metadata": {},
   "source": [
    "##### Que 7) Identify the three blocks in this code:\n",
    "##### spam = 0\n",
    "##### if spam == 10:\n",
    "##### print('eggs')\n",
    "##### if spam > 5:\n",
    "##### print('bacon')\n",
    "##### else:\n",
    "##### print('ham')\n",
    "##### print('spam')\n",
    "##### print('spam') "
   ]
  },
  {
   "cell_type": "code",
   "execution_count": 17,
   "id": "dd40c948-ca6a-4796-a884-711d548cd069",
   "metadata": {},
   "outputs": [],
   "source": [
    "# Answer:-\n",
    "\n",
    "# The Given Code Will Produce An Indentation Error Because The Blocks Under If And Else Statements Are Not Indented Properly.\n",
    "# In Python, A Block Is A Group Of Statements That Belong Together And Are Indented Under Control Structures Like If, Else, For, Etc.\n",
    "\n",
    "# spam = 0\n",
    "\n",
    "# if spam == 10:\n",
    "#     print('eggs')           # Block 1\n",
    "\n",
    "# if spam > 5:\n",
    "#     print('bacon')          # Block 2\n",
    "# else:\n",
    "#     print('ham')            # Block 3\n",
    "#     print('spam')\n",
    "#     print('spam')"
   ]
  },
  {
   "cell_type": "code",
   "execution_count": null,
   "id": "6a39f268-69ac-43fb-9919-e1f3a60fe3cd",
   "metadata": {},
   "outputs": [],
   "source": []
  },
  {
   "cell_type": "code",
   "execution_count": null,
   "id": "6338ecb2-184b-4c72-a1bc-11de3b4022a3",
   "metadata": {},
   "outputs": [],
   "source": []
  },
  {
   "cell_type": "markdown",
   "id": "be980c0b-9a66-4b16-9d73-ed401d853b9b",
   "metadata": {},
   "source": [
    "##### Que 8) Write Code That Prints Hello If 1 Is Stored In Spam, Prints Howdy If 2 Is Stored In Spam, And Prints Greetings! If Anything Else Is Stored In Spam.?"
   ]
  },
  {
   "cell_type": "code",
   "execution_count": 18,
   "id": "d1b037be-dd8d-48ce-8c70-1a004b1410cd",
   "metadata": {},
   "outputs": [
    {
     "name": "stdout",
     "output_type": "stream",
     "text": [
      "Hello\n"
     ]
    }
   ],
   "source": [
    "# Answer:- \n",
    "\n",
    "# Explanation:\n",
    "# if Checks if Spam Is Equal To 1 → Prints \"Hello\".\n",
    "# elif (else If) Checks If Spam Is 2 → Prints \"Howdy\".\n",
    "# else Handles All Other Values → Prints \"Greetings!\".\n",
    "\n",
    "\n",
    "spam = 1  # You can change this value to test different cases\n",
    "\n",
    "if spam == 1:\n",
    "    print(\"Hello\")\n",
    "elif spam == 2:\n",
    "    print(\"Howdy\")\n",
    "else:\n",
    "    print(\"Greetings!\")"
   ]
  },
  {
   "cell_type": "code",
   "execution_count": null,
   "id": "6944ae19-440c-44e0-9711-398164f9b0cc",
   "metadata": {},
   "outputs": [],
   "source": []
  },
  {
   "cell_type": "code",
   "execution_count": null,
   "id": "4ff4a0cb-cac0-4717-9b21-31e67fc50802",
   "metadata": {},
   "outputs": [],
   "source": []
  },
  {
   "cell_type": "markdown",
   "id": "0d1eb89f-addc-4fb3-8e3f-51b0b95a3d69",
   "metadata": {},
   "source": [
    "##### Que 9) If Your Programme Is Stuck In An Endless Loop, What Keys You’ll Press?"
   ]
  },
  {
   "cell_type": "code",
   "execution_count": 19,
   "id": "73a7fa97-8154-4bbe-94c4-25d5f927660e",
   "metadata": {},
   "outputs": [],
   "source": [
    "# Answer:-\n",
    "\n",
    "# To Stop A Program Stuck In An Infinite Loop, Press:\n",
    "# Ctrl + C"
   ]
  },
  {
   "cell_type": "code",
   "execution_count": null,
   "id": "9823fdb7-aaf7-4f5e-8118-49a3477795d3",
   "metadata": {},
   "outputs": [],
   "source": []
  },
  {
   "cell_type": "code",
   "execution_count": null,
   "id": "069a84fa-1102-4bdc-b8cd-1d1a9c5ff12c",
   "metadata": {},
   "outputs": [],
   "source": []
  },
  {
   "cell_type": "markdown",
   "id": "a85f8a0d-6f90-4164-8a54-990ee0640810",
   "metadata": {},
   "source": [
    "##### Que 10). How Can You Tell The Difference Between Break And Continue?"
   ]
  },
  {
   "cell_type": "code",
   "execution_count": 20,
   "id": "dadac644-be77-4e56-b248-ba15b52a97d8",
   "metadata": {},
   "outputs": [],
   "source": [
    "# Answer:-\n",
    "\n",
    "# Keyword\t   Purpose\t                                      Effect On Loop\n",
    "# Break\t     Exits The Loop Completely                    Stops The Loop And Moves To Next Code\n",
    "# Continue   Skips The Current Iteration And Continues\t  Goes Back To The Start Of The Loop"
   ]
  },
  {
   "cell_type": "code",
   "execution_count": 21,
   "id": "a09c0ab3-e3f2-48cc-baed-e77640e63ecb",
   "metadata": {},
   "outputs": [
    {
     "name": "stdout",
     "output_type": "stream",
     "text": [
      "0\n",
      "1\n",
      "2\n"
     ]
    }
   ],
   "source": [
    "# Break Example:\n",
    "\n",
    "for i in range(5):\n",
    "    if i == 3:\n",
    "        break\n",
    "    print(i)"
   ]
  },
  {
   "cell_type": "code",
   "execution_count": 22,
   "id": "5157cfba-9494-4f3b-8afe-bb33de6706c0",
   "metadata": {},
   "outputs": [
    {
     "name": "stdout",
     "output_type": "stream",
     "text": [
      "0\n",
      "1\n",
      "2\n",
      "4\n"
     ]
    }
   ],
   "source": [
    "# Continue Example:\n",
    " \n",
    "for i in range(5):\n",
    "    if i == 3:\n",
    "        continue\n",
    "    print(i)"
   ]
  },
  {
   "cell_type": "code",
   "execution_count": null,
   "id": "28bdd1dd-11c9-4eeb-be55-aeefe1137fc4",
   "metadata": {},
   "outputs": [],
   "source": []
  },
  {
   "cell_type": "code",
   "execution_count": null,
   "id": "dceacabb-2cac-48c5-be2c-ff3d844baeac",
   "metadata": {},
   "outputs": [],
   "source": []
  },
  {
   "cell_type": "markdown",
   "id": "1b1c1f3c-ef8b-4565-ab17-4737ee79d401",
   "metadata": {},
   "source": [
    "##### Que 11) In A For Loop, What Is The Difference Between range(10), range(0, 10), And range(0, 10, 1)?  (range(start, stop, step)\n",
    "                       "
   ]
  },
  {
   "cell_type": "code",
   "execution_count": 23,
   "id": "c10ed6df-cd26-4993-a73b-70ebef771fdd",
   "metadata": {},
   "outputs": [
    {
     "name": "stdout",
     "output_type": "stream",
     "text": [
      "0\n",
      "1\n",
      "2\n",
      "3\n",
      "4\n",
      "5\n",
      "6\n",
      "7\n",
      "8\n",
      "9\n"
     ]
    }
   ],
   "source": [
    "# Answers:-\n",
    "\n",
    "for i in range(10):\n",
    "    print(i)"
   ]
  },
  {
   "cell_type": "code",
   "execution_count": 24,
   "id": "7a8a7487-aaf1-4cf4-8985-1cf0434b4270",
   "metadata": {},
   "outputs": [
    {
     "name": "stdout",
     "output_type": "stream",
     "text": [
      "0\n",
      "1\n",
      "2\n",
      "3\n",
      "4\n",
      "5\n",
      "6\n",
      "7\n",
      "8\n",
      "9\n"
     ]
    }
   ],
   "source": [
    "for i in range(0, 10):\n",
    "    print(i)"
   ]
  },
  {
   "cell_type": "code",
   "execution_count": 25,
   "id": "21045403-69df-4e58-87bf-a6db8443af4f",
   "metadata": {},
   "outputs": [
    {
     "name": "stdout",
     "output_type": "stream",
     "text": [
      "0\n",
      "1\n",
      "2\n",
      "3\n",
      "4\n",
      "5\n",
      "6\n",
      "7\n",
      "8\n",
      "9\n"
     ]
    }
   ],
   "source": [
    "for i in range(0, 10, 1):\n",
    "    print(i)"
   ]
  },
  {
   "cell_type": "code",
   "execution_count": null,
   "id": "e17352aa-0131-4fce-8f72-ba3b5665d10f",
   "metadata": {},
   "outputs": [],
   "source": []
  },
  {
   "cell_type": "code",
   "execution_count": 26,
   "id": "6a2497d5-0a53-4f6c-b737-76d7e1432fae",
   "metadata": {},
   "outputs": [],
   "source": [
    "# Conclusion:-\n",
    "# All Three Expressions Behave The Same In This Specific Case.\n",
    "# But Range(Start, Stop, Step) Gives You Flexibility And Is More Versatile For Different Loops."
   ]
  },
  {
   "cell_type": "code",
   "execution_count": null,
   "id": "8a1ef8e9-e405-4d1e-aa76-86b75108189b",
   "metadata": {},
   "outputs": [],
   "source": []
  },
  {
   "cell_type": "code",
   "execution_count": null,
   "id": "d3b27e59-9d8c-4387-ab6a-2830c199e1ad",
   "metadata": {},
   "outputs": [],
   "source": []
  },
  {
   "cell_type": "markdown",
   "id": "551505f1-7944-4bae-baaf-bbf6db0869f4",
   "metadata": {},
   "source": [
    "##### Que 12) Write A Short Program That Prints The Numbers 1 To 10 Using A For Loop. Then Write An Equivalent Program That Prints The Numbers 1 To 10 Using A While Loop.??"
   ]
  },
  {
   "cell_type": "code",
   "execution_count": 27,
   "id": "4f15eb2c-3d87-4ea1-be65-c2d70793b79f",
   "metadata": {},
   "outputs": [
    {
     "name": "stdout",
     "output_type": "stream",
     "text": [
      "1\n",
      "2\n",
      "3\n",
      "4\n",
      "5\n",
      "6\n",
      "7\n",
      "8\n",
      "9\n",
      "10\n"
     ]
    }
   ],
   "source": [
    "## Answer:- \n",
    "\n",
    "# Program To Print Numbers From 1 To 10 Using A For Loop\n",
    "\n",
    "for i in range (1,11):\n",
    "    print(i)"
   ]
  },
  {
   "cell_type": "code",
   "execution_count": null,
   "id": "19fa934a-d036-46ce-8ea1-fdafef1393ad",
   "metadata": {},
   "outputs": [],
   "source": []
  },
  {
   "cell_type": "code",
   "execution_count": 28,
   "id": "c1a0d30d-624d-4e3f-af88-28f13a4250b2",
   "metadata": {},
   "outputs": [
    {
     "name": "stdout",
     "output_type": "stream",
     "text": [
      "1\n",
      "2\n",
      "3\n",
      "4\n",
      "5\n",
      "6\n",
      "7\n",
      "8\n",
      "9\n",
      "10\n"
     ]
    }
   ],
   "source": [
    "# Program To Print Numbers From 1 To 10 Using A While Loop\n",
    "\n",
    "i = 1       # Initialization\n",
    "while i <= 10:\n",
    "    print(i)\n",
    "    i +=1    # Increment"
   ]
  },
  {
   "cell_type": "code",
   "execution_count": null,
   "id": "957c9790-8317-457a-ab89-751cbf4472b3",
   "metadata": {},
   "outputs": [],
   "source": []
  },
  {
   "cell_type": "code",
   "execution_count": null,
   "id": "ab59191e-2d20-4dd5-8029-bf2c7c1b061e",
   "metadata": {},
   "outputs": [],
   "source": []
  },
  {
   "cell_type": "markdown",
   "id": "a38a1a65-e5fa-430e-8222-be99820a7cc0",
   "metadata": {},
   "source": [
    "##### Que 13.) If You Had A Function Named Bacon() Inside A Module Named Spam, How Would You Call It After Importing Spam?"
   ]
  },
  {
   "cell_type": "code",
   "execution_count": 29,
   "id": "656acf63-8ff0-4bb6-aadc-dcb3694b73c8",
   "metadata": {},
   "outputs": [],
   "source": [
    "## Answer:-\n",
    "\n",
    "# spam.py\n",
    "\n",
    "def bacon():\n",
    "    print(\"Bacon function called from spam module!\")"
   ]
  },
  {
   "cell_type": "code",
   "execution_count": null,
   "id": "1ddaed77-8a7e-4172-9975-2cd14415c037",
   "metadata": {},
   "outputs": [],
   "source": []
  },
  {
   "cell_type": "code",
   "execution_count": null,
   "id": "06ce697e-d115-46d8-917a-955133aef08e",
   "metadata": {},
   "outputs": [],
   "source": []
  },
  {
   "cell_type": "markdown",
   "id": "842f1210-c59f-477b-821b-a9af35a50151",
   "metadata": {},
   "source": [
    "### ASSIGNMENTS - 3"
   ]
  },
  {
   "cell_type": "code",
   "execution_count": null,
   "id": "fd57abc0-87dc-4883-9d04-d5af4d021017",
   "metadata": {},
   "outputs": [],
   "source": []
  },
  {
   "cell_type": "markdown",
   "id": "86ec1aba-2f66-4d7d-b32e-4cd21a4d2ce5",
   "metadata": {},
   "source": [
    "##### Que 1.) Why Are Functions Advantageous To Have In Your Programs?"
   ]
  },
  {
   "cell_type": "code",
   "execution_count": 30,
   "id": "5d0d7e02-23a3-4736-b012-eaa84b27c64e",
   "metadata": {},
   "outputs": [],
   "source": [
    "## Answer:-\n",
    "\n",
    "# Functions Are Advantageous Because They Promote Code Reusability, Improve Readability, Simplify Debugging, And Enhance Maintainability, \n",
    "# Making Programs More Organized And Efficient. "
   ]
  },
  {
   "cell_type": "code",
   "execution_count": null,
   "id": "73b64776-c007-4de5-a0e9-a203b9c583ba",
   "metadata": {},
   "outputs": [],
   "source": []
  },
  {
   "cell_type": "code",
   "execution_count": null,
   "id": "5bfd08f6-bf4b-4451-a129-b79cd42a2d0e",
   "metadata": {},
   "outputs": [],
   "source": []
  },
  {
   "cell_type": "markdown",
   "id": "6f90ea8a-997d-4e23-a67f-7738932a1925",
   "metadata": {},
   "source": [
    "##### Que 2.) When Does The Code In A Function Run: When It's Specified Or When It's Called?"
   ]
  },
  {
   "cell_type": "code",
   "execution_count": 31,
   "id": "6dd33893-876b-4dab-874c-a336cd3fb26b",
   "metadata": {},
   "outputs": [],
   "source": [
    "# Answer:- Function Code Runs Only When The Function Is Explicitly Called, Not When It Is Defined."
   ]
  },
  {
   "cell_type": "code",
   "execution_count": null,
   "id": "8ba639a4-a5bd-4240-b9cb-f73de8397fa3",
   "metadata": {},
   "outputs": [],
   "source": []
  },
  {
   "cell_type": "code",
   "execution_count": null,
   "id": "2e0ea5d0-addc-472a-b9ad-2763553616c8",
   "metadata": {},
   "outputs": [],
   "source": []
  },
  {
   "cell_type": "markdown",
   "id": "4b4ecd49-15b4-484f-b015-373a715918da",
   "metadata": {},
   "source": [
    "##### Que 3.) What Statement Creates A Function ?"
   ]
  },
  {
   "cell_type": "code",
   "execution_count": 32,
   "id": "dff2355b-5064-4717-8e80-537415ac73bc",
   "metadata": {},
   "outputs": [],
   "source": [
    "# Answer:- The def Statement Is Used To Create (Define) A Function In Python."
   ]
  },
  {
   "cell_type": "code",
   "execution_count": null,
   "id": "e34222c7-b316-4c74-ac3a-c1e01bfd15bf",
   "metadata": {},
   "outputs": [],
   "source": []
  },
  {
   "cell_type": "code",
   "execution_count": null,
   "id": "f4cb88e6-db04-4302-aa96-99e67f096490",
   "metadata": {},
   "outputs": [],
   "source": []
  },
  {
   "cell_type": "markdown",
   "id": "aea9df3b-c1e6-4987-8edd-17d69ae56c5e",
   "metadata": {},
   "source": [
    "##### Que 4). What Is The Difference Between A Function And A Function Call?"
   ]
  },
  {
   "cell_type": "code",
   "execution_count": 33,
   "id": "a4ac56da-f2a6-4801-8939-9295a8e1d97d",
   "metadata": {},
   "outputs": [
    {
     "name": "stdout",
     "output_type": "stream",
     "text": [
      "Hello!\n"
     ]
    }
   ],
   "source": [
    "# Answer:- A Function Defines What The Code Should Do.\n",
    "#          A Function Call Actually Runs The Code Inside That Function.\n",
    "\n",
    "def greet():           # Function\n",
    "    print(\"Hello!\")\n",
    "\n",
    "greet()                # Function Call\t"
   ]
  },
  {
   "cell_type": "code",
   "execution_count": null,
   "id": "9772de65-4c65-43c4-893b-2ad74551e55d",
   "metadata": {},
   "outputs": [],
   "source": []
  },
  {
   "cell_type": "code",
   "execution_count": null,
   "id": "ebe05152-ea49-4cbb-b087-31369d742b38",
   "metadata": {},
   "outputs": [],
   "source": []
  },
  {
   "cell_type": "markdown",
   "id": "336cae37-6adf-4e4b-893c-0938af2dc3c9",
   "metadata": {},
   "source": [
    "##### Que 5). How Many Global Scopes Are There In A Python Program? How Many Local Scopes?"
   ]
  },
  {
   "cell_type": "code",
   "execution_count": 34,
   "id": "67cb8ff4-7fed-4614-bacf-779f360d2b1b",
   "metadata": {},
   "outputs": [],
   "source": [
    "## Answer:-\n",
    "\n",
    "# Global Scope:\n",
    "# - There Is Only One Global Scope In A Python Program.\n",
    "# - It Exists For The Entire Lifetime Of The Program.\n",
    "# - Any Variable Defined Outside All Functions Is In The Global Scope.\n",
    "\n",
    "# Local Scopes:\n",
    "# - There Can Be Many Local Scopes, One For Each Function Call.\n",
    "# - A New Local Scope Is Created Every Time A Function Is Called.\n",
    "# - Local Variables Exist Only Inside That Function During Its Execution."
   ]
  },
  {
   "cell_type": "code",
   "execution_count": 35,
   "id": "c49ca433-021f-4d1f-b2ed-2f82629dd512",
   "metadata": {},
   "outputs": [
    {
     "name": "stdout",
     "output_type": "stream",
     "text": [
      "10 5\n"
     ]
    }
   ],
   "source": [
    "x = 10             # Global Variable (In Global Scope)\n",
    "\n",
    "def show():\n",
    "    y = 5         # Local Variable (In Local Scope)\n",
    "    print(x, y)\n",
    "\n",
    "show()"
   ]
  },
  {
   "cell_type": "code",
   "execution_count": null,
   "id": "9d9f4ce9-067c-484c-b061-0377677429c4",
   "metadata": {},
   "outputs": [],
   "source": []
  },
  {
   "cell_type": "code",
   "execution_count": null,
   "id": "d672bf8b-8b2d-402a-907d-81d90c1adc7b",
   "metadata": {},
   "outputs": [],
   "source": []
  },
  {
   "cell_type": "markdown",
   "id": "fa8e53fb-2da3-4229-a684-fa9e2041b070",
   "metadata": {},
   "source": [
    "##### Que 6). What Happens To Variables In A Local Scope When The Function Call Returns?"
   ]
  },
  {
   "cell_type": "code",
   "execution_count": 36,
   "id": "101535d9-0468-41f7-899f-cead15caa900",
   "metadata": {},
   "outputs": [],
   "source": [
    "# Answer:- \n",
    "#   Local Variables Exist Only During The Execution Of Their Function.\n",
    "#   When The Function Returns, Those Variables Are Automatically Deleted."
   ]
  },
  {
   "cell_type": "code",
   "execution_count": 37,
   "id": "9abcac7f-44c1-4499-89c7-a619c4408062",
   "metadata": {},
   "outputs": [
    {
     "name": "stdout",
     "output_type": "stream",
     "text": [
      "Hello, Rakesh!\n"
     ]
    }
   ],
   "source": [
    "def show():\n",
    "    message = \"Hello, Rakesh!\"    # Local Variable\n",
    "    print(message)\n",
    "\n",
    "show()\n",
    "# print(message)                  #  This Will Raise An Error"
   ]
  },
  {
   "cell_type": "code",
   "execution_count": null,
   "id": "4ae6bbe7-9dfc-4acd-890c-2553cf37835c",
   "metadata": {},
   "outputs": [],
   "source": []
  },
  {
   "cell_type": "code",
   "execution_count": null,
   "id": "2ca03bd6-5a1a-4b0d-9abb-9fd43d891d4f",
   "metadata": {},
   "outputs": [],
   "source": []
  },
  {
   "cell_type": "markdown",
   "id": "302afafe-1035-40a5-9338-76fb66c3cc63",
   "metadata": {},
   "source": [
    "##### Que 7). What Is The Concept Of A Return Value? Is It Possible To Have A Return Value In An Expression?"
   ]
  },
  {
   "cell_type": "code",
   "execution_count": 38,
   "id": "b14ccb32-7def-4509-ab70-e9c4ce3bb27d",
   "metadata": {},
   "outputs": [],
   "source": [
    "## Answer:-\n",
    "\n",
    "# Concept\t        Explanation\n",
    "\n",
    "# Return Value:-\tThe Data A Function Gives Back Using The Return Keyword\n",
    "# In Expressions:-\tYes, Return Values Can Be Used In Mathematical Or Logical Expressions\n",
    "\n",
    "# Final Note:-\n",
    "# A Return Value Is What Makes A Function Useful And Flexible — It Allows Results To Be Reused Or Combined In Larger Expressions."
   ]
  },
  {
   "cell_type": "code",
   "execution_count": null,
   "id": "3939b66d-48c9-4983-81ba-9d0f89eb41ac",
   "metadata": {},
   "outputs": [],
   "source": []
  },
  {
   "cell_type": "code",
   "execution_count": null,
   "id": "34169041-f7e5-422e-a8e6-04606f61ec3d",
   "metadata": {},
   "outputs": [],
   "source": []
  },
  {
   "cell_type": "markdown",
   "id": "3a7bb843-693c-411c-9673-d52973453341",
   "metadata": {},
   "source": [
    "##### Que 8) If A Function Does Not Have A Return Statement, What Is The Return Value Of A Call To That Function??"
   ]
  },
  {
   "cell_type": "code",
   "execution_count": 39,
   "id": "3e4617db-3e20-45cc-b625-69c8bbb2ec2f",
   "metadata": {},
   "outputs": [
    {
     "name": "stdout",
     "output_type": "stream",
     "text": [
      "Hello!\n",
      "None\n"
     ]
    }
   ],
   "source": [
    "# Answer- If A Function Does Not Have A Return Statement, Or If It Has A Return Statement Without A Value, Then By Default, The Function Returns None.\n",
    "\n",
    "def greet():\n",
    "    print(\"Hello!\")\n",
    "\n",
    "result = greet()\n",
    "print(result)  # Output: None"
   ]
  },
  {
   "cell_type": "code",
   "execution_count": null,
   "id": "ee5ddaae-0781-4e5a-9543-dfbdc342a7fd",
   "metadata": {},
   "outputs": [],
   "source": []
  },
  {
   "cell_type": "code",
   "execution_count": null,
   "id": "f51b245b-8c99-4652-a2d3-c522d8aa66b8",
   "metadata": {},
   "outputs": [],
   "source": []
  },
  {
   "cell_type": "markdown",
   "id": "4f8041ec-0b04-478d-a8c6-28a90f90425b",
   "metadata": {},
   "source": [
    "##### Que 9). How Do You Make A Function Variable Refer To The Global Variable?"
   ]
  },
  {
   "cell_type": "code",
   "execution_count": 40,
   "id": "77091479-50fc-41fc-a95e-67b01060c4f3",
   "metadata": {},
   "outputs": [
    {
     "name": "stdout",
     "output_type": "stream",
     "text": [
      "Hi, Rakesh!\n"
     ]
    }
   ],
   "source": [
    "# Answer:-\n",
    "\n",
    "# To Refer To A Global Variable Inside A Function, Use The Global Keyword. This Allows The Function To Access And Modify The Global Variable Directly.\n",
    "\n",
    "message = \"Hello\"       # Global Variable\n",
    "\n",
    "def update_message():\n",
    "    global message      # Refer To The Global 'message'\n",
    "    message = \"Hi, Rakesh!\"\n",
    "\n",
    "update_message()\n",
    "print(message)         # Output: Hi, Rakesh!"
   ]
  },
  {
   "cell_type": "code",
   "execution_count": null,
   "id": "2f37fdbf-4c88-40ce-9475-ba49d16ed669",
   "metadata": {},
   "outputs": [],
   "source": []
  },
  {
   "cell_type": "code",
   "execution_count": null,
   "id": "90b2aa59-4b93-48b7-bfed-a1ed2a707f86",
   "metadata": {},
   "outputs": [],
   "source": []
  },
  {
   "cell_type": "markdown",
   "id": "cbf3f97b-7385-439d-be07-f98551d63a07",
   "metadata": {},
   "source": [
    "##### Que 10). What Is The Data Type Of None?"
   ]
  },
  {
   "cell_type": "code",
   "execution_count": 41,
   "id": "be283f0a-d705-43b5-9bc6-a649666e877c",
   "metadata": {},
   "outputs": [
    {
     "name": "stdout",
     "output_type": "stream",
     "text": [
      "<class 'NoneType'>\n"
     ]
    }
   ],
   "source": [
    "# Answer:-  \n",
    "# None Is A Special Built-In Constant That Represents The Absence Of A Value.\n",
    "# It Is Commonly Used As A Default Return Value Of Functions That Do Not Return Anything.\n",
    "# Its Type Is NoneType, And There's Only One Instance Of It In A Python Program.\n",
    "\n",
    "value = None\n",
    "print(type(value))          # Output: <class 'NoneType'>"
   ]
  },
  {
   "cell_type": "code",
   "execution_count": null,
   "id": "4c015dca-fedd-4860-95d7-52a56175f64c",
   "metadata": {},
   "outputs": [],
   "source": []
  },
  {
   "cell_type": "code",
   "execution_count": null,
   "id": "5a9b06ec-1829-4451-acb1-e64e40a1d218",
   "metadata": {},
   "outputs": [],
   "source": []
  },
  {
   "cell_type": "markdown",
   "id": "15ba11bd-f8fc-471d-ad06-63e3022695a6",
   "metadata": {},
   "source": [
    "##### Que 11). What Does The Sentence Import Are all your pets name deric Do?"
   ]
  },
  {
   "cell_type": "code",
   "execution_count": 42,
   "id": "a64a2263-ba37-43e5-a2ec-3909e461f3f6",
   "metadata": {},
   "outputs": [],
   "source": [
    "## Answer:- Syntax Is Invalid & Skipped This Questions"
   ]
  },
  {
   "cell_type": "code",
   "execution_count": null,
   "id": "7b4337b3-4e05-4a25-bb71-1224485c2715",
   "metadata": {},
   "outputs": [],
   "source": []
  },
  {
   "cell_type": "markdown",
   "id": "5a021fcd-e5ea-40eb-a25a-a1b7c6277f0a",
   "metadata": {},
   "source": [
    "##### Que 12). If You Had A bacon() Feature In A Spam Module, What Would You Call It After Importing Spam?"
   ]
  },
  {
   "cell_type": "code",
   "execution_count": 43,
   "id": "62ac962c-2967-4ae0-87a8-5dee3e9062ed",
   "metadata": {},
   "outputs": [
    {
     "name": "stdout",
     "output_type": "stream",
     "text": [
      "Bacon from the spam module is sizzling!\n"
     ]
    }
   ],
   "source": [
    "# Answer - \n",
    "\n",
    "# Step 1 - Create spam.py File & Create Function Inside-  \"def bacon(): print(\"Bacon from the spam module is sizzling!\")\n",
    "\n",
    "# Step 2 - Import 'spam' File & Call 'bacon() Function.\n",
    "import spam\n",
    "spam.bacon()"
   ]
  },
  {
   "cell_type": "code",
   "execution_count": null,
   "id": "ec50f876-3120-4f25-9214-f9626119e0c7",
   "metadata": {},
   "outputs": [],
   "source": []
  },
  {
   "cell_type": "markdown",
   "id": "4cd678c9-2677-4004-b3b0-a96f004ff75c",
   "metadata": {},
   "source": [
    "##### Que 13). What Can You Do To Save A Programme From Crashing If It Encounters An Error?"
   ]
  },
  {
   "cell_type": "code",
   "execution_count": 44,
   "id": "fd7dc1c9-3823-4e8e-a1d6-89ef96ecc273",
   "metadata": {},
   "outputs": [
    {
     "name": "stdin",
     "output_type": "stream",
     "text": [
      "Enter a number:  45\n"
     ]
    },
    {
     "name": "stdout",
     "output_type": "stream",
     "text": [
      "Result: 0.2222222222222222\n",
      "Calculation completed successfully.\n",
      "Program execution finished.\n"
     ]
    }
   ],
   "source": [
    "# Answer:-  To Prevent A Python Program From Crashing When It Encounters An Error, You Can Use Exception Handling Through The try, except, else, & finally \n",
    "#           Blocks.This Mechanism Allows You To Gracefully Handle Runtime Errors And Keep The Program Running Or Exit With A Meaningful Message Instead Of Crashing.\n",
    "\n",
    "\n",
    "try:\n",
    "    # Code That May Raise An Exception\n",
    "    number = int(input(\"Enter a number: \"))\n",
    "    result = 10 / number\n",
    "    print(\"Result:\", result)\n",
    "except ValueError:\n",
    "    # Handles Incorrect Input Type\n",
    "    print(\"Error: Please enter a valid integer.\")\n",
    "except ZeroDivisionError:\n",
    "    # Handles Division By Zero\n",
    "    print(\"Error: Cannot divide by zero.\")\n",
    "except Exception as e:\n",
    "    # Catches Any Other Unexpected Errors\n",
    "    print(f\"An unexpected error occurred: {e}\")\n",
    "else:\n",
    "    # Executes If No Exception Occurs\n",
    "    print(\"Calculation completed successfully.\")\n",
    "finally:\n",
    "    # Executes No Matter What\n",
    "    print(\"Program execution finished.\")\n",
    "\n",
    "# Benefits:-\n",
    "# Prevents Program From Crashing Unexpectedly.\n",
    "# Makes Debugging And Maintenance Easier.\n",
    "# Provides A User-friendly Experience With Meaningful Error Messages."
   ]
  },
  {
   "cell_type": "code",
   "execution_count": null,
   "id": "6f81fe5f-be6c-486e-85e1-7be24477a03d",
   "metadata": {},
   "outputs": [],
   "source": []
  },
  {
   "cell_type": "code",
   "execution_count": null,
   "id": "6db07be1-2ac8-4a9b-a40a-be593c257bcd",
   "metadata": {},
   "outputs": [],
   "source": []
  },
  {
   "cell_type": "markdown",
   "id": "bd9b1db1-11f5-43d9-b2f5-6bae8bada3ba",
   "metadata": {},
   "source": [
    "##### Que 14). What Is The Purpose Of The Try Clause? What Is The Purpose Of The Except Clause?"
   ]
  },
  {
   "cell_type": "code",
   "execution_count": 45,
   "id": "33e13961-96ee-41d4-a1f2-cc3a0984f64d",
   "metadata": {},
   "outputs": [
    {
     "name": "stdin",
     "output_type": "stream",
     "text": [
      "Enter a number:  56\n"
     ]
    },
    {
     "name": "stdout",
     "output_type": "stream",
     "text": [
      "Result: 1.7857142857142858\n"
     ]
    }
   ],
   "source": [
    "# Answer:-\n",
    "\n",
    "# 🔹 Purpose Of The 'Try Clause':-\n",
    "# The Try Clause Is Used To Define A Block Of Code Where You Anticipate That An Error Might Occur During Execution.\n",
    "# If An Error Occurs In The Try Block, Python Immediately Stops Executing That Block And Jumps To The Corresponding Except Block.\n",
    "\n",
    "# Objective:-\n",
    "# Detect Errors During Program Execution.\n",
    "# Prevent Abrupt Termination Of The Program.\n",
    "# Maintain The Flow Of Execution Using Controlled Handling.\n",
    "\n",
    "# 🔹 Purpose Of The 'Except Clause':-\n",
    "# The Except Clause Is Used To Catch And Handle Specific Or General Exceptions That Are Raised In The Corresponding Try Block. \n",
    "# It Defines The Response When An Error Occurs.\n",
    "\n",
    "# Objective:-\n",
    "# Respond To Known Or Unknown Exceptions.\n",
    "# Provide Custom Error Messages Or Fallback Mechanisms.\n",
    "# Ensure The Program Continues Running Or Exits Cleanly.\n",
    "\n",
    "\n",
    "try:\n",
    "    value = int(input(\"Enter a number: \"))\n",
    "    print(\"Result:\", 100 / value)\n",
    "except ValueError:\n",
    "    print(\"Error: Please enter a valid number.\")\n",
    "except ZeroDivisionError:\n",
    "    print(\"Error: Division by zero is not allowed.\")\n",
    "\n",
    "\n",
    "# Summary:-\n",
    "# Clause\t   Purpose\n",
    "# Try\t     Wraps Code That May Raise An Error.\n",
    "# Except\t Handles The Error Raised In The Try Block With User-Defined Logic."
   ]
  },
  {
   "cell_type": "code",
   "execution_count": null,
   "id": "4950cbdb-b969-4e02-bb73-8d78ccbeae6f",
   "metadata": {},
   "outputs": [],
   "source": []
  },
  {
   "cell_type": "code",
   "execution_count": null,
   "id": "01e08e41-cedb-413a-a281-fc897ba5422c",
   "metadata": {},
   "outputs": [],
   "source": []
  },
  {
   "cell_type": "markdown",
   "id": "ef7f2431-75b8-4380-9b98-6d86d3df02b6",
   "metadata": {},
   "source": [
    "### ASSIGNMENTS - 4"
   ]
  },
  {
   "cell_type": "code",
   "execution_count": null,
   "id": "3967a331-0bff-4858-a869-38f7221fe153",
   "metadata": {},
   "outputs": [],
   "source": []
  },
  {
   "cell_type": "markdown",
   "id": "299463a1-cef1-48bb-8753-1fc9ada22434",
   "metadata": {},
   "source": [
    "##### Que 1). What Exactly Is []?"
   ]
  },
  {
   "cell_type": "code",
   "execution_count": 46,
   "id": "4b5f4545-e616-4b67-aced-d823a35611ed",
   "metadata": {},
   "outputs": [],
   "source": [
    "# # Answer:- \n",
    "\n",
    "# In Python, [] (Square Brackets) Are Used To Define A List — One Of The Most Commonly Used Built-In Data Structures.\n",
    "# [] Represents An Empty List — A Mutable, Ordered Collection That Can Store Multiple Items, Such As Integers, Strings, Other Lists, \n",
    "# Or Even Mixed Data Types."
   ]
  },
  {
   "cell_type": "code",
   "execution_count": null,
   "id": "32acd962-8d3c-4e97-928e-24665c3750cd",
   "metadata": {},
   "outputs": [],
   "source": []
  },
  {
   "cell_type": "code",
   "execution_count": null,
   "id": "ec43e287-ff5c-47ac-bf46-762fabefe96a",
   "metadata": {},
   "outputs": [],
   "source": []
  },
  {
   "cell_type": "markdown",
   "id": "a4d0e516-68f3-4bd3-9fcb-acb3443cd7d5",
   "metadata": {},
   "source": [
    "##### Que 2). In A List Of Values Stored In A Variable Called Spam, How Would You Assign The Value 'hello' As The Third Value?\n",
    "##### (Assume [2, 4, 6, 8, 10] Are In Spam.) "
   ]
  },
  {
   "cell_type": "code",
   "execution_count": 47,
   "id": "e4ce7008-f888-4a99-9b26-42a5bbf982cf",
   "metadata": {},
   "outputs": [
    {
     "name": "stdout",
     "output_type": "stream",
     "text": [
      "[2, 4, 'hello', 8, 10]\n"
     ]
    }
   ],
   "source": [
    "# Answer:-\n",
    "\n",
    "spam = [2, 4, 6, 8, 10]   # Original List\n",
    "spam[2] = 'hello'         # Assigning 'hello' To The Third Element.\n",
    "print(spam)               # Output: [2, 4, 'hello', 8, 10]"
   ]
  },
  {
   "cell_type": "code",
   "execution_count": null,
   "id": "dbc3004a-6aa1-49f7-a023-e7cb401cd117",
   "metadata": {},
   "outputs": [],
   "source": []
  },
  {
   "cell_type": "code",
   "execution_count": null,
   "id": "ddef3f8a-458f-4577-97e6-f15caf014379",
   "metadata": {},
   "outputs": [],
   "source": []
  },
  {
   "cell_type": "markdown",
   "id": "24a87398-90c8-4988-b61c-1d88d514d9db",
   "metadata": {},
   "source": [
    "#### Let's Pretend The Spam Includes The List ['a', 'b', 'c', 'd'] For The Next Three Queries."
   ]
  },
  {
   "cell_type": "markdown",
   "id": "404bb173-90a6-4d70-8116-2ac87b2a510c",
   "metadata": {},
   "source": [
    "##### Que  3). What Is The Value Of Spam[int(Int('3' * 2) / 11)]?"
   ]
  },
  {
   "cell_type": "code",
   "execution_count": 48,
   "id": "b568db81-169a-4c6b-902b-4816d348fb89",
   "metadata": {},
   "outputs": [
    {
     "data": {
      "text/plain": [
       "'d'"
      ]
     },
     "execution_count": 48,
     "metadata": {},
     "output_type": "execute_result"
    }
   ],
   "source": [
    "# Answer:-\n",
    "\n",
    "spam = ['a', 'b', 'c', 'd']\n",
    "\n",
    "spam[int(int('3' * 2) / 11)]"
   ]
  },
  {
   "cell_type": "code",
   "execution_count": 49,
   "id": "0429b203-5bfb-4e66-9d5e-b280e1d550d6",
   "metadata": {},
   "outputs": [
    {
     "data": {
      "text/plain": [
       "'33'"
      ]
     },
     "execution_count": 49,
     "metadata": {},
     "output_type": "execute_result"
    }
   ],
   "source": [
    "'3' * 2                    "
   ]
  },
  {
   "cell_type": "code",
   "execution_count": 50,
   "id": "b4083cb8-f56b-409f-b50e-84803c192614",
   "metadata": {},
   "outputs": [
    {
     "data": {
      "text/plain": [
       "33"
      ]
     },
     "execution_count": 50,
     "metadata": {},
     "output_type": "execute_result"
    }
   ],
   "source": [
    "int('33')"
   ]
  },
  {
   "cell_type": "code",
   "execution_count": 51,
   "id": "5b7a6426-f376-4a20-b482-b324b06325b1",
   "metadata": {},
   "outputs": [
    {
     "data": {
      "text/plain": [
       "3.0"
      ]
     },
     "execution_count": 51,
     "metadata": {},
     "output_type": "execute_result"
    }
   ],
   "source": [
    "33 / 11   "
   ]
  },
  {
   "cell_type": "code",
   "execution_count": 52,
   "id": "0a73f4bc-bc69-489d-a685-0ba048d98118",
   "metadata": {},
   "outputs": [
    {
     "data": {
      "text/plain": [
       "3"
      ]
     },
     "execution_count": 52,
     "metadata": {},
     "output_type": "execute_result"
    }
   ],
   "source": [
    "int(3.0)          "
   ]
  },
  {
   "cell_type": "code",
   "execution_count": 53,
   "id": "d0f715f2-affe-482f-aed6-cfe5b61f2e73",
   "metadata": {},
   "outputs": [
    {
     "data": {
      "text/plain": [
       "'d'"
      ]
     },
     "execution_count": 53,
     "metadata": {},
     "output_type": "execute_result"
    }
   ],
   "source": [
    "spam[3]           "
   ]
  },
  {
   "cell_type": "code",
   "execution_count": null,
   "id": "6acfe23b-4418-48e3-a50a-06dcc0fcfb0b",
   "metadata": {},
   "outputs": [],
   "source": []
  },
  {
   "cell_type": "code",
   "execution_count": null,
   "id": "5d556e01-df57-4fd2-bfb1-c6291fb12661",
   "metadata": {},
   "outputs": [],
   "source": []
  },
  {
   "cell_type": "markdown",
   "id": "025ae382-e0ee-4c7a-82a3-3e93b6f9fd79",
   "metadata": {},
   "source": [
    "##### Que 4). What Is The Value Of Spam[-1]?"
   ]
  },
  {
   "cell_type": "code",
   "execution_count": 54,
   "id": "05b62ab0-a071-462f-993a-559f793b2a41",
   "metadata": {},
   "outputs": [
    {
     "name": "stdout",
     "output_type": "stream",
     "text": [
      "d\n"
     ]
    }
   ],
   "source": [
    "# Answer:-\n",
    "\n",
    "spam = ['a', 'b', 'c', 'd']\n",
    "print(spam[-1])   "
   ]
  },
  {
   "cell_type": "code",
   "execution_count": null,
   "id": "6eeb69f8-a5f5-4714-8822-216c4bb312a0",
   "metadata": {},
   "outputs": [],
   "source": []
  },
  {
   "cell_type": "code",
   "execution_count": null,
   "id": "777fd97e-0a7c-4050-9cfa-6419e3add07b",
   "metadata": {},
   "outputs": [],
   "source": []
  },
  {
   "cell_type": "markdown",
   "id": "f60de024-e4a8-41cd-b20c-c482226943c2",
   "metadata": {},
   "source": [
    "##### Que 5). What Is The Value Of Spam[:2]?"
   ]
  },
  {
   "cell_type": "code",
   "execution_count": 55,
   "id": "e1622401-9441-493a-aeb0-0fa7af2d5490",
   "metadata": {},
   "outputs": [
    {
     "name": "stdout",
     "output_type": "stream",
     "text": [
      "['a', 'b']\n"
     ]
    }
   ],
   "source": [
    "# Answer:-\n",
    "\n",
    "\n",
    "spam = ['a', 'b', 'c', 'd']\n",
    "print(spam[:2])  "
   ]
  },
  {
   "cell_type": "code",
   "execution_count": null,
   "id": "ce74ad99-0bef-436d-962b-ef7d431dd28b",
   "metadata": {},
   "outputs": [],
   "source": []
  },
  {
   "cell_type": "code",
   "execution_count": null,
   "id": "2a96d9a4-0aa0-4d5d-a032-295540abbfa6",
   "metadata": {},
   "outputs": [],
   "source": []
  },
  {
   "cell_type": "markdown",
   "id": "ec39ea24-7d6c-4e59-8046-6b2f6b9db869",
   "metadata": {},
   "source": [
    "#### Let's Pretend Bacon Has The List [3.14, 'cat,' 11, 'cat,' True] For The Next Three Questions."
   ]
  },
  {
   "cell_type": "markdown",
   "id": "5ded7e43-7f59-4a0d-bb5e-d0c9d71d6441",
   "metadata": {},
   "source": [
    "##### Que 6). What Is The Value Of bacon.index('cat')?"
   ]
  },
  {
   "cell_type": "code",
   "execution_count": 56,
   "id": "66d963d1-e5cf-4263-997a-d88da4dc0cb4",
   "metadata": {},
   "outputs": [
    {
     "data": {
      "text/plain": [
       "1"
      ]
     },
     "execution_count": 56,
     "metadata": {},
     "output_type": "execute_result"
    }
   ],
   "source": [
    "# Answer:-\n",
    "\n",
    "\n",
    "bacon = [3.14, 'cat', 11, 'cat', True]\n",
    "bacon.index('cat')"
   ]
  },
  {
   "cell_type": "code",
   "execution_count": null,
   "id": "f9ff7c3c-3fd5-4862-abe0-936cd3a44093",
   "metadata": {},
   "outputs": [],
   "source": []
  },
  {
   "cell_type": "code",
   "execution_count": null,
   "id": "5435ce01-3709-4f42-af20-0909643769f6",
   "metadata": {},
   "outputs": [],
   "source": []
  },
  {
   "cell_type": "markdown",
   "id": "bf363661-3f9c-4206-b082-d06b67f98b87",
   "metadata": {},
   "source": [
    "##### Que 7). How Does bacon.append(99) Change The Look Of The List Value In Bacon?"
   ]
  },
  {
   "cell_type": "code",
   "execution_count": 57,
   "id": "79dae2c3-2be5-460a-8dc3-21d58a616059",
   "metadata": {},
   "outputs": [
    {
     "name": "stdout",
     "output_type": "stream",
     "text": [
      "[3.14, 'cat', 11, 'cat', True]\n"
     ]
    }
   ],
   "source": [
    "# Answer:-\n",
    "\n",
    "print(bacon)"
   ]
  },
  {
   "cell_type": "code",
   "execution_count": 58,
   "id": "aed25a04-0349-4509-8d25-8c2f6968c43c",
   "metadata": {},
   "outputs": [
    {
     "name": "stdout",
     "output_type": "stream",
     "text": [
      "[3.14, 'cat', 11, 'cat', True, 99]\n"
     ]
    }
   ],
   "source": [
    "bacon.append(99)\n",
    "print(bacon)"
   ]
  },
  {
   "cell_type": "code",
   "execution_count": null,
   "id": "660104a3-d12a-47e1-bc9c-f8d135a075c0",
   "metadata": {},
   "outputs": [],
   "source": []
  },
  {
   "cell_type": "code",
   "execution_count": null,
   "id": "df4e29d5-1fc7-429e-9451-b6937249599c",
   "metadata": {},
   "outputs": [],
   "source": []
  },
  {
   "cell_type": "markdown",
   "id": "62a626b1-bc5c-4b36-a558-ffe2023ba7bb",
   "metadata": {},
   "source": [
    "##### Que 8). How Does bacon.remove('cat') Change The Look Of The List In Bacon?"
   ]
  },
  {
   "cell_type": "code",
   "execution_count": 59,
   "id": "ad22506e-07fa-4148-b795-eaf825545c2e",
   "metadata": {},
   "outputs": [
    {
     "name": "stdout",
     "output_type": "stream",
     "text": [
      "[3.14, 'cat', 11, 'cat', True, 99]\n"
     ]
    }
   ],
   "source": [
    "# Answer:- \n",
    "\n",
    "print(bacon)"
   ]
  },
  {
   "cell_type": "code",
   "execution_count": 60,
   "id": "c62dc362-0490-4648-9d36-5f7e3e3bd015",
   "metadata": {},
   "outputs": [
    {
     "name": "stdout",
     "output_type": "stream",
     "text": [
      "[3.14, 11, 'cat', True, 99]\n"
     ]
    }
   ],
   "source": [
    "bacon.remove('cat')\n",
    "\n",
    "print(bacon)"
   ]
  },
  {
   "cell_type": "code",
   "execution_count": null,
   "id": "6446afed-a69e-4a83-ab72-41052ac8cd4c",
   "metadata": {},
   "outputs": [],
   "source": []
  },
  {
   "cell_type": "code",
   "execution_count": null,
   "id": "703d23d5-95ac-45ba-9f72-d7878789c904",
   "metadata": {},
   "outputs": [],
   "source": []
  },
  {
   "cell_type": "markdown",
   "id": "f48a15d4-ec1c-4359-a2be-b5fe5369e180",
   "metadata": {},
   "source": [
    "##### Que 9). What Are The List Concatenation And List Replication Operators?"
   ]
  },
  {
   "cell_type": "code",
   "execution_count": 61,
   "id": "0d0f6990-64cb-4119-b345-a3a884fecc8f",
   "metadata": {},
   "outputs": [
    {
     "name": "stdout",
     "output_type": "stream",
     "text": [
      "[1, 2, 3, 4, 5]\n"
     ]
    }
   ],
   "source": [
    "# Answer:-\n",
    "\n",
    "# 1). List Concatenation Operator (+)\n",
    "# The + Operator Is Used To Combine Two Or More Lists Into A Single New List.\n",
    "# It Does Not Modify The Original Lists.\n",
    "\n",
    "\n",
    "list1 = [1, 2, 3]\n",
    "list2 = [4, 5]\n",
    "result = list1 + list2\n",
    "print(result)   "
   ]
  },
  {
   "cell_type": "code",
   "execution_count": 62,
   "id": "74f9fa59-cadb-428a-882f-7def36f0f764",
   "metadata": {},
   "outputs": [
    {
     "name": "stdout",
     "output_type": "stream",
     "text": [
      "['a', 'b', 'a', 'b', 'a', 'b']\n"
     ]
    }
   ],
   "source": [
    "# 2). List Replication Operator (*)\n",
    "# The * Operator Is Used To Repeat A List A Specified Number Of Times.\n",
    "# It Creates A New List By Repeating The Original List.\n",
    "\n",
    "\n",
    "list1 = ['a', 'b']\n",
    "result = list1 * 3\n",
    "print(result)   "
   ]
  },
  {
   "cell_type": "code",
   "execution_count": null,
   "id": "7fe2bfea-fb8c-4a07-8928-db2f8ee7055d",
   "metadata": {},
   "outputs": [],
   "source": []
  },
  {
   "cell_type": "code",
   "execution_count": null,
   "id": "9ae666ec-f08c-4898-b2ae-1b1037720f98",
   "metadata": {},
   "outputs": [],
   "source": []
  },
  {
   "cell_type": "markdown",
   "id": "7d853eb9-2ad7-4e83-85eb-59d9a0a65988",
   "metadata": {},
   "source": [
    "##### Que 10). What Is Difference Between The List Methods Append() And Insert()?"
   ]
  },
  {
   "cell_type": "code",
   "execution_count": 63,
   "id": "4f2d7224-8eeb-4478-9292-2addd113c0a2",
   "metadata": {},
   "outputs": [
    {
     "name": "stdout",
     "output_type": "stream",
     "text": [
      "[1, 2, 3, 4]\n"
     ]
    }
   ],
   "source": [
    "# Answer:-\n",
    "\n",
    "# 1). Append() Method\n",
    "# Adds An Element To The End Of The List.\n",
    "# Takes One Argument: The Element To Add.\n",
    "# Modifies The List In-Place.\n",
    "\n",
    "my_list = [1, 2, 3]\n",
    "my_list.append(4)\n",
    "print(my_list)  "
   ]
  },
  {
   "cell_type": "code",
   "execution_count": null,
   "id": "56c88488-4f75-4fff-8999-8545f9e748ff",
   "metadata": {},
   "outputs": [],
   "source": []
  },
  {
   "cell_type": "code",
   "execution_count": 64,
   "id": "14d1ab11-81d7-43ae-8406-eebe3953c534",
   "metadata": {},
   "outputs": [
    {
     "name": "stdout",
     "output_type": "stream",
     "text": [
      "[1, 'a', 2, 3]\n"
     ]
    }
   ],
   "source": [
    "# 2). Insert() Method\n",
    "# Inserts An Element At A Specific Index In The List.\n",
    "# Takes Two Arguments: The Index And The Element.\n",
    "# Shifts Elements To The Right From The Specified Index.\n",
    "\n",
    "\n",
    "my_list = [1, 2, 3]\n",
    "my_list.insert(1, 'a')\n",
    "print(my_list)  "
   ]
  },
  {
   "cell_type": "code",
   "execution_count": null,
   "id": "758f3bd3-d413-4dd4-811c-d3b1858e8f80",
   "metadata": {},
   "outputs": [],
   "source": []
  },
  {
   "cell_type": "markdown",
   "id": "a18e7267-9331-42d7-b587-ca206046044b",
   "metadata": {},
   "source": [
    "##### Que 11). What Are The Two Methods For Removing Items From A List?"
   ]
  },
  {
   "cell_type": "code",
   "execution_count": 65,
   "id": "31134b97-cbae-4ade-aeba-00b4a751a019",
   "metadata": {},
   "outputs": [
    {
     "name": "stdout",
     "output_type": "stream",
     "text": [
      "[1, 3, 2]\n"
     ]
    }
   ],
   "source": [
    "# Answer:-\n",
    "\n",
    "# 1). Remove() Method\n",
    "# Removes The First Occurrence Of A Specific Value From The List.\n",
    "# If The Value Is Not Found, It Raises A Valueerror.\n",
    "# Modifies The List In-Place.\n",
    "\n",
    "my_list = [1, 2, 3, 2]\n",
    "my_list.remove(2)\n",
    "print(my_list)  "
   ]
  },
  {
   "cell_type": "code",
   "execution_count": 66,
   "id": "a1370b24-38fa-4e38-9a2f-b426b47e4e52",
   "metadata": {},
   "outputs": [
    {
     "name": "stdout",
     "output_type": "stream",
     "text": [
      "b\n",
      "['a', 'c']\n"
     ]
    }
   ],
   "source": [
    "# 2). Pop() Method\n",
    "# Removes The Element At A Specific Index And Returns It.\n",
    "# If No Index Is Specified, It Removes And Returns The Last Item.\n",
    "# Also Modifies The List In-Place.\n",
    "\n",
    "\n",
    "my_list = ['a', 'b', 'c']\n",
    "item = my_list.pop(1)\n",
    "print(item)      \n",
    "print(my_list)   "
   ]
  },
  {
   "cell_type": "code",
   "execution_count": null,
   "id": "2bd56686-5a68-4eb2-ad31-cf6e8d00a24d",
   "metadata": {},
   "outputs": [],
   "source": []
  },
  {
   "cell_type": "markdown",
   "id": "cd036d64-c0fa-4065-b265-81834ec616de",
   "metadata": {},
   "source": [
    "##### Que 12). Describe How List Values And String Values Are Identical."
   ]
  },
  {
   "cell_type": "code",
   "execution_count": 67,
   "id": "51342c3a-591a-4181-bab0-af6448387a3a",
   "metadata": {},
   "outputs": [],
   "source": [
    "# Answer:-\n",
    "\n",
    "# List Values And String Values Share Several Similarities Because Both Are Sequences — Meaning They Store Ordered Collections Of Items. \n",
    "# While They Store Different Data Types (Lists Can Hold Any Type, Strings Only Hold Characters), They Behave Similarly In Many Operations.\n",
    "\n",
    "# Both Lists And Strings:-\n",
    "\n",
    "# Are Ordered Collections\n",
    "# Support Indexing And Slicing\n",
    "# Work With Loops, Len(), In Operator\n",
    "# Support Concatenation And Repetition\n",
    "\n",
    "# The Main Difference Is That:-\n",
    "\n",
    "# Lists Can Hold Any Data Type (E.g., Integers, Strings, Objects)\n",
    "# Strings Hold Only Characters"
   ]
  },
  {
   "cell_type": "code",
   "execution_count": null,
   "id": "4d39bb62-322e-431c-a677-0605808974c0",
   "metadata": {},
   "outputs": [],
   "source": []
  },
  {
   "cell_type": "code",
   "execution_count": null,
   "id": "fb63987d-dcfb-408b-b3e0-4a72611e2221",
   "metadata": {},
   "outputs": [],
   "source": []
  },
  {
   "cell_type": "markdown",
   "id": "c72fe4cf-c29b-4f13-a1e2-9e3b0d8e5e3f",
   "metadata": {},
   "source": [
    "##### Que 13). What's The Difference Between Tuples And Lists?"
   ]
  },
  {
   "cell_type": "code",
   "execution_count": 68,
   "id": "a00ef7a2-acb1-467b-9f99-b90e54602637",
   "metadata": {},
   "outputs": [],
   "source": [
    "# Answer:-\n",
    "\n",
    "# Final Summary:-\n",
    "# Lists Are Best Used When The Data Is Expected To Change.\n",
    "\n",
    "# Tuples Are Ideal When The Data Should Be Constant And Protected From Modification.\n",
    "\n",
    "# In Short:-\n",
    "# Lists = Mutable And Dynamic\n",
    "# Tuples = Immutable And Fixed\n",
    "\n",
    "# Key Differences Between Tuples And Lists:-\n",
    "# Feature\t                 List ([])\t                      Tuple (())\n",
    "# Mutability\t        Mutable (Can Be Changed)\t          Immutable (Cannot Be Changed)\n",
    "# Syntax\t            Defined Using Square Brackets ([])\t  Defined Using Parentheses (())\n",
    "# Performance\t        Slightly Slower (Due To Mutability)   Faster (Due To Immutability)\n",
    "# Use Cases\t            Suitable For Dynamic Data\t          Suitable For Fixed Data\n",
    "# Methods Supported\t    Many (E.g., Append(), Remove())\t      Fewer (E.g., Count(), Index())\n",
    "# Can Be Used As \t    No (Lists Are Unhashable)\t          Yes (Tuples Are Hashable If Elements Are Hashable)\n",
    "# Keys In A Dictionary?"
   ]
  },
  {
   "cell_type": "code",
   "execution_count": null,
   "id": "e96e7677-e379-4987-ab65-eb489516caca",
   "metadata": {},
   "outputs": [],
   "source": []
  },
  {
   "cell_type": "code",
   "execution_count": null,
   "id": "59987396-f3da-46df-8de0-0dfc4506c821",
   "metadata": {},
   "outputs": [],
   "source": []
  },
  {
   "cell_type": "markdown",
   "id": "1e40f77a-a860-4da0-909b-d2f8a5f1c384",
   "metadata": {},
   "source": [
    "##### Que 14). How Do You Type A Tuple Value That Only Contains The Integer 42?"
   ]
  },
  {
   "cell_type": "code",
   "execution_count": 69,
   "id": "cf4911ae-a10e-4e44-b501-25dd9004f4bb",
   "metadata": {},
   "outputs": [
    {
     "name": "stdout",
     "output_type": "stream",
     "text": [
      "<class 'tuple'>\n",
      "<class 'int'>\n"
     ]
    }
   ],
   "source": [
    "# Answer:- To Create A Tuple Containing A Single Value, You Must Include A Trailing Comma, Even If There Is Only One Item. \n",
    "#          Without The Comma, Python Will Treat It As A Regular Integer Expression, Not A Tuple.\n",
    "\n",
    "single_value_tuple = (42,)\n",
    "not_a_tuple = (42)  # This Is Just An Integer, Not A Tuple\n",
    "\n",
    "print(type((42,)))  # Output: <class 'tuple'>\n",
    "print(type((42)))   # Output: <class 'int'>"
   ]
  },
  {
   "cell_type": "code",
   "execution_count": null,
   "id": "644c4c4a-b1e9-4e1e-a9ad-4c786bc863ad",
   "metadata": {},
   "outputs": [],
   "source": []
  },
  {
   "cell_type": "code",
   "execution_count": null,
   "id": "ae034943-1850-4462-bbd4-e7d3e1f343e4",
   "metadata": {},
   "outputs": [],
   "source": []
  },
  {
   "cell_type": "markdown",
   "id": "5fd7f758-002f-4894-a9c7-46322e1259c1",
   "metadata": {},
   "source": [
    "##### Que 15). How Do You Get A List Value's Tuple Form? How Do You Get A Tuple Value's List Form?"
   ]
  },
  {
   "cell_type": "code",
   "execution_count": 70,
   "id": "075dd113-a39d-438c-9abd-94882b3c38d4",
   "metadata": {},
   "outputs": [
    {
     "name": "stdout",
     "output_type": "stream",
     "text": [
      "(1, 2, 3)\n"
     ]
    }
   ],
   "source": [
    "# Answer:-\n",
    "\n",
    "# 1). Convert A List To A Tuple\n",
    "# Use The Tuple() Function To Convert A List Into A Tuple.\n",
    "\n",
    "# Example:-\n",
    "\n",
    "my_list = [1, 2, 3]\n",
    "tuple_form = tuple(my_list)\n",
    "print(tuple_form)"
   ]
  },
  {
   "cell_type": "code",
   "execution_count": 71,
   "id": "e7dd5cf9-f341-4729-840e-e99aa34b9965",
   "metadata": {},
   "outputs": [
    {
     "name": "stdout",
     "output_type": "stream",
     "text": [
      "[4, 5, 6]\n"
     ]
    }
   ],
   "source": [
    "# 2). Convert A Tuple To A List\n",
    "# Use The List() Function To Convert A Tuple Into A List.\n",
    "\n",
    "# Example:-\n",
    "\n",
    "my_tuple = (4, 5, 6)\n",
    "list_form = list(my_tuple)\n",
    "print(list_form)   "
   ]
  },
  {
   "cell_type": "code",
   "execution_count": null,
   "id": "a872207c-d6a6-4e90-ae71-0dd28f37587b",
   "metadata": {},
   "outputs": [],
   "source": []
  },
  {
   "cell_type": "code",
   "execution_count": null,
   "id": "f2cde356-d42a-4088-99d5-2b72d05a7958",
   "metadata": {},
   "outputs": [],
   "source": []
  },
  {
   "cell_type": "markdown",
   "id": "cd561c95-0ce8-45b1-9cb9-426c8b3ef364",
   "metadata": {},
   "source": [
    "##### Que 16). Variables That \"Contain\" List Values Are Not Necessarily Lists Themselves. Instead, What Do They Contain?"
   ]
  },
  {
   "cell_type": "code",
   "execution_count": 72,
   "id": "a5e73657-4070-4057-8c80-4d004732e345",
   "metadata": {},
   "outputs": [
    {
     "name": "stdout",
     "output_type": "stream",
     "text": [
      "[1, 2, 3, 4]\n"
     ]
    }
   ],
   "source": [
    "# Answer:- Variables That Appear To Contain List Values Do Not Actually Hold The List Data Directly. \n",
    "#          Instead, They Contain A Reference (Or Pointer) To The List Object Stored In Memory.\n",
    "#          This Means That The Variable Is Pointing To The Memory Location Where The List Is Stored. \n",
    "#          So, If You Assign One List Variable To Another, Both Variables Refer To The Same List Object In Memory. \n",
    "#          Changes Made Through One Variable Will Reflect In The Other Because They Are Both Referencing The Same Underlying List.\n",
    "\n",
    "\n",
    "a = [1, 2, 3]\n",
    "b = a\n",
    "b.append(4)\n",
    "print(a) \n",
    "\n",
    "# Variables That \"Contain\" List Values Actually Store References To The List Objects, Not The List Data Itself."
   ]
  },
  {
   "cell_type": "code",
   "execution_count": null,
   "id": "ad2e69e2-cce5-4846-9784-800ea0c57127",
   "metadata": {},
   "outputs": [],
   "source": []
  },
  {
   "cell_type": "code",
   "execution_count": null,
   "id": "896f5f36-dac6-4bd0-a2ce-3dcf6f852a97",
   "metadata": {},
   "outputs": [],
   "source": []
  },
  {
   "cell_type": "markdown",
   "id": "6bcd4299-8dad-48c1-9d6c-e46d50ecc31c",
   "metadata": {},
   "source": [
    "##### Que 17). How Do You Distinguish Between copy.copy() And copy.deepcopy()?"
   ]
  },
  {
   "cell_type": "code",
   "execution_count": 73,
   "id": "9751b408-5f60-4345-856d-1dd7bc7acd7d",
   "metadata": {},
   "outputs": [
    {
     "name": "stdout",
     "output_type": "stream",
     "text": [
      "[[1, 2, 5], [3, 4]]\n",
      "[[1, 2], [3, 4]]\n",
      "[[1, 2, 5], [3, 4]]\n",
      "[[1, 2], [3, 4, 6]]\n"
     ]
    }
   ],
   "source": [
    "# Answer:- \n",
    "\n",
    "# Both Copy.copy() And Copy.deepcopy() Are Used To Create Copies Of Objects, But They Differ In How Deeply They Copy Nested Objects:\n",
    "\n",
    "# Copy.copy() — Shallow Copy:-\n",
    "# Creates A New Object, But The Contents (Elements) Inside The Object Are Not Copied Recursively.\n",
    "# Instead, It Copies The References Of The Nested Objects.\n",
    "# Changes To Nested Mutable Objects In The Copy Will Affect The Original, Since Both Share The Same Nested Objects.\n",
    "\n",
    "# Copy.deepcopy() — Deep Copy:-\n",
    "\n",
    "# Creates A New Object And Recursively Copies All Nested Objects, Producing A Fully Independent Clone.\n",
    "# Changes To Any Part Of The Copied Object (Including Nested Objects) Do Not Affect The Original.\n",
    "\n",
    "# Example:-\n",
    "\n",
    "import copy\n",
    "\n",
    "original = [[1, 2], [3, 4]]\n",
    "\n",
    "shallow_copy = copy.copy(original)\n",
    "deep_copy = copy.deepcopy(original)\n",
    "\n",
    "shallow_copy[0].append(5)\n",
    "print(original)       # Output: [[1, 2, 5], [3, 4]]  -> affected by shallow copy\n",
    "print(deep_copy)      # Output: [[1, 2], [3, 4]]     -> remains unchanged\n",
    "\n",
    "deep_copy[1].append(6)\n",
    "print(original)       # Output: [[1, 2, 5], [3, 4]]  -> unaffected by deep copy\n",
    "print(deep_copy)      # Output: [[1, 2], [3, 4, 6]]"
   ]
  },
  {
   "cell_type": "code",
   "execution_count": 74,
   "id": "61d35592-b321-453d-96e6-ae21a1d703d2",
   "metadata": {},
   "outputs": [],
   "source": [
    "# Final Summary:-\n",
    "\n",
    "# Function\t        Type Of Copy\tEffect On Nested Objects\n",
    "# Copy.copy()\t    Shallow Copy\tCopies References To Nested Objects (Shared)\n",
    "# Copy.deepcopy()\tDeep Copy\t    Recursively Copies All Nested Objects (Independent)"
   ]
  },
  {
   "cell_type": "code",
   "execution_count": null,
   "id": "af657aa8-790d-49ed-9a0b-ed69e3314682",
   "metadata": {},
   "outputs": [],
   "source": []
  },
  {
   "cell_type": "code",
   "execution_count": null,
   "id": "cb25ec71-3e17-4609-a858-e3ab7684aeef",
   "metadata": {},
   "outputs": [],
   "source": []
  },
  {
   "cell_type": "markdown",
   "id": "1286f3aa-9ec9-4ee8-84a9-63119a9ac0de",
   "metadata": {},
   "source": [
    "### ASSIGNMENTS - 5"
   ]
  },
  {
   "cell_type": "code",
   "execution_count": null,
   "id": "4c861d9d-8941-4482-b859-65cbea8d7792",
   "metadata": {},
   "outputs": [],
   "source": []
  },
  {
   "cell_type": "code",
   "execution_count": null,
   "id": "1ad10882-c1fb-4466-bfdc-e99e25618c62",
   "metadata": {},
   "outputs": [],
   "source": []
  },
  {
   "cell_type": "markdown",
   "id": "6556d084-8f22-47a2-928c-7bf98f43c2b3",
   "metadata": {},
   "source": [
    "##### Que 1). What Does An Empty Dictionary's Code Look Like?"
   ]
  },
  {
   "cell_type": "code",
   "execution_count": 75,
   "id": "5e6e9cbe-5000-498c-8100-0e309d9a9056",
   "metadata": {},
   "outputs": [
    {
     "data": {
      "text/plain": [
       "{}"
      ]
     },
     "execution_count": 75,
     "metadata": {},
     "output_type": "execute_result"
    }
   ],
   "source": [
    "#Answer:-\n",
    "\n",
    "Empty_Dict = {}\n",
    "Empty_Dict"
   ]
  },
  {
   "cell_type": "code",
   "execution_count": 76,
   "id": "d203dbdd-2c11-4a7b-b3c0-0aa5fe571de8",
   "metadata": {},
   "outputs": [
    {
     "data": {
      "text/plain": [
       "{}"
      ]
     },
     "execution_count": 76,
     "metadata": {},
     "output_type": "execute_result"
    }
   ],
   "source": [
    "# Or Another Way:-\n",
    "\n",
    "Empty_Dict = dict()\n",
    "Empty_Dict"
   ]
  },
  {
   "cell_type": "code",
   "execution_count": null,
   "id": "7e97fd40-e66e-445f-bbf2-ed932e2fbad3",
   "metadata": {},
   "outputs": [],
   "source": []
  },
  {
   "cell_type": "code",
   "execution_count": null,
   "id": "b89642db-758c-49c1-9561-fd8a92d59553",
   "metadata": {},
   "outputs": [],
   "source": []
  },
  {
   "cell_type": "markdown",
   "id": "cb1a70c1-a61a-4fa6-9e20-cdd45810350b",
   "metadata": {},
   "source": [
    "##### Que 2). What Is The Value Of A Dictionary Value With The Key 'foo' And The Value 42?"
   ]
  },
  {
   "cell_type": "code",
   "execution_count": 77,
   "id": "752cc640-161a-4bcb-b20a-f1cce80b36ce",
   "metadata": {},
   "outputs": [
    {
     "data": {
      "text/plain": [
       "42"
      ]
     },
     "execution_count": 77,
     "metadata": {},
     "output_type": "execute_result"
    }
   ],
   "source": [
    "# Answer:-\n",
    "\n",
    "My_Dict = {'Foo': 42}\n",
    "My_Dict['Foo']"
   ]
  },
  {
   "cell_type": "code",
   "execution_count": null,
   "id": "156a6932-1584-40b4-b07d-15d58f83e58f",
   "metadata": {},
   "outputs": [],
   "source": []
  },
  {
   "cell_type": "code",
   "execution_count": null,
   "id": "d819c4e0-63ee-4257-957f-02fc35ea201e",
   "metadata": {},
   "outputs": [],
   "source": []
  },
  {
   "cell_type": "markdown",
   "id": "b9f87eed-c431-4fbf-8a8e-c8edaf297e26",
   "metadata": {},
   "source": [
    "##### Que 3). What Is The Most Significant Distinction Between A Dictionary And A List?"
   ]
  },
  {
   "cell_type": "code",
   "execution_count": 78,
   "id": "a7eceea1-2b6f-4674-b643-1efe7790e3a3",
   "metadata": {},
   "outputs": [],
   "source": [
    "# Answer:- \n",
    "\n",
    "# -> List Is An Ordered Collection Of Items Accessed By Index.\n",
    "# -> Dictionary Is An Unordered Collection Of Key-Value Pairs, Where Each Value Is Accessed Using A Key, Not A Numeric Index.\n",
    "\n",
    "#   Key Difference:-\n",
    "# -> Lists Are Indexed By Position (Integers), While Dictionaries Are Indexed By Keys (Which Can Be Strings, Numbers, Etc.)."
   ]
  },
  {
   "cell_type": "code",
   "execution_count": null,
   "id": "118d7971-1d1e-4198-b9a2-e672d8340b78",
   "metadata": {},
   "outputs": [],
   "source": []
  },
  {
   "cell_type": "code",
   "execution_count": null,
   "id": "0ef09930-ce05-4eea-a5db-df701a990fd4",
   "metadata": {},
   "outputs": [],
   "source": []
  },
  {
   "cell_type": "markdown",
   "id": "e25e156a-b622-486f-bbbf-3fab6351fdf9",
   "metadata": {},
   "source": [
    "##### Que 4). What Happens If You Try To Access Spam['foo'] If Spam Is {'bar': 100}?"
   ]
  },
  {
   "cell_type": "code",
   "execution_count": 79,
   "id": "537dae01-198e-4bc6-9a12-119925bd296a",
   "metadata": {},
   "outputs": [
    {
     "ename": "KeyError",
     "evalue": "'Foo'",
     "output_type": "error",
     "traceback": [
      "\u001b[1;31m---------------------------------------------------------------------------\u001b[0m",
      "\u001b[1;31mKeyError\u001b[0m                                  Traceback (most recent call last)",
      "Cell \u001b[1;32mIn[79], line 4\u001b[0m\n\u001b[0;32m      1\u001b[0m \u001b[38;5;66;03m# Answer:-\u001b[39;00m\n\u001b[0;32m      3\u001b[0m Spam \u001b[38;5;241m=\u001b[39m {\u001b[38;5;124m'\u001b[39m\u001b[38;5;124mBar\u001b[39m\u001b[38;5;124m'\u001b[39m : \u001b[38;5;241m100\u001b[39m}\n\u001b[1;32m----> 4\u001b[0m Spam[\u001b[38;5;124m'\u001b[39m\u001b[38;5;124mFoo\u001b[39m\u001b[38;5;124m'\u001b[39m]\n",
      "\u001b[1;31mKeyError\u001b[0m: 'Foo'"
     ]
    }
   ],
   "source": [
    "# Answer:-\n",
    "\n",
    "Spam = {'Bar' : 100}\n",
    "Spam['Foo']  # Raises KeyError: 'foo'"
   ]
  },
  {
   "cell_type": "code",
   "execution_count": null,
   "id": "32149b84-2215-4a72-aa3a-0fe289ed2b2e",
   "metadata": {},
   "outputs": [],
   "source": []
  },
  {
   "cell_type": "code",
   "execution_count": null,
   "id": "f8e4c043-a157-4080-b5d6-05911d33367f",
   "metadata": {},
   "outputs": [],
   "source": []
  },
  {
   "cell_type": "markdown",
   "id": "80af9242-7927-40e7-a55d-9afb7c0e5dcb",
   "metadata": {},
   "source": [
    "##### Que 5). If A Dictionary Is Stored In Spam, What Is The Difference Between The Expressions 'cat' In Spam And 'cat' In Spam.keys()?"
   ]
  },
  {
   "cell_type": "code",
   "execution_count": 80,
   "id": "579687c6-b162-4085-a3c7-8cc2e2f5a673",
   "metadata": {},
   "outputs": [
    {
     "data": {
      "text/plain": [
       "True"
      ]
     },
     "execution_count": 80,
     "metadata": {},
     "output_type": "execute_result"
    }
   ],
   "source": [
    "# Answer:-\n",
    "\n",
    "Spam = {'Cat':'Meow', 'Dog':'Bark'}\n",
    "'Cat' in Spam"
   ]
  },
  {
   "cell_type": "code",
   "execution_count": 81,
   "id": "8173c507-ed4b-4e4f-b392-473f16eaf8f4",
   "metadata": {},
   "outputs": [
    {
     "data": {
      "text/plain": [
       "True"
      ]
     },
     "execution_count": 81,
     "metadata": {},
     "output_type": "execute_result"
    }
   ],
   "source": [
    "# Or Another Way:-\n",
    "\n",
    "'Cat' in Spam.keys()"
   ]
  },
  {
   "cell_type": "code",
   "execution_count": null,
   "id": "e0c0b260-1377-4d2a-85ab-6084a85ff590",
   "metadata": {},
   "outputs": [],
   "source": []
  },
  {
   "cell_type": "code",
   "execution_count": null,
   "id": "71b8db0c-2f95-4c5e-a2df-4de03d0dba2b",
   "metadata": {},
   "outputs": [],
   "source": []
  },
  {
   "cell_type": "markdown",
   "id": "ef4e24d1-fc1e-4d8a-b846-ae3c486f7b8d",
   "metadata": {},
   "source": [
    "##### Que 6). If A Dictionary Is Stored In Spam, What Is The Difference Between The Expressions 'cat' In Spam And 'cat' In Spam.values()?"
   ]
  },
  {
   "cell_type": "code",
   "execution_count": 82,
   "id": "8ebc0a80-0e35-4596-b1f8-6702f626c907",
   "metadata": {},
   "outputs": [
    {
     "data": {
      "text/plain": [
       "False"
      ]
     },
     "execution_count": 82,
     "metadata": {},
     "output_type": "execute_result"
    }
   ],
   "source": [
    "# Answer:-\n",
    "\n",
    "Spam = {'Animal' : 'Cat'}\n",
    "\n",
    "'Cat' in Spam          #  Checks If 'cat' Is A Key In The Dictionary."
   ]
  },
  {
   "cell_type": "code",
   "execution_count": 83,
   "id": "3b8ec877-7a41-49d8-974f-00a8daa59bc1",
   "metadata": {},
   "outputs": [
    {
     "data": {
      "text/plain": [
       "True"
      ]
     },
     "execution_count": 83,
     "metadata": {},
     "output_type": "execute_result"
    }
   ],
   "source": [
    "'Cat' in Spam.values() # Checks If 'cat' Is A Value In The Dictionary."
   ]
  },
  {
   "cell_type": "code",
   "execution_count": null,
   "id": "01c278cf-6fa0-4333-9026-a6556ec17baf",
   "metadata": {},
   "outputs": [],
   "source": []
  },
  {
   "cell_type": "code",
   "execution_count": null,
   "id": "db22e80c-2d18-42f8-8cbf-6fc99ea26d8e",
   "metadata": {},
   "outputs": [],
   "source": []
  },
  {
   "cell_type": "markdown",
   "id": "30febb48-17f5-4bc7-9558-f978737863d2",
   "metadata": {},
   "source": [
    "##### Que 7). What Is A Shortcut For The Following Code?\n",
    "##### If 'color' Not In Spam:\n",
    "##### Spam['color'] = 'black'"
   ]
  },
  {
   "cell_type": "code",
   "execution_count": 84,
   "id": "c9657505-a8ad-45ed-8409-8b81182c01d7",
   "metadata": {},
   "outputs": [],
   "source": [
    "# Answer:-\n",
    "\n",
    "if 'color' not in Spam:\n",
    "    Spam['color'] = 'black'"
   ]
  },
  {
   "cell_type": "code",
   "execution_count": 85,
   "id": "48ce4f75-e351-4996-931d-e3cf397642f1",
   "metadata": {},
   "outputs": [
    {
     "data": {
      "text/plain": [
       "'Black'"
      ]
     },
     "execution_count": 85,
     "metadata": {},
     "output_type": "execute_result"
    }
   ],
   "source": [
    "# Or Another Way:-\n",
    "\n",
    "Spam.setdefault('Color','Black')"
   ]
  },
  {
   "cell_type": "code",
   "execution_count": null,
   "id": "e13dd70c-57ba-4a13-852f-6f5f8c87afc2",
   "metadata": {},
   "outputs": [],
   "source": []
  },
  {
   "cell_type": "code",
   "execution_count": null,
   "id": "4c9f1b9e-a7a4-4c8a-baf2-98874e6f19c9",
   "metadata": {},
   "outputs": [],
   "source": []
  },
  {
   "cell_type": "markdown",
   "id": "3b19abf1-9ac1-458d-98c2-ee5290c2f391",
   "metadata": {},
   "source": [
    "##### Que 8). How Do You \"Pretty Print\" Dictionary Values Using Which Module And Function?"
   ]
  },
  {
   "cell_type": "code",
   "execution_count": 86,
   "id": "e8c12ea4-a3ae-4afb-ba7c-81b0676363f1",
   "metadata": {},
   "outputs": [
    {
     "name": "stdout",
     "output_type": "stream",
     "text": [
      "{'Age': 30, 'Hobbies': ['Reading', 'Coding', 'Travelling'], 'Name': 'John'}\n"
     ]
    }
   ],
   "source": [
    "# Answer:- Pprint Formats The Dictionary In A Way That Is Easier To Read, Especially For Nested Or Large Structures.\n",
    "\n",
    "import pprint\n",
    "\n",
    "My_Dict = {'Name' : 'John', 'Age':30, 'Hobbies':['Reading', 'Coding', 'Travelling']}\n",
    "pprint.pprint(My_Dict)"
   ]
  },
  {
   "cell_type": "code",
   "execution_count": null,
   "id": "c4cc950e-3818-41d4-9ede-6f55e0553fce",
   "metadata": {},
   "outputs": [],
   "source": []
  },
  {
   "cell_type": "code",
   "execution_count": null,
   "id": "8c6929d4-5945-4460-9b13-294389b2929a",
   "metadata": {},
   "outputs": [],
   "source": []
  },
  {
   "cell_type": "markdown",
   "id": "005aa387-352c-4b90-a4f8-c90b1dfc89bf",
   "metadata": {},
   "source": [
    "### ASSIGNMENTS - 6"
   ]
  },
  {
   "cell_type": "code",
   "execution_count": null,
   "id": "28040fe5-3585-4803-8186-1701d1eea2ff",
   "metadata": {},
   "outputs": [],
   "source": []
  },
  {
   "cell_type": "code",
   "execution_count": null,
   "id": "1e60088a-bb96-4e04-aa59-e116ec2e819a",
   "metadata": {},
   "outputs": [],
   "source": []
  },
  {
   "cell_type": "markdown",
   "id": "89aeab72-1b2d-49b3-8d09-2da489a7cd9e",
   "metadata": {},
   "source": [
    "##### Que 1). What Are Escape Characters, And How Do You Use Them?"
   ]
  },
  {
   "cell_type": "code",
   "execution_count": 87,
   "id": "43bb5b01-2e37-4837-9ca5-3892692fbe3a",
   "metadata": {},
   "outputs": [
    {
     "name": "stdout",
     "output_type": "stream",
     "text": [
      "This is line 1\n",
      "This is line 2\n"
     ]
    }
   ],
   "source": [
    "# Answer:-\n",
    "\n",
    "# An Escape Character Allows You To Insert Special Characters Into Strings That Are Otherwise Difficult Or Impossible To Type Directly.\n",
    "# The Backslash (\\) Is Used As The Escape Character.\n",
    "# It Signals That The Character Following It Has A Special Meaning.\n",
    "\n",
    "NewLine = \"This is line 1\\nThis is line 2\"\n",
    "Quote = \"He said, \\\"Hello!\\\"\"\n",
    "\n",
    "print(NewLine)"
   ]
  },
  {
   "cell_type": "code",
   "execution_count": 88,
   "id": "1db73158-b2ea-4066-bc1c-d80ab8a5d7dc",
   "metadata": {},
   "outputs": [
    {
     "name": "stdout",
     "output_type": "stream",
     "text": [
      "He said, \"Hello!\"\n"
     ]
    }
   ],
   "source": [
    "print(Quote)"
   ]
  },
  {
   "cell_type": "code",
   "execution_count": null,
   "id": "f7ac1ef1-0f2e-44e5-ad0a-8f255e036b50",
   "metadata": {},
   "outputs": [],
   "source": []
  },
  {
   "cell_type": "code",
   "execution_count": null,
   "id": "fc6dc7fb-dbbc-47db-b9c8-8dc7c3fcf74e",
   "metadata": {},
   "outputs": [],
   "source": []
  },
  {
   "cell_type": "markdown",
   "id": "11ae709f-62a2-4974-b170-37d72878e052",
   "metadata": {},
   "source": [
    "##### Que 2). What Do The Escape Characters N And T Stand For?"
   ]
  },
  {
   "cell_type": "code",
   "execution_count": 89,
   "id": "80b9616c-4046-4a09-986f-c68e74d0d2b0",
   "metadata": {},
   "outputs": [
    {
     "name": "stdout",
     "output_type": "stream",
     "text": [
      "Name:\tJohn\n",
      "Line1\n",
      "Line2\n"
     ]
    }
   ],
   "source": [
    "# Answer:- \n",
    "\n",
    "# \\n → Newline (Moves The Cursor To A New Line)\n",
    "# \\t → Tab (Adds A Horizontal Tab Space)\n",
    "\n",
    "print(\"Name:\\tJohn\")\n",
    "print(\"Line1\\nLine2\")"
   ]
  },
  {
   "cell_type": "code",
   "execution_count": null,
   "id": "031b906b-3347-4d58-9949-7a2055398952",
   "metadata": {},
   "outputs": [],
   "source": []
  },
  {
   "cell_type": "code",
   "execution_count": null,
   "id": "cc9ec022-c3be-48c2-8df5-46ee88a641d6",
   "metadata": {},
   "outputs": [],
   "source": []
  },
  {
   "cell_type": "markdown",
   "id": "0d43bb47-8c33-41f0-be5e-852bd5bdb487",
   "metadata": {},
   "source": [
    "##### Que 3). What Is The Way To Include Backslash Characters In A String?"
   ]
  },
  {
   "cell_type": "code",
   "execution_count": 90,
   "id": "1dd9f250-0cab-4b32-bddb-fd453c4dd586",
   "metadata": {},
   "outputs": [
    {
     "name": "stdout",
     "output_type": "stream",
     "text": [
      "C:\\Users\\Admin\\Documents\n"
     ]
    }
   ],
   "source": [
    "# Answer:- \n",
    "\n",
    "path = \"C:\\\\Users\\\\Admin\\\\Documents\"\n",
    "\n",
    "print(path)"
   ]
  },
  {
   "cell_type": "code",
   "execution_count": 91,
   "id": "bf7f44f9-7007-450e-815e-662ac9db9fec",
   "metadata": {},
   "outputs": [
    {
     "name": "stdout",
     "output_type": "stream",
     "text": [
      "C:\\Users\\Admin\\Documents\n"
     ]
    }
   ],
   "source": [
    "path = r\"C:\\Users\\Admin\\Documents\"\n",
    "\n",
    "print(path)"
   ]
  },
  {
   "cell_type": "code",
   "execution_count": null,
   "id": "e6873943-ae9d-49d5-8428-6ecd5a69fb34",
   "metadata": {},
   "outputs": [],
   "source": []
  },
  {
   "cell_type": "code",
   "execution_count": null,
   "id": "25282c9c-3915-4b69-ad10-851b6fc53b7f",
   "metadata": {},
   "outputs": [],
   "source": []
  },
  {
   "cell_type": "markdown",
   "id": "d310e3bc-e2d4-4a0b-94e1-50c68ba92eac",
   "metadata": {},
   "source": [
    "##### Que 4). The String \"Howl's Moving Castle\" Is A Correct Value. Why Isn't The Single Quote Character In The Word Howl's Not Escaped A Problem?"
   ]
  },
  {
   "cell_type": "code",
   "execution_count": 92,
   "id": "1d4b03f5-b30e-4dc7-8564-e8cac211a9c0",
   "metadata": {},
   "outputs": [
    {
     "data": {
      "text/plain": [
       "\"Howl's Moving Castle\""
      ]
     },
     "execution_count": 92,
     "metadata": {},
     "output_type": "execute_result"
    }
   ],
   "source": [
    "# Answer:-\n",
    "\n",
    "# Because The String Is Enclosed In Double Quotes (\" \"), The Single Quote ' Inside The String Doesn't Need To Be Escaped.\n",
    "\n",
    "\"Howl's Moving Castle\"  # Valid\n",
    "'Howl\\'s Moving Castle' # Also Valid Using Escape"
   ]
  },
  {
   "cell_type": "code",
   "execution_count": null,
   "id": "238875c7-a55d-4db8-b01d-7985bcdf2c69",
   "metadata": {},
   "outputs": [],
   "source": []
  },
  {
   "cell_type": "code",
   "execution_count": null,
   "id": "be63abad-a179-4178-a034-41dd92e283c0",
   "metadata": {},
   "outputs": [],
   "source": []
  },
  {
   "cell_type": "markdown",
   "id": "8118894b-49e1-4ff3-bdbe-d55cce5a950b",
   "metadata": {},
   "source": [
    "##### Que 5). How Do You Write A String Of Newlines If You Don't Want To Use The N Character?"
   ]
  },
  {
   "cell_type": "code",
   "execution_count": 93,
   "id": "402094eb-efd9-407a-b498-358199d7d0ee",
   "metadata": {},
   "outputs": [],
   "source": [
    "# Answer:- Use Triple Quotes (''' Or \"\"\") To Create Multi-Line Strings:\n",
    "\n",
    "\n",
    "multiline_string = \"\"\"Line 1\n",
    "Line 2 \n",
    "Line 3\"\"\""
   ]
  },
  {
   "cell_type": "code",
   "execution_count": null,
   "id": "c90e4e45-a5e4-4e54-855f-4af12d43e1b3",
   "metadata": {},
   "outputs": [],
   "source": []
  },
  {
   "cell_type": "code",
   "execution_count": null,
   "id": "f1c7e491-f7cd-48e6-ba75-a60e5798cd0d",
   "metadata": {},
   "outputs": [],
   "source": []
  },
  {
   "cell_type": "markdown",
   "id": "3f660c54-32d1-48e8-82c0-b1312194642d",
   "metadata": {},
   "source": [
    "##### Que 6). What Are The Values Of The Given Expressions?\n",
    "##### 'hello, World!'[1]\n",
    "##### 'hello, World!'[0:5]\n",
    "##### 'hello, World!'[:5]\n",
    "##### 'hello, World!'[3:]"
   ]
  },
  {
   "cell_type": "code",
   "execution_count": 94,
   "id": "72e4c308-e36d-4fda-8646-ac8aaf83b00b",
   "metadata": {},
   "outputs": [
    {
     "data": {
      "text/plain": [
       "'lo, world!'"
      ]
     },
     "execution_count": 94,
     "metadata": {},
     "output_type": "execute_result"
    }
   ],
   "source": [
    "# Answer:-\n",
    "\n",
    "'Hello, world!'[1]       # 'e'\n",
    "'Hello, world!'[0:5]     # 'Hello'\n",
    "'Hello, world!'[:5]      # 'Hello'\n",
    "'Hello, world!'[3:]      # 'lo, world!'"
   ]
  },
  {
   "cell_type": "code",
   "execution_count": null,
   "id": "5188f927-9a06-4aaf-a430-852279b15380",
   "metadata": {},
   "outputs": [],
   "source": []
  },
  {
   "cell_type": "code",
   "execution_count": null,
   "id": "2c897a48-6462-4496-a6f0-3b23cc2c5573",
   "metadata": {},
   "outputs": [],
   "source": []
  },
  {
   "cell_type": "markdown",
   "id": "9bc43d74-1133-4ca1-ab2f-ca3c2a5bdc8e",
   "metadata": {},
   "source": [
    "##### Que 7). What Are The Values Of The Following Expressions?\n",
    "##### 'hello'.upper()\n",
    "##### 'hello'.upper().isupper()\n",
    "##### 'hello'.upper().lower()"
   ]
  },
  {
   "cell_type": "code",
   "execution_count": 95,
   "id": "836da3c8-9b89-4be9-b24b-a139236a0e3a",
   "metadata": {},
   "outputs": [
    {
     "data": {
      "text/plain": [
       "'hello'"
      ]
     },
     "execution_count": 95,
     "metadata": {},
     "output_type": "execute_result"
    }
   ],
   "source": [
    "# Answer:- \n",
    "\n",
    "'Hello'.upper()               # 'HELLO'\n",
    "'Hello'.upper().isupper()     # True\n",
    "'Hello'.upper().lower()       # 'hello'"
   ]
  },
  {
   "cell_type": "code",
   "execution_count": null,
   "id": "8b6a1b8f-632c-451c-94e2-b1b5c915a946",
   "metadata": {},
   "outputs": [],
   "source": []
  },
  {
   "cell_type": "code",
   "execution_count": null,
   "id": "12d17f75-2fc3-438b-9017-fb658d0dafc9",
   "metadata": {},
   "outputs": [],
   "source": []
  },
  {
   "cell_type": "markdown",
   "id": "03e98523-6cbf-424b-b87e-350abf7080c2",
   "metadata": {},
   "source": [
    "##### Que 8). What Are The Values Of The Following Expressions?\n",
    "##### 'remember, Remember, The Fifth Of July.'.split()\n",
    "##### '-'.join('there Can Only One.'.split())"
   ]
  },
  {
   "cell_type": "code",
   "execution_count": 96,
   "id": "4cafd43e-8ae0-4168-b745-7b36fb971540",
   "metadata": {},
   "outputs": [
    {
     "data": {
      "text/plain": [
       "['Remember,', 'remember,', 'the', 'fifth', 'of', 'July.']"
      ]
     },
     "execution_count": 96,
     "metadata": {},
     "output_type": "execute_result"
    }
   ],
   "source": [
    "# Answer:-\n",
    "\n",
    "# .split() Splits A String By Whitespace By Default.\n",
    "# '-'.join() Joins List Items With A Hyphen.\n",
    "\n",
    "'Remember, remember, the fifth of July.'.split()\n",
    "# ['Remember,', 'remember,', 'the', 'fifth', 'of', 'July.']"
   ]
  },
  {
   "cell_type": "code",
   "execution_count": 97,
   "id": "04bd8519-fd7d-4dca-b1c6-d388aac049fb",
   "metadata": {},
   "outputs": [
    {
     "data": {
      "text/plain": [
       "'There-can-only-one'"
      ]
     },
     "execution_count": 97,
     "metadata": {},
     "output_type": "execute_result"
    }
   ],
   "source": [
    "'-'.join('There can only one'.split())\n",
    "# 'There-can-only-one.'"
   ]
  },
  {
   "cell_type": "code",
   "execution_count": null,
   "id": "c14dd41c-9b40-4bca-a8ef-683f4d422efd",
   "metadata": {},
   "outputs": [],
   "source": []
  },
  {
   "cell_type": "code",
   "execution_count": null,
   "id": "578b9142-2c54-4440-a383-6d5d8b4e3408",
   "metadata": {},
   "outputs": [],
   "source": []
  },
  {
   "cell_type": "markdown",
   "id": "6c4c3e1f-53dd-4718-b018-135a77081d31",
   "metadata": {},
   "source": [
    "##### Que 9). What Are The Methods For Right-Justifying, Left-Justifying, And Centering A String?"
   ]
  },
  {
   "cell_type": "code",
   "execution_count": 98,
   "id": "0ad18592-f347-4ff6-a084-3ca06f00e944",
   "metadata": {},
   "outputs": [
    {
     "data": {
      "text/plain": [
       "'  hello   '"
      ]
     },
     "execution_count": 98,
     "metadata": {},
     "output_type": "execute_result"
    }
   ],
   "source": [
    "# Answer:-\n",
    "\n",
    "# Right-Justify: .rjust(Width)\n",
    "# Left-Justify: .ljust(Width)\n",
    "# Center: .center(Width)\n",
    "\n",
    "\"hello\".rjust(10)    # '     hello'\n",
    "\"hello\".ljust(10)    # 'hello     '\n",
    "\"hello\".center(10)   # '   hello   '"
   ]
  },
  {
   "cell_type": "code",
   "execution_count": null,
   "id": "7025e35b-a01a-4223-8af3-0f5f13b52772",
   "metadata": {},
   "outputs": [],
   "source": []
  },
  {
   "cell_type": "code",
   "execution_count": null,
   "id": "af367a1a-bfae-445e-ac0b-b78aa1e6e8d9",
   "metadata": {},
   "outputs": [],
   "source": []
  },
  {
   "cell_type": "markdown",
   "id": "91d97ae4-ed45-45dd-a453-e3add9bbb721",
   "metadata": {},
   "source": [
    "##### Que 10). What Is The Best Way To Remove Whitespace Characters From The Start Or End?"
   ]
  },
  {
   "cell_type": "code",
   "execution_count": null,
   "id": "ac10b035-6de3-447c-a806-f6d869ca167c",
   "metadata": {},
   "outputs": [],
   "source": [
    "# Answer:- \n",
    "\n",
    "# .strip() → removes both leading and trailing whitespace\n",
    "# .lstrip() → removes from the left only\n",
    "# .rstrip() → removes from the right only"
   ]
  },
  {
   "cell_type": "code",
   "execution_count": 99,
   "id": "57da6bc0-db78-429d-8a03-49efbc71495f",
   "metadata": {},
   "outputs": [
    {
     "data": {
      "text/plain": [
       "'  hello'"
      ]
     },
     "execution_count": 99,
     "metadata": {},
     "output_type": "execute_result"
    }
   ],
   "source": [
    "'  hello  '.strip()     # 'hello'\n",
    "'  hello  '.lstrip()    # 'hello  '\n",
    "'  hello  '.rstrip()    # '  hello'"
   ]
  },
  {
   "cell_type": "code",
   "execution_count": null,
   "id": "c9c9f3bf-ca7e-4ba3-85aa-35baa3fdd0f1",
   "metadata": {},
   "outputs": [],
   "source": []
  },
  {
   "cell_type": "code",
   "execution_count": null,
   "id": "ebf08083-4c7c-4276-a9c8-b254c7036189",
   "metadata": {},
   "outputs": [],
   "source": []
  },
  {
   "cell_type": "markdown",
   "id": "ad8ca6b9-d432-48c9-81f3-a8a6e697ffaa",
   "metadata": {},
   "source": [
    "### ASSIGNMENTS - 7"
   ]
  },
  {
   "cell_type": "code",
   "execution_count": null,
   "id": "70ee5d93-ca13-4f43-8c6a-fa6a5cb9011e",
   "metadata": {},
   "outputs": [],
   "source": []
  },
  {
   "cell_type": "code",
   "execution_count": null,
   "id": "4eb499db-0926-4750-abbc-0bf821c401cb",
   "metadata": {},
   "outputs": [],
   "source": []
  },
  {
   "cell_type": "markdown",
   "id": "47fc2084-87d8-4c0e-ae21-19adaf34b3bc",
   "metadata": {},
   "source": [
    "##### Que 1). What Is The Name Of The Feature Responsible For Generating Regex Objects?"
   ]
  },
  {
   "cell_type": "code",
   "execution_count": null,
   "id": "6ee09c60-37f2-4761-bb76-19b69a0f7afd",
   "metadata": {},
   "outputs": [],
   "source": [
    "# Answer:-\n",
    "\n",
    "# The Feature Responsible For Generating Regex Objects In Python Is The Re.compile() Function From The Re (Regular Expression) Module. \n",
    "# It Compiles A Regular Expression Pattern Into A Regex Object For Efficient Reuse."
   ]
  },
  {
   "cell_type": "code",
   "execution_count": null,
   "id": "9facbf8b-0534-4b2c-adc2-0639c2cf2894",
   "metadata": {},
   "outputs": [],
   "source": []
  },
  {
   "cell_type": "code",
   "execution_count": null,
   "id": "810d69a7-c682-4366-b5b1-a006eae6b472",
   "metadata": {},
   "outputs": [],
   "source": []
  },
  {
   "cell_type": "markdown",
   "id": "e27a7041-59b3-425e-9124-9eb94d09b2e8",
   "metadata": {},
   "source": [
    "##### Que 2). Why Do Raw Strings Often Appear In Regex Objects?"
   ]
  },
  {
   "cell_type": "code",
   "execution_count": null,
   "id": "5b33eeb5-0414-4819-b584-ed07aa55038d",
   "metadata": {},
   "outputs": [],
   "source": [
    "# Answer:- \n",
    "\n",
    "# Raw Strings (E.g., r'\\d+') Are Used In Regex Patterns To Prevent Python From Interpreting Backslashes (\\) As Escape Characters. \n",
    "# This Ensures That The Regex Engine Receives The Correct Pattern Without Python Altering It."
   ]
  },
  {
   "cell_type": "code",
   "execution_count": null,
   "id": "13b4216e-44e9-47ba-8740-eb2fe0d29974",
   "metadata": {},
   "outputs": [],
   "source": []
  },
  {
   "cell_type": "code",
   "execution_count": null,
   "id": "3a91876b-99e0-469d-be29-37140c33e2d3",
   "metadata": {},
   "outputs": [],
   "source": []
  },
  {
   "cell_type": "markdown",
   "id": "967002a1-17fb-4f58-b617-e0ffeb7eefdb",
   "metadata": {},
   "source": [
    "##### Que 3). What Is The Return Value Of The Search() Method?"
   ]
  },
  {
   "cell_type": "code",
   "execution_count": null,
   "id": "067389e5-5d56-4c49-9928-201f5e6f1887",
   "metadata": {},
   "outputs": [],
   "source": [
    "# Answer:- The re.search() Method Returns A Match Object If The Pattern Is Found In The String. If No Match Is Found, It Returns None."
   ]
  },
  {
   "cell_type": "code",
   "execution_count": null,
   "id": "8aa19a2b-1bfe-444b-b92a-d3c204bdd32b",
   "metadata": {},
   "outputs": [],
   "source": []
  },
  {
   "cell_type": "code",
   "execution_count": null,
   "id": "d95b39f4-0540-431b-9c14-52c73d0d26a5",
   "metadata": {},
   "outputs": [],
   "source": []
  },
  {
   "cell_type": "markdown",
   "id": "42539d8a-a2c5-47d5-92a2-aaaf9d1ebad9",
   "metadata": {},
   "source": [
    "##### Que 4). From A Match Item, How Do You Get The Actual Strings That Match The Pattern?"
   ]
  },
  {
   "cell_type": "code",
   "execution_count": null,
   "id": "3cc35478-5a42-4c2b-bc99-cd7365b229bb",
   "metadata": {},
   "outputs": [],
   "source": [
    "# Answer:-\n",
    "\n",
    "# The Matched String Using The .group() Method Of The Match Object.\n",
    "\n",
    "# match.group() Returns The Entire Match\n",
    "# match.group(1), match.group(2), Etc., Return Individual Captured Groups."
   ]
  },
  {
   "cell_type": "code",
   "execution_count": null,
   "id": "bcdd6772-8831-45af-838e-ea3f978d6954",
   "metadata": {},
   "outputs": [],
   "source": []
  },
  {
   "cell_type": "code",
   "execution_count": null,
   "id": "a12a6496-2d8f-4cdd-aa55-8efbca75ebbc",
   "metadata": {},
   "outputs": [],
   "source": []
  },
  {
   "cell_type": "markdown",
   "id": "5dcb2ab6-640b-462b-922b-4295eba2de89",
   "metadata": {},
   "source": [
    "##### Que 5). In The Regex Which Created From The r'(\\d\\d\\d)-(\\d\\d\\d-\\d\\d\\d\\d)', What Does Group Zero Cover? Group 2? Group 1?"
   ]
  },
  {
   "cell_type": "code",
   "execution_count": null,
   "id": "b1c18963-0baa-46ac-a89a-b81931421333",
   "metadata": {},
   "outputs": [],
   "source": [
    "# Answer:-\n",
    "\n",
    "# group(0) Returns The Entire Match: E.g., '123-456-7890'\n",
    "# group(1) Returns The First Group: '123'\n",
    "# group(2) Returns The Second Group: '456-7890'"
   ]
  },
  {
   "cell_type": "code",
   "execution_count": null,
   "id": "c1109f32-fa9e-4098-8591-702bbad2916a",
   "metadata": {},
   "outputs": [],
   "source": []
  },
  {
   "cell_type": "code",
   "execution_count": null,
   "id": "00f1b9cd-53b4-41a0-99c2-f7c443a9befa",
   "metadata": {},
   "outputs": [],
   "source": []
  },
  {
   "cell_type": "markdown",
   "id": "ba318422-ae0f-4d19-9a3e-ad60518cb1ea",
   "metadata": {},
   "source": [
    "##### Que 6). In Standard Expression Syntax, Parentheses And Intervals Have Distinct Meanings. How Can You Tell A Regex That You Want It To Fit Real Parentheses And Periods?"
   ]
  },
  {
   "cell_type": "code",
   "execution_count": null,
   "id": "d015273e-afed-4fc7-b3f7-28d1fef58c5d",
   "metadata": {},
   "outputs": [],
   "source": [
    "# Answer:- \n",
    "\n",
    "# To Match Real Characters Like Parentheses () Or Periods ., Escape Them Using A Backslash:\n",
    "# \\( Matches An Opening Parenthesis\n",
    "# \\) Matches A Closing Parenthesis\n",
    "# \\. Matches A Literal Period"
   ]
  },
  {
   "cell_type": "code",
   "execution_count": null,
   "id": "1545850e-40d5-44bb-b5f5-5e77874b4b52",
   "metadata": {},
   "outputs": [],
   "source": []
  },
  {
   "cell_type": "code",
   "execution_count": null,
   "id": "7bb918ae-a82f-4a80-b7a0-dec0afa31d27",
   "metadata": {},
   "outputs": [],
   "source": []
  },
  {
   "cell_type": "markdown",
   "id": "fd21ad44-bcfa-481b-b980-a1fa2907b3af",
   "metadata": {},
   "source": [
    "##### Que 7). The Findall() Method Returns A String List Or A List Of String Tuples. What Causes It To Return One Of The Two Options?"
   ]
  },
  {
   "cell_type": "code",
   "execution_count": null,
   "id": "a9c8f16d-bdf2-4741-a794-fc52807d073c",
   "metadata": {},
   "outputs": [],
   "source": [
    "# Answer:-\n",
    "\n",
    "# If The Pattern Has No Capturing Groups, findall() Returns A List Of Strings.\n",
    "# If The Pattern Has One Or More Groups, It Returns A List Of Tuples, Where Each Tuple Contains The Captured Groups."
   ]
  },
  {
   "cell_type": "code",
   "execution_count": null,
   "id": "daf187b9-2f4e-42ef-a37c-cb26ed442845",
   "metadata": {},
   "outputs": [],
   "source": []
  },
  {
   "cell_type": "code",
   "execution_count": null,
   "id": "d5e06bf6-5fbc-4d1a-aa4d-4b8f27104c93",
   "metadata": {},
   "outputs": [],
   "source": []
  },
  {
   "cell_type": "markdown",
   "id": "cbb806f1-451f-4232-969c-b8777109dd64",
   "metadata": {},
   "source": [
    "##### Que 8). In Standard Expressions, What Does The | Character Mean?"
   ]
  },
  {
   "cell_type": "code",
   "execution_count": null,
   "id": "a8a64517-74e0-4da6-911b-e5831c67b907",
   "metadata": {},
   "outputs": [],
   "source": [
    "# Answer:-\n",
    "\n",
    "# The | Character Acts As An Or Operator, Matching Either The Expression Before Or After It. \n",
    "# For Example, Cat|dog Matches Either \"Cat\" Or \"Dog\"."
   ]
  },
  {
   "cell_type": "code",
   "execution_count": null,
   "id": "59e4b9b7-c3d0-432a-a871-92384197eb54",
   "metadata": {},
   "outputs": [],
   "source": []
  },
  {
   "cell_type": "code",
   "execution_count": null,
   "id": "9bf49c29-6ca7-4be4-ba45-6883d8f4ab87",
   "metadata": {},
   "outputs": [],
   "source": []
  },
  {
   "cell_type": "markdown",
   "id": "e9ff560e-1139-46d7-8274-511e7051daf4",
   "metadata": {},
   "source": [
    "##### Que 9). In Regular Expressions, What Does The Character Stand For?"
   ]
  },
  {
   "cell_type": "code",
   "execution_count": null,
   "id": "6962ab3d-8242-4e6b-9bbf-4f71ab19132b",
   "metadata": {},
   "outputs": [],
   "source": [
    "# Answer:-\n",
    "\n",
    "# The dot (.) Matches Any Single Character Except Newline Characters (\\n). With Re.DOTALL, It Also Matches Newlines."
   ]
  },
  {
   "cell_type": "code",
   "execution_count": null,
   "id": "52a05db4-7911-4db0-82b2-1b2e2e8183cc",
   "metadata": {},
   "outputs": [],
   "source": []
  },
  {
   "cell_type": "code",
   "execution_count": null,
   "id": "48330569-de7b-4b51-8647-8765a0f5808a",
   "metadata": {},
   "outputs": [],
   "source": []
  },
  {
   "cell_type": "markdown",
   "id": "997fab58-8ae5-4404-b4ae-cf0830420ffb",
   "metadata": {},
   "source": [
    "##### Que 10).in Regular Expressions, What Is The Difference Between The + And * Characters?"
   ]
  },
  {
   "cell_type": "code",
   "execution_count": null,
   "id": "043d6e15-0967-448c-abae-367d175e32a4",
   "metadata": {},
   "outputs": [],
   "source": [
    "# Answer:-\n",
    "\n",
    "# + Matches One Or More Occurrences. (\\d+ Matches 1 Or More Digits)\n",
    "# * Matches Zero Or More Occurrences. (\\d* Matches 0 Or More Digits)"
   ]
  },
  {
   "cell_type": "code",
   "execution_count": null,
   "id": "707ceb2c-1cd1-4191-be88-a94e5e45e92a",
   "metadata": {},
   "outputs": [],
   "source": []
  },
  {
   "cell_type": "code",
   "execution_count": null,
   "id": "935cf9fd-79a2-44f6-b100-e87b3e9fcfcb",
   "metadata": {},
   "outputs": [],
   "source": []
  },
  {
   "cell_type": "markdown",
   "id": "b0b84ba0-3feb-4806-b0f1-63b852f521ec",
   "metadata": {},
   "source": [
    "##### Que 11). What Is The Difference Between {4} And {4,5} In Regular Expression?"
   ]
  },
  {
   "cell_type": "code",
   "execution_count": null,
   "id": "c8bc59c0-1c3b-4cd9-a3d5-65cd87ef2dc2",
   "metadata": {},
   "outputs": [],
   "source": [
    "# Answer:-\n",
    "\n",
    "# {4} Matches Exactly 4 Repetitions\n",
    "# {4,5} Matches Between 4 And 5 Repetitions"
   ]
  },
  {
   "cell_type": "code",
   "execution_count": null,
   "id": "cb6dd4d6-3ba0-47c1-ad4f-b0527c325507",
   "metadata": {},
   "outputs": [],
   "source": []
  },
  {
   "cell_type": "code",
   "execution_count": null,
   "id": "0255a252-1de1-447f-815d-1a6b60f26806",
   "metadata": {},
   "outputs": [],
   "source": []
  },
  {
   "cell_type": "markdown",
   "id": "9ad41f0d-0a69-4024-a1ab-392a22d70be8",
   "metadata": {},
   "source": [
    "##### Que 12). What Do You Mean By The \\d, \\w, And \\s Shorthand Character Classes Signify In Regular Expressions?"
   ]
  },
  {
   "cell_type": "code",
   "execution_count": null,
   "id": "ecb28f83-9888-402d-8944-aee87bdbb862",
   "metadata": {},
   "outputs": [],
   "source": [
    "# Answer:-\n",
    "\n",
    "# \\d Matches Any Digit (0-9)\n",
    "# \\w Matches Any Word Character (Letters, Digits, Underscore)\n",
    "# \\s Matches Any Whitespace Character (Space, Tab, Newline)"
   ]
  },
  {
   "cell_type": "code",
   "execution_count": null,
   "id": "63395a2e-9044-40c8-b22f-846f1d75687c",
   "metadata": {},
   "outputs": [],
   "source": []
  },
  {
   "cell_type": "code",
   "execution_count": null,
   "id": "5b90d8c3-19a9-4385-9221-00d9eef8211f",
   "metadata": {},
   "outputs": [],
   "source": []
  },
  {
   "cell_type": "markdown",
   "id": "7c48ac31-9704-45c7-85a3-6964eea1c88f",
   "metadata": {},
   "source": [
    "##### Que 13). What Do Means By \\D, \\W, And \\S Shorthand Character Classes Signify In Regular Expressions?"
   ]
  },
  {
   "cell_type": "code",
   "execution_count": null,
   "id": "0b2163cb-56d6-42ca-9d97-2171a0860691",
   "metadata": {},
   "outputs": [],
   "source": [
    "# Answer:-\n",
    "\n",
    "# \\D Matches Any Non-Digit\n",
    "# \\W Matches Any Non-Word Character\n",
    "# \\S Matches Any Non-Whitespace Character"
   ]
  },
  {
   "cell_type": "code",
   "execution_count": null,
   "id": "f2a81c5a-ff92-48cb-87a1-b86c8d434c62",
   "metadata": {},
   "outputs": [],
   "source": []
  },
  {
   "cell_type": "code",
   "execution_count": null,
   "id": "73616ae4-d851-4fd6-8c57-47eff11752bb",
   "metadata": {},
   "outputs": [],
   "source": []
  },
  {
   "cell_type": "markdown",
   "id": "118f3114-0b82-44a8-8305-2a43234621f7",
   "metadata": {},
   "source": [
    "##### Que 14). What Is The Difference Between .*? And .*?"
   ]
  },
  {
   "cell_type": "code",
   "execution_count": null,
   "id": "781c8db4-0691-4d8b-95cd-6fb76d7fbcbb",
   "metadata": {},
   "outputs": [],
   "source": [
    "# Answer:-\n",
    "\n",
    "# .* Is Greedy, Matches As Much As Possible\n",
    "# .*? Is Non-Greedy (Lazy), Matches As Little As Possible"
   ]
  },
  {
   "cell_type": "code",
   "execution_count": null,
   "id": "8095b7ef-062d-48c9-8a04-7297f9941c69",
   "metadata": {},
   "outputs": [],
   "source": []
  },
  {
   "cell_type": "code",
   "execution_count": null,
   "id": "bd158a12-9b12-4b55-adc1-dc4e96041000",
   "metadata": {},
   "outputs": [],
   "source": []
  },
  {
   "cell_type": "markdown",
   "id": "1163a96d-d12f-4a48-982e-4289aad33423",
   "metadata": {},
   "source": [
    "##### Que 15). What Is The Syntax For Matching Both Numbers And Lowercase Letters With A Character Class?"
   ]
  },
  {
   "cell_type": "code",
   "execution_count": null,
   "id": "20f35ec3-372f-492a-9150-772682d72c0b",
   "metadata": {},
   "outputs": [],
   "source": [
    "# Answer:-\n",
    "\n",
    "# Use [a-z 0-9] To Match Any Lowercase Letter Or Digit."
   ]
  },
  {
   "cell_type": "code",
   "execution_count": null,
   "id": "57e38ce6-cddc-4439-9567-9ff9ddfa8238",
   "metadata": {},
   "outputs": [],
   "source": []
  },
  {
   "cell_type": "code",
   "execution_count": null,
   "id": "18129adb-07f1-4eb1-af99-d0c5b3e50fa2",
   "metadata": {},
   "outputs": [],
   "source": []
  },
  {
   "cell_type": "markdown",
   "id": "b52580db-bf99-4c60-8cd0-789259a513e2",
   "metadata": {},
   "source": [
    "##### Que 16). What Is The Procedure For Making A Normal Expression In Regax Case Insensitive?"
   ]
  },
  {
   "cell_type": "code",
   "execution_count": 100,
   "id": "eeb0a40c-91d8-4cad-a14c-cb3c992c20d4",
   "metadata": {},
   "outputs": [
    {
     "ename": "NameError",
     "evalue": "name 'pattern' is not defined",
     "output_type": "error",
     "traceback": [
      "\u001b[1;31m---------------------------------------------------------------------------\u001b[0m",
      "\u001b[1;31mNameError\u001b[0m                                 Traceback (most recent call last)",
      "Cell \u001b[1;32mIn[100], line 6\u001b[0m\n\u001b[0;32m      1\u001b[0m \u001b[38;5;66;03m# Answer:-\u001b[39;00m\n\u001b[0;32m      2\u001b[0m \n\u001b[0;32m      3\u001b[0m \u001b[38;5;66;03m# Pass Re.IGNORECASE (Or re.i) As A Second Argument To re.compile().\u001b[39;00m\n\u001b[0;32m      5\u001b[0m \u001b[38;5;28;01mimport\u001b[39;00m \u001b[38;5;21;01mre\u001b[39;00m\n\u001b[1;32m----> 6\u001b[0m re\u001b[38;5;241m.\u001b[39mcompile(pattern, re\u001b[38;5;241m.\u001b[39mIGNORECASE)\n",
      "\u001b[1;31mNameError\u001b[0m: name 'pattern' is not defined"
     ]
    }
   ],
   "source": [
    "# Answer:-\n",
    "\n",
    "# Pass Re.IGNORECASE (Or re.i) As A Second Argument To re.compile().\n",
    "\n",
    "import re\n",
    "re.compile(pattern, re.IGNORECASE)"
   ]
  },
  {
   "cell_type": "code",
   "execution_count": null,
   "id": "f2db0917-286b-4f42-ace7-e8409b8b5b58",
   "metadata": {},
   "outputs": [],
   "source": []
  },
  {
   "cell_type": "code",
   "execution_count": null,
   "id": "ea0bfbd2-f811-4096-ac9d-8c5c3a2b92bb",
   "metadata": {},
   "outputs": [],
   "source": []
  },
  {
   "cell_type": "markdown",
   "id": "2027218d-ce80-4f82-a2b0-04b456b28372",
   "metadata": {},
   "source": [
    "##### Que 17). What Does The . Character Normally Match? What Does It Match If re.DOTALL Is Passed As 2nd Argument In re.compile()?"
   ]
  },
  {
   "cell_type": "code",
   "execution_count": null,
   "id": "1cfc2859-f486-495e-919e-8d570ef6d0be",
   "metadata": {},
   "outputs": [],
   "source": [
    "# Answer:-\n",
    "\n",
    "# Normally, . Matches Any Character Except Newline\n",
    "# With re.DOTALL, . Matches Any Character Including Newline"
   ]
  },
  {
   "cell_type": "code",
   "execution_count": null,
   "id": "77e38be7-120a-4876-8b8c-72ee59721e6e",
   "metadata": {},
   "outputs": [],
   "source": []
  },
  {
   "cell_type": "code",
   "execution_count": null,
   "id": "18a2e2df-a87e-43e0-b9c6-f36d9b813876",
   "metadata": {},
   "outputs": [],
   "source": []
  },
  {
   "cell_type": "markdown",
   "id": "174b9516-6a81-4b43-bc2e-300197b943d2",
   "metadata": {},
   "source": [
    "##### Que 18). If Numreg = re.compile(r'\\d+'), What Will Numregex.sub('X', '11 Drummers, 10 Pipers, Five Rings, 4 Hen') Return?"
   ]
  },
  {
   "cell_type": "code",
   "execution_count": null,
   "id": "232228ad-51ad-41b9-8756-6b028800f5d1",
   "metadata": {},
   "outputs": [],
   "source": [
    "# Answer:- \n",
    "\n",
    "# It Replaces All Numbers With 'X'.\n",
    "# Output: 'X Drummers, X Pipers, Five Rings, X Hen'"
   ]
  },
  {
   "cell_type": "code",
   "execution_count": null,
   "id": "0b6b817b-b2ce-4184-9338-c2501665f0c0",
   "metadata": {},
   "outputs": [],
   "source": []
  },
  {
   "cell_type": "code",
   "execution_count": null,
   "id": "72f4f738-c372-4ee0-970b-98c364349e5b",
   "metadata": {},
   "outputs": [],
   "source": []
  },
  {
   "cell_type": "markdown",
   "id": "ca6e9360-f513-4fd4-9c24-b5b77bcef8e1",
   "metadata": {},
   "source": [
    "##### Que 19). What Does Passing re.verbose As The 2nd Argument To re.compile() Allow To Do?"
   ]
  },
  {
   "cell_type": "code",
   "execution_count": null,
   "id": "332bb3a8-316f-4c66-8843-cec890e8079a",
   "metadata": {},
   "outputs": [],
   "source": [
    "# Answer:- \n",
    "\n",
    "# re.VERBOSE Allows To Write Regex Patterns More Clearly By:\n",
    "\n",
    "# Adding Whitespace For Readability\n",
    "# Adding Comments With #"
   ]
  },
  {
   "cell_type": "code",
   "execution_count": null,
   "id": "fa714881-67e6-44cc-82cc-fa9ffaf943ee",
   "metadata": {},
   "outputs": [],
   "source": []
  },
  {
   "cell_type": "code",
   "execution_count": null,
   "id": "9f442bcd-79c7-45b8-a1ce-c4382026cc33",
   "metadata": {},
   "outputs": [],
   "source": []
  },
  {
   "cell_type": "markdown",
   "id": "d4b19c4a-b458-4feb-844c-1d0c6674639d",
   "metadata": {},
   "source": [
    "##### Que 20). How Would You Write A Regex That Match A Number With Comma For Every Three Digits? It Must Match The Given Following:\n",
    "##### '42'\n",
    "##### '1,234'\n",
    "##### '6,368,745'\n",
    "##### But Not The Following:\n",
    "##### '12,34,567' (Which Has Only Two Digits Between The Commas)\n",
    "##### '1234' (Which Lacks Commas)"
   ]
  },
  {
   "cell_type": "code",
   "execution_count": 101,
   "id": "e502dcdd-1acf-438c-88ed-b31a886e363c",
   "metadata": {},
   "outputs": [
    {
     "data": {
      "text/plain": [
       "re.compile(r'^\\d{1,3}(,\\d{3})*$', re.UNICODE)"
      ]
     },
     "execution_count": 101,
     "metadata": {},
     "output_type": "execute_result"
    }
   ],
   "source": [
    "re.compile(r'^\\d{1,3}(,\\d{3})*$')\n",
    "\n",
    "# Matches: '42', '1,234', '6,368,745'\n",
    "# Does Not Match: '12,34,567', '1234'"
   ]
  },
  {
   "cell_type": "code",
   "execution_count": null,
   "id": "92897c4a-d2fd-439a-aa18-ca517d3ce6b5",
   "metadata": {},
   "outputs": [],
   "source": []
  },
  {
   "cell_type": "code",
   "execution_count": null,
   "id": "731f6ace-a293-40b5-b736-5c17e4a4df8f",
   "metadata": {},
   "outputs": [],
   "source": []
  },
  {
   "cell_type": "markdown",
   "id": "36d897f2-34a6-4d20-ac49-e5fd07516e1e",
   "metadata": {},
   "source": [
    "##### Que 21). How Would You Write A Regex That Matches The Full Name Of Someone Whose Last Name Is Watanabe? You Can Assume That The First Name That Comes Before It Will Always Be One Word That Begins With A Capital Letter. The Regex Must Match The Following:\n",
    "##### 'haruto Watanabe'\n",
    "##### 'alice Watanabe'\n",
    "##### 'robocop Watanabe'\n",
    "##### But Not The Following:\n",
    "##### 'haruto Watanabe' (Where The First Name Is Not Capitalized)\n",
    "##### 'mr. Watanabe' (Where The Preceding Word Has A Nonletter Character)\n",
    "##### 'watanabe' (Which Has No First Name)\n",
    "##### 'haruto Watanabe' (Where Watanabe Is Not Capitalized)"
   ]
  },
  {
   "cell_type": "code",
   "execution_count": 102,
   "id": "e9e41170-53fe-4502-93f1-9079253d37e0",
   "metadata": {},
   "outputs": [
    {
     "data": {
      "text/plain": [
       "re.compile(r'^[A-Z][a-zA-Z]*\\sWatanabe$', re.UNICODE)"
      ]
     },
     "execution_count": 102,
     "metadata": {},
     "output_type": "execute_result"
    }
   ],
   "source": [
    "# Answer:-\n",
    "\n",
    "re.compile(r'^[A-Z][a-zA-Z]*\\sWatanabe$')\n",
    "\n",
    "# Matches:- 'Haruto Watanabe', 'Alice Watanabe', 'Robocop Watanabe'\n",
    "# Does Not Match:- 'haruto Watanabe', 'mr. Watanabe', 'Watanabe', 'haruto watanabe'"
   ]
  },
  {
   "cell_type": "code",
   "execution_count": null,
   "id": "1e1ecf6a-b706-41ef-b535-b47c2d317909",
   "metadata": {},
   "outputs": [],
   "source": []
  },
  {
   "cell_type": "code",
   "execution_count": null,
   "id": "24e56122-7a49-467c-969d-eb88a2a6bfec",
   "metadata": {},
   "outputs": [],
   "source": []
  },
  {
   "cell_type": "markdown",
   "id": "6d6a069e-1e8c-48e6-ac88-8f9482c1f815",
   "metadata": {},
   "source": [
    "##### Que 22). How Would You Write A Regex That Matches A Sentence Where The First Word Is Either Alice, Bob, Or Carol; The Second Word Is Either Eats, Pets, Or Throws; The Third Word Is Apples, Cats, Or Baseballs; And The Sentence Ends With A Period? This Regex Should Be Case-Insensitive. It Must Match The Following:\n",
    "##### 'alice Eats Apples.'\n",
    "##### 'bob Pets Cats.'\n",
    "##### 'carol Throws Baseballs.'\n",
    "##### 'alice Throws Apples.'\n",
    "##### 'bob Eats Cats.'\n",
    "##### But Not The Following:\n",
    "##### 'robocop Eats Apples.'\n",
    "##### 'alice Throws Footballs.'\n",
    "##### 'carol Eats 7 Cats.'"
   ]
  },
  {
   "cell_type": "code",
   "execution_count": 103,
   "id": "66170847-1ec2-4f5c-ad8a-07da74d78b76",
   "metadata": {},
   "outputs": [
    {
     "data": {
      "text/plain": [
       "re.compile(r'^(Alice|Bob|Carol)\\s(Eats|Pets|Throws)\\s(Apples|Cats|Baseballs)\\.$',\n",
       "           re.IGNORECASE|re.UNICODE)"
      ]
     },
     "execution_count": 103,
     "metadata": {},
     "output_type": "execute_result"
    }
   ],
   "source": [
    "# Answer:-\n",
    "\n",
    "re.compile(r'^(Alice|Bob|Carol)\\s(Eats|Pets|Throws)\\s(Apples|Cats|Baseballs)\\.$', re.IGNORECASE)"
   ]
  },
  {
   "cell_type": "code",
   "execution_count": null,
   "id": "2d38bb4a-9b88-4c7d-8e4e-73b1afd25852",
   "metadata": {},
   "outputs": [],
   "source": [
    "# Matches:- 'Alice Eats Apples.', 'Bob Pets Cats.', 'Carol Throws Baseballs.', 'Alice Throws Apples.', 'bob Eats Cats.'\n",
    "# Does Not Match:- 'Robocop Eats Apples.', 'ALICE THROWS FOOTBALLS.', 'Carol Eats 7 Cats.'"
   ]
  },
  {
   "cell_type": "code",
   "execution_count": null,
   "id": "5bd0572c-ee44-445c-aa73-ffa0fc5cfbcb",
   "metadata": {},
   "outputs": [],
   "source": []
  },
  {
   "cell_type": "code",
   "execution_count": null,
   "id": "5aeb7b89-e3a9-4f2e-88f6-5109be33bbca",
   "metadata": {},
   "outputs": [],
   "source": []
  },
  {
   "cell_type": "markdown",
   "id": "cd964b73-eb46-4e2d-bf59-bffdcb73401d",
   "metadata": {},
   "source": [
    "### ASSIGNMENTS - 8"
   ]
  },
  {
   "cell_type": "code",
   "execution_count": null,
   "id": "8b6421f9-daac-4f3b-b995-ea74502ab3a9",
   "metadata": {},
   "outputs": [],
   "source": []
  },
  {
   "cell_type": "code",
   "execution_count": null,
   "id": "23fe6612-cb5e-4c97-9850-38bb1fd027f2",
   "metadata": {},
   "outputs": [],
   "source": []
  },
  {
   "cell_type": "markdown",
   "id": "339fdf22-666e-4a8c-a4a3-9609a5a314cd",
   "metadata": {},
   "source": [
    "##### Que 1). Is The Python Standard Library Included With Pyinputplus?"
   ]
  },
  {
   "cell_type": "code",
   "execution_count": null,
   "id": "4715e420-691a-4c47-9954-1e488be4b322",
   "metadata": {},
   "outputs": [],
   "source": [
    "# Answer:- \n",
    "\n",
    "# No, PyinputPlus Is Not Part Of The Python Standard Library. It Is A Third-Party Module That Must Be Installed Separately Using A Package Manager \n",
    "# Like pip:"
   ]
  },
  {
   "cell_type": "code",
   "execution_count": null,
   "id": "d09b89a0-c899-4875-a5b1-bf3df6b3108a",
   "metadata": {},
   "outputs": [],
   "source": []
  },
  {
   "cell_type": "code",
   "execution_count": null,
   "id": "67ec2086-1f8c-41af-b0c6-6385c1125cc7",
   "metadata": {},
   "outputs": [],
   "source": []
  },
  {
   "cell_type": "markdown",
   "id": "84bef563-4e52-4875-aba1-bbd5537dedf6",
   "metadata": {},
   "source": [
    "##### Que 2). Why Is PyInputPlus Commonly Imported With Import PyInputPlus As Pypi?"
   ]
  },
  {
   "cell_type": "markdown",
   "id": "a67c2d92-bf61-4694-82e8-e140efdb65fb",
   "metadata": {},
   "source": [
    "#### Answer:-\n",
    "\n",
    "# PyInputPlus Is Commonly Imported Using An Alias Like pypi To:\n",
    "# Shorten The Module Name For Easier Usage In Code.\n",
    "# Avoid Repetitive Typing Of PyInputPlus.\n",
    "\n",
    "# Example:-\n",
    "\n",
    "!pip install pyinputplus\n",
    "import pyinputplus as pypi\n",
    "response = pypi.inputInt(prompt=\"Enter a number: \")"
   ]
  },
  {
   "cell_type": "code",
   "execution_count": null,
   "id": "47c13b12-e282-4c85-bb09-a65e57534407",
   "metadata": {},
   "outputs": [],
   "source": []
  },
  {
   "cell_type": "code",
   "execution_count": null,
   "id": "47b6e60a-a898-40f8-8d48-93b30fa21303",
   "metadata": {},
   "outputs": [],
   "source": []
  },
  {
   "cell_type": "markdown",
   "id": "87f9fc2a-7eec-438f-8a66-ea71fb3262fc",
   "metadata": {},
   "source": [
    "##### Que 3). How Do You Distinguish Between inputint() And inputfloat()?"
   ]
  },
  {
   "cell_type": "code",
   "execution_count": null,
   "id": "98b9b950-7978-4929-9638-b8bed8381406",
   "metadata": {},
   "outputs": [],
   "source": [
    "# Answer:-\n",
    "\n",
    "# Inputint() Accepts Only Integer Values (E.g., 42)\n",
    "# InputFloat() Accepts Both Integers And Floating-Point Numbers (E.g., 42 And 3.14)\n",
    "# They Are Used To Validate The Type Of Numeric Input From The User."
   ]
  },
  {
   "cell_type": "code",
   "execution_count": null,
   "id": "6130999b-a472-465f-9441-dd32e40f8b57",
   "metadata": {},
   "outputs": [],
   "source": []
  },
  {
   "cell_type": "code",
   "execution_count": null,
   "id": "e10ad921-6a4f-4600-879a-2beffe4043b8",
   "metadata": {},
   "outputs": [],
   "source": []
  },
  {
   "cell_type": "markdown",
   "id": "bb9ec794-57a8-4b26-b425-34b2e21344d7",
   "metadata": {},
   "source": [
    "##### Que 4). Using PyInputPlus, How Do You Ensure That The User Enters A Whole Number Between 0 And 99?"
   ]
  },
  {
   "cell_type": "code",
   "execution_count": 105,
   "id": "948ba082-7d8c-4798-b95a-41d1dc466c99",
   "metadata": {},
   "outputs": [
    {
     "name": "stdout",
     "output_type": "stream",
     "text": [
      "Enter a number between 0 and 99: "
     ]
    },
    {
     "name": "stdin",
     "output_type": "stream",
     "text": [
      " 44\n"
     ]
    }
   ],
   "source": [
    "# Answer:- Use inputint() With Min And Max Keyword Arguments:\n",
    "\n",
    "import pyinputplus as pypi\n",
    "num = pypi.inputInt(prompt=\"Enter a number between 0 and 99: \", min=0, max=99)\n",
    "\n",
    "# This Restricts The User To Only Enter Integers From 0 To 99, Inclusive."
   ]
  },
  {
   "cell_type": "code",
   "execution_count": null,
   "id": "cd976e6f-b650-42bc-bdb8-e66cc46094f8",
   "metadata": {},
   "outputs": [],
   "source": []
  },
  {
   "cell_type": "code",
   "execution_count": null,
   "id": "68f772dd-77f2-45da-9ff5-9ce58490dd10",
   "metadata": {},
   "outputs": [],
   "source": []
  },
  {
   "cell_type": "markdown",
   "id": "eedbe94d-2af5-4df6-81c4-3ab92955131e",
   "metadata": {},
   "source": [
    "##### Que 5). What Is Transferred To The Keyword Arguments Allowregexes And Blockregexes?"
   ]
  },
  {
   "cell_type": "code",
   "execution_count": 106,
   "id": "0b762b61-d615-445a-8a68-6f05b1007ddf",
   "metadata": {},
   "outputs": [
    {
     "name": "stdin",
     "output_type": "stream",
     "text": [
      " 44\n",
      " 65\n"
     ]
    },
    {
     "data": {
      "text/plain": [
       "'65'"
      ]
     },
     "execution_count": 106,
     "metadata": {},
     "output_type": "execute_result"
    }
   ],
   "source": [
    "# Answer:- \n",
    "\n",
    "# Allowregexes:- A List Of Regular Expressions That Are Explicitly Allowed, Even If They Normally Wouldn't Match The Expected Data Type.\n",
    "# Blockregexes:- A List Of Regular Expressions That Are Explicitly Blocked, Even If They Would Match.\n",
    "\n",
    "pypi.inputStr(allowRegexes=[r'cat', r'dog'])  # Only Allow \"Cat\" Or \"Dog\"\n",
    "pypi.inputStr(blockRegexes=[r'bat'])          # Block Any Input Containing \"Bat\""
   ]
  },
  {
   "cell_type": "code",
   "execution_count": null,
   "id": "1de675e3-efbf-4233-bf14-732a1b7f387c",
   "metadata": {},
   "outputs": [],
   "source": []
  },
  {
   "cell_type": "code",
   "execution_count": null,
   "id": "9c6b742f-8dbd-4a85-88c4-7af94b0a7e66",
   "metadata": {},
   "outputs": [],
   "source": []
  },
  {
   "cell_type": "markdown",
   "id": "d159d0c3-5271-4b35-81db-498422ee605f",
   "metadata": {},
   "source": [
    "##### Que 6). If A Blank Input Is Entered Three Times, What Does inputstr(Limit=3) Do?"
   ]
  },
  {
   "cell_type": "code",
   "execution_count": null,
   "id": "c07d92d8-cd08-4a55-aa8f-532bf1c1ba1d",
   "metadata": {},
   "outputs": [],
   "source": [
    "# Answer:- \n",
    "\n",
    "# If The User Enters A Blank Input Three Times, inputStr(limit=3) Will:\n",
    "# Raise A pyinputplus.RetryLimitException After The 3rd Invalid (Blank) Input.\n",
    "# The Program Will Crash Unless The Exception Is Handled."
   ]
  },
  {
   "cell_type": "code",
   "execution_count": null,
   "id": "4cc459a6-910e-4492-bd1b-da1e7d1f45e1",
   "metadata": {},
   "outputs": [],
   "source": []
  },
  {
   "cell_type": "code",
   "execution_count": null,
   "id": "4a5005c1-03e2-498e-82e7-93e196d7a4e2",
   "metadata": {},
   "outputs": [],
   "source": []
  },
  {
   "cell_type": "markdown",
   "id": "bf626750-1e94-4f85-be56-2437973ced90",
   "metadata": {},
   "source": [
    "##### Que 7). If Blank Input Is Entered Three Times, What Does inputstr(Limit=3, Default='hello') Do?"
   ]
  },
  {
   "cell_type": "code",
   "execution_count": null,
   "id": "1b237d85-6e84-408c-8561-533d2cceec50",
   "metadata": {},
   "outputs": [],
   "source": [
    "# Answer:-\n",
    "\n",
    "# If The User Fails To Provide A Valid Input Three Times, inputStr(limit=3, default='hello') Will:\n",
    "# Return The Default Value 'hello' Instead Of Raising An Exception.\n",
    "# This Provides A Fallback Mechanism For Invalid Input."
   ]
  },
  {
   "cell_type": "code",
   "execution_count": null,
   "id": "f2a20e00-73a6-4e1f-b7cf-6d9dec0cef8d",
   "metadata": {},
   "outputs": [],
   "source": []
  },
  {
   "cell_type": "code",
   "execution_count": null,
   "id": "4ade21e7-6fa4-4c3d-89ec-2a305b3f6a8b",
   "metadata": {},
   "outputs": [],
   "source": []
  },
  {
   "cell_type": "markdown",
   "id": "a6238ccd-12ab-475a-b450-3090955e0ec5",
   "metadata": {},
   "source": [
    "### ASSIGNMENTS - 9"
   ]
  },
  {
   "cell_type": "code",
   "execution_count": null,
   "id": "9ed33302-9416-468e-9df5-8795ea8d817a",
   "metadata": {},
   "outputs": [],
   "source": []
  },
  {
   "cell_type": "code",
   "execution_count": null,
   "id": "0fdf9fc9-7dfa-44d8-a885-6e99b96b05bb",
   "metadata": {},
   "outputs": [],
   "source": []
  },
  {
   "cell_type": "markdown",
   "id": "310cd753-b3cd-41c7-aee7-9318a6abddd6",
   "metadata": {},
   "source": [
    "##### Que 1). To What Does A Relative Path Refer?"
   ]
  },
  {
   "cell_type": "code",
   "execution_count": null,
   "id": "0de744ff-2296-40d4-980c-b8674065b234",
   "metadata": {},
   "outputs": [],
   "source": [
    "# A Relative Path Refers To A File Or Directory Location Relative To The Current Working Directory. \n",
    "# It Does Not Start With A Root Directory Or Drive Letter.\n",
    "\n",
    "# Example:-\n",
    "# If The Current Working Directory Is c:\\projects, Then A Relative Path Like Data\\info.txt Refers To c:\\projects\\data\\info.txt."
   ]
  },
  {
   "cell_type": "code",
   "execution_count": null,
   "id": "48450beb-cc2a-4182-b3b3-e46f601e88d0",
   "metadata": {},
   "outputs": [],
   "source": []
  },
  {
   "cell_type": "code",
   "execution_count": null,
   "id": "29de1290-03ec-43b0-b2c5-876407f2cedf",
   "metadata": {},
   "outputs": [],
   "source": []
  },
  {
   "cell_type": "markdown",
   "id": "2916083d-5594-48fd-8851-8fa15b86afd6",
   "metadata": {},
   "source": [
    "##### Que 2). What Does An Absolute Path Start With Your Operating System?"
   ]
  },
  {
   "cell_type": "code",
   "execution_count": null,
   "id": "ae9a13b0-84fa-4bff-a0e1-52430f508426",
   "metadata": {},
   "outputs": [],
   "source": [
    "# Answer:-\n",
    "\n",
    "# An Absolute Path Starts With The Root Of The File System:\n",
    "\n",
    "# On Windows, It Starts With A Drive Letter (E.g., c:\\)\n",
    "# On Unix/linux/macOs, It Starts With A Forward Slash (/)\n",
    "\n",
    "# Example:-\n",
    "\n",
    "# Windows: c:\\users\\admin\\documents\\file.txt\n",
    "# Linux/macOs: /home/user/documents/file.txt"
   ]
  },
  {
   "cell_type": "code",
   "execution_count": null,
   "id": "d8abecc9-1a52-4815-860f-968404cc1751",
   "metadata": {},
   "outputs": [],
   "source": []
  },
  {
   "cell_type": "code",
   "execution_count": null,
   "id": "339600f4-be40-4315-a5de-afe220a3c377",
   "metadata": {},
   "outputs": [],
   "source": []
  },
  {
   "cell_type": "markdown",
   "id": "598975ec-332a-4bbf-819e-717a01a8b845",
   "metadata": {},
   "source": [
    "##### Que 3). What Do The Functions os.getcwd() And os.chdir() Do?"
   ]
  },
  {
   "cell_type": "code",
   "execution_count": null,
   "id": "62141693-0f97-4ccc-9aa7-d02a99cc89d6",
   "metadata": {},
   "outputs": [],
   "source": [
    "# Answer:-\n",
    "\n",
    "# os.getcwd() Returns The Current Working Directory As A String.\n",
    "# os.chdir(Path) Changes The Current Working Directory To The Given Path.\n",
    "\n",
    "import os\n",
    "print(os.getcwd())        # Outputs Current Directory"
   ]
  },
  {
   "cell_type": "code",
   "execution_count": null,
   "id": "5b9a61fb-82e1-4cc7-8a51-e786fd6881f3",
   "metadata": {},
   "outputs": [],
   "source": [
    "os.chdir('C:\\\\Users')     # Changes Current Directory To c:\\users"
   ]
  },
  {
   "cell_type": "code",
   "execution_count": null,
   "id": "d763272b-6810-4e88-9b85-ddd2adb05a2e",
   "metadata": {},
   "outputs": [],
   "source": []
  },
  {
   "cell_type": "markdown",
   "id": "b9e2e74e-8a05-4553-ac87-32f0e21f255d",
   "metadata": {},
   "source": [
    "##### Que 4). What Are The . And .. Folders?"
   ]
  },
  {
   "cell_type": "code",
   "execution_count": null,
   "id": "7dcadbd0-9347-4789-87cf-0bfdb3b2603f",
   "metadata": {},
   "outputs": [],
   "source": [
    "# Answer:- \n",
    "\n",
    "# . Refers To The Current Directory\n",
    "# .. Refers To The Parent Directory\n",
    "\n",
    "# These Are Commonly Used In Relative Paths For Navigation.\n",
    "\n",
    "# Example:-\n",
    "# ..\\data Means Go Up One Directory, Then Into The Data Folder."
   ]
  },
  {
   "cell_type": "code",
   "execution_count": null,
   "id": "f5cebc03-eee5-402f-843b-3302bef18bac",
   "metadata": {},
   "outputs": [],
   "source": []
  },
  {
   "cell_type": "code",
   "execution_count": null,
   "id": "38edc39b-8ed0-4724-bb56-99b7393682c9",
   "metadata": {},
   "outputs": [],
   "source": []
  },
  {
   "cell_type": "markdown",
   "id": "e357761a-aac8-4a5a-a42a-4f4a4c7f0f74",
   "metadata": {},
   "source": [
    "##### Que 5). In c:\\bacon\\eggs\\spam.txt, Which Part Is The Dir Name, And Which Part Is The Base Name?"
   ]
  },
  {
   "cell_type": "code",
   "execution_count": null,
   "id": "fbe6a3a6-4f61-42e3-94db-17bf714673d1",
   "metadata": {},
   "outputs": [],
   "source": [
    "# Answer:- \n",
    "\n",
    "# Dir Name: c:\\bacon\\eggs\n",
    "# Base Name: spam.txt\n",
    "# Use os.path.dirname() And os.path.basename() To Extract Them."
   ]
  },
  {
   "cell_type": "code",
   "execution_count": null,
   "id": "88bcf0e0-9467-40f7-9231-d3f12379b69a",
   "metadata": {},
   "outputs": [],
   "source": []
  },
  {
   "cell_type": "code",
   "execution_count": null,
   "id": "6d47f324-0b98-419d-b328-e0df8e27932d",
   "metadata": {},
   "outputs": [],
   "source": []
  },
  {
   "cell_type": "markdown",
   "id": "45a1cb6e-2b63-48ed-a0a7-bce99158487e",
   "metadata": {},
   "source": [
    "##### Que 6). What Are The Three “mode” Arguments That Can Be Passed To The open() Function?"
   ]
  },
  {
   "cell_type": "code",
   "execution_count": null,
   "id": "393d5f85-30da-4822-adf1-7baa310f49f1",
   "metadata": {},
   "outputs": [],
   "source": [
    "# Answer:- The Three Common Modes Are:\n",
    "\n",
    "# 'r' – Read Mode (Default)\n",
    "# 'w' – Write Mode (Overwrites File)\n",
    "# 'a' – Append Mode (Adds To The End Of File)\n",
    "\n",
    "# Other Useful Modes:\n",
    "\n",
    "# 'b' – Binary Mode (Used As 'rb', 'wb')\n",
    "# '+' – Read And Write ('r+', 'w+', Etc.)"
   ]
  },
  {
   "cell_type": "code",
   "execution_count": null,
   "id": "f24fef86-14fa-4f5a-8dac-0ba31c4c7903",
   "metadata": {},
   "outputs": [],
   "source": []
  },
  {
   "cell_type": "code",
   "execution_count": null,
   "id": "133a0b0d-0eed-46d3-a274-78266559d624",
   "metadata": {},
   "outputs": [],
   "source": []
  },
  {
   "cell_type": "markdown",
   "id": "bddf592b-37c0-4136-ba8f-fa78213b2ac3",
   "metadata": {},
   "source": [
    "##### Que 7). What Happens If An Existing File Is Opened In Write Mode?"
   ]
  },
  {
   "cell_type": "code",
   "execution_count": null,
   "id": "0d23ffa5-5226-4acf-bbdb-bd05d1e24178",
   "metadata": {},
   "outputs": [],
   "source": [
    "# Answer:-\n",
    "\n",
    "# Opening An Existing File In Write Mode ('w') Will:\n",
    "# Erase All Existing Contents Of The File\n",
    "# If The File Doesn’t Exist, It Will Be Created"
   ]
  },
  {
   "cell_type": "code",
   "execution_count": null,
   "id": "6bc124c8-9b22-4ada-a5ea-f817cd5eb087",
   "metadata": {},
   "outputs": [],
   "source": []
  },
  {
   "cell_type": "code",
   "execution_count": null,
   "id": "e31ba83c-46cc-43ae-b33f-2bb87432a3c5",
   "metadata": {},
   "outputs": [],
   "source": []
  },
  {
   "cell_type": "markdown",
   "id": "d34f663a-340f-4b09-bb0a-6d8bf7616f2f",
   "metadata": {},
   "source": [
    "##### Que 8). How Do You Tell The Difference Between read() And readlines()?"
   ]
  },
  {
   "cell_type": "code",
   "execution_count": null,
   "id": "113c7c01-742f-4166-be7b-971665f452a9",
   "metadata": {},
   "outputs": [],
   "source": [
    "# Answer:-\n",
    "\n",
    "# read() Returns The Entire Contents Of The File As A Single String\n",
    "# readlines() Returns A List Of Strings, Where Each Item Is A Line From The File"
   ]
  },
  {
   "cell_type": "code",
   "execution_count": null,
   "id": "a92db3e1-db36-453d-8645-d63a95d9a373",
   "metadata": {},
   "outputs": [],
   "source": []
  },
  {
   "cell_type": "code",
   "execution_count": null,
   "id": "c94f3e46-d8c0-4c3c-b45e-25a3116aaef2",
   "metadata": {},
   "outputs": [],
   "source": []
  },
  {
   "cell_type": "markdown",
   "id": "0b772ec6-ef02-4456-97d8-5a22c726c580",
   "metadata": {},
   "source": [
    "##### Que 9). What Data Structure Does A Shelf Value Resemble?"
   ]
  },
  {
   "cell_type": "code",
   "execution_count": null,
   "id": "e8bfc7a3-7c22-49d1-8a80-918cd52035b9",
   "metadata": {},
   "outputs": [],
   "source": [
    "# Answer:-\n",
    "\n",
    "# A Shelf Value From The Shelve Module Behaves Like A Dictionary:-\n",
    "# Keys And Values Are Stored Persistently\n",
    "# Use Key-Value Syntax (Shelf['key'] = Value)\n",
    "# It’s Like A Persistent Dictionary That Stores Data In A File On Disk."
   ]
  },
  {
   "cell_type": "code",
   "execution_count": null,
   "id": "1569f3fc-c1c7-4340-8e9c-bf21bc3acf50",
   "metadata": {},
   "outputs": [],
   "source": []
  },
  {
   "cell_type": "code",
   "execution_count": null,
   "id": "4a418424-a66b-4840-b090-0f449ea8e540",
   "metadata": {},
   "outputs": [],
   "source": []
  },
  {
   "cell_type": "markdown",
   "id": "1e499342-f6c2-4eb2-8c80-4ecf23202e93",
   "metadata": {},
   "source": [
    "### ASSIGNMENTS - 10"
   ]
  },
  {
   "cell_type": "code",
   "execution_count": null,
   "id": "92cf8aec-2aff-49f1-99a7-427fc16423d0",
   "metadata": {},
   "outputs": [],
   "source": []
  },
  {
   "cell_type": "code",
   "execution_count": null,
   "id": "3572c079-d1ac-4e8c-b52f-7f0092214538",
   "metadata": {},
   "outputs": [],
   "source": []
  },
  {
   "cell_type": "markdown",
   "id": "65e49dc9-8f00-4f38-b913-6bbc213edae2",
   "metadata": {},
   "source": [
    "##### Que 1). How Do You Distinguish Between shutil.copy() And shutil.copytree()?"
   ]
  },
  {
   "cell_type": "code",
   "execution_count": null,
   "id": "d280fd9b-e51e-4373-8af5-8964a56cbda4",
   "metadata": {},
   "outputs": [],
   "source": [
    "# Answer:-\n",
    "\n",
    "# shutil.copy(src, dst) Copies A Single File From src To dst.\n",
    "# shutil.copytree(src , dst) Copies An Entire Directory Tree (Including Subdirectories And Files) From src To A New Directory dst."
   ]
  },
  {
   "cell_type": "code",
   "execution_count": null,
   "id": "e105a9b6-04fc-4b94-8582-9ea5293e9512",
   "metadata": {},
   "outputs": [],
   "source": []
  },
  {
   "cell_type": "code",
   "execution_count": null,
   "id": "c68e5b2a-7b29-4b60-b717-18bdca6c80ec",
   "metadata": {},
   "outputs": [],
   "source": []
  },
  {
   "cell_type": "markdown",
   "id": "926936bd-8cea-48bf-9c63-27355c4569e9",
   "metadata": {},
   "source": [
    "##### Que 2). What Function Is Used To Rename Files??"
   ]
  },
  {
   "cell_type": "code",
   "execution_count": 107,
   "id": "8677cc94-8ccc-4333-be41-d22fde7252e9",
   "metadata": {},
   "outputs": [
    {
     "ename": "FileNotFoundError",
     "evalue": "[WinError 2] The system cannot find the file specified: 'D:\\\\CloudBlitz\\\\DATA Science With Amit Makode Sir (FROM 24-06-2025 TO ONWARDS)\\\\MYSQL\\\\Dataset\\\\old_name.txt' -> 'D:\\\\CloudBlitz\\\\DATA Science With Amit Makode Sir (FROM 24-06-2025 TO ONWARDS)\\\\MYSQL\\\\Dataset\\\\new_name.txt'",
     "output_type": "error",
     "traceback": [
      "\u001b[1;31m---------------------------------------------------------------------------\u001b[0m",
      "\u001b[1;31mFileNotFoundError\u001b[0m                         Traceback (most recent call last)",
      "Cell \u001b[1;32mIn[107], line 12\u001b[0m\n\u001b[0;32m      9\u001b[0m new_path \u001b[38;5;241m=\u001b[39m \u001b[38;5;124mr\u001b[39m\u001b[38;5;124m\"\u001b[39m\u001b[38;5;124mD:\u001b[39m\u001b[38;5;124m\\\u001b[39m\u001b[38;5;124mCloudBlitz\u001b[39m\u001b[38;5;124m\\\u001b[39m\u001b[38;5;124mDATA Science With Amit Makode Sir (FROM 24-06-2025 TO ONWARDS)\u001b[39m\u001b[38;5;124m\\\u001b[39m\u001b[38;5;124mMYSQL\u001b[39m\u001b[38;5;124m\\\u001b[39m\u001b[38;5;124mDataset\u001b[39m\u001b[38;5;124m\\\u001b[39m\u001b[38;5;124mnew_name.txt\u001b[39m\u001b[38;5;124m\"\u001b[39m \u001b[38;5;66;03m# New Text File Nmae -(new_name.txt)\u001b[39;00m\n\u001b[0;32m     11\u001b[0m \u001b[38;5;66;03m# Rename The File\u001b[39;00m\n\u001b[1;32m---> 12\u001b[0m os\u001b[38;5;241m.\u001b[39mrename(old_path, new_path)\n\u001b[0;32m     14\u001b[0m \u001b[38;5;28mprint\u001b[39m(\u001b[38;5;124m\"\u001b[39m\u001b[38;5;124mFile Renamed Successfully!\u001b[39m\u001b[38;5;124m\"\u001b[39m)\n",
      "\u001b[1;31mFileNotFoundError\u001b[0m: [WinError 2] The system cannot find the file specified: 'D:\\\\CloudBlitz\\\\DATA Science With Amit Makode Sir (FROM 24-06-2025 TO ONWARDS)\\\\MYSQL\\\\Dataset\\\\old_name.txt' -> 'D:\\\\CloudBlitz\\\\DATA Science With Amit Makode Sir (FROM 24-06-2025 TO ONWARDS)\\\\MYSQL\\\\Dataset\\\\new_name.txt'"
     ]
    }
   ],
   "source": [
    "# Answer:- Use os.rename(old_name, new_name) To Rename A File Or Move It To A New Path.\n",
    "\n",
    "# Step 1- Create Text File Name With Name - \n",
    "\n",
    "import os\n",
    "\n",
    "# Define Full Paths For Old And New Filenames\n",
    "old_path = r\"D:\\CloudBlitz\\DATA Science With Amit Makode Sir (FROM 24-06-2025 TO ONWARDS)\\MYSQL\\Dataset\\old_name.txt\" # Old Text File Name -(old_name.txt)\n",
    "new_path = r\"D:\\CloudBlitz\\DATA Science With Amit Makode Sir (FROM 24-06-2025 TO ONWARDS)\\MYSQL\\Dataset\\new_name.txt\" # New Text File Nmae -(new_name.txt)\n",
    "\n",
    "# Rename The File\n",
    "os.rename(old_path, new_path)\n",
    "\n",
    "print(\"File Renamed Successfully!\")"
   ]
  },
  {
   "cell_type": "code",
   "execution_count": null,
   "id": "0a4ac7f0-ea8b-44fa-85bc-d8c77219a8cd",
   "metadata": {},
   "outputs": [],
   "source": []
  },
  {
   "cell_type": "code",
   "execution_count": null,
   "id": "e1f48e4d-bce2-4f28-b55f-da0e7ce9a247",
   "metadata": {},
   "outputs": [],
   "source": []
  },
  {
   "cell_type": "markdown",
   "id": "5822eb7f-a9ac-4e98-bef7-57a7ba35e888",
   "metadata": {},
   "source": [
    "##### Que 3). What Is The Difference Between The Delete Functions In The send2trash And shutil Modules?"
   ]
  },
  {
   "cell_type": "code",
   "execution_count": null,
   "id": "6170f283-d01a-48d9-aefd-762e5a62a3b6",
   "metadata": {},
   "outputs": [],
   "source": [
    "# Answer:-\n",
    "\n",
    "# send2trash.send2trash(path) Moves Files Or Folders To The Recycle Bin (Windows) Or Trash (MacOS/linux)—Safe Deletion.\n",
    "# shutil.rmtree(path) Or os.remove(path) Permanently Deletes Files/Folders—Cannot Be Recovered Easily.\n",
    "# Use send2trash When You Want To Allow A Chance For Recovery."
   ]
  },
  {
   "cell_type": "code",
   "execution_count": null,
   "id": "5b4b104a-34ff-427d-a062-5fd55e77fe09",
   "metadata": {},
   "outputs": [],
   "source": []
  },
  {
   "cell_type": "code",
   "execution_count": null,
   "id": "fb781cb8-6d6c-4612-bf90-e6bb41f8751c",
   "metadata": {},
   "outputs": [],
   "source": []
  },
  {
   "cell_type": "markdown",
   "id": "8fa9d0dc-a8df-4d7c-bad3-f2158e06e6e9",
   "metadata": {},
   "source": [
    "##### Que 4). ZipFile Objects Have A close() Method Just Like File Objects’ close() Method. What ZipFile Method Is Equivalent To File Objects’ open() Method?"
   ]
  },
  {
   "cell_type": "code",
   "execution_count": 109,
   "id": "b9171cb9-3ee7-42bb-8d04-69dc9d0b59b5",
   "metadata": {},
   "outputs": [
    {
     "name": "stdout",
     "output_type": "stream",
     "text": [
      "Files inside ZIP archive:\n",
      "['bank.csv']\n",
      "\n",
      " Preview of 'bank.csv':\n",
      "\"age\",\"job\",\"marital\",\"education\",\"default\",\"balance\",\"housing\",\"loan\",\"contact\",\"day\",\"month\",\"duration\",\"campaign\",\"pdays\",\"previous\",\"poutcome\",\"y\"\n",
      "30,\"unemployed\",\"married\",\"primary\",\"no\",1787,\"no\",\"no\",\"cellular\",19,\"oct\",79,1,-1,0,\"unknown\",0\n",
      "33,\"services\",\"married\",\"secondary\",\"no\",4789,\"yes\",\"yes\",\"cellular\",11,\"may\",220,1,339,4,\"failure\",0\n",
      "35,\"management\",\"single\",\"tertiary\",\"no\",1350,\"yes\",\"no\",\"cellular\",16,\"apr\",185,1,330,1,\"failure\",0\n",
      "30,\"management\",\"married\",\"tertiary\",\"no\",1476,\"yes\",\"yes\",\"unknown\",3,\"jun\",199,4,-1,0,\"unknown\",0\n"
     ]
    }
   ],
   "source": [
    "# Answer:-\n",
    "\n",
    "from zipfile import ZipFile\n",
    "\n",
    "# Define The Full Path To The ZIP File\n",
    "zip_path = r\"D:\\CloudBlitz\\DATA Science With Amit Makode Sir (FROM 24-06-2025 TO ONWARDS)\\MYSQL\\Dataset\\example1.zip\"\n",
    "\n",
    "# Open The ZIP Archive\n",
    "with ZipFile(zip_path, 'r') as zipf:\n",
    "    \n",
    "    # List Contents Of The ZIP File\n",
    "    print(\"Files inside ZIP archive:\")\n",
    "    print(zipf.namelist())  # Shows All Files Inside The ZIP\n",
    "\n",
    "    # Open And Read 'bank.csv' Inside The ZIP Archive\n",
    "    \n",
    "    with zipf.open('bank.csv') as file:\n",
    "        \n",
    "        # Read And Decode Content\n",
    "        content = file.read().decode('utf-8')\n",
    "        \n",
    "        # Print Only First Few Lines For Preview\n",
    "        \n",
    "        print(\"\\n Preview of 'bank.csv':\")\n",
    "        lines = content.split('\\n')\n",
    "        for line in lines[:5]:  # Print First 5 Lines Only\n",
    "            print(line)"
   ]
  },
  {
   "cell_type": "code",
   "execution_count": null,
   "id": "bbe68c05-9f31-44a3-87b4-a9d8b0772064",
   "metadata": {},
   "outputs": [],
   "source": []
  },
  {
   "cell_type": "code",
   "execution_count": null,
   "id": "e10fe3b8-c571-48c4-8ea3-e2f8bdf9a3d5",
   "metadata": {},
   "outputs": [],
   "source": []
  },
  {
   "cell_type": "markdown",
   "id": "9e8de94e-e240-43e7-b93b-4cab4df97803",
   "metadata": {},
   "source": [
    "##### Que 5). Create A Programme That Searches A Folder Tree For Files With A Certain File Extension (Such As .pdf Or .jpg). Copy These Files From Whatever Location They Are In To A New Folder."
   ]
  },
  {
   "cell_type": "code",
   "execution_count": null,
   "id": "bf15f29a-f2e1-4393-8113-63d95928b2a6",
   "metadata": {},
   "outputs": [],
   "source": [
    "# Answer:- \n",
    "\n",
    "# Task:- Search Through A Folder Tree And Copy All Files With A Specific Extension (e.g., .pdf, .jpg) To A New Folder."
   ]
  },
  {
   "cell_type": "code",
   "execution_count": 110,
   "id": "db991ed2-dd03-4fb8-9768-bc899979cf37",
   "metadata": {},
   "outputs": [
    {
     "name": "stderr",
     "output_type": "stream",
     "text": [
      "<>:18: SyntaxWarning: invalid escape sequence '\\C'\n",
      "<>:19: SyntaxWarning: invalid escape sequence '\\C'\n",
      "<>:18: SyntaxWarning: invalid escape sequence '\\C'\n",
      "<>:19: SyntaxWarning: invalid escape sequence '\\C'\n",
      "C:\\Users\\DELL\\AppData\\Local\\Temp\\ipykernel_14428\\2673755953.py:18: SyntaxWarning: invalid escape sequence '\\C'\n",
      "  source_directory = \"D:\\CloudBlitz\\Datasets\"\n",
      "C:\\Users\\DELL\\AppData\\Local\\Temp\\ipykernel_14428\\2673755953.py:19: SyntaxWarning: invalid escape sequence '\\C'\n",
      "  destination_directory = \"D:\\CloudBlitz\\Datasets\"\n"
     ]
    }
   ],
   "source": [
    "import os\n",
    "import shutil\n",
    "\n",
    "def copy_files_by_extension(src_folder, dest_folder, file_ext):\n",
    "    \n",
    "    # Make Sure Destination Folder Exists\n",
    "    os.makedirs(dest_folder, exist_ok=True)\n",
    "\n",
    "    # Walk Through The Source Folder Tree\n",
    "    for foldername, subfolders, filenames in os.walk(src_folder):\n",
    "        for filename in filenames:\n",
    "            if filename.lower().endswith(file_ext.lower()):\n",
    "                full_path = os.path.join(foldername, filename)\n",
    "                print(f\"Copying: {full_path}\")\n",
    "                shutil.copy(full_path, dest_folder)\n",
    "\n",
    "# Example Usage\n",
    "source_directory = \"D:\\CloudBlitz\\Datasets\"\n",
    "destination_directory = \"D:\\CloudBlitz\\Datasets\"\n",
    "file_extension = '.pdf'  # Change This To '.jpg' Or Any Other Extension\n",
    "\n",
    "copy_files_by_extension(source_directory, destination_directory, file_extension)"
   ]
  },
  {
   "cell_type": "code",
   "execution_count": null,
   "id": "c2f60ceb-e402-4ddc-9d98-adcd94d31b03",
   "metadata": {},
   "outputs": [],
   "source": []
  },
  {
   "cell_type": "code",
   "execution_count": null,
   "id": "f8b8b495-dc9e-4f14-8a17-529d8a7bee45",
   "metadata": {},
   "outputs": [],
   "source": []
  },
  {
   "cell_type": "markdown",
   "id": "845db747-c313-46ca-9d6e-661bf38f9e5f",
   "metadata": {},
   "source": [
    "### ASSIGNMENTS - 11"
   ]
  },
  {
   "cell_type": "code",
   "execution_count": null,
   "id": "05d588d0-a8bf-4dd8-9c0a-f87bc8cef743",
   "metadata": {},
   "outputs": [],
   "source": []
  },
  {
   "cell_type": "code",
   "execution_count": null,
   "id": "afb23ae9-b592-4af7-b2e1-df5f79acf202",
   "metadata": {},
   "outputs": [],
   "source": []
  },
  {
   "cell_type": "markdown",
   "id": "261d3c40-c34e-4bf2-a464-baee3aa41d66",
   "metadata": {},
   "source": [
    "##### Que 1). Create An Assert Statement That Throws An Assertion Error If The Variable Spam Is A Negative Integer.?"
   ]
  },
  {
   "cell_type": "code",
   "execution_count": 111,
   "id": "ec618ce5-b6ae-408a-bd43-34e772f5539f",
   "metadata": {},
   "outputs": [
    {
     "ename": "TypeError",
     "evalue": "'>=' not supported between instances of 'list' and 'int'",
     "output_type": "error",
     "traceback": [
      "\u001b[1;31m---------------------------------------------------------------------------\u001b[0m",
      "\u001b[1;31mTypeError\u001b[0m                                 Traceback (most recent call last)",
      "Cell \u001b[1;32mIn[111], line 3\u001b[0m\n\u001b[0;32m      1\u001b[0m \u001b[38;5;66;03m# Answer:-\u001b[39;00m\n\u001b[1;32m----> 3\u001b[0m \u001b[38;5;28;01massert\u001b[39;00m spam \u001b[38;5;241m>\u001b[39m\u001b[38;5;241m=\u001b[39m \u001b[38;5;241m0\u001b[39m, \u001b[38;5;124m\"\u001b[39m\u001b[38;5;124mAssertionError: spam should not be a negative integer\u001b[39m\u001b[38;5;124m\"\u001b[39m\n",
      "\u001b[1;31mTypeError\u001b[0m: '>=' not supported between instances of 'list' and 'int'"
     ]
    }
   ],
   "source": [
    "# Answer:-\n",
    "\n",
    "assert spam >= 0, \"AssertionError: spam should not be a negative integer\""
   ]
  },
  {
   "cell_type": "code",
   "execution_count": null,
   "id": "24ee0dae-e4d5-4adf-a68b-467d0c100cfd",
   "metadata": {},
   "outputs": [],
   "source": []
  },
  {
   "cell_type": "code",
   "execution_count": null,
   "id": "f9df2d9a-aed3-4f1e-b2c2-2d83acb41bd4",
   "metadata": {},
   "outputs": [],
   "source": []
  },
  {
   "cell_type": "markdown",
   "id": "9ae35f6c-ec21-4247-b97a-dc1d1d939292",
   "metadata": {},
   "source": [
    "##### Que 2). Write An Assert Statement That Triggers An Assertion Error If The Variables Eggs And Bacon Contain Strings That Are The Same As Each Other, Even If Their Cases Are Different (That Is, 'hello' And 'hello' Are Considered The Same, And 'goodbye' And ''GOODbye' Are Also Considered The Same).?"
   ]
  },
  {
   "cell_type": "code",
   "execution_count": 112,
   "id": "f7338d57-6257-4d28-a8b3-52d3f25a8815",
   "metadata": {},
   "outputs": [
    {
     "ename": "AssertionError",
     "evalue": "AssertionError: eggs and bacon should not be the same (case-insensitive)",
     "output_type": "error",
     "traceback": [
      "\u001b[1;31m---------------------------------------------------------------------------\u001b[0m",
      "\u001b[1;31mAssertionError\u001b[0m                            Traceback (most recent call last)",
      "Cell \u001b[1;32mIn[112], line 6\u001b[0m\n\u001b[0;32m      3\u001b[0m eggs \u001b[38;5;241m=\u001b[39m \u001b[38;5;124m\"\u001b[39m\u001b[38;5;124mHello\u001b[39m\u001b[38;5;124m\"\u001b[39m\n\u001b[0;32m      4\u001b[0m bacon \u001b[38;5;241m=\u001b[39m \u001b[38;5;124m\"\u001b[39m\u001b[38;5;124mhello\u001b[39m\u001b[38;5;124m\"\u001b[39m\n\u001b[1;32m----> 6\u001b[0m \u001b[38;5;28;01massert\u001b[39;00m eggs\u001b[38;5;241m.\u001b[39mlower() \u001b[38;5;241m!=\u001b[39m bacon\u001b[38;5;241m.\u001b[39mlower(), \u001b[38;5;124m\"\u001b[39m\u001b[38;5;124mAssertionError: eggs and bacon should not be the same (case-insensitive)\u001b[39m\u001b[38;5;124m\"\u001b[39m\n",
      "\u001b[1;31mAssertionError\u001b[0m: AssertionError: eggs and bacon should not be the same (case-insensitive)"
     ]
    }
   ],
   "source": [
    "# Answer:- (Given Error Due To Reason 'case-insensitive')\n",
    "\n",
    "eggs = \"Hello\"\n",
    "bacon = \"hello\"\n",
    "\n",
    "assert eggs.lower() != bacon.lower(), \"AssertionError: eggs and bacon should not be the same (case-insensitive)\""
   ]
  },
  {
   "cell_type": "code",
   "execution_count": 113,
   "id": "ef81c9fe-4430-44d2-86bd-0c719de320da",
   "metadata": {},
   "outputs": [],
   "source": [
    "eggs = \"Hello\"\n",
    "bacon = \"Goodbye\"\n",
    "\n",
    "assert eggs.lower() != bacon.lower(), \"AssertionError: eggs and bacon should not be the same (case-insensitive)\"\n",
    "# No Error, Because Strings Are Different"
   ]
  },
  {
   "cell_type": "code",
   "execution_count": null,
   "id": "4915ebac-71c7-42aa-8556-30bb0cebfc68",
   "metadata": {},
   "outputs": [],
   "source": []
  },
  {
   "cell_type": "code",
   "execution_count": null,
   "id": "ea699a33-6aba-4729-8393-88962709f438",
   "metadata": {},
   "outputs": [],
   "source": []
  },
  {
   "cell_type": "markdown",
   "id": "e1ebf2a3-928a-4169-acc3-aa869ff318f0",
   "metadata": {},
   "source": [
    "##### Que 3). Create An Assert Statement That Throws An Assertion Error Every Time.?"
   ]
  },
  {
   "cell_type": "code",
   "execution_count": 114,
   "id": "0a837233-ddb6-40fc-a788-8fda300b88ae",
   "metadata": {},
   "outputs": [
    {
     "ename": "AssertionError",
     "evalue": "This assertion always fails",
     "output_type": "error",
     "traceback": [
      "\u001b[1;31m---------------------------------------------------------------------------\u001b[0m",
      "\u001b[1;31mAssertionError\u001b[0m                            Traceback (most recent call last)",
      "Cell \u001b[1;32mIn[114], line 3\u001b[0m\n\u001b[0;32m      1\u001b[0m \u001b[38;5;66;03m# Answer:- \u001b[39;00m\n\u001b[1;32m----> 3\u001b[0m \u001b[38;5;28;01massert\u001b[39;00m \u001b[38;5;28;01mFalse\u001b[39;00m, \u001b[38;5;124m\"\u001b[39m\u001b[38;5;124mThis assertion always fails\u001b[39m\u001b[38;5;124m\"\u001b[39m\n",
      "\u001b[1;31mAssertionError\u001b[0m: This assertion always fails"
     ]
    }
   ],
   "source": [
    "# Answer:- \n",
    "\n",
    "assert False, \"This assertion always fails\""
   ]
  },
  {
   "cell_type": "code",
   "execution_count": null,
   "id": "01a538f4-75e1-4080-b83e-a42c864816be",
   "metadata": {},
   "outputs": [],
   "source": []
  },
  {
   "cell_type": "code",
   "execution_count": null,
   "id": "501ced8f-76e1-47da-84bb-c9a61dd0bfc9",
   "metadata": {},
   "outputs": [],
   "source": []
  },
  {
   "cell_type": "markdown",
   "id": "e4d2a3c8-a1eb-4d6b-91da-afd7684e6e84",
   "metadata": {},
   "source": [
    "##### Que 4). What Are The Two Lines That Must Be Present In Your Software In Order To Call logging.debug()?"
   ]
  },
  {
   "cell_type": "code",
   "execution_count": 115,
   "id": "c92b9cc3-c0df-4acc-871c-24bf9a28ea4d",
   "metadata": {},
   "outputs": [],
   "source": [
    "# Answer:-\n",
    "\n",
    "import logging\n",
    "logging.basicConfig(level=logging.DEBUG)"
   ]
  },
  {
   "cell_type": "code",
   "execution_count": null,
   "id": "59444b39-300f-463d-8e3a-ba6ec0b313df",
   "metadata": {},
   "outputs": [],
   "source": []
  },
  {
   "cell_type": "code",
   "execution_count": null,
   "id": "dd4c164b-2996-4c0a-8543-85a8e509a638",
   "metadata": {},
   "outputs": [],
   "source": []
  },
  {
   "cell_type": "markdown",
   "id": "7a2ef3bd-1de3-4594-9757-05f04d12b289",
   "metadata": {},
   "source": [
    "##### Que 5). What Are The Two Lines That Your Program Must Have In Order To Have Logging. Debug() Send A Logging Message To A File Named Programlog.txt?"
   ]
  },
  {
   "cell_type": "code",
   "execution_count": 116,
   "id": "2fbf7f95-a112-4d0f-a868-d694cabe2a6f",
   "metadata": {},
   "outputs": [],
   "source": [
    "# Answer:-\n",
    "\n",
    "\n",
    "import logging\n",
    "logging.basicConfig(filename='programLog.txt', level=logging.DEBUG, format='%(asctime)s - %(levelname)s - %(message)s')"
   ]
  },
  {
   "cell_type": "code",
   "execution_count": null,
   "id": "5d0fb358-d3ad-49f9-8378-62832235c5b5",
   "metadata": {},
   "outputs": [],
   "source": []
  },
  {
   "cell_type": "code",
   "execution_count": null,
   "id": "a676f474-6673-4f45-b31e-3b1a6f4f13a4",
   "metadata": {},
   "outputs": [],
   "source": []
  },
  {
   "cell_type": "markdown",
   "id": "449efd03-914f-45b1-9eae-254cc766a4b4",
   "metadata": {},
   "source": [
    "##### Que 6). What Are The Five Levels Of Logging?"
   ]
  },
  {
   "cell_type": "code",
   "execution_count": null,
   "id": "6e1b695d-1692-4ef1-ae44-8ac968f6da02",
   "metadata": {},
   "outputs": [],
   "source": [
    "# Answer:-\n",
    "\n",
    "# DEBUG – Detailed Information, Useful During Development.\n",
    "# INFO – General Information About Program Execution.\n",
    "# WARNING – Indicates Something Unexpected Or Potentially Problematic.\n",
    "# ERROR – A More Serious Problem That Has Occurred.\n",
    "# CRITICAL – A Very Serious Error; Program May Not Continue."
   ]
  },
  {
   "cell_type": "code",
   "execution_count": null,
   "id": "0cf3fdfa-f9e9-42e0-983f-636ef0588800",
   "metadata": {},
   "outputs": [],
   "source": []
  },
  {
   "cell_type": "code",
   "execution_count": null,
   "id": "db4925b7-4865-49e3-b23f-2001514e99d9",
   "metadata": {},
   "outputs": [],
   "source": []
  },
  {
   "cell_type": "markdown",
   "id": "4ab14f31-cba0-4bde-ab6a-1ec3b72abb0d",
   "metadata": {},
   "source": [
    "##### Que 7). What Line Of Code Would You Add To Your Software To Disable All Logging Messages?"
   ]
  },
  {
   "cell_type": "code",
   "execution_count": 117,
   "id": "621aab37-fc18-4fe4-b391-0101cbde116d",
   "metadata": {},
   "outputs": [],
   "source": [
    "# Answer:-\n",
    "\n",
    "logging.disable(logging.CRITICAL)"
   ]
  },
  {
   "cell_type": "code",
   "execution_count": null,
   "id": "bb71136f-d4a5-474b-8117-19a91fccbc56",
   "metadata": {},
   "outputs": [],
   "source": []
  },
  {
   "cell_type": "code",
   "execution_count": null,
   "id": "ea351e28-5e04-4d8d-8309-0d7745018a67",
   "metadata": {},
   "outputs": [],
   "source": []
  },
  {
   "cell_type": "markdown",
   "id": "9bbe5e99-8ffb-4ef6-94fd-b8d1a9036cdf",
   "metadata": {},
   "source": [
    "##### Que 8). Why Is Using Logging Messages Better Than Using Print() To Display The Same Message?"
   ]
  },
  {
   "cell_type": "code",
   "execution_count": null,
   "id": "50d293bb-f50c-4aeb-b127-f68179e49ab0",
   "metadata": {},
   "outputs": [],
   "source": [
    "# Answer:-\n",
    "\n",
    "# Logging Provides Multiple Levels Of Severity (DEBUG, INFO, ERROR, Etc.).\n",
    "# You Can Write Logs To Files, Making It Easier To Keep Records Of Program Behavior.\n",
    "# You Can Enable Or Disable Logging Easily Without Changing Code.\n",
    "# Logging Is More Flexible And Suitable For Production Environments."
   ]
  },
  {
   "cell_type": "code",
   "execution_count": null,
   "id": "95e8bcef-150b-4a74-8a5d-243ceae1ec25",
   "metadata": {},
   "outputs": [],
   "source": []
  },
  {
   "cell_type": "code",
   "execution_count": null,
   "id": "9b2385cc-0da8-4558-aef0-680806c87eaf",
   "metadata": {},
   "outputs": [],
   "source": []
  },
  {
   "cell_type": "markdown",
   "id": "45468c6a-ea4c-4b04-97b3-7cea12e7def6",
   "metadata": {},
   "source": [
    "##### Que 9). What Are The Differences Between The Step Over, Step In, And Step Out Buttons In The Debugger?"
   ]
  },
  {
   "cell_type": "code",
   "execution_count": null,
   "id": "d97ec999-cc0b-48ad-81a4-a5b07283be07",
   "metadata": {},
   "outputs": [],
   "source": [
    "# Answer:-\n",
    "\n",
    "# Step Over: Executes The Current Line, But If It Contains A Function Call, It Runs The Whole Function Without Stepping Into It.\n",
    "# Step In: Goes Into The Function Call On The Current Line And Lets You Debug Line-By-Line Inside That Function.\n",
    "# Step Out: Finishes The Execution Of The Current Function And Returns To The Calling Function."
   ]
  },
  {
   "cell_type": "code",
   "execution_count": null,
   "id": "27e8e44d-bca5-43d7-8afb-6f9cf85eee27",
   "metadata": {},
   "outputs": [],
   "source": []
  },
  {
   "cell_type": "code",
   "execution_count": null,
   "id": "c874582e-6e9a-42e1-b1e8-dce3456877d5",
   "metadata": {},
   "outputs": [],
   "source": []
  },
  {
   "cell_type": "markdown",
   "id": "fff6d4af-ff64-47d4-8efc-8bf71a17ff77",
   "metadata": {},
   "source": [
    "##### Que 10).After You Click Continue, When Will The Debugger Stop ?"
   ]
  },
  {
   "cell_type": "code",
   "execution_count": null,
   "id": "47cbf9fc-d860-4799-b230-666e5529ce27",
   "metadata": {},
   "outputs": [],
   "source": [
    "# Answer:- \n",
    "\n",
    "# The Debugger Will Stop When It Reaches The Next Breakpoint Or When The Program Finishes Execution, Whichever Comes First."
   ]
  },
  {
   "cell_type": "code",
   "execution_count": null,
   "id": "7ccda232-3f03-44c4-bb73-561777727b18",
   "metadata": {},
   "outputs": [],
   "source": []
  },
  {
   "cell_type": "code",
   "execution_count": null,
   "id": "af1d7123-ba28-4a55-9e5b-f98205886623",
   "metadata": {},
   "outputs": [],
   "source": []
  },
  {
   "cell_type": "markdown",
   "id": "56185fa7-b398-4332-88e9-88260d7829a6",
   "metadata": {},
   "source": [
    "##### Que 11). What Is The Concept Of A Breakpoint?"
   ]
  },
  {
   "cell_type": "code",
   "execution_count": null,
   "id": "eba8e3b5-e275-49be-8664-027e1312982a",
   "metadata": {},
   "outputs": [],
   "source": [
    "# Answer:- \n",
    "\n",
    "# A Breakpoint Is A Marker Set By The Programmer To Pause The Execution Of Code At A Specific Line. \n",
    "# This Allows You To Inspect Variables, Step Through Code, And Diagnose Issues During Debugging."
   ]
  },
  {
   "cell_type": "code",
   "execution_count": null,
   "id": "dcd1f138-62d7-4e53-b091-4f41544b7a99",
   "metadata": {},
   "outputs": [],
   "source": []
  },
  {
   "cell_type": "code",
   "execution_count": null,
   "id": "68e5c875-e73b-4ca3-98f2-6cd2f21185f9",
   "metadata": {},
   "outputs": [],
   "source": []
  },
  {
   "cell_type": "markdown",
   "id": "938e1dc1-5b6c-46d8-bdae-08c928e1cc79",
   "metadata": {},
   "source": [
    "### ASSIGNMENTS - 12"
   ]
  },
  {
   "cell_type": "code",
   "execution_count": null,
   "id": "9e42e642-2b3f-4adf-afde-c482c1f815f1",
   "metadata": {},
   "outputs": [],
   "source": []
  },
  {
   "cell_type": "markdown",
   "id": "c0fbc210-348e-4b35-9f95-e22cfb42e5a2",
   "metadata": {},
   "source": [
    "##### Que 1). In What Modes Should The pdffilereader() And pdffilewriter() File Objects Will Be Opened?"
   ]
  },
  {
   "cell_type": "code",
   "execution_count": 118,
   "id": "40861c8f-2de9-4dab-8914-b0645776f004",
   "metadata": {},
   "outputs": [
    {
     "data": {
      "text/plain": [
       "<_io.BufferedReader name='example.pdf'>"
      ]
     },
     "execution_count": 118,
     "metadata": {},
     "output_type": "execute_result"
    }
   ],
   "source": [
    "# Answer:- \n",
    "\n",
    "# Read Mode:- PdfFileReader: File Should Be Opened In Binary Read Mode:\n",
    "\n",
    "open('example.pdf', 'rb')"
   ]
  },
  {
   "cell_type": "code",
   "execution_count": 119,
   "id": "b1f112b0-6192-49f4-95a1-26f8f738abcf",
   "metadata": {},
   "outputs": [
    {
     "data": {
      "text/plain": [
       "<_io.BufferedWriter name='example.pdf'>"
      ]
     },
     "execution_count": 119,
     "metadata": {},
     "output_type": "execute_result"
    }
   ],
   "source": [
    "# Write Mode:- PdfFileWriter: File Should Be Opened In Binary Write Mode:\n",
    "\n",
    "open('example.pdf', 'wb')"
   ]
  },
  {
   "cell_type": "code",
   "execution_count": null,
   "id": "e9bc16be-f447-446d-8852-5ac6c789c8c6",
   "metadata": {},
   "outputs": [],
   "source": []
  },
  {
   "cell_type": "markdown",
   "id": "ced7ee52-0e1a-45c7-aa8c-66b6172e2a80",
   "metadata": {},
   "source": [
    "##### Que 2). From A Pdffilereader Object, How Do You Get A Page Object For Page 5?"
   ]
  },
  {
   "cell_type": "code",
   "execution_count": 120,
   "id": "feb560a8-e28a-41f5-916d-94d66c179dc7",
   "metadata": {},
   "outputs": [
    {
     "name": "stdout",
     "output_type": "stream",
     "text": [
      "Requirement already satisfied: PyPDF2 in c:\\users\\dell\\anaconda3\\lib\\site-packages (3.0.1)\n"
     ]
    }
   ],
   "source": [
    "# Answer:- \n",
    "\n",
    "!pip install PyPDF2"
   ]
  },
  {
   "cell_type": "code",
   "execution_count": null,
   "id": "d7785db0-867f-4318-977f-2735e37d6701",
   "metadata": {},
   "outputs": [],
   "source": []
  },
  {
   "cell_type": "code",
   "execution_count": 121,
   "id": "7f3fc25a-d5a5-498c-bb21-1d0a05d58229",
   "metadata": {},
   "outputs": [],
   "source": [
    "import PyPDF2"
   ]
  },
  {
   "cell_type": "code",
   "execution_count": 122,
   "id": "0ce80902-6bde-48e9-9e04-d66916ee0bcc",
   "metadata": {},
   "outputs": [
    {
     "name": "stderr",
     "output_type": "stream",
     "text": [
      "<>:4: SyntaxWarning: invalid escape sequence '\\C'\n",
      "<>:4: SyntaxWarning: invalid escape sequence '\\C'\n",
      "C:\\Users\\DELL\\AppData\\Local\\Temp\\ipykernel_14428\\3227225520.py:4: SyntaxWarning: invalid escape sequence '\\C'\n",
      "  reader = PdfReader(\"D:\\CloudBlitz\\DATA Science With Amit Makode Sir (FROM 24-06-2025 TO ONWARDS)\\PYTHON\\Dataset\\example1.pdf\")\n"
     ]
    },
    {
     "name": "stdout",
     "output_type": "stream",
     "text": [
      "pellentesque ut dignissim quis, laoreet eget est. Aliquam erat volutpat. Class aptent taciti\n",
      "sociosqu ad litora torquent per conubia nostra, per inceptos himenaeos. Ut ullamcorper\n",
      "justo sapien, in cursus libero viverra eget. Vivamus auctor imperdiet urna, at pulvinar leo\n",
      "posuere laoreet. Suspendisse neque nisl, fringilla at iaculis scelerisque, ornare vel dolor. Ut\n",
      "et  pulvinar  nunc.  Pellentesque  fringilla  mollis  efficitur.  Nullam  venenatis  commodo\n",
      "imperdiet. Morbi velit neque, semper quis lorem quis, efficitur dignissim ipsum. Ut ac lorem\n",
      "sed turpis imperdiet eleifend sit amet id sapien.\n"
     ]
    }
   ],
   "source": [
    "from PyPDF2 import PdfReader\n",
    "\n",
    "# Load the PDF file (already uploaded in the notebook)\n",
    "reader = PdfReader(\"D:\\CloudBlitz\\DATA Science With Amit Makode Sir (FROM 24-06-2025 TO ONWARDS)\\PYTHON\\Dataset\\example1.pdf\")\n",
    "\n",
    "# Get the page object for page 5 (index 4, since indexing starts at 0)\n",
    "page5 = reader.pages[4]\n",
    "\n",
    "# Optional: Display page text\n",
    "print(page5.extract_text())"
   ]
  },
  {
   "cell_type": "code",
   "execution_count": null,
   "id": "c90ee6de-70ba-48c0-8a68-0f78aa4a7f3b",
   "metadata": {},
   "outputs": [],
   "source": []
  },
  {
   "cell_type": "code",
   "execution_count": null,
   "id": "1c5485af-ae62-4ffd-8200-2b66962aa959",
   "metadata": {},
   "outputs": [],
   "source": []
  },
  {
   "cell_type": "markdown",
   "id": "ae9475c0-811c-4d71-ac35-72381ab70b04",
   "metadata": {},
   "source": [
    "##### Que 3). What PdfFileReader Variable Stores The Number Of Pages In The PDF Document?"
   ]
  },
  {
   "cell_type": "code",
   "execution_count": 123,
   "id": "5631dabc-a2ef-4017-904f-5e793580bbfe",
   "metadata": {},
   "outputs": [
    {
     "name": "stdout",
     "output_type": "stream",
     "text": [
      "Total number of pages: 5\n"
     ]
    },
    {
     "name": "stderr",
     "output_type": "stream",
     "text": [
      "<>:3: SyntaxWarning: invalid escape sequence '\\C'\n",
      "<>:3: SyntaxWarning: invalid escape sequence '\\C'\n",
      "C:\\Users\\DELL\\AppData\\Local\\Temp\\ipykernel_14428\\4124670739.py:3: SyntaxWarning: invalid escape sequence '\\C'\n",
      "  reader = PdfReader(\"D:\\CloudBlitz\\DATA Science With Amit Makode Sir (FROM 24-06-2025 TO ONWARDS)\\PYTHON\\Dataset\\example1.pdf\")\n"
     ]
    }
   ],
   "source": [
    "# Answer:-\n",
    "\n",
    "reader = PdfReader(\"D:\\CloudBlitz\\DATA Science With Amit Makode Sir (FROM 24-06-2025 TO ONWARDS)\\PYTHON\\Dataset\\example1.pdf\")\n",
    "\n",
    "# Get Total Number Of Pages\n",
    "total_pages = len(reader.pages)\n",
    "\n",
    "print(\"Total number of pages:\", total_pages)"
   ]
  },
  {
   "cell_type": "code",
   "execution_count": null,
   "id": "707ceaeb-ed03-4c40-b606-6e3d73e4d086",
   "metadata": {},
   "outputs": [],
   "source": []
  },
  {
   "cell_type": "code",
   "execution_count": null,
   "id": "bc620bcb-3982-481a-ad51-212be7d04bca",
   "metadata": {},
   "outputs": [],
   "source": []
  },
  {
   "cell_type": "markdown",
   "id": "b5e692a9-04ad-42c8-84a4-d8fa6a892b5c",
   "metadata": {},
   "source": [
    "##### Que 4). If A PdfFileReader Object’s PDF Is Encrypted With The Password Swordfish, What Must You Do Before You Can Obtain Page Objects From It?"
   ]
  },
  {
   "cell_type": "code",
   "execution_count": 124,
   "id": "5ef3cb13-91a1-4e36-8d6f-ca6a3b6267bc",
   "metadata": {},
   "outputs": [
    {
     "name": "stderr",
     "output_type": "stream",
     "text": [
      "<>:4: SyntaxWarning: invalid escape sequence '\\C'\n",
      "<>:4: SyntaxWarning: invalid escape sequence '\\C'\n",
      "C:\\Users\\DELL\\AppData\\Local\\Temp\\ipykernel_14428\\1634934670.py:4: SyntaxWarning: invalid escape sequence '\\C'\n",
      "  reader = PdfReader(\"D:\\CloudBlitz\\DATA Science With Amit Makode Sir (FROM 24-06-2025 TO ONWARDS)\\PYTHON\\Dataset\\example1.pdf\")\n"
     ]
    }
   ],
   "source": [
    "# Answer:-\n",
    "\n",
    " \n",
    "reader = PdfReader(\"D:\\CloudBlitz\\DATA Science With Amit Makode Sir (FROM 24-06-2025 TO ONWARDS)\\PYTHON\\Dataset\\example1.pdf\")\n",
    "\n",
    "# Decrypt The PDF With The Password 'Swordfish'\n",
    "if reader.is_encrypted:\n",
    "    reader.decrypt(\"Swordfish\")\n",
    "\n",
    "# Now You Can Access Page Objects\n",
    "page = reader.pages[0]"
   ]
  },
  {
   "cell_type": "code",
   "execution_count": null,
   "id": "a356bba9-1535-4879-b37d-21aef77a8bee",
   "metadata": {},
   "outputs": [],
   "source": []
  },
  {
   "cell_type": "code",
   "execution_count": null,
   "id": "4ea9c6d3-7db9-4268-aed6-3088ccebb694",
   "metadata": {},
   "outputs": [],
   "source": []
  },
  {
   "cell_type": "markdown",
   "id": "77afed3e-6245-498e-800a-1c5698f7d3a5",
   "metadata": {},
   "source": [
    "##### Que 5). What Methods Do You Use To Rotate A Page?"
   ]
  },
  {
   "cell_type": "code",
   "execution_count": 125,
   "id": "bd975c95-63e8-4a8a-a503-8dda315f6810",
   "metadata": {},
   "outputs": [
    {
     "name": "stdout",
     "output_type": "stream",
     "text": [
      "PDF rotated and saved successfully!\n"
     ]
    }
   ],
   "source": [
    "# Answer:-\n",
    "\n",
    "import PyPDF2\n",
    "\n",
    "input_path = r\"D:\\CloudBlitz\\DATA Science With Amit Makode Sir (FROM 24-06-2025 TO ONWARDS)\\PYTHON\\Dataset\\example1.pdf\"\n",
    "output_path = r\"D:\\CloudBlitz\\DATA Science With Amit Makode Sir (FROM 24-06-2025 TO ONWARDS)\\PYTHON\\Dataset\\rotated_output.pdf\"\n",
    "\n",
    "with open(input_path, \"rb\") as file:\n",
    "    reader = PyPDF2.PdfReader(file)\n",
    "    writer = PyPDF2.PdfWriter()\n",
    "\n",
    "    # Rotate Page 1 (index 0) by 90 degrees clockwise\n",
    "    page = reader.pages[0]\n",
    "    rotated_page = page.rotate(90)\n",
    "    writer.add_page(rotated_page)\n",
    "\n",
    "    # Save to a new PDF file\n",
    "    with open(output_path, \"wb\") as output_file:\n",
    "        writer.write(output_file)\n",
    "\n",
    "print(\"PDF rotated and saved successfully!\")"
   ]
  },
  {
   "cell_type": "code",
   "execution_count": null,
   "id": "6b781edf-6cb7-4353-bc14-f088f83eb024",
   "metadata": {},
   "outputs": [],
   "source": []
  },
  {
   "cell_type": "code",
   "execution_count": null,
   "id": "ca7010da-f83c-44c6-a22a-0c70b0ea1c8d",
   "metadata": {},
   "outputs": [],
   "source": []
  },
  {
   "cell_type": "markdown",
   "id": "4bd6ad1b-a6d7-4b4d-aa1e-b8b7fcbf3e36",
   "metadata": {},
   "source": [
    "##### Que 6). What Is The Difference Between A Run Object And A Paragraph Object?"
   ]
  },
  {
   "cell_type": "code",
   "execution_count": null,
   "id": "966a8eb0-4913-4998-a16a-4064818dd74b",
   "metadata": {},
   "outputs": [],
   "source": [
    "# Answer:-\n",
    "\n",
    "# Paragraph:- Represents A Complete Paragraph Of Text.\n",
    "# Run:- Represents A Contiguous Run Of Text With The Same Formatting Inside A Paragraph.\n",
    "# A Paragraph Can Contain Multiple Runs With Different Styles (E.g., Bold, Italic, Etc.)."
   ]
  },
  {
   "cell_type": "code",
   "execution_count": null,
   "id": "bdda19e9-718c-4048-ba85-3a4123ea7d85",
   "metadata": {},
   "outputs": [],
   "source": []
  },
  {
   "cell_type": "code",
   "execution_count": null,
   "id": "a052430f-0ed5-4348-80d6-0440ff1cc579",
   "metadata": {},
   "outputs": [],
   "source": []
  },
  {
   "cell_type": "markdown",
   "id": "be564b5b-ff6c-4aec-b10d-50a8392fcead",
   "metadata": {},
   "source": [
    "##### Que 7). How Do You Obtain A List Of Paragraph Objects For A Document Object That’s Stored In A Variable Named Doc?"
   ]
  },
  {
   "cell_type": "code",
   "execution_count": 126,
   "id": "afb706d7-b8ba-4d80-abd1-de638a3ba737",
   "metadata": {},
   "outputs": [
    {
     "name": "stdout",
     "output_type": "stream",
     "text": [
      "Requirement already satisfied: python-docx in c:\\users\\dell\\anaconda3\\lib\\site-packages (1.2.0)\n",
      "Requirement already satisfied: lxml>=3.1.0 in c:\\users\\dell\\anaconda3\\lib\\site-packages (from python-docx) (5.2.1)\n",
      "Requirement already satisfied: typing_extensions>=4.9.0 in c:\\users\\dell\\anaconda3\\lib\\site-packages (from python-docx) (4.11.0)\n"
     ]
    }
   ],
   "source": [
    "# Answer:-  \n",
    "\n",
    "!pip install python-docx"
   ]
  },
  {
   "cell_type": "code",
   "execution_count": null,
   "id": "1c8642ca-422f-4bad-9090-2b92ad655073",
   "metadata": {},
   "outputs": [],
   "source": []
  },
  {
   "cell_type": "code",
   "execution_count": 127,
   "id": "3b606faf-213e-488b-986c-83dd4c51f7d9",
   "metadata": {},
   "outputs": [
    {
     "name": "stdout",
     "output_type": "stream",
     "text": [
      "Document saved successfully at D:\\CloudBlitz\\DATA Science With Amit Makode Sir (FROM 24-06-2025 TO ONWARDS)\\PYTHON\\Dataset\\my_document.docx\n"
     ]
    }
   ],
   "source": [
    "from docx import Document\n",
    "\n",
    "doc = Document()\n",
    "doc.add_paragraph('Hello, there!')\n",
    "\n",
    "save_path = r\"D:\\CloudBlitz\\DATA Science With Amit Makode Sir (FROM 24-06-2025 TO ONWARDS)\\PYTHON\\Dataset\\my_document.docx\"\n",
    "doc.save(save_path)\n",
    "\n",
    "print(f\"Document saved successfully at {save_path}\")"
   ]
  },
  {
   "cell_type": "code",
   "execution_count": null,
   "id": "b3bc7e46-3248-4569-bde0-837284230021",
   "metadata": {},
   "outputs": [],
   "source": []
  },
  {
   "cell_type": "code",
   "execution_count": null,
   "id": "07cea822-78c1-4837-a0f2-36d9fac2269d",
   "metadata": {},
   "outputs": [],
   "source": []
  },
  {
   "cell_type": "markdown",
   "id": "4b300e15-2aa5-4cb3-aca9-92d4a547bbde",
   "metadata": {},
   "source": [
    "##### Que 8). What Type Of Object Has Bold, Underline, Italic, Strike, And Outline Variables?"
   ]
  },
  {
   "cell_type": "code",
   "execution_count": null,
   "id": "8fb6f984-24a9-46c5-98cd-11d7b87c5ffa",
   "metadata": {},
   "outputs": [],
   "source": [
    "# Answer:- A Run Object Has These Text Formatting Properties."
   ]
  },
  {
   "cell_type": "code",
   "execution_count": null,
   "id": "36119e02-bdcb-4db3-89ea-f6542b7af059",
   "metadata": {},
   "outputs": [],
   "source": []
  },
  {
   "cell_type": "code",
   "execution_count": null,
   "id": "6c3a7db9-fd91-4270-9e9a-0eb88c3c9ae4",
   "metadata": {},
   "outputs": [],
   "source": []
  },
  {
   "cell_type": "markdown",
   "id": "a7ed24d1-da4d-4809-b219-37b11a1db8ea",
   "metadata": {},
   "source": [
    "##### Que 9). What Is The Difference Between False, True, And None For The Bold Variable?"
   ]
  },
  {
   "cell_type": "code",
   "execution_count": null,
   "id": "6e0c0739-6794-44f8-a0b9-1741689288ab",
   "metadata": {},
   "outputs": [],
   "source": [
    "# Answer:-\n",
    "\n",
    "# True:- Text Is Explicitly Set To Bold.\n",
    "# False:- Text Is Explicitly Set To Not Bold.\n",
    "# None:- No Explicit Setting; Text Inherits Bold Style From The Style Hierarchy (E.G., Document Or Paragraph Style)."
   ]
  },
  {
   "cell_type": "code",
   "execution_count": null,
   "id": "98a3c041-53dd-4e2a-9721-4ce5b450549c",
   "metadata": {},
   "outputs": [],
   "source": []
  },
  {
   "cell_type": "code",
   "execution_count": null,
   "id": "d6e2e1ec-9fae-4287-b750-79a85112185c",
   "metadata": {},
   "outputs": [],
   "source": []
  },
  {
   "cell_type": "markdown",
   "id": "683a2c88-3bf1-484f-a3c9-9776901c1a63",
   "metadata": {},
   "source": [
    "##### Que 10). How Do You Create A Document Object For A New Word Document?"
   ]
  },
  {
   "cell_type": "code",
   "execution_count": 128,
   "id": "eeb1e16c-c5b6-477f-8f35-f3f058334c19",
   "metadata": {},
   "outputs": [],
   "source": [
    "# Answer:-\n",
    "\n",
    "from docx import Document\n",
    "\n",
    "doc = Document()"
   ]
  },
  {
   "cell_type": "code",
   "execution_count": null,
   "id": "b9ed72b9-1bf3-4c03-b338-7debd383c885",
   "metadata": {},
   "outputs": [],
   "source": []
  },
  {
   "cell_type": "code",
   "execution_count": null,
   "id": "63d26e88-fdd7-4649-989a-45d1e6fb9ac0",
   "metadata": {},
   "outputs": [],
   "source": []
  },
  {
   "cell_type": "markdown",
   "id": "bb246c90-4b01-443e-aeb3-434dbad05e0c",
   "metadata": {},
   "source": [
    "##### Que 11). How Do You Add A Paragraph With The Text 'hello, There!' To A Document Object Stored In A Variable Named Doc?"
   ]
  },
  {
   "cell_type": "code",
   "execution_count": 129,
   "id": "df8e75e2-f5b2-4ce8-abf2-c8ca01dcf49d",
   "metadata": {},
   "outputs": [
    {
     "data": {
      "text/plain": [
       "<docx.text.paragraph.Paragraph at 0x1c710d5da30>"
      ]
     },
     "execution_count": 129,
     "metadata": {},
     "output_type": "execute_result"
    }
   ],
   "source": [
    "# Answer:-\n",
    "\n",
    "doc.add_paragraph('Hello, There!')"
   ]
  },
  {
   "cell_type": "code",
   "execution_count": null,
   "id": "6efe6c94-6b74-44b4-999d-068c310201b4",
   "metadata": {},
   "outputs": [],
   "source": []
  },
  {
   "cell_type": "code",
   "execution_count": null,
   "id": "804e4bbe-fdb5-4cec-adad-08ca143969e5",
   "metadata": {},
   "outputs": [],
   "source": []
  },
  {
   "cell_type": "markdown",
   "id": "1bff0ca0-526b-47bc-88ca-71bc57ad516c",
   "metadata": {},
   "source": [
    "##### Que 12). What Integers Represent The Levels Of Headings Available In Word Documents?"
   ]
  },
  {
   "cell_type": "code",
   "execution_count": 130,
   "id": "d7956465-bd40-4491-b167-15465b4de463",
   "metadata": {},
   "outputs": [
    {
     "data": {
      "text/plain": [
       "<docx.text.paragraph.Paragraph at 0x1c712261ca0>"
      ]
     },
     "execution_count": 130,
     "metadata": {},
     "output_type": "execute_result"
    }
   ],
   "source": [
    "# Answer:- \n",
    "\n",
    "# Word Supports Heading Levels 1 Through 9, Represented By Integers:\n",
    "# 1, 2, 3, ..., 9\n",
    "\n",
    "doc.add_heading('My Heading', level=1)"
   ]
  },
  {
   "cell_type": "code",
   "execution_count": null,
   "id": "6fe6530e-0ebe-4348-ac9b-2ccbe3f044e8",
   "metadata": {},
   "outputs": [],
   "source": []
  },
  {
   "cell_type": "code",
   "execution_count": null,
   "id": "b0bd5ab8-1754-4823-bdb1-9592cd3511ca",
   "metadata": {},
   "outputs": [],
   "source": []
  },
  {
   "cell_type": "markdown",
   "id": "939456f8-0f00-404b-b223-755699eac1e8",
   "metadata": {},
   "source": [
    "### ASSIGNMENTS - 13"
   ]
  },
  {
   "cell_type": "code",
   "execution_count": null,
   "id": "73292b1c-b12f-4f3d-a405-a483ff46d30b",
   "metadata": {},
   "outputs": [],
   "source": []
  },
  {
   "cell_type": "code",
   "execution_count": null,
   "id": "b94b877a-d37c-41fc-8d35-a0e9e944f836",
   "metadata": {},
   "outputs": [],
   "source": []
  },
  {
   "cell_type": "markdown",
   "id": "4ddbc4f8-ab07-4048-bc21-2b9a49b8f284",
   "metadata": {},
   "source": [
    "##### Que 1). What Advantages Do Excel Spreadsheets Have Over CSV Spreadsheets?"
   ]
  },
  {
   "cell_type": "code",
   "execution_count": null,
   "id": "40b5389d-1e3b-4a55-914c-9a9645d7444e",
   "metadata": {},
   "outputs": [],
   "source": [
    "# Answer:-\n",
    "\n",
    "# Multiple Sheets:-           Excel Files (.xlsx) Can Contain Multiple Worksheets; CSV Files Hold Only One Sheet.\n",
    "# Data Types And Formatting:- Excel Supports Rich Data Types, Formulas, Styling, Fonts, Colors, And Cell Formatting, Which CSV Cannot.\n",
    "# Better Data Integrity:-     Excel Preserves Data Types (Dates, Currency, Etc.), While Csv Stores Everything As Plain Text.\n",
    "# Support For Features:-      Excel Supports Charts, Pivot Tables, And Macros, Which CSV Does Not."
   ]
  },
  {
   "cell_type": "code",
   "execution_count": null,
   "id": "4b32a03e-c000-411c-a6e8-23a1f38ed778",
   "metadata": {},
   "outputs": [],
   "source": []
  },
  {
   "cell_type": "code",
   "execution_count": null,
   "id": "8506acda-cd70-4059-bff9-6c80abb37247",
   "metadata": {},
   "outputs": [],
   "source": []
  },
  {
   "cell_type": "markdown",
   "id": "d4dcb5ba-8119-4b40-8fe7-1276ee4e2f76",
   "metadata": {},
   "source": [
    "##### Que 2).what Do You Pass To csv.reader() And csv.writer() To Create Reader And Writer Objects?"
   ]
  },
  {
   "cell_type": "code",
   "execution_count": null,
   "id": "435b632a-1e56-4e46-b722-df74a8c174f6",
   "metadata": {},
   "outputs": [],
   "source": [
    "# Answer:-\n",
    "\n",
    "# A File Object Opened In Text Mode To Both:\n",
    "# For csv.reader(): A Readable File Object.\n",
    "# For csv.writer(): A Writable File Object."
   ]
  },
  {
   "cell_type": "code",
   "execution_count": null,
   "id": "b26916f4-72a0-4306-9827-796aa6321685",
   "metadata": {},
   "outputs": [],
   "source": [
    "import csv"
   ]
  },
  {
   "cell_type": "code",
   "execution_count": 131,
   "id": "64e135da-d7f0-4f0d-b86d-12384733c7c8",
   "metadata": {},
   "outputs": [
    {
     "ename": "NameError",
     "evalue": "name 'csv' is not defined",
     "output_type": "error",
     "traceback": [
      "\u001b[1;31m---------------------------------------------------------------------------\u001b[0m",
      "\u001b[1;31mNameError\u001b[0m                                 Traceback (most recent call last)",
      "Cell \u001b[1;32mIn[131], line 1\u001b[0m\n\u001b[1;32m----> 1\u001b[0m csv_reader \u001b[38;5;241m=\u001b[39m csv\u001b[38;5;241m.\u001b[39mreader(file_object)\n\u001b[0;32m      2\u001b[0m csv_writer \u001b[38;5;241m=\u001b[39m csv\u001b[38;5;241m.\u001b[39mwriter(file_object)\n",
      "\u001b[1;31mNameError\u001b[0m: name 'csv' is not defined"
     ]
    }
   ],
   "source": [
    "csv_reader = csv.reader(file_object)\n",
    "csv_writer = csv.writer(file_object) "
   ]
  },
  {
   "cell_type": "code",
   "execution_count": null,
   "id": "7fcb9186-ecb6-4d66-9fd5-56d79d3e4b58",
   "metadata": {},
   "outputs": [],
   "source": []
  },
  {
   "cell_type": "markdown",
   "id": "35731c35-57af-48b4-bdc6-7047ef9328c3",
   "metadata": {},
   "source": [
    "##### Que 3). What Modes Do File Objects For Reader And Writer Objects Need To Be Opened In?"
   ]
  },
  {
   "cell_type": "code",
   "execution_count": null,
   "id": "a6904f91-4a4d-4c0d-97d3-d104ecddfebe",
   "metadata": {},
   "outputs": [],
   "source": [
    "# Answer:-\n",
    "\n",
    "# For Reader Objects: Open The File In Text Read Mode: 'r'\n",
    "# For Writer Objects: Open The File In Text Write Mode: 'w'"
   ]
  },
  {
   "cell_type": "code",
   "execution_count": null,
   "id": "0cf839a9-73f3-437d-8b51-75aa502d3694",
   "metadata": {},
   "outputs": [],
   "source": []
  },
  {
   "cell_type": "code",
   "execution_count": null,
   "id": "a7ddd9eb-685f-4539-a53f-5989e776f88d",
   "metadata": {},
   "outputs": [],
   "source": []
  },
  {
   "cell_type": "markdown",
   "id": "3a761904-6d82-4986-b215-3efe557ec583",
   "metadata": {},
   "source": [
    "##### Que 4). What Method Takes A List Argument And Writes It To A CSV File?"
   ]
  },
  {
   "cell_type": "code",
   "execution_count": 132,
   "id": "5da44186-ab68-484a-8161-1c271e87a5a0",
   "metadata": {},
   "outputs": [],
   "source": [
    "# Answer:- writer.writerow(List) Writes A Single Row To A CSV File From A List.\n",
    "\n",
    "import csv\n",
    "\n",
    "# Open (Or Create) A CSV File In Write Mode\n",
    "\n",
    "with open('output.csv', 'w', newline='') as file_object:\n",
    "    csv_writer = csv.writer(file_object)              #  Now csv_writer Is Defined\n",
    "\n",
    "    # Write Rows To The File\n",
    "    csv_writer.writerow(['Name', 'Age', 'City'])      #  This Now Works\n",
    "    csv_writer.writerow(['Alice', 30, 'New York'])\n",
    "    csv_writer.writerow(['Bob', 25, 'Nagpur'])"
   ]
  },
  {
   "cell_type": "code",
   "execution_count": null,
   "id": "08172354-ace6-4ad0-a29c-284d284667bc",
   "metadata": {},
   "outputs": [],
   "source": []
  },
  {
   "cell_type": "code",
   "execution_count": null,
   "id": "c51e2e4f-3087-4ab8-b56c-30ce978a905d",
   "metadata": {},
   "outputs": [],
   "source": []
  },
  {
   "cell_type": "markdown",
   "id": "547ee5b0-b886-433a-a5de-1c6a0c52e1f7",
   "metadata": {},
   "source": [
    "##### Que 5). What Do The Keyword Arguments Delimiter And Line Terminator Do?"
   ]
  },
  {
   "cell_type": "code",
   "execution_count": null,
   "id": "4d5e885b-41f0-4079-a16b-76760544a4d7",
   "metadata": {},
   "outputs": [],
   "source": [
    "# Answer:- \n",
    "\n",
    "# Delimiter:- Specifies The Character That Separates Fields In The CSV File (Default Is A Comma ,).\n",
    "# Lineterminator:- Specifies The String Used To Terminate Lines (Default Is '\\r\\n' On Windows)."
   ]
  },
  {
   "cell_type": "code",
   "execution_count": 133,
   "id": "24728ba9-1857-494a-852a-3048c87dd627",
   "metadata": {},
   "outputs": [
    {
     "data": {
      "text/plain": [
       "<_csv.writer at 0x1c71223ac80>"
      ]
     },
     "execution_count": 133,
     "metadata": {},
     "output_type": "execute_result"
    }
   ],
   "source": [
    "csv.writer(file, delimiter=';', lineterminator='\\n')"
   ]
  },
  {
   "cell_type": "code",
   "execution_count": null,
   "id": "6db648cc-e92e-4f77-a599-5923fa99c547",
   "metadata": {},
   "outputs": [],
   "source": []
  },
  {
   "cell_type": "markdown",
   "id": "9e6bde86-f672-4559-9225-4ad9a697de3e",
   "metadata": {},
   "source": [
    "##### Que 6). What Function Takes A String Of Json Data And Returns A Python Data Structure?"
   ]
  },
  {
   "cell_type": "code",
   "execution_count": null,
   "id": "12fce80e-f658-47b2-bb75-5fa1fff51180",
   "metadata": {},
   "outputs": [],
   "source": [
    "# Answer:- It Parses A JSON Formatted String And Converts It To Python Objects Like dict Or List."
   ]
  },
  {
   "cell_type": "code",
   "execution_count": 134,
   "id": "2a78139d-c809-4c63-bdb8-7c88e741cff4",
   "metadata": {},
   "outputs": [],
   "source": [
    "import json"
   ]
  },
  {
   "cell_type": "code",
   "execution_count": 135,
   "id": "936c8146-9d2d-463d-b9f0-0f14f8c79c2b",
   "metadata": {},
   "outputs": [
    {
     "name": "stdout",
     "output_type": "stream",
     "text": [
      "Alice\n",
      "30\n"
     ]
    }
   ],
   "source": [
    "# Define A Valid JSON String\n",
    "json_string = '{\"name\": \"Alice\", \"age\": 30, \"city\": \"Nagpur\"}'\n",
    "\n",
    "# Convert JSON String To A Python Dictionary\n",
    "data = json.loads(json_string)\n",
    "\n",
    "# Access Data\n",
    "print(data['name'])  \n",
    "print(data['age'])   "
   ]
  },
  {
   "cell_type": "code",
   "execution_count": null,
   "id": "62ed27e8-5303-427c-b9d3-e061166d401b",
   "metadata": {},
   "outputs": [],
   "source": []
  },
  {
   "cell_type": "markdown",
   "id": "adc2338c-467f-45a9-bd72-27bc1b98003a",
   "metadata": {},
   "source": [
    "##### Que 7). What Function Takes A Python Data Structure And Returns A String Of Json Data?"
   ]
  },
  {
   "cell_type": "code",
   "execution_count": 136,
   "id": "82c2e109-8b18-4f11-ad97-f021efff5c9c",
   "metadata": {},
   "outputs": [],
   "source": [
    "# Answer:- \n",
    "\n",
    "import json"
   ]
  },
  {
   "cell_type": "code",
   "execution_count": 137,
   "id": "701a9ed6-ac2e-41d2-bbf9-189ead06a4ea",
   "metadata": {},
   "outputs": [
    {
     "name": "stdout",
     "output_type": "stream",
     "text": [
      "{\"name\": \"Alice\", \"age\": 30, \"city\": \"Nagpur\"}\n"
     ]
    }
   ],
   "source": [
    "# Define A Python Object (e.g., A Dictionary)\n",
    "python_object = {\n",
    "    \"name\": \"Alice\",\n",
    "    \"age\": 30,\n",
    "    \"city\": \"Nagpur\"\n",
    "}\n",
    "\n",
    "# Convert The Python Object To A JSON String\n",
    "json_string = json.dumps(python_object)\n",
    "\n",
    "# Output The JSON String\n",
    "print(json_string)"
   ]
  },
  {
   "cell_type": "code",
   "execution_count": null,
   "id": "d0a97b5b-c42e-4abb-94e9-db438536b591",
   "metadata": {},
   "outputs": [],
   "source": []
  },
  {
   "cell_type": "code",
   "execution_count": null,
   "id": "acce7245-c551-4b31-bab3-88c0591fbfbb",
   "metadata": {},
   "outputs": [],
   "source": []
  },
  {
   "cell_type": "markdown",
   "id": "156b4cae-bfe9-40eb-814f-a146f50f0254",
   "metadata": {},
   "source": [
    "### ASSIGNMENT - 14"
   ]
  },
  {
   "cell_type": "code",
   "execution_count": null,
   "id": "8b74d7f0-a795-42ba-a870-a08ecc25bf48",
   "metadata": {},
   "outputs": [],
   "source": []
  },
  {
   "cell_type": "code",
   "execution_count": null,
   "id": "21f619f1-0067-4b47-a606-b2fd7d7ea2b0",
   "metadata": {},
   "outputs": [],
   "source": []
  },
  {
   "cell_type": "markdown",
   "id": "bae38e5a-0f80-463e-9811-303f49811ccf",
   "metadata": {},
   "source": [
    "##### Que 1). What Does RGBA Stand For?"
   ]
  },
  {
   "cell_type": "code",
   "execution_count": null,
   "id": "13cfec76-29ed-46f0-a1a5-e3cd10ab8eb3",
   "metadata": {},
   "outputs": [],
   "source": [
    "# Answer:- \n",
    "\n",
    "# RGBA Stands For Red, Green, Blue, And Alpha. It Is A Color Model Where The First Three Components Represent The Intensity Of Red, Green, And  \n",
    "# Blue Colors, And The Fourth Component (Alpha) Represents The Transparency Level Of The Color, With 0 Being Fully Transparent And 255 Fully Opaque."
   ]
  },
  {
   "cell_type": "code",
   "execution_count": null,
   "id": "ef6e3982-870f-41f1-86aa-caae40299692",
   "metadata": {},
   "outputs": [],
   "source": []
  },
  {
   "cell_type": "code",
   "execution_count": null,
   "id": "52578d2a-04a2-40c4-b701-f20a1075f2ee",
   "metadata": {},
   "outputs": [],
   "source": []
  },
  {
   "cell_type": "markdown",
   "id": "01fe6655-0c4d-4a2c-96f9-b9a919eaacc9",
   "metadata": {},
   "source": [
    "##### Que 2). From The Pillow Module, How Do You Get The RGBA Value Of Any Images?"
   ]
  },
  {
   "cell_type": "code",
   "execution_count": null,
   "id": "51950f7a-f1a8-4086-872e-6e2ece00fedd",
   "metadata": {},
   "outputs": [],
   "source": [
    "# Answer:- \n",
    "\n",
    "# To Get The RGBA Value Of An Image Using The Pillow Module, First Ensure The Image Is In RGBA Mode By Converting It If Necessary. \n",
    "# Then You Can Access The Pixel Data Using The .getpixel() Method:"
   ]
  },
  {
   "cell_type": "code",
   "execution_count": 138,
   "id": "471bda4d-b8ae-43bf-8618-4dfe94777478",
   "metadata": {},
   "outputs": [
    {
     "name": "stdout",
     "output_type": "stream",
     "text": [
      "(209, 190, 185, 255)\n"
     ]
    }
   ],
   "source": [
    "from PIL import Image\n",
    "\n",
    "image = Image.open(\"RGBA_comp.png\").convert(\"RGBA\")      # Ensure Image Is In RGBA Mode\n",
    "\n",
    "x, y = 10, 20                                            # Example Pixel Coordinates — Replace With Your Desired Coordinates \n",
    "rgba_value = image.getpixel((x, y))\n",
    "print(rgba_value)                                        # Outputs A Tuple Like (R, G, B, A)"
   ]
  },
  {
   "cell_type": "code",
   "execution_count": null,
   "id": "737051e1-c4f9-46bd-9788-7b936363cce9",
   "metadata": {},
   "outputs": [],
   "source": []
  },
  {
   "cell_type": "code",
   "execution_count": null,
   "id": "27629d51-972a-4ad5-98bc-bdbe3a696634",
   "metadata": {},
   "outputs": [],
   "source": []
  },
  {
   "cell_type": "markdown",
   "id": "b2c94c0d-b268-4440-adcc-7a9e20fc5477",
   "metadata": {},
   "source": [
    "##### Que 3). What Is A Box Tuple, And How Does It Work?"
   ]
  },
  {
   "cell_type": "code",
   "execution_count": null,
   "id": "f4f5c1d5-2588-4001-b7a2-79ddc4da26e2",
   "metadata": {},
   "outputs": [],
   "source": [
    "# Answer:-\n",
    "\n",
    "# A Box Tuple In Pillow Is A Tuple Of Four Integers That Defines A Rectangular Region In An Image. \n",
    "# It Has The Format (Left, Upper, Right, Lower), Where:\n",
    "# Left And Upper Are The Coordinates Of The Top-Left Corner,\n",
    "# Right And Lower Are The Coordinates Of The Bottom-Right Corner.\n",
    "# This Tuple Is Commonly Used In Methods Like .crop() To Specify The Area Of The Image To Operate On."
   ]
  },
  {
   "cell_type": "code",
   "execution_count": null,
   "id": "17fe339b-51a2-4c1d-9f64-32aaebc8b793",
   "metadata": {},
   "outputs": [],
   "source": []
  },
  {
   "cell_type": "code",
   "execution_count": null,
   "id": "a366674d-1701-47d3-b8ac-86b447251cc6",
   "metadata": {},
   "outputs": [],
   "source": []
  },
  {
   "cell_type": "markdown",
   "id": "ec0c4b6b-aa5f-42fa-b572-97bf6f7628a8",
   "metadata": {},
   "source": [
    "##### Que 4). Use Your Image And Load In Notebook Then, How Can You Find Out The Width And Height Of An Image Object?"
   ]
  },
  {
   "cell_type": "code",
   "execution_count": 139,
   "id": "96842ebf-b631-40b2-83cf-abb8de45cf26",
   "metadata": {},
   "outputs": [
    {
     "name": "stdout",
     "output_type": "stream",
     "text": [
      "Width:240,Height: 240\n"
     ]
    }
   ],
   "source": [
    "# Answer:- Find The Width And Height Of An Image Using The .size Attribute, Which Returns A Tuple (Width, Height):\n",
    "\n",
    "from PIL import Image\n",
    "\n",
    "image = Image.open('RGBA_comp.png')\n",
    "width, height = image.size\n",
    "print(f\"Width:{width},Height: {height}\")"
   ]
  },
  {
   "cell_type": "code",
   "execution_count": null,
   "id": "33cbbeb0-5db9-4591-8d63-7fd2aa2a301c",
   "metadata": {},
   "outputs": [],
   "source": []
  },
  {
   "cell_type": "code",
   "execution_count": null,
   "id": "788c3752-9811-4215-a821-971c61d99cf5",
   "metadata": {},
   "outputs": [],
   "source": []
  },
  {
   "cell_type": "markdown",
   "id": "33c9c7d5-a9e7-47b7-b807-ddec89fc6dd7",
   "metadata": {},
   "source": [
    "##### Que 5). What Method Would You Call To Get Image Object For A 100×100 Image, Excluding The Lower-Left Quarter Of It?"
   ]
  },
  {
   "cell_type": "code",
   "execution_count": 140,
   "id": "b2cae704-8620-4d43-80bc-bab38cdbae81",
   "metadata": {},
   "outputs": [
    {
     "data": {
      "image/jpeg": "[encoded data removed]",
      "image/png": "[encoded data removed]",
      "text/plain": [
       "<PIL.Image.Image image mode=RGB size=50x50>"
      ]
     },
     "execution_count": 140,
     "metadata": {},
     "output_type": "execute_result"
    }
   ],
   "source": [
    "# Answer:-\n",
    "\n",
    "# You Would Use The .crop() Method With A Box Tuple That Excludes The Lower-left Quarter. For A 100×100 Image, \n",
    "# The Lower-Left Quarter Covers (0, 50, 50, 100).\n",
    "\n",
    "# To Exclude This, Crop The Other Parts; For Example, Crop The Top 100×50 And The Right 50×100 Areas Separately \n",
    "# Or Just Crop The Top-Right 75×75 Excluding The Bottom-Left Quarter.\n",
    "\n",
    "# A Simple Example To Get The Top-Right 75×75 Excluding The Lower-Left Quarter Could Be:\n",
    "\n",
    "cropped_image = image.crop((50, 0, 100, 50))    # Example Cropping Top-Right Quarter\n",
    "cropped_image"
   ]
  },
  {
   "cell_type": "code",
   "execution_count": null,
   "id": "e01dfac9-40e4-4e09-96b0-32e4a587bfe5",
   "metadata": {},
   "outputs": [],
   "source": []
  },
  {
   "cell_type": "code",
   "execution_count": null,
   "id": "743193da-a532-45b3-b6c8-042175ef18ba",
   "metadata": {},
   "outputs": [],
   "source": []
  },
  {
   "cell_type": "markdown",
   "id": "9162d645-0c11-43c6-8dbe-4f0048af45e9",
   "metadata": {},
   "source": [
    "##### Que 6). After Making Changes To An Image Object, How Could You Save It As An Image File?"
   ]
  },
  {
   "cell_type": "code",
   "execution_count": 141,
   "id": "96002eff-72b4-4ae5-85e2-83a7329ca850",
   "metadata": {},
   "outputs": [],
   "source": [
    "# Answer:- Use The .save() Method On The Image Object, Specifying The Filename And Optionally The Format:\n",
    "\n",
    "image.save('modified_image.png')"
   ]
  },
  {
   "cell_type": "code",
   "execution_count": null,
   "id": "b3027657-8b19-478e-be6d-98c1e455245e",
   "metadata": {},
   "outputs": [],
   "source": []
  },
  {
   "cell_type": "code",
   "execution_count": null,
   "id": "c3cff3aa-6eb0-4b7b-a423-9d526caf4b03",
   "metadata": {},
   "outputs": [],
   "source": []
  },
  {
   "cell_type": "markdown",
   "id": "4c5a0b48-24c5-45e4-9200-2cac7a62cc0e",
   "metadata": {},
   "source": [
    "##### Que 7). What Module Contains Pillow’s Shape-Drawing Code?"
   ]
  },
  {
   "cell_type": "code",
   "execution_count": null,
   "id": "54efc454-93f2-43f7-9014-3de0c35965c4",
   "metadata": {},
   "outputs": [],
   "source": [
    "# Answer:- The Shape-Drawing Code Is Contained In The Imagedraw Module From Pillow."
   ]
  },
  {
   "cell_type": "code",
   "execution_count": null,
   "id": "002eb953-f17c-42d7-b16d-055f3eb535aa",
   "metadata": {},
   "outputs": [],
   "source": []
  },
  {
   "cell_type": "code",
   "execution_count": null,
   "id": "d44af0bf-2a5d-4d5c-8f4c-7854c77acba1",
   "metadata": {},
   "outputs": [],
   "source": []
  },
  {
   "cell_type": "markdown",
   "id": "a6786a00-0633-4906-9892-046acc3aaa04",
   "metadata": {},
   "source": [
    "##### Que 8). Image Objects Do Not Have Drawing Methods. What Kind Of Object Does? How Do You Get This Kind Of Object?"
   ]
  },
  {
   "cell_type": "code",
   "execution_count": 142,
   "id": "8cee6661-3ea4-44cd-81d4-75291b15d0b2",
   "metadata": {},
   "outputs": [],
   "source": [
    "# Answer:- A Imagedraw.Draw Object Has Drawing Methods. You Create It By Passing An Image Object To ImageDraw.Draw():\n",
    "\n",
    "from PIL import Image, ImageDraw\n",
    "\n",
    "image = Image.open('RGBA_comp.png')\n",
    "draw = ImageDraw.Draw(image)                       # Create Drawing Object To Draw On The Image"
   ]
  },
  {
   "cell_type": "code",
   "execution_count": null,
   "id": "162e3d8b-0792-4b3a-9da4-928b5e038f70",
   "metadata": {},
   "outputs": [],
   "source": []
  },
  {
   "cell_type": "code",
   "execution_count": null,
   "id": "eb08037c-dd5d-40d6-9446-9aa1fc10272c",
   "metadata": {},
   "outputs": [],
   "source": []
  },
  {
   "cell_type": "markdown",
   "id": "45ec2ac2-2d6d-4590-8325-301cd45496a0",
   "metadata": {},
   "source": [
    "### ASSIGNMENT - 15"
   ]
  },
  {
   "cell_type": "code",
   "execution_count": null,
   "id": "95fe9b26-6ff1-4ad2-a0cd-7c0a99e8aba1",
   "metadata": {},
   "outputs": [],
   "source": []
  },
  {
   "cell_type": "markdown",
   "id": "3374c516-0b0b-4ee9-8b07-0160f0af39e5",
   "metadata": {},
   "source": [
    "##### Que 1). How Many Seconds Are In An Hour? Use The Interactive Interpreter As A Calculator And Multiply The Number Of Seconds In A Minute (60) By The Number Of Minutes In An Hour (Also 60).\n",
    "\n",
    "##### Sol. 60?"
   ]
  },
  {
   "cell_type": "code",
   "execution_count": 143,
   "id": "cea53971-eef5-47d2-86d1-2743c7a092f3",
   "metadata": {},
   "outputs": [
    {
     "name": "stdout",
     "output_type": "stream",
     "text": [
      "3600\n"
     ]
    }
   ],
   "source": [
    "# Answer: - \n",
    "\n",
    "a = 60 * 60\n",
    "print(a)"
   ]
  },
  {
   "cell_type": "code",
   "execution_count": null,
   "id": "93294846-51be-4212-9471-6dfb3fe77cad",
   "metadata": {},
   "outputs": [],
   "source": []
  },
  {
   "cell_type": "code",
   "execution_count": null,
   "id": "2ee7c144-0cfa-4eaf-a668-6cb0bda73f93",
   "metadata": {},
   "outputs": [],
   "source": []
  },
  {
   "cell_type": "markdown",
   "id": "54309a83-a55c-495a-8fcd-03ca471d739a",
   "metadata": {},
   "source": [
    "##### Que 2). Assign The Result From The Previous Task (Seconds In An Hour) To A Variable Called Seconds_per_hour.?"
   ]
  },
  {
   "cell_type": "code",
   "execution_count": 144,
   "id": "04b2d843-4e87-4254-9445-f4d9edb6c165",
   "metadata": {},
   "outputs": [
    {
     "name": "stdout",
     "output_type": "stream",
     "text": [
      "3600\n"
     ]
    }
   ],
   "source": [
    "# Answer:- \n",
    "\n",
    "Seconds_Per_Hour = 60 * 60\n",
    "print(Seconds_Per_Hour)  "
   ]
  },
  {
   "cell_type": "code",
   "execution_count": null,
   "id": "62570eb2-48de-45db-b37d-3db9a87d9ffe",
   "metadata": {},
   "outputs": [],
   "source": []
  },
  {
   "cell_type": "code",
   "execution_count": null,
   "id": "267edc1e-54f8-4bc2-b042-e0921df6bb13",
   "metadata": {},
   "outputs": [],
   "source": []
  },
  {
   "cell_type": "markdown",
   "id": "dd2f47fc-b9ac-4d0d-8c02-ddb0df58ff19",
   "metadata": {},
   "source": [
    "##### Que 3). How Many Seconds Do You Think There Are In A Day? Make Use Of The Variables Seconds Per Hour And Minutes Per Hour.?"
   ]
  },
  {
   "cell_type": "code",
   "execution_count": 145,
   "id": "5eb69a39-96d9-4217-95a1-0cb74a914255",
   "metadata": {},
   "outputs": [
    {
     "name": "stdout",
     "output_type": "stream",
     "text": [
      "86400\n"
     ]
    }
   ],
   "source": [
    "# Answer:- \n",
    "\n",
    "Seconds_Per_Day = Seconds_Per_Hour * 24\n",
    "print(Seconds_Per_Day)"
   ]
  },
  {
   "cell_type": "code",
   "execution_count": null,
   "id": "24c959d8-f734-4d05-81db-731c30fca8a2",
   "metadata": {},
   "outputs": [],
   "source": []
  },
  {
   "cell_type": "code",
   "execution_count": null,
   "id": "6a8fa7de-e3c4-4498-b19d-4d40e43f85ac",
   "metadata": {},
   "outputs": [],
   "source": []
  },
  {
   "cell_type": "markdown",
   "id": "a3abd7c7-1b2d-4160-b3b1-073f2aa025fc",
   "metadata": {},
   "source": [
    "##### Que 4). Calculate Seconds Per Day Again, But This Time Save The Result In A Variable Called Seconds_per_day?"
   ]
  },
  {
   "cell_type": "code",
   "execution_count": 146,
   "id": "abe981d4-5a28-4f8f-bbf3-3eef2607a792",
   "metadata": {},
   "outputs": [
    {
     "data": {
      "text/plain": [
       "86400"
      ]
     },
     "execution_count": 146,
     "metadata": {},
     "output_type": "execute_result"
    }
   ],
   "source": [
    "# Answer:-\n",
    "\n",
    "Seconds_Per_Day = Seconds_Per_Hour * 24\n",
    "Seconds_Per_Day"
   ]
  },
  {
   "cell_type": "code",
   "execution_count": null,
   "id": "16222538-2c22-49ea-a26a-ae7613ec0a5e",
   "metadata": {},
   "outputs": [],
   "source": []
  },
  {
   "cell_type": "code",
   "execution_count": null,
   "id": "a6c4a19a-f448-424e-a5dd-a293d63ae2ed",
   "metadata": {},
   "outputs": [],
   "source": []
  },
  {
   "cell_type": "markdown",
   "id": "95ad5a58-8add-4b9f-b64e-79f854af3f46",
   "metadata": {},
   "source": [
    "##### Que 5). Divide Seconds_per_day By Seconds_per_hour. Use Floating-Point (/) Division.?"
   ]
  },
  {
   "cell_type": "code",
   "execution_count": 147,
   "id": "8b860f77-7a2f-49b8-99a8-c93301d2ceed",
   "metadata": {},
   "outputs": [
    {
     "name": "stdout",
     "output_type": "stream",
     "text": [
      "24.0\n"
     ]
    }
   ],
   "source": [
    "# Answer:- \n",
    "\n",
    "print(Seconds_Per_Day / Seconds_Per_Hour)"
   ]
  },
  {
   "cell_type": "code",
   "execution_count": null,
   "id": "e54258e0-13ac-4556-8e1c-143e7fdde655",
   "metadata": {},
   "outputs": [],
   "source": []
  },
  {
   "cell_type": "code",
   "execution_count": null,
   "id": "2c5a068e-5a88-47c5-89ee-91bc885f6b76",
   "metadata": {},
   "outputs": [],
   "source": []
  },
  {
   "cell_type": "markdown",
   "id": "474e6285-96c0-4f6b-bd9a-bb2995450b42",
   "metadata": {},
   "source": [
    "##### Que 6). Divide Seconds_per_day By Seconds_per_hour, Using Integer (//) Division. Did This Number Agree With The Floating-Point Value From The Previous Question, Aside From The Final .0?"
   ]
  },
  {
   "cell_type": "code",
   "execution_count": 148,
   "id": "f7c3c03f-e419-4b98-9f90-44d3055bab06",
   "metadata": {},
   "outputs": [
    {
     "name": "stdout",
     "output_type": "stream",
     "text": [
      "24\n"
     ]
    }
   ],
   "source": [
    "# Answer:- Yes, This Agrees With The Floating-Point Value From The Previous Question, Except The Decimal .0.\n",
    "\n",
    "print(Seconds_Per_Day // Seconds_Per_Hour)"
   ]
  },
  {
   "cell_type": "code",
   "execution_count": null,
   "id": "b6a1afe7-4034-45fe-a61b-ad6c9bc3e3c4",
   "metadata": {},
   "outputs": [],
   "source": []
  },
  {
   "cell_type": "code",
   "execution_count": null,
   "id": "008b07ce-e588-4f8f-9962-fdf4d39a876d",
   "metadata": {},
   "outputs": [],
   "source": []
  },
  {
   "cell_type": "markdown",
   "id": "71f5b849-65b4-44bc-896a-ef7f56d952c0",
   "metadata": {},
   "source": [
    "##### Que 7). Write A Generator, Genprimes, That Returns The Sequence Of Prime Numbers On Successive Calls To Its Next() Method: 2, 3, 5, 7, 11, ...?"
   ]
  },
  {
   "cell_type": "code",
   "execution_count": 149,
   "id": "0fcce853-9efa-4113-b55e-3009a1fb79c7",
   "metadata": {},
   "outputs": [],
   "source": [
    "# Answer:-\n",
    "\n",
    "def genprimes():\n",
    "    \"\"\"Generator that yields prime numbers indefinitely.\"\"\"\n",
    "    primes = []\n",
    "    num = 2\n",
    "    while True:\n",
    "        # Check If Num Is Prime\n",
    "        is_prime = True\n",
    "        for p in primes:\n",
    "            if p * p > num:\n",
    "                break\n",
    "            if num % p == 0:\n",
    "                is_prime = False\n",
    "                break\n",
    "        \n",
    "        if is_prime:\n",
    "            primes.append(num)\n",
    "            yield num\n",
    "        num += 1"
   ]
  },
  {
   "cell_type": "code",
   "execution_count": 150,
   "id": "034da1f0-6b23-4e6a-a3d8-4158bde53273",
   "metadata": {},
   "outputs": [
    {
     "name": "stdout",
     "output_type": "stream",
     "text": [
      "2\n",
      "3\n",
      "5\n",
      "7\n",
      "11\n"
     ]
    }
   ],
   "source": [
    "prime_generator = genprimes()\n",
    "\n",
    "print(next(prime_generator))   \n",
    "print(next(prime_generator))   \n",
    "print(next(prime_generator))   \n",
    "print(next(prime_generator))   \n",
    "print(next(prime_generator))   "
   ]
  },
  {
   "cell_type": "code",
   "execution_count": null,
   "id": "b7f440e0-584d-472c-8016-7d2a886b52ee",
   "metadata": {},
   "outputs": [],
   "source": []
  },
  {
   "cell_type": "code",
   "execution_count": null,
   "id": "bee57643-1a08-4fb7-bc88-dc07b92d3241",
   "metadata": {},
   "outputs": [],
   "source": []
  },
  {
   "cell_type": "markdown",
   "id": "5749de63-b6bb-4ef0-9ecc-1cf93ea190f7",
   "metadata": {},
   "source": [
    "### ASSIGNMENTS - 16"
   ]
  },
  {
   "cell_type": "code",
   "execution_count": null,
   "id": "6fe6f22b-0850-4dc8-a78a-42ce6d8eb858",
   "metadata": {},
   "outputs": [],
   "source": []
  },
  {
   "cell_type": "code",
   "execution_count": null,
   "id": "0ddba7d0-9394-4649-ab2e-6650e030e936",
   "metadata": {},
   "outputs": [],
   "source": []
  },
  {
   "cell_type": "markdown",
   "id": "8ddca7ae-822b-489d-a118-a0b49382e9c4",
   "metadata": {},
   "source": [
    "##### Que 1). Create A List Called Years_list, Starting With The Year Of Your Birth, And Each Year Thereafter Until The Year Of Your Fifth Birthday.? \n",
    "#####  For Example, If You Were Born In 1980. The List Would Be Years_list = [1980, 1981, 1982, 1983, 1984, 1985]."
   ]
  },
  {
   "cell_type": "code",
   "execution_count": 151,
   "id": "8bf5994f-9843-4522-a5b5-a32ac25a474a",
   "metadata": {},
   "outputs": [
    {
     "name": "stdout",
     "output_type": "stream",
     "text": [
      "Years List: [1993, 1994, 1995, 1996, 1997, 1998]\n"
     ]
    }
   ],
   "source": [
    "# Answer:-\n",
    "\n",
    "Year_List = [Year for Year in range(1993, 1993 + 6)]\n",
    "print(\"Years List:\", Year_List)"
   ]
  },
  {
   "cell_type": "code",
   "execution_count": null,
   "id": "bf75e5e6-6174-42aa-b598-b43f4536e428",
   "metadata": {},
   "outputs": [],
   "source": []
  },
  {
   "cell_type": "code",
   "execution_count": null,
   "id": "50cb9fc8-988c-4933-85d9-138a4e6e3405",
   "metadata": {},
   "outputs": [],
   "source": []
  },
  {
   "cell_type": "markdown",
   "id": "57a737af-3048-4506-b94b-699d4314203a",
   "metadata": {},
   "source": [
    "##### Que 2). In Which Year In Years_list Was Your Third Birthday? Remember, You Were 0 Years Of Age For Your First Year.?"
   ]
  },
  {
   "cell_type": "code",
   "execution_count": 152,
   "id": "8c846971-1283-43a0-883a-6d18ea40fc30",
   "metadata": {},
   "outputs": [
    {
     "name": "stdout",
     "output_type": "stream",
     "text": [
      "Year Of Third Birthday: 1996\n"
     ]
    }
   ],
   "source": [
    "# Answer:- \n",
    "\n",
    "Third_Birthday_Year = Year_List[3]\n",
    "print(\"Year Of Third Birthday:\", Third_Birthday_Year)"
   ]
  },
  {
   "cell_type": "code",
   "execution_count": null,
   "id": "b5c09885-8475-494f-a90e-fa7348442545",
   "metadata": {},
   "outputs": [],
   "source": []
  },
  {
   "cell_type": "code",
   "execution_count": null,
   "id": "c9022dc4-a0c7-4c0e-ab05-ef2e34b5464c",
   "metadata": {},
   "outputs": [],
   "source": []
  },
  {
   "cell_type": "markdown",
   "id": "066a815c-7399-4dcc-80d3-df019af31a18",
   "metadata": {},
   "source": [
    "##### Que 3). In The Years List, Which Year Were You The Oldest?"
   ]
  },
  {
   "cell_type": "code",
   "execution_count": 153,
   "id": "01b526ab-6b29-48b9-8501-1faf42d3d742",
   "metadata": {},
   "outputs": [
    {
     "name": "stdout",
     "output_type": "stream",
     "text": [
      "Year When You Were Oldest: 1998\n"
     ]
    }
   ],
   "source": [
    "# Answer:-\n",
    "\n",
    "Oldest_Year = Year_List[-1]\n",
    "print(\"Year When You Were Oldest:\", Oldest_Year)"
   ]
  },
  {
   "cell_type": "code",
   "execution_count": null,
   "id": "c14e904a-f8c7-431b-94cd-f92ab3880b48",
   "metadata": {},
   "outputs": [],
   "source": []
  },
  {
   "cell_type": "code",
   "execution_count": null,
   "id": "b49cb41b-c530-495d-a938-dde1ed11937b",
   "metadata": {},
   "outputs": [],
   "source": []
  },
  {
   "cell_type": "markdown",
   "id": "77ec5012-85b9-494f-aabb-1d585b0bab06",
   "metadata": {},
   "source": [
    "##### Que 4). Make A List Called Things With These Three Strings As Elements: \"Mozzarella\", \"Cinderella\", \"Salmonella\".?"
   ]
  },
  {
   "cell_type": "code",
   "execution_count": 154,
   "id": "fd886ccd-7cb6-49c1-bb80-e83d4713e3e9",
   "metadata": {},
   "outputs": [
    {
     "name": "stdout",
     "output_type": "stream",
     "text": [
      "Things: ['mozzarella', 'cinderella', 'salmonella']\n"
     ]
    }
   ],
   "source": [
    "# Answer:-\n",
    "\n",
    "Things = [\"mozzarella\", \"cinderella\", \"salmonella\"]\n",
    "print(\"Things:\",Things)"
   ]
  },
  {
   "cell_type": "code",
   "execution_count": null,
   "id": "518a1fa1-00b9-4391-98ba-a69829e35c86",
   "metadata": {},
   "outputs": [],
   "source": []
  },
  {
   "cell_type": "code",
   "execution_count": null,
   "id": "23425a38-1f65-455c-8793-1aedf24e3d94",
   "metadata": {},
   "outputs": [],
   "source": []
  },
  {
   "cell_type": "markdown",
   "id": "a4dc0779-3ea1-432d-bba9-541ec18436c8",
   "metadata": {},
   "source": [
    "##### Que 5). Capitalize The Element In Things That Refers To A Person And Then Print The List. Did It Change The Element In The List?"
   ]
  },
  {
   "cell_type": "code",
   "execution_count": 155,
   "id": "7c473dd8-ddc1-498e-9e5d-0ff55adebc73",
   "metadata": {},
   "outputs": [
    {
     "name": "stdout",
     "output_type": "stream",
     "text": [
      "Updated Things List: ['mozzarella', 'Cinderella', 'salmonella']\n"
     ]
    }
   ],
   "source": [
    "# Answer:-\n",
    "\n",
    "Things[1] = Things[1].capitalize()\n",
    "print(\"Updated Things List:\", Things)"
   ]
  },
  {
   "cell_type": "code",
   "execution_count": null,
   "id": "a3caa211-944f-487d-a928-81187b575289",
   "metadata": {},
   "outputs": [],
   "source": []
  },
  {
   "cell_type": "code",
   "execution_count": null,
   "id": "ca5b958f-eda1-4616-a070-5decc57a53cd",
   "metadata": {},
   "outputs": [],
   "source": []
  },
  {
   "cell_type": "markdown",
   "id": "b8ffce48-a0ee-4106-9b49-859808871e5a",
   "metadata": {},
   "source": [
    "##### Que 6). Make A Surprise List With The Elements \"Groucho,\" \"Chico,\" And \"Harpo.\"?"
   ]
  },
  {
   "cell_type": "code",
   "execution_count": 156,
   "id": "2572ba72-6651-4eaf-8414-a3e461c5abba",
   "metadata": {},
   "outputs": [
    {
     "name": "stdout",
     "output_type": "stream",
     "text": [
      "Surprise List: ['Groucho', 'Chico', 'Harpo']\n"
     ]
    }
   ],
   "source": [
    "# Answer:-\n",
    "\n",
    "Surprise = [\"Groucho\", \"Chico\", \"Harpo\"]\n",
    "print(\"Surprise List:\", Surprise)"
   ]
  },
  {
   "cell_type": "code",
   "execution_count": null,
   "id": "f7dd25e6-29e6-43cc-9aae-1a0389499b1a",
   "metadata": {},
   "outputs": [],
   "source": []
  },
  {
   "cell_type": "code",
   "execution_count": null,
   "id": "738f63fb-acf5-4612-bf3a-fb89dfa877b1",
   "metadata": {},
   "outputs": [],
   "source": []
  },
  {
   "cell_type": "markdown",
   "id": "e1c53d9a-01a2-40a6-9bbe-036adbe3ad27",
   "metadata": {},
   "source": [
    "##### Que 7). Lowercase The Last Element Of The Surprise List, Reverse It, And Then Capitalize It.?"
   ]
  },
  {
   "cell_type": "code",
   "execution_count": 157,
   "id": "97b24634-f949-4c41-bd09-94ce4de82d11",
   "metadata": {},
   "outputs": [
    {
     "name": "stdout",
     "output_type": "stream",
     "text": [
      "Transformed Last Element: Oprah\n"
     ]
    }
   ],
   "source": [
    "# Answer:-\n",
    "\n",
    "Last_Item = Surprise[-1].lower()[::-1].capitalize()\n",
    "print(\"Transformed Last Element:\", Last_Item)"
   ]
  },
  {
   "cell_type": "code",
   "execution_count": null,
   "id": "6d48ad88-82ed-4ce9-a43b-02bc3a21729e",
   "metadata": {},
   "outputs": [],
   "source": []
  },
  {
   "cell_type": "code",
   "execution_count": null,
   "id": "d8bf8755-77d0-48bf-80b9-9b755be85010",
   "metadata": {},
   "outputs": [],
   "source": []
  },
  {
   "cell_type": "markdown",
   "id": "79cefb99-29c8-40d4-acf5-7408487b9fa0",
   "metadata": {},
   "source": [
    "##### Que 8). Make An English-To-French Dictionary Called E2f And Print It. Here Are Your Starter Words: Dog Is Chien, Cat Is Chat, And Walrus Is Morse.?"
   ]
  },
  {
   "cell_type": "code",
   "execution_count": 158,
   "id": "390c85fd-4478-4086-835e-3038a8223cba",
   "metadata": {},
   "outputs": [
    {
     "name": "stdout",
     "output_type": "stream",
     "text": [
      "English To French Dictionary: {'dog': 'chien', 'cat': 'chat', 'walrus': 'morse'}\n"
     ]
    }
   ],
   "source": [
    "# Answer:-\n",
    "\n",
    "e2f = {\"dog\": \"chien\",\"cat\":\"chat\",\"walrus\": \"morse\"}\n",
    "print(\"English To French Dictionary:\", e2f)"
   ]
  },
  {
   "cell_type": "code",
   "execution_count": null,
   "id": "c01c2f8a-a57c-4c95-a756-382d373bf933",
   "metadata": {},
   "outputs": [],
   "source": []
  },
  {
   "cell_type": "code",
   "execution_count": null,
   "id": "870dbff7-a779-4bb4-9da0-1b1b888b7b6e",
   "metadata": {},
   "outputs": [],
   "source": []
  },
  {
   "cell_type": "markdown",
   "id": "e1a2fb1e-99ee-4258-9fb8-06795be4177d",
   "metadata": {},
   "source": [
    "##### Que 9). Write The French Word For Walrus In Your Three-Word Dictionary E2f.?"
   ]
  },
  {
   "cell_type": "code",
   "execution_count": 159,
   "id": "350ee413-dafc-4cac-a207-099bdceb9d85",
   "metadata": {},
   "outputs": [
    {
     "name": "stdout",
     "output_type": "stream",
     "text": [
      "French Word For Walrus: morse\n"
     ]
    }
   ],
   "source": [
    "# Answer:-\n",
    "\n",
    "print(\"French Word For Walrus:\", e2f[\"walrus\"])"
   ]
  },
  {
   "cell_type": "code",
   "execution_count": null,
   "id": "667f7f1f-fdea-4ac6-9680-6fa1a0ac61e9",
   "metadata": {},
   "outputs": [],
   "source": []
  },
  {
   "cell_type": "code",
   "execution_count": null,
   "id": "fc61b3c6-48bd-4bbf-a518-c0661b40d98a",
   "metadata": {},
   "outputs": [],
   "source": []
  },
  {
   "cell_type": "markdown",
   "id": "24d1ee79-193b-43d8-8197-f9dea374ac72",
   "metadata": {},
   "source": [
    "##### Que 10). Make A French-To-English Dictionary Called F2e From E2f. Use The Items Method.?"
   ]
  },
  {
   "cell_type": "code",
   "execution_count": 160,
   "id": "1a89cf57-2634-4a27-b33d-a261089e0ef0",
   "metadata": {},
   "outputs": [
    {
     "name": "stdout",
     "output_type": "stream",
     "text": [
      "French To English Dictionary: {'chien': 'dog', 'chat': 'cat', 'morse': 'walrus'}\n"
     ]
    }
   ],
   "source": [
    "# Answer:-\n",
    "\n",
    "F2E = {French : English for English, French in e2f.items()}\n",
    "print(\"French To English Dictionary:\", F2E)"
   ]
  },
  {
   "cell_type": "code",
   "execution_count": null,
   "id": "bfe791e8-d276-4601-a09a-e94d19d374ae",
   "metadata": {},
   "outputs": [],
   "source": []
  },
  {
   "cell_type": "code",
   "execution_count": null,
   "id": "fa9e0989-6f87-4005-9390-d780c4eca48a",
   "metadata": {},
   "outputs": [],
   "source": []
  },
  {
   "cell_type": "markdown",
   "id": "aa878e8a-f9c7-4639-8ec9-510ca5a78826",
   "metadata": {},
   "source": [
    "##### Que 11). Print The English Version Of The French Word Chien Using F2e.?"
   ]
  },
  {
   "cell_type": "code",
   "execution_count": 161,
   "id": "9d9eb8ce-d06c-457b-b4f7-867c0b5a6deb",
   "metadata": {},
   "outputs": [
    {
     "name": "stdout",
     "output_type": "stream",
     "text": [
      "English Word For 'chien': dog\n"
     ]
    }
   ],
   "source": [
    "# Answer:-\n",
    "\n",
    "print(\"English Word For 'chien':\", F2E[\"chien\"])"
   ]
  },
  {
   "cell_type": "code",
   "execution_count": null,
   "id": "81bdb243-4e5e-4d45-8575-e7c05b7adecc",
   "metadata": {},
   "outputs": [],
   "source": []
  },
  {
   "cell_type": "code",
   "execution_count": null,
   "id": "16b37363-31f0-470f-9e64-9b9b855633ce",
   "metadata": {},
   "outputs": [],
   "source": []
  },
  {
   "cell_type": "markdown",
   "id": "d4e0f5b5-6ca1-427d-b417-ee2fac4a3159",
   "metadata": {},
   "source": [
    "##### Que 12). Make And Print A Set Of English Words From The Keys In E2f.?"
   ]
  },
  {
   "cell_type": "code",
   "execution_count": 162,
   "id": "18a9d0b6-3cdd-41be-8dd8-ef730c18dc86",
   "metadata": {},
   "outputs": [
    {
     "name": "stdout",
     "output_type": "stream",
     "text": [
      "Set of English Words: {'walrus', 'cat', 'dog'}\n"
     ]
    }
   ],
   "source": [
    "# Answer:-\n",
    "\n",
    "English_Words = set(e2f.keys())\n",
    "print(\"Set of English Words:\", English_Words)"
   ]
  },
  {
   "cell_type": "code",
   "execution_count": null,
   "id": "28895633-64fe-4fa7-9f42-6f7879bb4e2b",
   "metadata": {},
   "outputs": [],
   "source": []
  },
  {
   "cell_type": "code",
   "execution_count": null,
   "id": "e169fabf-fcda-4e80-8bf7-ce715201abd0",
   "metadata": {},
   "outputs": [],
   "source": []
  },
  {
   "cell_type": "markdown",
   "id": "2f944e6c-81a2-4ae6-bf66-f142867ae782",
   "metadata": {},
   "source": [
    "##### Que 13). Make A Multilevel Dictionary Called Life. Use These Strings For The Topmost Keys: 'animals', 'plants', And 'other'. Make The 'animals' Key Refer To Another Dictionary With The Keys 'cats', 'octopi', And 'emus'. Make The 'cats' Key Refer To A List Of Strings With The Values 'henri', 'grumpy', And 'Lucy'. Make All The Other Keys Refer To Empty Dictionaries.??"
   ]
  },
  {
   "cell_type": "code",
   "execution_count": 163,
   "id": "509e8e92-65a2-4163-90eb-e094642d7ad6",
   "metadata": {},
   "outputs": [
    {
     "name": "stdout",
     "output_type": "stream",
     "text": [
      "{'animals': {'cats': ['Henri', 'Grumpy', 'Lucy'], 'octopi': {}, 'emus': {}}, 'plants': {}, 'other': {}}\n"
     ]
    }
   ],
   "source": [
    "# Answer:-\n",
    "\n",
    "Life = {\"animals\": {\"cats\": [\"Henri\", \"Grumpy\", \"Lucy\"],\"octopi\": {},\"emus\": {}},\"plants\": {},\"other\": {}}\n",
    "print(Life)"
   ]
  },
  {
   "cell_type": "code",
   "execution_count": null,
   "id": "3c9dedfc-4d16-47f2-b415-74ebb2018ed2",
   "metadata": {},
   "outputs": [],
   "source": []
  },
  {
   "cell_type": "code",
   "execution_count": null,
   "id": "b6ef96ec-f4ff-4f0f-ad5b-5142e69ad15e",
   "metadata": {},
   "outputs": [],
   "source": []
  },
  {
   "cell_type": "markdown",
   "id": "41d2c11d-d39c-4072-941f-a122d7ef9f03",
   "metadata": {},
   "source": [
    "##### Que 14). Print The Top-Level Keys Of Life.?"
   ]
  },
  {
   "cell_type": "code",
   "execution_count": 164,
   "id": "fb7e9c0d-6cd1-4754-a3b0-7f107c94f698",
   "metadata": {},
   "outputs": [
    {
     "name": "stdout",
     "output_type": "stream",
     "text": [
      "Top-Level Keys In Life: ['animals', 'plants', 'other']\n"
     ]
    }
   ],
   "source": [
    "# Answer:-\n",
    "\n",
    "print(\"Top-Level Keys In Life:\", list(Life.keys()))"
   ]
  },
  {
   "cell_type": "code",
   "execution_count": null,
   "id": "e57eb22e-4e9e-4b14-bd11-396a40c8ad7e",
   "metadata": {},
   "outputs": [],
   "source": []
  },
  {
   "cell_type": "code",
   "execution_count": null,
   "id": "af144103-eb63-4155-a981-21b1a54af8a5",
   "metadata": {},
   "outputs": [],
   "source": []
  },
  {
   "cell_type": "markdown",
   "id": "3bf958d2-9f7c-4a96-a627-9c248d85bf3c",
   "metadata": {},
   "source": [
    "##### Que 15). Print The Keys For Life['animals'].?"
   ]
  },
  {
   "cell_type": "code",
   "execution_count": 165,
   "id": "d96044ca-0c7c-4e82-aa8c-78eee0a2948a",
   "metadata": {},
   "outputs": [
    {
     "name": "stdout",
     "output_type": "stream",
     "text": [
      "Keys Under 'animals': ['cats', 'octopi', 'emus']\n"
     ]
    }
   ],
   "source": [
    "# Answer:-\n",
    "\n",
    "print(\"Keys Under 'animals':\", list(Life[\"animals\"].keys()))"
   ]
  },
  {
   "cell_type": "code",
   "execution_count": 166,
   "id": "a97ce571-8522-42a1-9154-f4b05131211c",
   "metadata": {},
   "outputs": [
    {
     "data": {
      "text/plain": [
       "dict_keys(['cats', 'octopi', 'emus'])"
      ]
     },
     "execution_count": 166,
     "metadata": {},
     "output_type": "execute_result"
    }
   ],
   "source": [
    "# Or Another Way\n",
    "\n",
    "Life[\"animals\"].keys()"
   ]
  },
  {
   "cell_type": "code",
   "execution_count": null,
   "id": "d276f749-8d34-4318-b1c1-9080bfbe293b",
   "metadata": {},
   "outputs": [],
   "source": []
  },
  {
   "cell_type": "markdown",
   "id": "c683696c-4da1-4326-b303-2a113f0b17d8",
   "metadata": {},
   "source": [
    "##### Que 16). Print The Values For Life['animals']['cats']?"
   ]
  },
  {
   "cell_type": "code",
   "execution_count": 167,
   "id": "feb17fff-49e0-4983-aaec-974984026e49",
   "metadata": {},
   "outputs": [
    {
     "name": "stdout",
     "output_type": "stream",
     "text": [
      "Cat Names: ['Henri', 'Grumpy', 'Lucy']\n"
     ]
    }
   ],
   "source": [
    "# Answer:-\n",
    "\n",
    "print(\"Cat Names:\", Life[\"animals\"][\"cats\"])"
   ]
  },
  {
   "cell_type": "code",
   "execution_count": null,
   "id": "a24889b3-badd-451e-8bf7-bc1e75f737b7",
   "metadata": {},
   "outputs": [],
   "source": []
  },
  {
   "cell_type": "code",
   "execution_count": null,
   "id": "85bf6a41-118e-48c2-8994-469feb1f82f5",
   "metadata": {},
   "outputs": [],
   "source": []
  },
  {
   "cell_type": "markdown",
   "id": "60400720-f7b0-45c4-be5e-351b20bf822a",
   "metadata": {},
   "source": [
    "### ASSIGNMENTS - 17"
   ]
  },
  {
   "cell_type": "code",
   "execution_count": null,
   "id": "bd79b02a-6de3-4c13-a33f-ffe86ac51a07",
   "metadata": {},
   "outputs": [],
   "source": []
  },
  {
   "cell_type": "code",
   "execution_count": null,
   "id": "49e5a945-c673-4c5e-bdde-0442191cf608",
   "metadata": {},
   "outputs": [],
   "source": []
  },
  {
   "cell_type": "markdown",
   "id": "8fb35c72-5b86-4255-a983-6f86b2a5bea4",
   "metadata": {},
   "source": [
    "##### Que 1). Assign The Value 7 To The Variable Guess_me. Then, Write The Conditional Tests (If, Else, And Elif) To Print The String 'too Low' If Guess_me Is Less Than 7, 'too High' If Greater Than 7, And 'just Right' If Equal To 7.?"
   ]
  },
  {
   "cell_type": "code",
   "execution_count": 168,
   "id": "04fd0de8-dffb-4aab-a3ea-bea0893a6ade",
   "metadata": {},
   "outputs": [
    {
     "name": "stdout",
     "output_type": "stream",
     "text": [
      "Just Right\n"
     ]
    }
   ],
   "source": [
    "# Answer:-\n",
    "\n",
    "Guess_Me = 7\n",
    "\n",
    "if Guess_Me < 7:\n",
    "    print(\"Too Low\")\n",
    "elif Guess_Me > 7:\n",
    "    print(\"Too High\")\n",
    "else:\n",
    "    print(\"Just Right\")"
   ]
  },
  {
   "cell_type": "code",
   "execution_count": null,
   "id": "b2a00864-af2f-4365-a3c5-4c4fe7250598",
   "metadata": {},
   "outputs": [],
   "source": []
  },
  {
   "cell_type": "code",
   "execution_count": null,
   "id": "0e73fe72-bd53-48b0-b2c9-c37b7e9f6c5f",
   "metadata": {},
   "outputs": [],
   "source": []
  },
  {
   "cell_type": "markdown",
   "id": "261abb58-adae-4e15-aa94-10da36947944",
   "metadata": {},
   "source": [
    "##### Que 2). Assign The Value 7 To The Variable Guess_me And The Value 1 To The Variable Start. Write A While Loop That Compares Start With Guess_me. Print Too Low If Start Is Less Than Guess Me. If Start Equals Guess_me, Print 'found It!' And Exit The Loop. If Start Is Greater Than Guess_me, Print 'oops' And Exit The Loop. Increment Start At The End Of The Loop.?"
   ]
  },
  {
   "cell_type": "code",
   "execution_count": 169,
   "id": "d15f2bcc-9247-45f0-b6f3-3e8a90bb2e4a",
   "metadata": {},
   "outputs": [
    {
     "name": "stdout",
     "output_type": "stream",
     "text": [
      "Too Low\n",
      "Too Low\n",
      "Too Low\n",
      "Too Low\n",
      "Too Low\n",
      "Too Low\n",
      "Found It!\n"
     ]
    }
   ],
   "source": [
    "# Answer:-\n",
    "\n",
    "\n",
    "Guess_Me = 7\n",
    "\n",
    "Start = 1\n",
    "\n",
    "while True:\n",
    "    if Start < Guess_Me:\n",
    "        print(\"Too Low\")\n",
    "    elif Start == Guess_Me:\n",
    "        print(\"Found It!\")\n",
    "        break\n",
    "    else:\n",
    "        print(\"Oops\")\n",
    "        break\n",
    "    Start +=1"
   ]
  },
  {
   "cell_type": "code",
   "execution_count": null,
   "id": "fead20bf-2e74-47ce-b678-1bb7e1f68e6d",
   "metadata": {},
   "outputs": [],
   "source": []
  },
  {
   "cell_type": "code",
   "execution_count": null,
   "id": "28142dd9-9d21-42ac-af84-6d01a3cacaf0",
   "metadata": {},
   "outputs": [],
   "source": []
  },
  {
   "cell_type": "markdown",
   "id": "2dfe087b-ddb3-44f6-a574-3ec06caed6f2",
   "metadata": {},
   "source": [
    "##### Que 3). Print The Following Values Of The List [3, 2, 1, 0] Using A For Loop.?"
   ]
  },
  {
   "cell_type": "code",
   "execution_count": 170,
   "id": "5890aeb7-ebfd-44db-94e8-680a342a22b7",
   "metadata": {},
   "outputs": [
    {
     "name": "stdout",
     "output_type": "stream",
     "text": [
      "3\n",
      "2\n",
      "1\n",
      "0\n"
     ]
    }
   ],
   "source": [
    "# Answer:- \n",
    "\n",
    "for value in [3,2,1,0]:\n",
    "    print(value)"
   ]
  },
  {
   "cell_type": "code",
   "execution_count": null,
   "id": "e1d07e0a-f41b-4c44-a87f-34abdd325a32",
   "metadata": {},
   "outputs": [],
   "source": []
  },
  {
   "cell_type": "code",
   "execution_count": null,
   "id": "11048da3-675e-4dd8-aa5f-ed3c047cee7d",
   "metadata": {},
   "outputs": [],
   "source": []
  },
  {
   "cell_type": "markdown",
   "id": "3fccd5f4-2b6b-4e39-bb1f-cd14dc53c3b9",
   "metadata": {},
   "source": [
    "##### Que 4). Use A List Comprehension To Make A List Of The Even Numbers In Range(10)?"
   ]
  },
  {
   "cell_type": "code",
   "execution_count": 171,
   "id": "23f07c11-1650-415b-acaf-bc7251b83670",
   "metadata": {},
   "outputs": [
    {
     "name": "stdout",
     "output_type": "stream",
     "text": [
      "[0, 2, 4, 6, 8]\n"
     ]
    }
   ],
   "source": [
    "# Answer:-\n",
    "\n",
    "Evens = [number for number in range(10) if number %2 == 0]\n",
    "print(Evens)"
   ]
  },
  {
   "cell_type": "code",
   "execution_count": null,
   "id": "4a410404-0dcf-4e3b-943d-e220f7598e02",
   "metadata": {},
   "outputs": [],
   "source": []
  },
  {
   "cell_type": "code",
   "execution_count": null,
   "id": "c7ef9977-d965-44df-9f06-bc172fe5b5cd",
   "metadata": {},
   "outputs": [],
   "source": []
  },
  {
   "cell_type": "markdown",
   "id": "eccc5fad-a11a-4622-8799-05d6b3579b9f",
   "metadata": {},
   "source": [
    "##### Que 5). Use A Dictionary Comprehension To Create The Dictionary Squares. Use Range(10) To Return The Keys, And Use The Square Of Each Key As Its Value.?"
   ]
  },
  {
   "cell_type": "code",
   "execution_count": 172,
   "id": "e523e667-62f5-427a-ba68-4e390fe3c931",
   "metadata": {},
   "outputs": [
    {
     "name": "stdout",
     "output_type": "stream",
     "text": [
      "{0: 0, 1: 1, 2: 4, 3: 9, 4: 16, 5: 25, 6: 36, 7: 49, 8: 64, 9: 81}\n"
     ]
    }
   ],
   "source": [
    "# Answer:-\n",
    "\n",
    "Squares = {num: num ** 2 for num in range(10)}\n",
    "print(Squares)"
   ]
  },
  {
   "cell_type": "code",
   "execution_count": null,
   "id": "7d7f4353-74c7-45fc-a78f-f3e18b783ee7",
   "metadata": {},
   "outputs": [],
   "source": []
  },
  {
   "cell_type": "code",
   "execution_count": null,
   "id": "21619734-55c8-43f8-9e33-fb019fe9ac4b",
   "metadata": {},
   "outputs": [],
   "source": []
  },
  {
   "cell_type": "markdown",
   "id": "0889eed6-9d94-457d-8de9-4a7ccce66eed",
   "metadata": {},
   "source": [
    "##### Que 6). Construct The Set Odd From The Odd Numbers In The Range Using A Set Comprehension (10).?"
   ]
  },
  {
   "cell_type": "code",
   "execution_count": 173,
   "id": "948b0894-1030-43cd-84c7-99ec1c2602a6",
   "metadata": {},
   "outputs": [
    {
     "name": "stdout",
     "output_type": "stream",
     "text": [
      "{1, 3, 5, 7, 9}\n"
     ]
    }
   ],
   "source": [
    "# Answer:-\n",
    "\n",
    "Odd = {num for num in range(10) if num % 2 != 0}\n",
    "print(Odd)"
   ]
  },
  {
   "cell_type": "code",
   "execution_count": null,
   "id": "4d35108c-b9df-4364-9bf8-ada2dee75624",
   "metadata": {},
   "outputs": [],
   "source": []
  },
  {
   "cell_type": "code",
   "execution_count": null,
   "id": "7386b80c-00d2-4138-a05d-03d03803b2ff",
   "metadata": {},
   "outputs": [],
   "source": []
  },
  {
   "cell_type": "markdown",
   "id": "d2d4dfda-3b89-4924-9284-0781befe8bcc",
   "metadata": {},
   "source": [
    "##### Que 7). Use A Generator Comprehension To Return The String 'got ' And A Number For The Numbers In Range(10). Iterate Through This By Using A For Loop.?"
   ]
  },
  {
   "cell_type": "code",
   "execution_count": 174,
   "id": "5c065678-c0f7-4a26-9bd3-8e2f72e73e82",
   "metadata": {},
   "outputs": [
    {
     "name": "stdout",
     "output_type": "stream",
     "text": [
      "Got 0\n",
      "Got 1\n",
      "Got 2\n",
      "Got 3\n",
      "Got 4\n",
      "Got 5\n",
      "Got 6\n",
      "Got 7\n",
      "Got 8\n",
      "Got 9\n"
     ]
    }
   ],
   "source": [
    "# Answer:-\n",
    "\n",
    "Generator = (f\"Got {num}\" for num in range(10))\n",
    "for item in Generator:\n",
    "    print(item)"
   ]
  },
  {
   "cell_type": "code",
   "execution_count": null,
   "id": "07057f9c-5a4f-495b-9762-8074c3b36a20",
   "metadata": {},
   "outputs": [],
   "source": []
  },
  {
   "cell_type": "code",
   "execution_count": null,
   "id": "56fc4d33-7f15-4043-95c8-87128052d472",
   "metadata": {},
   "outputs": [],
   "source": []
  },
  {
   "cell_type": "markdown",
   "id": "05988e9a-f886-4f53-8ea6-760e0d406e65",
   "metadata": {},
   "source": [
    "##### Que 8). Define A Function Called Good That Returns The List ['harry', 'ron', 'hermione'].?"
   ]
  },
  {
   "cell_type": "code",
   "execution_count": 175,
   "id": "697f26ae-6d89-4ee4-8c45-ac6ef4d62c2a",
   "metadata": {},
   "outputs": [
    {
     "name": "stdout",
     "output_type": "stream",
     "text": [
      "<function good at 0x000001C71248CEA0>\n"
     ]
    }
   ],
   "source": [
    "# Answer:-\n",
    "\n",
    "def good():\n",
    "    return [\"Harry\",\"Ron\",\"Hermione\"]\n",
    "\n",
    "print(good)"
   ]
  },
  {
   "cell_type": "code",
   "execution_count": null,
   "id": "39440de3-07e6-4d58-9af7-6179548a6618",
   "metadata": {},
   "outputs": [],
   "source": []
  },
  {
   "cell_type": "code",
   "execution_count": null,
   "id": "ec6b96d7-7519-49ee-9f48-b4974b31f53f",
   "metadata": {},
   "outputs": [],
   "source": []
  },
  {
   "cell_type": "markdown",
   "id": "339ec26e-dc2e-4435-bd4e-98181f2bcd28",
   "metadata": {},
   "source": [
    "##### Que 9). Define A Generator Function Called Get_odds That Returns The Odd Numbers From Range(10). Use A For Loop To Find And Print The Third Value Returned.?"
   ]
  },
  {
   "cell_type": "code",
   "execution_count": 176,
   "id": "ebc50574-dc42-4cec-8a05-3a1ad7ce474c",
   "metadata": {},
   "outputs": [
    {
     "name": "stdout",
     "output_type": "stream",
     "text": [
      "5\n"
     ]
    }
   ],
   "source": [
    "# Answer:-\n",
    "\n",
    "def get_odds():\n",
    "    for num in range(10):\n",
    "        if num % 2 != 0:\n",
    "            yield num\n",
    "\n",
    "count = 0\n",
    "\n",
    "for odd in get_odds():\n",
    "    count +=1\n",
    "    if count == 3:\n",
    "        print(odd)\n",
    "        break"
   ]
  },
  {
   "cell_type": "code",
   "execution_count": null,
   "id": "eb1310b1-27c6-487d-9199-dd0bce0a8357",
   "metadata": {},
   "outputs": [],
   "source": []
  },
  {
   "cell_type": "code",
   "execution_count": null,
   "id": "3bc05f65-80eb-4eb6-8948-f77437c35ad2",
   "metadata": {},
   "outputs": [],
   "source": []
  },
  {
   "cell_type": "markdown",
   "id": "666d90da-39d5-480c-9c8f-c6ce86caa0c0",
   "metadata": {},
   "source": [
    "##### Que 10). Define An Exception Called Oopsexception. Raise This Exception To See What Happens. Then Write The Code To Catch This Exception And Print 'caught An Oops'.?"
   ]
  },
  {
   "cell_type": "code",
   "execution_count": 177,
   "id": "7bce4de8-cb85-4087-bb17-e40cd74f57b0",
   "metadata": {},
   "outputs": [
    {
     "name": "stdout",
     "output_type": "stream",
     "text": [
      "Caught An Oops\n"
     ]
    }
   ],
   "source": [
    "# Answer:-\n",
    "\n",
    "class OopsException(Exception):\n",
    "    pass\n",
    "try:\n",
    "    raise OopsException('Oops!')\n",
    "except OopsException as e:\n",
    "    print(\"Caught An Oops\")"
   ]
  },
  {
   "cell_type": "code",
   "execution_count": null,
   "id": "ccb8d63d-b38f-47cb-b659-2b0e5e5de5f7",
   "metadata": {},
   "outputs": [],
   "source": []
  },
  {
   "cell_type": "code",
   "execution_count": null,
   "id": "8c18b2fd-589e-4c12-8675-74b415bcc6c2",
   "metadata": {},
   "outputs": [],
   "source": []
  },
  {
   "cell_type": "markdown",
   "id": "55aca641-7e32-49c3-813b-f880644f1d1a",
   "metadata": {},
   "source": [
    "##### Que 11). Use Zip() To Make A Dictionary Called Movies That Pairs These Lists: Titles = ['creature Of Habit', 'crewel Fate'] And Plots = ['a Nun Turns Into A Monster', 'a Haunted Yarn Shop'].?"
   ]
  },
  {
   "cell_type": "code",
   "execution_count": 178,
   "id": "38630e5f-b3fc-4b93-9b6d-c6258854b302",
   "metadata": {},
   "outputs": [
    {
     "name": "stdout",
     "output_type": "stream",
     "text": [
      "{'Creature of Habit': 'A Num Turns Into A Monstar', 'Crewel Fate': 'A Haunted Yarn Shop'}\n"
     ]
    }
   ],
   "source": [
    "# Answer:- \n",
    "\n",
    "Titles = ['Creature of Habit', 'Crewel Fate']\n",
    "Plots = [\"A Num Turns Into A Monstar\", \"A Haunted Yarn Shop\"]\n",
    "Movies = dict(zip(Titles, Plots))\n",
    "print(Movies)"
   ]
  },
  {
   "cell_type": "code",
   "execution_count": null,
   "id": "13eb247b-af28-4d46-9584-447180766abb",
   "metadata": {},
   "outputs": [],
   "source": []
  },
  {
   "cell_type": "code",
   "execution_count": null,
   "id": "2811a17e-816e-4e31-b1f7-565ab736381e",
   "metadata": {},
   "outputs": [],
   "source": []
  },
  {
   "cell_type": "markdown",
   "id": "ca42f9ee-a3a5-438a-8ac8-19fa411f9044",
   "metadata": {},
   "source": [
    "### ASSIGNMENTS - 18"
   ]
  },
  {
   "cell_type": "code",
   "execution_count": null,
   "id": "039a665c-cc58-462a-9a9d-5e5c1606dedb",
   "metadata": {},
   "outputs": [],
   "source": []
  },
  {
   "cell_type": "code",
   "execution_count": null,
   "id": "dd75d61f-e79c-445e-8a83-0be0eb5e34f7",
   "metadata": {},
   "outputs": [],
   "source": []
  },
  {
   "cell_type": "markdown",
   "id": "8a7ea3eb-c31a-4c23-930d-6090990333e2",
   "metadata": {},
   "source": [
    "##### Que 1). Create A Zoo.py File First. Define The Hours() Function, Which Prints The String 'open 9-5 Daily'. Then, Use The Interactive Interpreter To Import The Zoo Module And Call Its Hours() Function.?"
   ]
  },
  {
   "cell_type": "code",
   "execution_count": null,
   "id": "d4326b37-6426-443a-962d-bfb44d59a1a7",
   "metadata": {},
   "outputs": [],
   "source": [
    "# Answer:-\n",
    "\n",
    "# Step - 1 zoo.py - Create Python File With Name (zoo.py) & Save It In Notebook\n",
    "\n",
    "# Step - 2 - Save Below Text In This zoo.py Files. \n",
    "\n",
    "# def hours():\n",
    "#     print('Open 9-5 daily')"
   ]
  },
  {
   "cell_type": "code",
   "execution_count": 179,
   "id": "82cd4c53-f743-441d-a899-cc6748f1f9a1",
   "metadata": {
    "scrolled": true
   },
   "outputs": [
    {
     "name": "stdout",
     "output_type": "stream",
     "text": [
      "Open 9-5 daily\n"
     ]
    }
   ],
   "source": [
    "import zoo\n",
    "zoo.hours()"
   ]
  },
  {
   "cell_type": "code",
   "execution_count": null,
   "id": "0accb928-c9c4-4f3d-913d-bd2c5826482f",
   "metadata": {},
   "outputs": [],
   "source": []
  },
  {
   "cell_type": "markdown",
   "id": "6f3da56f-3628-4161-945b-f5ebf48face0",
   "metadata": {},
   "source": [
    "##### Que 2). In The Interactive Interpreter, Import The Zoo Module As Menagerie And Call Its Hours() Function.?"
   ]
  },
  {
   "cell_type": "code",
   "execution_count": 180,
   "id": "62def3dd-708f-43d1-a999-8700614f3b97",
   "metadata": {},
   "outputs": [
    {
     "name": "stdout",
     "output_type": "stream",
     "text": [
      "Open 9-5 daily\n"
     ]
    }
   ],
   "source": [
    "# Answer:-\n",
    "\n",
    "import zoo as menagerie\n",
    "menagerie.hours()"
   ]
  },
  {
   "cell_type": "code",
   "execution_count": null,
   "id": "6b7bc0bc-8585-44fe-b08e-2cb8a62c0392",
   "metadata": {},
   "outputs": [],
   "source": []
  },
  {
   "cell_type": "code",
   "execution_count": null,
   "id": "30d1aa21-6bdd-4d1b-9dcf-faa7e112f392",
   "metadata": {},
   "outputs": [],
   "source": []
  },
  {
   "cell_type": "markdown",
   "id": "8dfc2e9a-a9c0-43b7-8a21-ec26cea6c2c8",
   "metadata": {},
   "source": [
    "##### Que 3). Using The Interpreter, Explicitly Import And Call The Hours() Function From Zoo.?"
   ]
  },
  {
   "cell_type": "code",
   "execution_count": 181,
   "id": "1f8f877f-5dc5-4f55-95d3-85faf9540c07",
   "metadata": {},
   "outputs": [
    {
     "name": "stdout",
     "output_type": "stream",
     "text": [
      "Open 9-5 daily\n"
     ]
    }
   ],
   "source": [
    "# Answer:-\n",
    "\n",
    "from zoo import hours\n",
    "hours()"
   ]
  },
  {
   "cell_type": "code",
   "execution_count": null,
   "id": "201285ce-acc1-4e61-b0c4-8daa7883e0fd",
   "metadata": {},
   "outputs": [],
   "source": []
  },
  {
   "cell_type": "code",
   "execution_count": null,
   "id": "ef8278fc-c69e-4fb0-8f95-266dd55d9504",
   "metadata": {},
   "outputs": [],
   "source": []
  },
  {
   "cell_type": "markdown",
   "id": "38c34aa7-98dc-41d4-b5ff-d946615a083e",
   "metadata": {},
   "source": [
    "##### Que 4). Import The Hours() Function As Info And Call It.?"
   ]
  },
  {
   "cell_type": "code",
   "execution_count": 182,
   "id": "58126a79-6f14-41ba-baf4-978474d6c5e3",
   "metadata": {},
   "outputs": [
    {
     "name": "stdout",
     "output_type": "stream",
     "text": [
      "Open 9-5 daily\n"
     ]
    }
   ],
   "source": [
    "# Answer:-\n",
    "\n",
    "from zoo import hours as info\n",
    "info()"
   ]
  },
  {
   "cell_type": "code",
   "execution_count": null,
   "id": "2f2652a5-4e02-4d12-a140-d480c36658d5",
   "metadata": {},
   "outputs": [],
   "source": []
  },
  {
   "cell_type": "code",
   "execution_count": null,
   "id": "3618fc46-e26b-41a9-a3c0-ad51a595a7fa",
   "metadata": {},
   "outputs": [],
   "source": []
  },
  {
   "cell_type": "markdown",
   "id": "cb2b2999-72a2-4280-a2ee-3a21844a0cd7",
   "metadata": {},
   "source": [
    "##### Que 5). Create A Plain Dictionary With The Key-value Pairs 'a': 1, 'b': 2, And 'c': 3, And Print It Out.?"
   ]
  },
  {
   "cell_type": "code",
   "execution_count": 183,
   "id": "a69c2286-1419-4817-92cd-428bba6da4ef",
   "metadata": {},
   "outputs": [
    {
     "name": "stdout",
     "output_type": "stream",
     "text": [
      "{'a': 1, 'b': 2, 'c': 3}\n"
     ]
    }
   ],
   "source": [
    "# Answer:-\n",
    "\n",
    "plain = {'a':1,'b':2,'c':3}\n",
    "print(plain)"
   ]
  },
  {
   "cell_type": "code",
   "execution_count": null,
   "id": "c2b56bdb-7e92-4bc9-9f7f-7e2b1591ea24",
   "metadata": {},
   "outputs": [],
   "source": []
  },
  {
   "cell_type": "code",
   "execution_count": null,
   "id": "18f0a041-e005-420d-b18d-c5583ed25104",
   "metadata": {},
   "outputs": [],
   "source": []
  },
  {
   "cell_type": "markdown",
   "id": "1d7fe9ad-af7e-477e-a2e5-3a5b9fba451b",
   "metadata": {},
   "source": [
    "##### Que 6). Make An OrderedDict Called Fancy From The Same Pairs Listed In 5 And Print It. Did It Print In The Same Order As Plain?"
   ]
  },
  {
   "cell_type": "code",
   "execution_count": 184,
   "id": "4648cb3d-ce75-48fe-8688-24ba75606e52",
   "metadata": {},
   "outputs": [
    {
     "name": "stdout",
     "output_type": "stream",
     "text": [
      "OrderedDict({'a': 1, 'b': 2, 'c': 3})\n"
     ]
    }
   ],
   "source": [
    "# Answer:-\n",
    "\n",
    "\n",
    "from collections import OrderedDict\n",
    "\n",
    "fancy = OrderedDict([('a',1),('b',2),('c',3)])\n",
    "print(fancy)"
   ]
  },
  {
   "cell_type": "code",
   "execution_count": null,
   "id": "fc858be0-9a72-4bbf-ac47-1c5470d54af2",
   "metadata": {},
   "outputs": [],
   "source": []
  },
  {
   "cell_type": "code",
   "execution_count": null,
   "id": "48a4dac5-9514-462f-888c-757d7b193c45",
   "metadata": {},
   "outputs": [],
   "source": []
  },
  {
   "cell_type": "markdown",
   "id": "6c72d7ac-36ae-4178-b155-0cbf457f3557",
   "metadata": {},
   "source": [
    "##### Que 7). Make A Default Dictionary Called Dict_Of_Lists And Pass It The Argument List. Make The List Dict_Of_Lists['a'] And Append The Value 'something For A' To It In One Assignment. Print Dict_Of_Lists['a']."
   ]
  },
  {
   "cell_type": "code",
   "execution_count": 185,
   "id": "99700a46-d72e-49be-9e63-bbf9983f8d7a",
   "metadata": {},
   "outputs": [
    {
     "name": "stdout",
     "output_type": "stream",
     "text": [
      "['Something For a']\n"
     ]
    }
   ],
   "source": [
    "# Answer:-\n",
    "\n",
    "from collections import defaultdict\n",
    "\n",
    "dict_of_lists = defaultdict(list)\n",
    "dict_of_lists['a'].append('Something For a')\n",
    "print(dict_of_lists['a'])"
   ]
  },
  {
   "cell_type": "code",
   "execution_count": null,
   "id": "a7305042-8a50-48dc-b5cb-9840f4d0c0af",
   "metadata": {},
   "outputs": [],
   "source": []
  },
  {
   "cell_type": "code",
   "execution_count": null,
   "id": "9183fc1d-4baa-4e72-8193-54321a34bed4",
   "metadata": {},
   "outputs": [],
   "source": []
  },
  {
   "cell_type": "markdown",
   "id": "6d11be44-8a6d-4283-a290-b7979d8f1d23",
   "metadata": {},
   "source": [
    "### ASSIGNMENTS - 19"
   ]
  },
  {
   "cell_type": "code",
   "execution_count": null,
   "id": "fee9e1df-dd97-4912-8b64-523817267f48",
   "metadata": {},
   "outputs": [],
   "source": []
  },
  {
   "cell_type": "code",
   "execution_count": null,
   "id": "cde068a2-dc38-48fa-b011-2319aef7fb47",
   "metadata": {},
   "outputs": [],
   "source": []
  },
  {
   "cell_type": "markdown",
   "id": "f28ad6c0-a995-4004-b9bd-c73f8fb163cf",
   "metadata": {},
   "source": [
    "##### Que 1). Make A Class Called Thing With No Contents And Print It. Then, Create An Object Called Example From This Class And Also Print It. Are The Printed Values The Same Or Different?"
   ]
  },
  {
   "cell_type": "code",
   "execution_count": 186,
   "id": "e4de141a-3767-49e9-b36c-9ad072842d56",
   "metadata": {},
   "outputs": [
    {
     "name": "stdout",
     "output_type": "stream",
     "text": [
      "<class '__main__.Thing'>\n"
     ]
    }
   ],
   "source": [
    "# Answer:-\n",
    "\n",
    "class Thing:                # Class\n",
    "    pass\n",
    "\n",
    "print(Thing)"
   ]
  },
  {
   "cell_type": "code",
   "execution_count": 187,
   "id": "32cb6f5a-ccbe-4787-8b80-7df31b46ebaf",
   "metadata": {},
   "outputs": [
    {
     "name": "stdout",
     "output_type": "stream",
     "text": [
      "<__main__.Thing object at 0x000001C712487EF0>\n"
     ]
    }
   ],
   "source": [
    "example = Thing()           # Object\n",
    "print(example)"
   ]
  },
  {
   "cell_type": "code",
   "execution_count": null,
   "id": "1e103666-198e-4226-8a1d-555fe2e8d04d",
   "metadata": {},
   "outputs": [],
   "source": []
  },
  {
   "cell_type": "code",
   "execution_count": null,
   "id": "89057bdd-9dd0-4a67-b62f-aeab73f1b604",
   "metadata": {},
   "outputs": [],
   "source": []
  },
  {
   "cell_type": "markdown",
   "id": "d6f0c161-a08d-46b8-82ae-80aba4361457",
   "metadata": {},
   "source": [
    "##### Que 2). Create A New Class Called Thing2 And Add The Value 'abc' To The Letters Class Attribute. Letters Should Be Printed.?"
   ]
  },
  {
   "cell_type": "code",
   "execution_count": 188,
   "id": "49cdb3e3-bb44-4a7a-817f-90d1af58201d",
   "metadata": {},
   "outputs": [
    {
     "name": "stdout",
     "output_type": "stream",
     "text": [
      "abc\n"
     ]
    }
   ],
   "source": [
    "# Answer:-\n",
    "\n",
    "class Thing2:\n",
    "    letters = 'abc'\n",
    "\n",
    "print(Thing2.letters)"
   ]
  },
  {
   "cell_type": "code",
   "execution_count": null,
   "id": "ef408b41-79a3-40c3-9580-9e4efffaf745",
   "metadata": {},
   "outputs": [],
   "source": []
  },
  {
   "cell_type": "code",
   "execution_count": null,
   "id": "7e71bbec-f3a7-4ed4-8837-484b5e7d8d99",
   "metadata": {},
   "outputs": [],
   "source": []
  },
  {
   "cell_type": "markdown",
   "id": "57e5a054-81ee-4025-a37f-9501f38241de",
   "metadata": {},
   "source": [
    "##### Que 3). Make Yet Another Class Called, Of Course, Thing3. This Time, Assign The Value 'xyz' To An Instance (Object) Attribute Called Letters. Print Letters. Do You Need To Make An Object From The Class To Do This?"
   ]
  },
  {
   "cell_type": "code",
   "execution_count": 189,
   "id": "b5e5809a-d522-434d-b2f3-5eee812c7edd",
   "metadata": {},
   "outputs": [
    {
     "name": "stdout",
     "output_type": "stream",
     "text": [
      "xyz\n"
     ]
    }
   ],
   "source": [
    "# Answer:- \n",
    "\n",
    "class Thing3:\n",
    "    def __init__(self):\n",
    "        self.letters = 'xyz'\n",
    "\n",
    "thing_instance = Thing3()\n",
    "print(thing_instance.letters)"
   ]
  },
  {
   "cell_type": "code",
   "execution_count": null,
   "id": "051e6d3c-c8f4-4823-82fc-a70e30aa91fa",
   "metadata": {},
   "outputs": [],
   "source": []
  },
  {
   "cell_type": "code",
   "execution_count": null,
   "id": "13dc0a6e-1646-47ec-a186-5d3cac42152f",
   "metadata": {},
   "outputs": [],
   "source": []
  },
  {
   "cell_type": "markdown",
   "id": "a93f0273-246a-4830-86be-ee351fb18d5e",
   "metadata": {},
   "source": [
    "##### Que 4). Create An Element Class With The Instance Attributes Name, Symbol, And Number. Create A Class Object With The Values 'hydrogen,' 'h,' And 1.?"
   ]
  },
  {
   "cell_type": "code",
   "execution_count": 190,
   "id": "82dbe494-cd53-4848-866f-cad33adaf941",
   "metadata": {},
   "outputs": [],
   "source": [
    "# Answer:- \n",
    "\n",
    "class Element:\n",
    "    def __init__(self, name, symbol, number):\n",
    "        self.name = name\n",
    "        self.symbol = symbol\n",
    "        self.number = number\n",
    "\n",
    "hydrogen = Element(\"Hydrogen\", \"H\", 1)"
   ]
  },
  {
   "cell_type": "code",
   "execution_count": 191,
   "id": "d2afc1b2-aa86-46eb-98fc-0d686f2bb37e",
   "metadata": {},
   "outputs": [
    {
     "data": {
      "text/plain": [
       "<__main__.Element at 0x1c712486ea0>"
      ]
     },
     "execution_count": 191,
     "metadata": {},
     "output_type": "execute_result"
    }
   ],
   "source": [
    "hydrogen"
   ]
  },
  {
   "cell_type": "code",
   "execution_count": null,
   "id": "2a22204d-2897-4813-ba8f-8a5e2f96a807",
   "metadata": {},
   "outputs": [],
   "source": []
  },
  {
   "cell_type": "code",
   "execution_count": null,
   "id": "f68c76b5-0ec8-4bc7-912e-866e2d90db5e",
   "metadata": {},
   "outputs": [],
   "source": []
  },
  {
   "cell_type": "markdown",
   "id": "8bc7521c-e2c0-4444-821f-1032e85ffd0d",
   "metadata": {},
   "source": [
    "##### Que 5). Make A Dictionary With These Keys And Values: 'name': 'hydrogen', 'symbol': 'h', 'number': 1. Then, Create An Object Called Hydrogen From Class Element Using This Dictionary.?"
   ]
  },
  {
   "cell_type": "code",
   "execution_count": 192,
   "id": "43554a70-0bd5-4160-ab71-8aad46f490ae",
   "metadata": {},
   "outputs": [],
   "source": [
    "# Answer:- \n",
    "\n",
    "Element_Dict = {'name': 'hydrogen', 'symbol': 'H', 'number':1}\n",
    "hydrogen = Element(**Element_Dict)"
   ]
  },
  {
   "cell_type": "code",
   "execution_count": 193,
   "id": "8270dd24-9aad-48d0-964c-2c5f6ff27671",
   "metadata": {},
   "outputs": [
    {
     "data": {
      "text/plain": [
       "<__main__.Element at 0x1c712484b00>"
      ]
     },
     "execution_count": 193,
     "metadata": {},
     "output_type": "execute_result"
    }
   ],
   "source": [
    "hydrogen"
   ]
  },
  {
   "cell_type": "code",
   "execution_count": null,
   "id": "769a0a4e-1a9c-461e-9a16-596da8418bb6",
   "metadata": {},
   "outputs": [],
   "source": []
  },
  {
   "cell_type": "code",
   "execution_count": null,
   "id": "4eb2a510-0bdb-4d27-ad50-a5681aa40cd7",
   "metadata": {},
   "outputs": [],
   "source": []
  },
  {
   "cell_type": "markdown",
   "id": "5068c14e-0752-41e8-9708-53cfec96affa",
   "metadata": {},
   "source": [
    "##### Que 6). For The Element Class, Define A Method Called Dump() That Prints The Values Of The Object’s Attributes (Name, Symbol, And Number). Create The Hydrogen Object From This New Definition And Use Dump() To Print Its Attributes.?"
   ]
  },
  {
   "cell_type": "code",
   "execution_count": 194,
   "id": "9f0196c6-9e3a-4d7c-9118-b82184a97bbd",
   "metadata": {},
   "outputs": [
    {
     "name": "stdout",
     "output_type": "stream",
     "text": [
      "name: Hydrogen, symbol: H, number: 1\n"
     ]
    }
   ],
   "source": [
    "# Answer:-\n",
    "\n",
    "class Element:\n",
    "    def __init__ (self, name, symbol, number):\n",
    "        self.name = name\n",
    "        self.symbol = symbol\n",
    "        self.number = number\n",
    "\n",
    "    def dump(self):\n",
    "        print(f'name: {self.name}, symbol: {self.symbol}, number: {self.number}')\n",
    "\n",
    "hydrogen = Element('Hydrogen', 'H', 1)\n",
    "hydrogen.dump()"
   ]
  },
  {
   "cell_type": "code",
   "execution_count": null,
   "id": "9848d471-703e-429e-b343-48185394bea3",
   "metadata": {},
   "outputs": [],
   "source": []
  },
  {
   "cell_type": "code",
   "execution_count": null,
   "id": "ad66e651-e4a6-4177-9edb-50234c402b0e",
   "metadata": {},
   "outputs": [],
   "source": []
  },
  {
   "cell_type": "markdown",
   "id": "f7226281-8dbf-47d5-a56e-9b5653425224",
   "metadata": {},
   "source": [
    "##### Que 7). Call Print(Hydrogen). In The Definition Of Element, Change The Name Of Method Dump To __str__, Create A New Hydrogen Object, And Call Print(Hydrogen) Again.?"
   ]
  },
  {
   "cell_type": "code",
   "execution_count": 195,
   "id": "93007840-6d84-4947-a088-74a53e4fe10b",
   "metadata": {},
   "outputs": [
    {
     "name": "stdout",
     "output_type": "stream",
     "text": [
      "name: Hydrogen, symbol: H, number: 1\n"
     ]
    }
   ],
   "source": [
    "# Answer:-\n",
    "\n",
    "class Element:\n",
    "    def __init__ (self, name, symbol, number):\n",
    "        self.name = name\n",
    "        self.symbol = symbol\n",
    "        self.number = number\n",
    "\n",
    "    def __str__(self):\n",
    "        return f'name: {self.name}, symbol: {self.symbol}, number: {self.number}'\n",
    "\n",
    "hydrogen = Element('Hydrogen', 'H', 1)\n",
    "print(hydrogen)"
   ]
  },
  {
   "cell_type": "code",
   "execution_count": null,
   "id": "1686ae4f-e7f4-464a-9e86-fdb55ad599fe",
   "metadata": {},
   "outputs": [],
   "source": []
  },
  {
   "cell_type": "code",
   "execution_count": null,
   "id": "636a9f5e-8de7-49b8-9d21-4ba1a3bad18a",
   "metadata": {},
   "outputs": [],
   "source": []
  },
  {
   "cell_type": "markdown",
   "id": "b21e72b9-b0e5-46dc-b8ca-e3037cdcdd85",
   "metadata": {},
   "source": [
    "##### Que 8). Modify Element To Make The Attributes Name, Symbol, And Number Private. Define A Getter Property For Each To Return Its Value.?"
   ]
  },
  {
   "cell_type": "code",
   "execution_count": 196,
   "id": "38b0d0c0-45fa-4f70-a748-0924d371d7a3",
   "metadata": {},
   "outputs": [
    {
     "name": "stdout",
     "output_type": "stream",
     "text": [
      "Hydrogen H 1\n"
     ]
    }
   ],
   "source": [
    "# Answer:-\n",
    "\n",
    "class Element:\n",
    "    def __init__(self, name, symbol, number):\n",
    "        self.__name = name\n",
    "        self.__symbol = symbol\n",
    "        self.__number = number\n",
    "\n",
    "    @property\n",
    "    def name(self):\n",
    "        return self.__name\n",
    "\n",
    "    @property\n",
    "    def symbol(self):\n",
    "        return self.__symbol\n",
    "\n",
    "    @property\n",
    "    def number(self):\n",
    "        return self.__number\n",
    "\n",
    "hydrogen = Element('Hydrogen', 'H', 1)\n",
    "print(hydrogen.name, hydrogen.symbol, hydrogen.number)"
   ]
  },
  {
   "cell_type": "code",
   "execution_count": null,
   "id": "b2a02a7f-5e16-4886-9dbf-c045cb45839d",
   "metadata": {},
   "outputs": [],
   "source": []
  },
  {
   "cell_type": "code",
   "execution_count": null,
   "id": "91f68df4-28fd-4d62-9c05-db4ae84055c3",
   "metadata": {},
   "outputs": [],
   "source": []
  },
  {
   "cell_type": "markdown",
   "id": "2253e407-df44-453c-895b-09f8c3d4aa48",
   "metadata": {},
   "source": [
    "##### Que 9). Define Three Classes: Bear, Rabbit, And Octothorpe. For Each, Define Only One Method: Eats(). This Should Return 'berries' (Bear), 'clover' (Rabbit), Or 'campers' (Octothorpe). Create One Object From Each And Print What It Eats.?"
   ]
  },
  {
   "cell_type": "code",
   "execution_count": 197,
   "id": "064268f3-f051-4edf-b9bd-3907c3a446b2",
   "metadata": {},
   "outputs": [
    {
     "name": "stdout",
     "output_type": "stream",
     "text": [
      "Berries\n",
      "Clover\n",
      "Campers\n"
     ]
    }
   ],
   "source": [
    "# Answer:- \n",
    "\n",
    "class Bear:\n",
    "    def eats(self):\n",
    "        return 'Berries'\n",
    "\n",
    "class Rabbit:\n",
    "    def eats(self):\n",
    "        return 'Clover'\n",
    "\n",
    "class Octothorpe:\n",
    "    def eats(self):\n",
    "        return 'Campers'\n",
    "\n",
    "bear = Bear()\n",
    "rabbit = Rabbit()\n",
    "octo = Octothorpe()\n",
    "\n",
    "print(bear.eats())\n",
    "print(rabbit.eats())\n",
    "print(octo.eats())"
   ]
  },
  {
   "cell_type": "code",
   "execution_count": null,
   "id": "aec4d12d-c48d-41dd-b1e1-a98d83b5efaf",
   "metadata": {},
   "outputs": [],
   "source": []
  },
  {
   "cell_type": "code",
   "execution_count": null,
   "id": "b6d5b2d7-737b-485b-96b9-f4eed493473b",
   "metadata": {},
   "outputs": [],
   "source": []
  },
  {
   "cell_type": "markdown",
   "id": "592bb141-ed5c-426a-bf05-ae37e8365bd2",
   "metadata": {},
   "source": [
    "##### Que 10). Define These Classes: Laser, Claw, And Smartphone. Each Has Only One Method: Does(). This Returns 'disintegrate' (Laser), 'crush' (Claw), Or 'ring' (Smartphone). Then, Define The Class Robot That Has One Instance (Object) Of Each Of These. Define A Does() Method For The Robot That Prints What Its Component Objects Do.?"
   ]
  },
  {
   "cell_type": "code",
   "execution_count": 198,
   "id": "057c099e-0744-42ef-ab21-0c6fb0ad3dbe",
   "metadata": {},
   "outputs": [
    {
     "name": "stdout",
     "output_type": "stream",
     "text": [
      "Laser:Disintegrate,Claw: Ring\n"
     ]
    }
   ],
   "source": [
    "# Answer:-\n",
    "\n",
    "class Laser:\n",
    "    def does(self):\n",
    "        return 'Disintegrate'\n",
    "\n",
    "class Claw:\n",
    "    def does(self):\n",
    "        return 'Crush'\n",
    "\n",
    "class SmartPhone:\n",
    "    def does(self):\n",
    "        return 'Ring'\n",
    "\n",
    "class Robot:\n",
    "    def __init__(self):\n",
    "        self.laser = Laser()\n",
    "        self.claw = Claw()\n",
    "        self.smartphone = SmartPhone()\n",
    "\n",
    "    def does(self):\n",
    "        return (f'Laser:{self.laser.does()},'\n",
    "                f'Claw: {self.smartphone.does()}')\n",
    "\n",
    "robot = Robot()\n",
    "print(robot.does())"
   ]
  },
  {
   "cell_type": "code",
   "execution_count": null,
   "id": "70ec80e7-f26d-4b94-88f6-176e64f9b4f6",
   "metadata": {},
   "outputs": [],
   "source": []
  },
  {
   "cell_type": "code",
   "execution_count": null,
   "id": "9958f820-6297-4917-8a76-1b1d4052f6c9",
   "metadata": {},
   "outputs": [],
   "source": []
  },
  {
   "cell_type": "markdown",
   "id": "641b8104-85a9-45f5-a850-1f8d36eddcfc",
   "metadata": {},
   "source": [
    "### ASSIGNMENTS - 20"
   ]
  },
  {
   "cell_type": "code",
   "execution_count": null,
   "id": "3fc6eb22-174c-4652-baa6-961b4d423981",
   "metadata": {},
   "outputs": [],
   "source": []
  },
  {
   "cell_type": "code",
   "execution_count": null,
   "id": "943d0799-9b26-4007-a50b-539b59043d88",
   "metadata": {},
   "outputs": [],
   "source": []
  },
  {
   "cell_type": "markdown",
   "id": "6c107d8f-3813-4b29-bf8e-b07c0016e6b7",
   "metadata": {},
   "source": [
    "##### Que 1). Set The Variable Test1 To The String 'this Is A Test Of The Emergency Text System,' And Save Test1 To A File Named Test.txt.?"
   ]
  },
  {
   "cell_type": "code",
   "execution_count": 199,
   "id": "724022fe-4b42-49ae-99d6-a93991ddddb7",
   "metadata": {},
   "outputs": [
    {
     "name": "stdout",
     "output_type": "stream",
     "text": [
      "Content saved successfully to D:\\CloudBlitz\\DATA Science With Amit Makode Sir (FROM 24-06-2025 TO ONWARDS)\\PYTHON\\Dataset\\test.txt\n"
     ]
    }
   ],
   "source": [
    "# Answer:-\n",
    "\n",
    "test1 = 'this Is A Test Of The Emergency Text System,'\n",
    "\n",
    "# Use raw string (r\"\") or double backslashes to handle Windows paths correctly\n",
    "file_path = r\"D:\\CloudBlitz\\DATA Science With Amit Makode Sir (FROM 24-06-2025 TO ONWARDS)\\PYTHON\\Dataset\\test.txt\"\n",
    "\n",
    "with open(file_path, 'w') as file:\n",
    "    file.write(test1)\n",
    "\n",
    "print(f\"Content saved successfully to {file_path}\")"
   ]
  },
  {
   "cell_type": "code",
   "execution_count": null,
   "id": "f7eb1a7c-4357-42ee-84e9-c77620985aad",
   "metadata": {},
   "outputs": [],
   "source": []
  },
  {
   "cell_type": "code",
   "execution_count": null,
   "id": "001f539d-ced4-4d23-8a95-24ae3e1b459f",
   "metadata": {},
   "outputs": [],
   "source": []
  },
  {
   "cell_type": "markdown",
   "id": "e3013e37-db3f-4286-91b7-fdf1c67e8eb8",
   "metadata": {},
   "source": [
    "##### Que 2). Read The Contents Of The File Test.txt Into The Variable Test2. Is There A Difference Between Test 1 And Test 2?"
   ]
  },
  {
   "cell_type": "code",
   "execution_count": 200,
   "id": "6cceca8a-0815-4d92-b4fa-3f751c5dc954",
   "metadata": {},
   "outputs": [
    {
     "name": "stdout",
     "output_type": "stream",
     "text": [
      "Content read from file (test2): 'this Is A Test Of The Emergency Text System,'\n",
      "Is there a difference between test1 and test2? False\n"
     ]
    }
   ],
   "source": [
    "# Answer:-\n",
    "\n",
    "# File Path (Adjust If Needed)\n",
    "file_path = r\"D:\\CloudBlitz\\DATA Science With Amit Makode Sir (FROM 24-06-2025 TO ONWARDS)\\PYTHON\\Dataset\\test.txt\"\n",
    "\n",
    "# Read The Content Of The File Into Test2\n",
    "with open(file_path, 'r') as file:\n",
    "    test2 = file.read()\n",
    "\n",
    "# Check If Test1 And Test2 Are The Same\n",
    "test1 = 'this Is A Test Of The Emergency Text System,'\n",
    "\n",
    "# Compare The Two Strings\n",
    "is_different = (test1 != test2)\n",
    "\n",
    "print(f\"Content read from file (test2): '{test2}'\")\n",
    "print(f\"Is there a difference between test1 and test2? {is_different}\")"
   ]
  },
  {
   "cell_type": "code",
   "execution_count": null,
   "id": "b52623fd-31aa-4290-9826-63fe96d51630",
   "metadata": {},
   "outputs": [],
   "source": []
  },
  {
   "cell_type": "code",
   "execution_count": null,
   "id": "762847ff-b651-413b-8faa-3d943a49e6c6",
   "metadata": {},
   "outputs": [],
   "source": []
  },
  {
   "cell_type": "markdown",
   "id": "dcd2a023-a377-4c28-aa94-881884717672",
   "metadata": {},
   "source": [
    "##### Que 3). Create A csv File Called Books.csv By Using These Lines:?\n",
    "##### Title,author,year\n",
    "##### The Weirdstone Of Brisingamen,alan Garner,1960\n",
    "##### Perdido Street Station,china Miéville,2000\n",
    "##### Thud!,terry Pratchett,2005\n",
    "##### The Spellman Files,lisa Lutz,2007\n",
    "##### Small Gods,terry Pratchett,1992"
   ]
  },
  {
   "cell_type": "code",
   "execution_count": 201,
   "id": "25c41004-0a26-4f8b-92a8-581f9e01962d",
   "metadata": {},
   "outputs": [
    {
     "name": "stdout",
     "output_type": "stream",
     "text": [
      "'books.csv' created successfully at: D:\\CloudBlitz\\DATA Science With Amit Makode Sir (FROM 24-06-2025 TO ONWARDS)\\PYTHON\\Dataset\\books.csv\n"
     ]
    }
   ],
   "source": [
    "# Answer:-\n",
    "\n",
    "import csv\n",
    "\n",
    "# Full Path Including The Filename\n",
    "file_path = r\"D:\\CloudBlitz\\DATA Science With Amit Makode Sir (FROM 24-06-2025 TO ONWARDS)\\PYTHON\\Dataset\\books.csv\"\n",
    "\n",
    "# Data To Be Written\n",
    "books_data = [\n",
    "    [\"Title\", \"author\", \"year\"],\n",
    "    [\"The Weirdstone Of Brisingamen\", \"alan Garner\", 1960],\n",
    "    [\"Perdido Street Station\", \"china Miéville\", 2000],\n",
    "    [\"Thud!\", \"terry Pratchett\", 2005],\n",
    "    [\"The Spellman Files\", \"lisa Lutz\", 2007],\n",
    "    [\"Small Gods\", \"terry Pratchett\", 1992]\n",
    "]\n",
    "\n",
    "# Write To CSV File\n",
    "with open(file_path, mode='w', newline='', encoding='utf-8') as file:\n",
    "    writer = csv.writer(file)\n",
    "    writer.writerows(books_data)\n",
    "\n",
    "print(f\"'books.csv' created successfully at: {file_path}\")"
   ]
  },
  {
   "cell_type": "code",
   "execution_count": null,
   "id": "47a8388e-1a89-4913-8093-c6072a14b9a2",
   "metadata": {},
   "outputs": [],
   "source": []
  },
  {
   "cell_type": "code",
   "execution_count": null,
   "id": "aad68aae-4814-417a-97d6-a17681fbddc5",
   "metadata": {},
   "outputs": [],
   "source": []
  },
  {
   "cell_type": "markdown",
   "id": "b2855223-7e2f-4282-ba93-23eb3dd8b5eb",
   "metadata": {},
   "source": [
    "##### Que 4). Use The Sqlite3 Module To Create A Sqlite Database Called Books.db, And A Table Called Books With These Fields: Title (Text), Author (Text), And Year (Integer).?"
   ]
  },
  {
   "cell_type": "code",
   "execution_count": 202,
   "id": "35691e50-2a02-47ea-b41f-41384aac4142",
   "metadata": {},
   "outputs": [
    {
     "name": "stdout",
     "output_type": "stream",
     "text": [
      "'Books.db' created successfully with 'books' table at: D:\\CloudBlitz\\DATA Science With Amit Makode Sir (FROM 24-06-2025 TO ONWARDS)\\PYTHON\\Dataset\\Books.db\n"
     ]
    }
   ],
   "source": [
    "# Answer:-\n",
    "\n",
    "import sqlite3\n",
    "\n",
    "# Define Database File Path\n",
    "db_path = r\"D:\\CloudBlitz\\DATA Science With Amit Makode Sir (FROM 24-06-2025 TO ONWARDS)\\PYTHON\\Dataset\\Books.db\"\n",
    "\n",
    "# Connect To SQLite Database # Data To (Creates The File If It Doesn't Exist)Be Written\n",
    "\n",
    "conn = sqlite3.connect(db_path)\n",
    "cursor = conn.cursor()\n",
    "\n",
    "# Create A Table Named 'Books'\n",
    "cursor.execute(\"\"\"\n",
    "    CREATE TABLE IF NOT EXISTS books (\n",
    "        title TEXT,\n",
    "        author TEXT,\n",
    "        year INTEGER\n",
    "    )\n",
    "\"\"\")\n",
    "\n",
    "# Commit And Close\n",
    "conn.commit()\n",
    "conn.close()\n",
    "\n",
    "print(f\"'Books.db' created successfully with 'books' table at: {db_path}\")"
   ]
  },
  {
   "cell_type": "code",
   "execution_count": null,
   "id": "99cf20d2-527b-485b-bc3b-ea1f009c7a70",
   "metadata": {},
   "outputs": [],
   "source": []
  },
  {
   "cell_type": "code",
   "execution_count": null,
   "id": "1bca1a1b-3410-48e7-9c78-0bba0401a1f1",
   "metadata": {},
   "outputs": [],
   "source": []
  },
  {
   "cell_type": "markdown",
   "id": "6eb33da3-4967-41fb-bff5-887c3cef2ac4",
   "metadata": {},
   "source": [
    "##### Que 5). Read Books.csv And Insert Its Data Into The Book Table.?"
   ]
  },
  {
   "cell_type": "code",
   "execution_count": 203,
   "id": "5832ba19-fe72-498b-adbf-9949b4deba5a",
   "metadata": {},
   "outputs": [
    {
     "name": "stdout",
     "output_type": "stream",
     "text": [
      "Data from 'books.csv' inserted successfully into 'books' table.\n"
     ]
    }
   ],
   "source": [
    "# Answer:-\n",
    "\n",
    "import sqlite3\n",
    "import csv\n",
    "\n",
    "# File Paths\n",
    "csv_path = r\"D:\\CloudBlitz\\DATA Science With Amit Makode Sir (FROM 24-06-2025 TO ONWARDS)\\PYTHON\\Dataset\\books.csv\"\n",
    "db_path = r\"D:\\CloudBlitz\\DATA Science With Amit Makode Sir (FROM 24-06-2025 TO ONWARDS)\\PYTHON\\Dataset\\Books.db\"\n",
    "\n",
    "# Connect To The Database\n",
    "conn = sqlite3.connect(db_path)\n",
    "cursor = conn.cursor()\n",
    "\n",
    "# Open And Read The CSV File\n",
    "with open(csv_path, newline='', encoding='utf-8') as csvfile:\n",
    "    reader = csv.reader(csvfile)\n",
    "    next(reader)  # Skip Header row\n",
    "    \n",
    "    for row in reader:\n",
    "        title, author, year = row\n",
    "        cursor.execute(\"INSERT INTO books (title, author, year) VALUES (?, ?, ?)\",\n",
    "                       (title, author, int(year)))\n",
    "\n",
    "# Commit Changes And Close The Connection\n",
    "conn.commit()\n",
    "conn.close()\n",
    "\n",
    "print(\"Data from 'books.csv' inserted successfully into 'books' table.\")"
   ]
  },
  {
   "cell_type": "code",
   "execution_count": null,
   "id": "480804d9-7311-453d-b3b6-d83a3c45f7b7",
   "metadata": {},
   "outputs": [],
   "source": []
  },
  {
   "cell_type": "code",
   "execution_count": null,
   "id": "7da07c94-64f1-43c9-9d60-794006fefe9c",
   "metadata": {},
   "outputs": [],
   "source": []
  },
  {
   "cell_type": "markdown",
   "id": "57adedfc-77c9-4c2a-971c-2ced80e4cfdf",
   "metadata": {},
   "source": [
    "##### Que 6). Select And Print The Title Column From The Book Table In Alphabetical Order.?"
   ]
  },
  {
   "cell_type": "code",
   "execution_count": 204,
   "id": "019bcfaf-40b3-45ea-97be-c197a68ccad7",
   "metadata": {},
   "outputs": [
    {
     "name": "stdout",
     "output_type": "stream",
     "text": [
      "Titles in alphabetical order:\n",
      "Perdido Street Station\n",
      "Perdido Street Station\n",
      "Perdido Street Station\n",
      "Small Gods\n",
      "Small Gods\n",
      "Small Gods\n",
      "The Spellman Files\n",
      "The Spellman Files\n",
      "The Spellman Files\n",
      "The Weirdstone Of Brisingamen\n",
      "The Weirdstone Of Brisingamen\n",
      "The Weirdstone Of Brisingamen\n",
      "Thud!\n",
      "Thud!\n",
      "Thud!\n"
     ]
    }
   ],
   "source": [
    "# Answer:-\n",
    "\n",
    "import sqlite3\n",
    "\n",
    "# Path to the SQLite database\n",
    "db_path = r\"D:\\CloudBlitz\\DATA Science With Amit Makode Sir (FROM 24-06-2025 TO ONWARDS)\\PYTHON\\Dataset\\Books.db\"\n",
    "\n",
    "# Connect to the database\n",
    "conn = sqlite3.connect(db_path)\n",
    "cursor = conn.cursor()\n",
    "\n",
    "# Execute SQL query to fetch titles in alphabetical order\n",
    "cursor.execute(\"SELECT title FROM books ORDER BY title ASC\")\n",
    "\n",
    "# Fetch and print results\n",
    "titles = cursor.fetchall()\n",
    "print(\"Titles in alphabetical order:\")\n",
    "for title in titles:\n",
    "    print(title[0])\n",
    "\n",
    "# Close the connection\n",
    "conn.close()"
   ]
  },
  {
   "cell_type": "code",
   "execution_count": null,
   "id": "faccce34-e47f-412b-96e3-8d2d01920d85",
   "metadata": {},
   "outputs": [],
   "source": []
  },
  {
   "cell_type": "code",
   "execution_count": null,
   "id": "60876e75-b1e1-43f2-8361-96a3ac616b0e",
   "metadata": {},
   "outputs": [],
   "source": []
  },
  {
   "cell_type": "markdown",
   "id": "194bcfa6-6cbc-4334-a6b7-c90289720c82",
   "metadata": {},
   "source": [
    "##### Que 7). From The Book Table, Select And Print All Columns In The Order Of Publication.?"
   ]
  },
  {
   "cell_type": "code",
   "execution_count": 205,
   "id": "1baf0cd6-a1a8-4db5-adc8-d4f5072d78e2",
   "metadata": {},
   "outputs": [
    {
     "name": "stdout",
     "output_type": "stream",
     "text": [
      "\n",
      "Books Orders By Year:\n",
      "('The Weirdstone Of Brisingamen', 'alan Garner', 1960)\n",
      "('The Weirdstone Of Brisingamen', 'alan Garner', 1960)\n",
      "('The Weirdstone Of Brisingamen', 'alan Garner', 1960)\n",
      "('Small Gods', 'terry Pratchett', 1992)\n",
      "('Small Gods', 'terry Pratchett', 1992)\n",
      "('Small Gods', 'terry Pratchett', 1992)\n",
      "('Perdido Street Station', 'china Miéville', 2000)\n",
      "('Perdido Street Station', 'china Miéville', 2000)\n",
      "('Perdido Street Station', 'china Miéville', 2000)\n",
      "('Thud!', 'terry Pratchett', 2005)\n",
      "('Thud!', 'terry Pratchett', 2005)\n",
      "('Thud!', 'terry Pratchett', 2005)\n",
      "('The Spellman Files', 'lisa Lutz', 2007)\n",
      "('The Spellman Files', 'lisa Lutz', 2007)\n",
      "('The Spellman Files', 'lisa Lutz', 2007)\n"
     ]
    }
   ],
   "source": [
    "# Answer:-\n",
    "conn = sqlite3.connect(db_path)\n",
    "cursor = conn.cursor()\n",
    "\n",
    "cursor.execute('SELECT title, author, year FROM books ORDER BY year ASC')\n",
    "books = cursor.fetchall()\n",
    "print(\"\\nBooks Orders By Year:\")\n",
    "for book in books:\n",
    "    print(book)"
   ]
  },
  {
   "cell_type": "code",
   "execution_count": null,
   "id": "d7a237fe-ab35-42f5-b50a-3a9648bc5327",
   "metadata": {},
   "outputs": [],
   "source": []
  },
  {
   "cell_type": "code",
   "execution_count": null,
   "id": "2145a785-1026-464c-b041-8cdcacd6ac35",
   "metadata": {},
   "outputs": [],
   "source": []
  },
  {
   "cell_type": "markdown",
   "id": "4a177d79-e818-4d2c-8364-cd47b4dfd50e",
   "metadata": {},
   "source": [
    "##### Que 8). Use The SQLALchemy Module To Connect To The SQlite3 Database Books.db That You Just Made In Exercise 6.?"
   ]
  },
  {
   "cell_type": "code",
   "execution_count": 206,
   "id": "85b2f687-abb8-4ebf-a6dc-b158af54f873",
   "metadata": {},
   "outputs": [
    {
     "name": "stdout",
     "output_type": "stream",
     "text": [
      "\n",
      "Data fetched Via SQLALchemy:\n",
      "('The Weirdstone of Brisingamen', 'Alan Garner', 1960)\n",
      "('Perdido Street Station', 'China Miéville', 2000)\n",
      "('Thud!', 'Terry Pratchett', 2005)\n",
      "('The Spellman Files', 'Lisa Lutz', 2007)\n",
      "('Small Gods', 'Terry Pratchett', 1992)\n",
      "('The Weirdstone of Brisingamen', 'Alan Garner', 1960)\n",
      "('Perdido Street Station', 'China Miéville', 2000)\n",
      "('Thud!', 'Terry Pratchett', 2005)\n",
      "('The Spellman Files', 'Lisa Lutz', 2007)\n",
      "('Small Gods', 'Terry Pratchett', 1992)\n",
      "('The Weirdstone of Brisingamen', 'Alan Garner', 1960)\n",
      "('Perdido Street Station', 'China Miéville', 2000)\n",
      "('Thud!', 'Terry Pratchett', 2005)\n",
      "('The Spellman Files', 'Lisa Lutz', 2007)\n",
      "('Small Gods', 'Terry Pratchett', 1992)\n"
     ]
    }
   ],
   "source": [
    "# Answer:-\n",
    "\n",
    "# Step 8: Connect Using SQLAlchemy\n",
    "\n",
    "from sqlalchemy import create_engine, MetaData, Table\n",
    "\n",
    "engine = create_engine('sqlite:///books.db')\n",
    "connection = engine.connect()\n",
    "metadata = MetaData()\n",
    "books_table = Table('books',metadata, autoload_with =engine)\n",
    "\n",
    "# Query All Data Using SQLAlchemy\n",
    "\n",
    "result = connection.execute(books_table.select()).fetchall()\n",
    "print(\"\\nData fetched Via SQLALchemy:\")\n",
    "for row in result:\n",
    "    print(row)"
   ]
  },
  {
   "cell_type": "code",
   "execution_count": null,
   "id": "cd3c2f82-78e5-408b-b825-a50e1d9c228e",
   "metadata": {},
   "outputs": [],
   "source": []
  },
  {
   "cell_type": "code",
   "execution_count": null,
   "id": "63282c6c-f379-41b4-b305-7e188494c6a9",
   "metadata": {},
   "outputs": [],
   "source": []
  },
  {
   "cell_type": "markdown",
   "id": "d9e0a8f0-7194-4c53-aee8-10573cfe636a",
   "metadata": {},
   "source": [
    "##### Que 9). Install The Redis Server And The Python Redis Library (Pip Install Redis) On Your Computer. Create A Redis Hash Called Test With The Fields Count (1) And Name ('fester Bestertester'). Print All The Fields For Test.?"
   ]
  },
  {
   "cell_type": "code",
   "execution_count": 207,
   "id": "9528a71d-d05b-4333-b45b-9cfa3da3108f",
   "metadata": {},
   "outputs": [
    {
     "name": "stdout",
     "output_type": "stream",
     "text": [
      "Requirement already satisfied: redis in c:\\users\\dell\\anaconda3\\lib\\site-packages (6.2.0)\n"
     ]
    }
   ],
   "source": [
    "# Answer:-\n",
    "\n",
    "! pip install redis"
   ]
  },
  {
   "cell_type": "code",
   "execution_count": 213,
   "id": "9a43d393-8c3a-4911-969a-ae4b1333d915",
   "metadata": {
    "scrolled": true
   },
   "outputs": [
    {
     "ename": "ConnectionError",
     "evalue": "Error 10061 connecting to localhost:6379. No connection could be made because the target machine actively refused it.",
     "output_type": "error",
     "traceback": [
      "\u001b[1;31m---------------------------------------------------------------------------\u001b[0m",
      "\u001b[1;31mConnectionRefusedError\u001b[0m                    Traceback (most recent call last)",
      "File \u001b[1;32m~\\anaconda3\\Lib\\site-packages\\redis\\connection.py:385\u001b[0m, in \u001b[0;36mAbstractConnection.connect_check_health\u001b[1;34m(self, check_health)\u001b[0m\n\u001b[0;32m    384\u001b[0m \u001b[38;5;28;01mtry\u001b[39;00m:\n\u001b[1;32m--> 385\u001b[0m     sock \u001b[38;5;241m=\u001b[39m \u001b[38;5;28mself\u001b[39m\u001b[38;5;241m.\u001b[39mretry\u001b[38;5;241m.\u001b[39mcall_with_retry(\n\u001b[0;32m    386\u001b[0m         \u001b[38;5;28;01mlambda\u001b[39;00m: \u001b[38;5;28mself\u001b[39m\u001b[38;5;241m.\u001b[39m_connect(), \u001b[38;5;28;01mlambda\u001b[39;00m error: \u001b[38;5;28mself\u001b[39m\u001b[38;5;241m.\u001b[39mdisconnect(error)\n\u001b[0;32m    387\u001b[0m     )\n\u001b[0;32m    388\u001b[0m \u001b[38;5;28;01mexcept\u001b[39;00m socket\u001b[38;5;241m.\u001b[39mtimeout:\n",
      "File \u001b[1;32m~\\anaconda3\\Lib\\site-packages\\redis\\retry.py:87\u001b[0m, in \u001b[0;36mRetry.call_with_retry\u001b[1;34m(self, do, fail)\u001b[0m\n\u001b[0;32m     86\u001b[0m \u001b[38;5;28;01mtry\u001b[39;00m:\n\u001b[1;32m---> 87\u001b[0m     \u001b[38;5;28;01mreturn\u001b[39;00m do()\n\u001b[0;32m     88\u001b[0m \u001b[38;5;28;01mexcept\u001b[39;00m \u001b[38;5;28mself\u001b[39m\u001b[38;5;241m.\u001b[39m_supported_errors \u001b[38;5;28;01mas\u001b[39;00m error:\n",
      "File \u001b[1;32m~\\anaconda3\\Lib\\site-packages\\redis\\connection.py:386\u001b[0m, in \u001b[0;36mAbstractConnection.connect_check_health.<locals>.<lambda>\u001b[1;34m()\u001b[0m\n\u001b[0;32m    384\u001b[0m \u001b[38;5;28;01mtry\u001b[39;00m:\n\u001b[0;32m    385\u001b[0m     sock \u001b[38;5;241m=\u001b[39m \u001b[38;5;28mself\u001b[39m\u001b[38;5;241m.\u001b[39mretry\u001b[38;5;241m.\u001b[39mcall_with_retry(\n\u001b[1;32m--> 386\u001b[0m         \u001b[38;5;28;01mlambda\u001b[39;00m: \u001b[38;5;28mself\u001b[39m\u001b[38;5;241m.\u001b[39m_connect(), \u001b[38;5;28;01mlambda\u001b[39;00m error: \u001b[38;5;28mself\u001b[39m\u001b[38;5;241m.\u001b[39mdisconnect(error)\n\u001b[0;32m    387\u001b[0m     )\n\u001b[0;32m    388\u001b[0m \u001b[38;5;28;01mexcept\u001b[39;00m socket\u001b[38;5;241m.\u001b[39mtimeout:\n",
      "File \u001b[1;32m~\\anaconda3\\Lib\\site-packages\\redis\\connection.py:797\u001b[0m, in \u001b[0;36mConnection._connect\u001b[1;34m(self)\u001b[0m\n\u001b[0;32m    796\u001b[0m \u001b[38;5;28;01mif\u001b[39;00m err \u001b[38;5;129;01mis\u001b[39;00m \u001b[38;5;129;01mnot\u001b[39;00m \u001b[38;5;28;01mNone\u001b[39;00m:\n\u001b[1;32m--> 797\u001b[0m     \u001b[38;5;28;01mraise\u001b[39;00m err\n\u001b[0;32m    798\u001b[0m \u001b[38;5;28;01mraise\u001b[39;00m \u001b[38;5;167;01mOSError\u001b[39;00m(\u001b[38;5;124m\"\u001b[39m\u001b[38;5;124msocket.getaddrinfo returned an empty list\u001b[39m\u001b[38;5;124m\"\u001b[39m)\n",
      "File \u001b[1;32m~\\anaconda3\\Lib\\site-packages\\redis\\connection.py:781\u001b[0m, in \u001b[0;36mConnection._connect\u001b[1;34m(self)\u001b[0m\n\u001b[0;32m    780\u001b[0m \u001b[38;5;66;03m# connect\u001b[39;00m\n\u001b[1;32m--> 781\u001b[0m sock\u001b[38;5;241m.\u001b[39mconnect(socket_address)\n\u001b[0;32m    783\u001b[0m \u001b[38;5;66;03m# set the socket_timeout now that we're connected\u001b[39;00m\n",
      "\u001b[1;31mConnectionRefusedError\u001b[0m: [WinError 10061] No connection could be made because the target machine actively refused it",
      "\nDuring handling of the above exception, another exception occurred:\n",
      "\u001b[1;31mConnectionError\u001b[0m                           Traceback (most recent call last)",
      "Cell \u001b[1;32mIn[213], line 7\u001b[0m\n\u001b[0;32m      4\u001b[0m r \u001b[38;5;241m=\u001b[39m redis\u001b[38;5;241m.\u001b[39mRedis(host\u001b[38;5;241m=\u001b[39m\u001b[38;5;124m'\u001b[39m\u001b[38;5;124mlocalhost\u001b[39m\u001b[38;5;124m'\u001b[39m, port\u001b[38;5;241m=\u001b[39m\u001b[38;5;241m6379\u001b[39m, decode_responses\u001b[38;5;241m=\u001b[39m\u001b[38;5;28;01mTrue\u001b[39;00m)\n\u001b[0;32m      6\u001b[0m \u001b[38;5;66;03m# Create A Redis Hash\u001b[39;00m\n\u001b[1;32m----> 7\u001b[0m r\u001b[38;5;241m.\u001b[39mhset(\u001b[38;5;124m'\u001b[39m\u001b[38;5;124mtest\u001b[39m\u001b[38;5;124m'\u001b[39m, mapping\u001b[38;5;241m=\u001b[39m{\u001b[38;5;124m'\u001b[39m\u001b[38;5;124mcount\u001b[39m\u001b[38;5;124m'\u001b[39m: \u001b[38;5;241m1\u001b[39m, \u001b[38;5;124m'\u001b[39m\u001b[38;5;124mname\u001b[39m\u001b[38;5;124m'\u001b[39m: \u001b[38;5;124m'\u001b[39m\u001b[38;5;124mFester Bestertester\u001b[39m\u001b[38;5;124m'\u001b[39m})\n\u001b[0;32m      9\u001b[0m \u001b[38;5;66;03m# Print All Fields\u001b[39;00m\n\u001b[0;32m     10\u001b[0m \u001b[38;5;28mprint\u001b[39m(\u001b[38;5;124m\"\u001b[39m\u001b[38;5;130;01m\\n\u001b[39;00m\u001b[38;5;124mRedis hash \u001b[39m\u001b[38;5;124m'\u001b[39m\u001b[38;5;124mtest\u001b[39m\u001b[38;5;124m'\u001b[39m\u001b[38;5;124m:\u001b[39m\u001b[38;5;124m\"\u001b[39m)\n",
      "File \u001b[1;32m~\\anaconda3\\Lib\\site-packages\\redis\\commands\\core.py:5102\u001b[0m, in \u001b[0;36mHashCommands.hset\u001b[1;34m(self, name, key, value, mapping, items)\u001b[0m\n\u001b[0;32m   5099\u001b[0m     \u001b[38;5;28;01mfor\u001b[39;00m pair \u001b[38;5;129;01min\u001b[39;00m mapping\u001b[38;5;241m.\u001b[39mitems():\n\u001b[0;32m   5100\u001b[0m         pieces\u001b[38;5;241m.\u001b[39mextend(pair)\n\u001b[1;32m-> 5102\u001b[0m \u001b[38;5;28;01mreturn\u001b[39;00m \u001b[38;5;28mself\u001b[39m\u001b[38;5;241m.\u001b[39mexecute_command(\u001b[38;5;124m\"\u001b[39m\u001b[38;5;124mHSET\u001b[39m\u001b[38;5;124m\"\u001b[39m, name, \u001b[38;5;241m*\u001b[39mpieces)\n",
      "File \u001b[1;32m~\\anaconda3\\Lib\\site-packages\\redis\\client.py:623\u001b[0m, in \u001b[0;36mRedis.execute_command\u001b[1;34m(self, *args, **options)\u001b[0m\n\u001b[0;32m    622\u001b[0m \u001b[38;5;28;01mdef\u001b[39;00m \u001b[38;5;21mexecute_command\u001b[39m(\u001b[38;5;28mself\u001b[39m, \u001b[38;5;241m*\u001b[39margs, \u001b[38;5;241m*\u001b[39m\u001b[38;5;241m*\u001b[39moptions):\n\u001b[1;32m--> 623\u001b[0m     \u001b[38;5;28;01mreturn\u001b[39;00m \u001b[38;5;28mself\u001b[39m\u001b[38;5;241m.\u001b[39m_execute_command(\u001b[38;5;241m*\u001b[39margs, \u001b[38;5;241m*\u001b[39m\u001b[38;5;241m*\u001b[39moptions)\n",
      "File \u001b[1;32m~\\anaconda3\\Lib\\site-packages\\redis\\client.py:629\u001b[0m, in \u001b[0;36mRedis._execute_command\u001b[1;34m(self, *args, **options)\u001b[0m\n\u001b[0;32m    627\u001b[0m pool \u001b[38;5;241m=\u001b[39m \u001b[38;5;28mself\u001b[39m\u001b[38;5;241m.\u001b[39mconnection_pool\n\u001b[0;32m    628\u001b[0m command_name \u001b[38;5;241m=\u001b[39m args[\u001b[38;5;241m0\u001b[39m]\n\u001b[1;32m--> 629\u001b[0m conn \u001b[38;5;241m=\u001b[39m \u001b[38;5;28mself\u001b[39m\u001b[38;5;241m.\u001b[39mconnection \u001b[38;5;129;01mor\u001b[39;00m pool\u001b[38;5;241m.\u001b[39mget_connection()\n\u001b[0;32m    631\u001b[0m \u001b[38;5;28;01mif\u001b[39;00m \u001b[38;5;28mself\u001b[39m\u001b[38;5;241m.\u001b[39m_single_connection_client:\n\u001b[0;32m    632\u001b[0m     \u001b[38;5;28mself\u001b[39m\u001b[38;5;241m.\u001b[39msingle_connection_lock\u001b[38;5;241m.\u001b[39macquire()\n",
      "File \u001b[1;32m~\\anaconda3\\Lib\\site-packages\\redis\\utils.py:191\u001b[0m, in \u001b[0;36mdeprecated_args.<locals>.decorator.<locals>.wrapper\u001b[1;34m(*args, **kwargs)\u001b[0m\n\u001b[0;32m    186\u001b[0m     \u001b[38;5;28;01melif\u001b[39;00m arg \u001b[38;5;129;01min\u001b[39;00m provided_args:\n\u001b[0;32m    187\u001b[0m         warn_deprecated_arg_usage(\n\u001b[0;32m    188\u001b[0m             arg, func\u001b[38;5;241m.\u001b[39m\u001b[38;5;18m__name__\u001b[39m, reason, version, stacklevel\u001b[38;5;241m=\u001b[39m\u001b[38;5;241m3\u001b[39m\n\u001b[0;32m    189\u001b[0m         )\n\u001b[1;32m--> 191\u001b[0m \u001b[38;5;28;01mreturn\u001b[39;00m func(\u001b[38;5;241m*\u001b[39margs, \u001b[38;5;241m*\u001b[39m\u001b[38;5;241m*\u001b[39mkwargs)\n",
      "File \u001b[1;32m~\\anaconda3\\Lib\\site-packages\\redis\\connection.py:1530\u001b[0m, in \u001b[0;36mConnectionPool.get_connection\u001b[1;34m(self, command_name, *keys, **options)\u001b[0m\n\u001b[0;32m   1526\u001b[0m     \u001b[38;5;28mself\u001b[39m\u001b[38;5;241m.\u001b[39m_in_use_connections\u001b[38;5;241m.\u001b[39madd(connection)\n\u001b[0;32m   1528\u001b[0m \u001b[38;5;28;01mtry\u001b[39;00m:\n\u001b[0;32m   1529\u001b[0m     \u001b[38;5;66;03m# ensure this connection is connected to Redis\u001b[39;00m\n\u001b[1;32m-> 1530\u001b[0m     connection\u001b[38;5;241m.\u001b[39mconnect()\n\u001b[0;32m   1531\u001b[0m     \u001b[38;5;66;03m# connections that the pool provides should be ready to send\u001b[39;00m\n\u001b[0;32m   1532\u001b[0m     \u001b[38;5;66;03m# a command. if not, the connection was either returned to the\u001b[39;00m\n\u001b[0;32m   1533\u001b[0m     \u001b[38;5;66;03m# pool before all data has been read or the socket has been\u001b[39;00m\n\u001b[0;32m   1534\u001b[0m     \u001b[38;5;66;03m# closed. either way, reconnect and verify everything is good.\u001b[39;00m\n\u001b[0;32m   1535\u001b[0m     \u001b[38;5;28;01mtry\u001b[39;00m:\n",
      "File \u001b[1;32m~\\anaconda3\\Lib\\site-packages\\redis\\connection.py:379\u001b[0m, in \u001b[0;36mAbstractConnection.connect\u001b[1;34m(self)\u001b[0m\n\u001b[0;32m    377\u001b[0m \u001b[38;5;28;01mdef\u001b[39;00m \u001b[38;5;21mconnect\u001b[39m(\u001b[38;5;28mself\u001b[39m):\n\u001b[0;32m    378\u001b[0m     \u001b[38;5;124m\"\u001b[39m\u001b[38;5;124mConnects to the Redis server if not already connected\u001b[39m\u001b[38;5;124m\"\u001b[39m\n\u001b[1;32m--> 379\u001b[0m     \u001b[38;5;28mself\u001b[39m\u001b[38;5;241m.\u001b[39mconnect_check_health(check_health\u001b[38;5;241m=\u001b[39m\u001b[38;5;28;01mTrue\u001b[39;00m)\n",
      "File \u001b[1;32m~\\anaconda3\\Lib\\site-packages\\redis\\connection.py:391\u001b[0m, in \u001b[0;36mAbstractConnection.connect_check_health\u001b[1;34m(self, check_health)\u001b[0m\n\u001b[0;32m    389\u001b[0m     \u001b[38;5;28;01mraise\u001b[39;00m \u001b[38;5;167;01mTimeoutError\u001b[39;00m(\u001b[38;5;124m\"\u001b[39m\u001b[38;5;124mTimeout connecting to server\u001b[39m\u001b[38;5;124m\"\u001b[39m)\n\u001b[0;32m    390\u001b[0m \u001b[38;5;28;01mexcept\u001b[39;00m \u001b[38;5;167;01mOSError\u001b[39;00m \u001b[38;5;28;01mas\u001b[39;00m e:\n\u001b[1;32m--> 391\u001b[0m     \u001b[38;5;28;01mraise\u001b[39;00m \u001b[38;5;167;01mConnectionError\u001b[39;00m(\u001b[38;5;28mself\u001b[39m\u001b[38;5;241m.\u001b[39m_error_message(e))\n\u001b[0;32m    393\u001b[0m \u001b[38;5;28mself\u001b[39m\u001b[38;5;241m.\u001b[39m_sock \u001b[38;5;241m=\u001b[39m sock\n\u001b[0;32m    394\u001b[0m \u001b[38;5;28;01mtry\u001b[39;00m:\n",
      "\u001b[1;31mConnectionError\u001b[0m: Error 10061 connecting to localhost:6379. No connection could be made because the target machine actively refused it."
     ]
    }
   ],
   "source": [
    "import redis\n",
    "\n",
    "# Connect To local Redis Server\n",
    "r = redis.Redis(host='localhost', port=6379, decode_responses=True)\n",
    "\n",
    "# Create A Redis Hash\n",
    "r.hset('test', mapping={'count': 1, 'name': 'Fester Bestertester'})\n",
    "\n",
    "# Print All Fields\n",
    "print(\"\\nRedis hash 'test':\")\n",
    "print(r.hgetall('test'))"
   ]
  },
  {
   "cell_type": "code",
   "execution_count": null,
   "id": "10b34feb-f948-4997-aa12-9aa0b157c647",
   "metadata": {},
   "outputs": [],
   "source": []
  },
  {
   "cell_type": "code",
   "execution_count": null,
   "id": "24e968da-cac1-4107-b474-33fc9e76cb5c",
   "metadata": {},
   "outputs": [],
   "source": []
  },
  {
   "cell_type": "markdown",
   "id": "6f44a5cc-7384-42d3-96e5-b15d45b164b0",
   "metadata": {},
   "source": [
    "##### Que 10). Increment The Count Field Of Test And Print It.?"
   ]
  },
  {
   "cell_type": "code",
   "execution_count": null,
   "id": "b7d6abb5-648a-4e43-98f8-75c6557b8792",
   "metadata": {},
   "outputs": [],
   "source": [
    "# Answer:-\n",
    "\n",
    "# Step 10: Increment Count\n",
    "\n",
    "r.hincrby('test', 'count', 1)\n",
    "print(\"\\nAfter Incrementing 'count':\")\n",
    "print(r.hgetall('test'))"
   ]
  },
  {
   "cell_type": "code",
   "execution_count": null,
   "id": "2a03101a-5d4c-474c-9b16-7283d90ced62",
   "metadata": {},
   "outputs": [],
   "source": []
  },
  {
   "cell_type": "code",
   "execution_count": null,
   "id": "4a0a3f0b-6666-4a11-be96-0f8f1cc0b9bd",
   "metadata": {},
   "outputs": [],
   "source": []
  },
  {
   "cell_type": "markdown",
   "id": "59326984-948c-4edf-aa07-b08c8b9e828b",
   "metadata": {},
   "source": [
    "### ASSIGNMENTS - 21"
   ]
  },
  {
   "cell_type": "code",
   "execution_count": null,
   "id": "1a0b7d81-6339-4d00-b8e8-728f84561c7b",
   "metadata": {},
   "outputs": [],
   "source": []
  },
  {
   "cell_type": "code",
   "execution_count": null,
   "id": "9f972352-bdd4-4ce1-936c-5f4b9e29d415",
   "metadata": {},
   "outputs": [],
   "source": []
  },
  {
   "cell_type": "markdown",
   "id": "d9cd4aa5-acf1-477c-a9c5-4e1af2e30cea",
   "metadata": {},
   "source": [
    "##### Que 1). Add The Current Date To The Text File Today.txt As A String.??"
   ]
  },
  {
   "cell_type": "code",
   "execution_count": 214,
   "id": "8648ae08-fd86-40bf-bd97-3f0ab08dbbf0",
   "metadata": {},
   "outputs": [
    {
     "name": "stdout",
     "output_type": "stream",
     "text": [
      "Today's date (2025-09-01) has been written to D:\\CloudBlitz\\DATA Science With Amit Makode Sir (FROM 24-06-2025 TO ONWARDS)\\PYTHON\\Dataset\\today.txt\n"
     ]
    }
   ],
   "source": [
    "# Answer:-\n",
    "\n",
    "from datetime import date\n",
    "\n",
    "# Get today's date as a string (e.g., '2025-07-22')\n",
    "today_str = date.today().isoformat()\n",
    "\n",
    "# File path (you can customize this as needed)\n",
    "file_path = r\"D:\\CloudBlitz\\DATA Science With Amit Makode Sir (FROM 24-06-2025 TO ONWARDS)\\PYTHON\\Dataset\\today.txt\"\n",
    "\n",
    "# Write today's date to the file\n",
    "with open(file_path, 'w') as file:\n",
    "    file.write(today_str)\n",
    "\n",
    "print(f\"Today's date ({today_str}) has been written to {file_path}\")"
   ]
  },
  {
   "cell_type": "code",
   "execution_count": null,
   "id": "399ff383-5e86-460e-be11-74e2de071d52",
   "metadata": {},
   "outputs": [],
   "source": []
  },
  {
   "cell_type": "code",
   "execution_count": null,
   "id": "f1fd2c4c-8110-401e-b152-84ab19e9b2a5",
   "metadata": {},
   "outputs": [],
   "source": []
  },
  {
   "cell_type": "markdown",
   "id": "a840b59d-f3d7-423c-ba53-5a7a9dbee9f9",
   "metadata": {},
   "source": [
    "##### Que 2). Read The Text File Today.txt Into The String Today_String ??"
   ]
  },
  {
   "cell_type": "code",
   "execution_count": 215,
   "id": "207b90e9-6413-4bb1-9a48-4aa9123757cd",
   "metadata": {},
   "outputs": [
    {
     "name": "stdout",
     "output_type": "stream",
     "text": [
      "Content of today.txt: 2025-09-01\n"
     ]
    }
   ],
   "source": [
    "# Answer:-\n",
    "\n",
    "# Correct file path (raw string format to handle backslashes)\n",
    "file_path = r\"D:\\CloudBlitz\\DATA Science With Amit Makode Sir (FROM 24-06-2025 TO ONWARDS)\\PYTHON\\Dataset\\today.txt\"\n",
    "\n",
    "# Read the file content into a string\n",
    "with open(file_path, 'r') as file:\n",
    "    today_string = file.read()\n",
    "\n",
    "print(f\"Content of today.txt: {today_string}\")"
   ]
  },
  {
   "cell_type": "code",
   "execution_count": null,
   "id": "f4b2a5ee-a03b-453a-99dd-99417239ff2a",
   "metadata": {},
   "outputs": [],
   "source": []
  },
  {
   "cell_type": "code",
   "execution_count": null,
   "id": "63f3d705-7087-4626-bab2-502d84104654",
   "metadata": {},
   "outputs": [],
   "source": []
  },
  {
   "cell_type": "markdown",
   "id": "5a798329-934c-404d-b1d1-7deedc322929",
   "metadata": {},
   "source": [
    "##### Que 3). Parse The Date From Today_String.??"
   ]
  },
  {
   "cell_type": "code",
   "execution_count": 216,
   "id": "da954da5-a6b3-40b9-8e84-e461aa15814d",
   "metadata": {},
   "outputs": [
    {
     "name": "stdout",
     "output_type": "stream",
     "text": [
      "2025-09-01\n"
     ]
    }
   ],
   "source": [
    "# Answer:-\n",
    "\n",
    "from datetime import datetime\n",
    "\n",
    "# Convert String To Date Object\n",
    "parsed_date = datetime.strptime(today_string, '%Y-%m-%d').date()\n",
    "print(parsed_date)"
   ]
  },
  {
   "cell_type": "code",
   "execution_count": null,
   "id": "571dbdf1-2800-4167-a4ad-19a572562770",
   "metadata": {},
   "outputs": [],
   "source": []
  },
  {
   "cell_type": "code",
   "execution_count": null,
   "id": "b0660238-d067-42cd-992a-88349c5d072b",
   "metadata": {},
   "outputs": [],
   "source": []
  },
  {
   "cell_type": "markdown",
   "id": "91e065b6-656e-4eea-9515-bf15ff1855b2",
   "metadata": {},
   "source": [
    "##### Que 4). List The Files In Your Current Directory??"
   ]
  },
  {
   "cell_type": "code",
   "execution_count": 217,
   "id": "72c0b1cb-f635-40aa-a5f2-b46e013bfa84",
   "metadata": {},
   "outputs": [
    {
     "name": "stdout",
     "output_type": "stream",
     "text": [
      "['.ipynb_checkpoints', 'Assignments.ipynb', 'Assignment_5.docx', 'books.csv', 'books.db', 'example.pdf', 'example1.pdf', 'merged_dataset.csv', 'mock_academics_tests.csv', 'mock_finance_payments.csv', 'mock_sales_leads_enrollments.csv', 'modified_image.png', 'my_document.docx', 'old_name.txt', 'output.csv', 'outputs', 'programLog.txt', 'RGBA_comp.png', 'rotated_output.pdf', 'spam.py', 'test.txt', 'today.txt', 'zoo.py', '__pycache__']\n"
     ]
    }
   ],
   "source": [
    "# Answer:-\n",
    "\n",
    "import os\n",
    "\n",
    "# List Files In The Current Directory\n",
    "current_files = os.listdir('.')\n",
    "print(current_files)"
   ]
  },
  {
   "cell_type": "code",
   "execution_count": null,
   "id": "5e26b620-bc68-412f-b391-2fe2c91f3027",
   "metadata": {},
   "outputs": [],
   "source": []
  },
  {
   "cell_type": "code",
   "execution_count": null,
   "id": "c8fa23fd-131e-427a-a433-a9d504951dd9",
   "metadata": {},
   "outputs": [],
   "source": []
  },
  {
   "cell_type": "markdown",
   "id": "41ff129a-a950-4881-97ed-e224a89d769c",
   "metadata": {},
   "source": [
    "##### Que 5). Create A List Of All Of The Files In Your Parent Directory (Minimum Five Files Should Be Available).??"
   ]
  },
  {
   "cell_type": "code",
   "execution_count": 218,
   "id": "f4eeb915-17ca-4959-b78a-975174b33551",
   "metadata": {},
   "outputs": [
    {
     "name": "stdout",
     "output_type": "stream",
     "text": [
      "['.ipynb_checkpoints', 'Assignments', 'Practice Notes', 'Python Notes']\n"
     ]
    }
   ],
   "source": [
    "# Answer:-\n",
    "\n",
    "# List Files In Parent Directory\n",
    "\n",
    "parent_files = os.listdir('..')\n",
    "print(parent_files)"
   ]
  },
  {
   "cell_type": "code",
   "execution_count": null,
   "id": "53f8ea2f-954d-4677-bc79-e2656f7a2904",
   "metadata": {},
   "outputs": [],
   "source": []
  },
  {
   "cell_type": "code",
   "execution_count": null,
   "id": "c6244c1a-edc5-4b29-92bd-c07bfea1474c",
   "metadata": {},
   "outputs": [],
   "source": []
  },
  {
   "cell_type": "markdown",
   "id": "1863416d-ff90-40ff-9ecb-18705cda7142",
   "metadata": {},
   "source": [
    "##### Que 6). Use Multiprocessing To Create Three Separate Processes. Make Each One Wait A Random Number Of Seconds Between One And Five, Print The Current Time, And Then Exit.??"
   ]
  },
  {
   "cell_type": "code",
   "execution_count": 220,
   "id": "ab1d4fe1-c5cd-4212-b4e9-f5916ad1eb78",
   "metadata": {},
   "outputs": [],
   "source": [
    "# Answer:-\n",
    "\n",
    "import multiprocessing\n",
    "import random\n",
    "import time\n",
    "from datetime import datetime\n",
    "\n",
    "def process_task(name):\n",
    "    wait_time = random.randint(1, 5)\n",
    "    time.sleep(wait_time)\n",
    "    print(f\"Process {name} waited{wait_time} seconds. Time:{datetime.now()}\")\n",
    "\n",
    "# Create And Start 3 Processes\n",
    "if __name__ == '__main__':\n",
    "    processes = []\n",
    "    for i in range(3):\n",
    "        p = multiprocessing.Process(target=process_task, args=(f'P{i+1}',))\n",
    "        processes.append(p)\n",
    "        p.start()\n",
    "\n",
    "# Wait And Start 3 Processes\n",
    "\n",
    "    for p in processes:\n",
    "        p.join()"
   ]
  },
  {
   "cell_type": "code",
   "execution_count": null,
   "id": "ada63289-9f51-4f9c-bd59-1fdc25bc6a74",
   "metadata": {},
   "outputs": [],
   "source": []
  },
  {
   "cell_type": "markdown",
   "id": "0bd28e0d-c5b9-4df3-836f-a760fff98dad",
   "metadata": {},
   "source": [
    "##### Que 7). Create A Date Object Of Your Day Of Birth.??"
   ]
  },
  {
   "cell_type": "code",
   "execution_count": 221,
   "id": "48f84aa2-625f-4646-b52a-20c1a2276a54",
   "metadata": {},
   "outputs": [
    {
     "name": "stdout",
     "output_type": "stream",
     "text": [
      "1993-05-26\n"
     ]
    }
   ],
   "source": [
    "# Answer:-\n",
    "\n",
    "from datetime import date\n",
    "\n",
    "# Replace With Your Actual Birth Date\n",
    "dob = date(1993,5,26)\n",
    "print(dob)"
   ]
  },
  {
   "cell_type": "code",
   "execution_count": null,
   "id": "909d86b2-8ee7-4ab1-8657-68091cb47b66",
   "metadata": {},
   "outputs": [],
   "source": []
  },
  {
   "cell_type": "code",
   "execution_count": null,
   "id": "d9421586-d18e-471e-a5ac-da48365d45cd",
   "metadata": {},
   "outputs": [],
   "source": []
  },
  {
   "cell_type": "markdown",
   "id": "db5d17a6-a97d-4648-969b-435cf6c3c1ab",
   "metadata": {},
   "source": [
    "##### Que 8). What Day Of The Week Was Your Day Of Birth?"
   ]
  },
  {
   "cell_type": "code",
   "execution_count": 222,
   "id": "2100fe54-f170-4cef-b302-1b0074d4fc16",
   "metadata": {},
   "outputs": [
    {
     "name": "stdout",
     "output_type": "stream",
     "text": [
      "You Were Born On A Wednesday\n"
     ]
    }
   ],
   "source": [
    "# Answer:-\n",
    "\n",
    "# Get Day Of The Week (0 = Monday, 6 = Sunday)\n",
    "\n",
    "day_of_week = dob.strftime('%A')\n",
    "print(f\"You Were Born On A {day_of_week}\")"
   ]
  },
  {
   "cell_type": "code",
   "execution_count": null,
   "id": "a5f08577-05d6-4f4e-8f20-0a8185293f9b",
   "metadata": {},
   "outputs": [],
   "source": []
  },
  {
   "cell_type": "code",
   "execution_count": null,
   "id": "727c6c99-4130-49dd-a38a-7a830722f695",
   "metadata": {},
   "outputs": [],
   "source": []
  },
  {
   "cell_type": "markdown",
   "id": "102c8e85-80ab-4876-9b5e-dce343f1b467",
   "metadata": {},
   "source": [
    "##### Que 9). When Will You Be (Or When Were You) 10,000 Days Old?"
   ]
  },
  {
   "cell_type": "code",
   "execution_count": 223,
   "id": "d0f7f45f-b1af-4c1e-89ff-0f259c70b6cb",
   "metadata": {},
   "outputs": [
    {
     "name": "stdout",
     "output_type": "stream",
     "text": [
      "You Will Be 10,000 Days Old On: 2020-10-11\n"
     ]
    }
   ],
   "source": [
    "# Answer:-\n",
    "\n",
    "from datetime import timedelta\n",
    "\n",
    "# Add 10,000 Days To DOB\n",
    "days_10000 = dob + timedelta(days=10000)\n",
    "print(f\"You Will Be 10,000 Days Old On: {days_10000}\")"
   ]
  },
  {
   "cell_type": "code",
   "execution_count": null,
   "id": "a6f0d7fa-e501-4e69-89cf-672a30e7b683",
   "metadata": {},
   "outputs": [],
   "source": []
  },
  {
   "cell_type": "code",
   "execution_count": null,
   "id": "0d3ebaf2-9477-4d1d-974a-59c3f0ad78de",
   "metadata": {},
   "outputs": [],
   "source": []
  },
  {
   "cell_type": "markdown",
   "id": "7be6df04-b9c7-4d73-b4e8-5f7912232ed3",
   "metadata": {},
   "source": [
    "### ASSIGNMENTS - 22"
   ]
  },
  {
   "cell_type": "code",
   "execution_count": null,
   "id": "689bfea6-d310-4365-9848-7bfb24d3111c",
   "metadata": {},
   "outputs": [],
   "source": []
  },
  {
   "cell_type": "code",
   "execution_count": null,
   "id": "c0ae2680-c2a0-44fa-8505-9d15e78ce761",
   "metadata": {},
   "outputs": [],
   "source": []
  },
  {
   "cell_type": "markdown",
   "id": "3fff76ba-4a3a-4a9b-98c7-6d80db979454",
   "metadata": {},
   "source": [
    "##### Que 1). What Is The Result Of The Code, And Explain?\n",
    "\n",
    "\n",
    "##### >>> x = 'ineuron'\n",
    "##### >>> def func():\n",
    "##### Print(x)\n",
    "\n",
    "\n",
    "##### >>> func()"
   ]
  },
  {
   "cell_type": "code",
   "execution_count": 224,
   "id": "bb2b7a75-fa83-4114-9d04-3b39a2ad571f",
   "metadata": {},
   "outputs": [
    {
     "name": "stdout",
     "output_type": "stream",
     "text": [
      "iNeuron\n"
     ]
    }
   ],
   "source": [
    "# Answer:-\n",
    "\n",
    "x = 'iNeuron'\n",
    "def func():\n",
    "    print(x)\n",
    "\n",
    "func()"
   ]
  },
  {
   "cell_type": "code",
   "execution_count": 225,
   "id": "d29b9b58-729e-4bab-893d-9e8b51ec8de2",
   "metadata": {},
   "outputs": [],
   "source": [
    "# Explanation:\n",
    "# X Is Defined In The Global Scope.\n",
    "# func() Prints X, And Since X Is Not Defined Inside func, It Looks Outside The Function And Finds 'ineuron'."
   ]
  },
  {
   "cell_type": "code",
   "execution_count": null,
   "id": "068d4f60-5370-487e-a8bf-fd059484656b",
   "metadata": {},
   "outputs": [],
   "source": []
  },
  {
   "cell_type": "code",
   "execution_count": null,
   "id": "9b81660c-bed6-4a1e-a8e8-02ddfd335d01",
   "metadata": {},
   "outputs": [],
   "source": []
  },
  {
   "cell_type": "markdown",
   "id": "d6593fcb-fce1-4cb9-bc8f-a0e2f9db25a4",
   "metadata": {},
   "source": [
    "##### Que 2). What Is The Result Of The Code, And Explain?\n",
    "\n",
    "\n",
    "##### >>> x = 'ineuron'\n",
    "##### >>> def func():\n",
    "##### x = 'ni!'\n",
    "\n",
    "\n",
    "##### >>> func()\n",
    "##### >>> print(x)"
   ]
  },
  {
   "cell_type": "code",
   "execution_count": 226,
   "id": "691cd265-9970-434b-ad9a-2ca02ccd2343",
   "metadata": {},
   "outputs": [
    {
     "name": "stdout",
     "output_type": "stream",
     "text": [
      "iNeuron\n"
     ]
    }
   ],
   "source": [
    "# Answer:-\n",
    "\n",
    "x = 'iNeuron'\n",
    "\n",
    "def func():\n",
    "    x = 'NI!'\n",
    "\n",
    "func()\n",
    "print(x)"
   ]
  },
  {
   "cell_type": "code",
   "execution_count": 227,
   "id": "f74ab6f6-3b2e-4a58-88a2-4d395091709b",
   "metadata": {},
   "outputs": [],
   "source": [
    "# Explanation:-\n",
    "# Inside func(), X = 'NI!' Creates A Local Variable x.\n",
    "# It Does Not Change The Global x.\n",
    "# So When We print x After Calling The Function, The Global x Is Still 'ineuron'."
   ]
  },
  {
   "cell_type": "code",
   "execution_count": null,
   "id": "52733cdd-ab2d-48cb-8f53-f564e3e3a840",
   "metadata": {},
   "outputs": [],
   "source": []
  },
  {
   "cell_type": "code",
   "execution_count": null,
   "id": "d9b49225-a2af-4dde-977c-f8879a8f4240",
   "metadata": {},
   "outputs": [],
   "source": []
  },
  {
   "cell_type": "markdown",
   "id": "185bd6db-0ea1-4341-aca3-c5154f4813d3",
   "metadata": {},
   "source": [
    "##### Que 3). What Does This Code Print, And Why?\n",
    "\n",
    "\n",
    "##### >>> X = 'ineuron'\n",
    "##### >>> Def Func():\n",
    "##### x = 'ni'\n",
    "##### print(x)\n",
    "\n",
    "\n",
    "##### >>> func()\n",
    "##### >>> print(x)"
   ]
  },
  {
   "cell_type": "code",
   "execution_count": 228,
   "id": "e70d90bc-7918-4656-b0ee-215867fb2e3d",
   "metadata": {},
   "outputs": [
    {
     "name": "stdout",
     "output_type": "stream",
     "text": [
      "NI\n",
      "iNeuron\n"
     ]
    }
   ],
   "source": [
    "# Answer:-\n",
    "\n",
    "x = 'iNeuron'\n",
    "def func():\n",
    "    x = 'NI'\n",
    "    print(x)\n",
    "\n",
    "func()\n",
    "print(x)"
   ]
  },
  {
   "cell_type": "code",
   "execution_count": 229,
   "id": "ec1a3566-6279-4fa3-b959-26b37a9bd652",
   "metadata": {},
   "outputs": [],
   "source": [
    "# Explanation:-\n",
    "# Inside func(), X = 'NI!' Creates A Local Variable x.\n",
    "# It Does Not Change The Global x.\n",
    "# So When We print x After Calling The Function, The Global x Is Still 'iNeuron'."
   ]
  },
  {
   "cell_type": "code",
   "execution_count": null,
   "id": "b311e546-797a-4d74-a7cd-0c86678e7d74",
   "metadata": {},
   "outputs": [],
   "source": []
  },
  {
   "cell_type": "code",
   "execution_count": null,
   "id": "8d31b152-e661-4df4-b107-c2e20c29374e",
   "metadata": {},
   "outputs": [],
   "source": []
  },
  {
   "cell_type": "markdown",
   "id": "85e8e98a-da93-4b48-b244-264b56b6a9ce",
   "metadata": {},
   "source": [
    "##### Que 4). What Output Does This Code Produce? Why?\n",
    "\n",
    "\n",
    "##### >>> x = 'ineuron'\n",
    "##### >>> def Func():\n",
    "##### Global x\n",
    "##### x = 'ni'\n",
    "\n",
    "\n",
    "##### >>> Func()\n",
    "##### >>> Print(x)"
   ]
  },
  {
   "cell_type": "code",
   "execution_count": 230,
   "id": "20fa81a6-589a-43c7-a260-ed6425fd4609",
   "metadata": {},
   "outputs": [
    {
     "name": "stdout",
     "output_type": "stream",
     "text": [
      "NI\n"
     ]
    }
   ],
   "source": [
    "# Answer:-\n",
    "\n",
    "x = 'iNeuron'\n",
    "def func():\n",
    "    global x\n",
    "    x = 'NI'\n",
    "\n",
    "func()\n",
    "print(x)"
   ]
  },
  {
   "cell_type": "code",
   "execution_count": 231,
   "id": "e1ab1ac7-b689-4ee1-bc41-8758440da9cd",
   "metadata": {},
   "outputs": [],
   "source": [
    "# Explanation:-\n",
    "# Inside func(), Global X Tells Python: \"Use The Global X\".\n",
    "# So X = 'NI' Modifies The Global Variable.\n",
    "# After Calling func(), The Global X Has Changed To 'NI'."
   ]
  },
  {
   "cell_type": "code",
   "execution_count": null,
   "id": "90955312-ff47-434a-9d83-f041768aef6e",
   "metadata": {},
   "outputs": [],
   "source": []
  },
  {
   "cell_type": "markdown",
   "id": "515886e4-8b8e-47ab-a015-0bf333c8d725",
   "metadata": {},
   "source": [
    "##### Que 5). What About This Code—what’s The Output, And Why?\n",
    "\n",
    "\n",
    "##### >>> x = 'ineuron'\n",
    "##### >>> def func():\n",
    "##### x = 'ni'\n",
    "##### def nested():\n",
    "##### print(x)\n",
    "##### nested()\n",
    "\n",
    "\n",
    "##### >>> func()\n",
    "##### >>> x"
   ]
  },
  {
   "cell_type": "code",
   "execution_count": 232,
   "id": "169ad586-f705-468d-b615-0bf63fde2058",
   "metadata": {},
   "outputs": [
    {
     "name": "stdout",
     "output_type": "stream",
     "text": [
      "NI\n"
     ]
    },
    {
     "data": {
      "text/plain": [
       "'iNeuron'"
      ]
     },
     "execution_count": 232,
     "metadata": {},
     "output_type": "execute_result"
    }
   ],
   "source": [
    "# Answer:-\n",
    "\n",
    "x = 'iNeuron'\n",
    "def func():\n",
    "    x = 'NI'\n",
    "    def nested():\n",
    "        print(x)\n",
    "    nested()\n",
    "\n",
    "func()\n",
    "x"
   ]
  },
  {
   "cell_type": "code",
   "execution_count": 233,
   "id": "04af2ca0-5359-4b49-834f-3bc58b27d798",
   "metadata": {},
   "outputs": [],
   "source": [
    "# Explanation:-\n",
    "# X = 'NI' Is Local To Func().\n",
    "# nested() Is A Closure, And Can Access The X Inside func().\n",
    "# So It Prints 'NI'.\n",
    "# When You Evaluate X Afterward (In A Shell), It Returns The Global 'iNeuron'."
   ]
  },
  {
   "cell_type": "code",
   "execution_count": null,
   "id": "0d2e25f8-db4d-41e0-becd-fa9194faba22",
   "metadata": {},
   "outputs": [],
   "source": []
  },
  {
   "cell_type": "markdown",
   "id": "63bbe7c1-0b88-466f-ac7a-95478dc9d27a",
   "metadata": {},
   "source": [
    "##### Que 6). How About This Code: What Is Its Output In Python 3, And Explain?\n",
    "\n",
    "\n",
    "##### >>> def func():\n",
    "##### x = 'ni'\n",
    "##### def nested():\n",
    "##### nonlocal X\n",
    "##### x = 'spam'\n",
    "##### nested()\n",
    "##### print(X)\n",
    "\n",
    "\n",
    "##### >>> func()"
   ]
  },
  {
   "cell_type": "code",
   "execution_count": 234,
   "id": "3a1b2306-ad28-4475-9a7b-4cc6c501463b",
   "metadata": {},
   "outputs": [
    {
     "name": "stdout",
     "output_type": "stream",
     "text": [
      "spam\n"
     ]
    }
   ],
   "source": [
    "# Answer:-\n",
    "\n",
    "def func():\n",
    "    x = 'NI'\n",
    "    def nested():\n",
    "        nonlocal x\n",
    "        x = 'spam'\n",
    "    nested()\n",
    "    print(x)\n",
    "\n",
    "func()"
   ]
  },
  {
   "cell_type": "code",
   "execution_count": 235,
   "id": "6ab82b50-32ea-415a-829e-9c43dad8cea0",
   "metadata": {},
   "outputs": [],
   "source": [
    "# Explanation:\n",
    "# x = 'NI' Is In The Enclosing Scope (Inside func).\n",
    "# Nonlocal x In Nested() Tells Python: \"Use The Variable From The Enclosing Function, Not Create A New One.\"\n",
    "# x = 'spam' Modifies x Inside func().\n",
    "# Print(x) Outputs 'spam'."
   ]
  },
  {
   "cell_type": "code",
   "execution_count": null,
   "id": "5a2f8403-12e8-441a-829d-1c6fd8693cfc",
   "metadata": {},
   "outputs": [],
   "source": []
  },
  {
   "cell_type": "code",
   "execution_count": null,
   "id": "e281068b-59ab-4722-b85c-af0c6e626fbf",
   "metadata": {},
   "outputs": [],
   "source": []
  },
  {
   "cell_type": "markdown",
   "id": "70b75331-8928-4920-8b84-cfad84b22ea3",
   "metadata": {},
   "source": [
    "### ASSIGNMENTS - 23"
   ]
  },
  {
   "cell_type": "code",
   "execution_count": null,
   "id": "ac21e64d-3dff-4d52-9357-e57d67565b9a",
   "metadata": {},
   "outputs": [],
   "source": []
  },
  {
   "cell_type": "markdown",
   "id": "9021fac1-94cb-4847-ac12-5ec8be1cdf6a",
   "metadata": {},
   "source": [
    "##### Que 1). What Is The Result Of The Code, And Why?\n",
    "##### >>> Def Func(A, B=6, C=8):\n",
    "##### Print(A, B, C)\n",
    "##### >>> Func(1, 2)"
   ]
  },
  {
   "cell_type": "code",
   "execution_count": 236,
   "id": "c43e825c-be42-4968-baf4-46f41392fc6a",
   "metadata": {},
   "outputs": [
    {
     "name": "stdout",
     "output_type": "stream",
     "text": [
      "1 2 8\n"
     ]
    }
   ],
   "source": [
    "# Answer:- \n",
    "\n",
    "def func(a, b=6, c=8):\n",
    "    print(a, b, c)\n",
    "\n",
    "func(1, 2)"
   ]
  },
  {
   "cell_type": "code",
   "execution_count": 237,
   "id": "5ded946f-fa33-4a79-9305-ed6536cf4824",
   "metadata": {},
   "outputs": [],
   "source": [
    "# Explanation:-\n",
    "# The Function Has Default Values For b=6 And c=8.\n",
    "# The Call func(1, 2) Passes:\n",
    "\n",
    "# a = 1\n",
    "# b = 2\n",
    "\n",
    "# Since c Is Not Provided, The Default Value 8 Is Used"
   ]
  },
  {
   "cell_type": "code",
   "execution_count": null,
   "id": "4cb358bc-540b-4788-bb33-1c4b32fc8fad",
   "metadata": {},
   "outputs": [],
   "source": []
  },
  {
   "cell_type": "markdown",
   "id": "83ac6c68-afa1-4c49-80fa-66c31515051c",
   "metadata": {},
   "source": [
    "##### Que 2). What Is The Result Of This Code, And Why?\n",
    "##### >>> Def Func(A, B, C=5):\n",
    "##### Print(A, B, C)\n",
    "##### >>> Func(1, C=3, B=2)"
   ]
  },
  {
   "cell_type": "code",
   "execution_count": 238,
   "id": "5dff1eb0-bd78-426f-ac98-05e91a478870",
   "metadata": {},
   "outputs": [
    {
     "name": "stdout",
     "output_type": "stream",
     "text": [
      "1 2 3\n"
     ]
    }
   ],
   "source": [
    "# Answer:- \n",
    "\n",
    "def func(a, b, c=5):\n",
    "    print(a, b, c)\n",
    "\n",
    "func(1, c=3, b=2)"
   ]
  },
  {
   "cell_type": "code",
   "execution_count": 239,
   "id": "f589be5b-bc74-475e-a2ff-fc194486bb9f",
   "metadata": {},
   "outputs": [],
   "source": [
    "# Explanation:-\n",
    "# The Function Accepts 3 Parameters: a, b, And An Optional c=5.\n",
    "\n",
    "# In The Call:\n",
    "\n",
    "# a = 1 (Positional)\n",
    "# b = 2, c = 3 (Keyword Arguments)\n",
    "\n",
    "# Keyword Arguments Can Be Provided In Any Order As Long As They Match Parameter Names."
   ]
  },
  {
   "cell_type": "code",
   "execution_count": null,
   "id": "8673b9bc-644a-4697-9bf2-955c403f43fd",
   "metadata": {},
   "outputs": [],
   "source": []
  },
  {
   "cell_type": "markdown",
   "id": "7d0df8d4-155b-4fdf-b0d5-f68b0caf7e5f",
   "metadata": {},
   "source": [
    "##### Que 3). How About This Code: What Is Its Result, And Why?\n",
    "##### >>> Def Func(A, *pargs):\n",
    "##### Print(A, Pargs)\n",
    "##### >>> Func(1, 2, 3)"
   ]
  },
  {
   "cell_type": "code",
   "execution_count": 240,
   "id": "29b2ba95-366c-4545-90b4-319050d4afb4",
   "metadata": {},
   "outputs": [
    {
     "name": "stdout",
     "output_type": "stream",
     "text": [
      "1 (2, 3)\n"
     ]
    }
   ],
   "source": [
    "# Answer:-\n",
    "\n",
    "def func(a, *pargs):\n",
    "    print(a, pargs)\n",
    "\n",
    "func(1, 2, 3)"
   ]
  },
  {
   "cell_type": "code",
   "execution_count": 241,
   "id": "bd3cb76b-010e-4dd7-a9d5-f3ae2f8f4092",
   "metadata": {},
   "outputs": [],
   "source": [
    "# Explanation:-\n",
    "# a = 1 Is a Normal Positional Argument.\n",
    "\n",
    "# *pargs Collects Any Extra Positional Arguments Into A Tuple.\n",
    "\n",
    "# Here:-\n",
    "# a = 1\n",
    "# pargs = (2, 3)"
   ]
  },
  {
   "cell_type": "code",
   "execution_count": null,
   "id": "8c5aa67e-835a-471b-a956-6622ee7c46a6",
   "metadata": {},
   "outputs": [],
   "source": []
  },
  {
   "cell_type": "code",
   "execution_count": null,
   "id": "87143143-c4a1-4cc8-a4b2-bc78b3532912",
   "metadata": {},
   "outputs": [],
   "source": []
  },
  {
   "cell_type": "markdown",
   "id": "bca18031-587b-487a-8e18-3446e9cb8d6f",
   "metadata": {},
   "source": [
    "##### Que 4). What Does This Code Print, And Why?\n",
    "##### >>> Def Func(A, **kargs):\n",
    "##### Print(A, Kargs)\n",
    "##### >>> Func(A=1, C=3, B=2)"
   ]
  },
  {
   "cell_type": "code",
   "execution_count": 242,
   "id": "dedd5d28-3ac4-4c68-9d71-566e54a0cf2c",
   "metadata": {},
   "outputs": [
    {
     "name": "stdout",
     "output_type": "stream",
     "text": [
      "1 {'c': 3, 'b': 2}\n"
     ]
    }
   ],
   "source": [
    "# Answer:-\n",
    "\n",
    "def func(a, **kargs):\n",
    "    print(a, kargs)\n",
    "\n",
    "func(a=1, c=3, b=2)"
   ]
  },
  {
   "cell_type": "code",
   "execution_count": 243,
   "id": "e75c62a2-ad07-445b-a3c1-a0562db13e0a",
   "metadata": {},
   "outputs": [],
   "source": [
    "# Explanation:-\n",
    "# a = 1 Is Matched Directly To The a Parameter.\n",
    "# The Remaining Keyword Arguments c=3 And b=2 Go Into The **kargs Dictionary:\n",
    "# kargs = {'c': 3, 'b': 2}"
   ]
  },
  {
   "cell_type": "code",
   "execution_count": null,
   "id": "7a25ffb1-219d-43f5-bc89-d390945811b4",
   "metadata": {},
   "outputs": [],
   "source": []
  },
  {
   "cell_type": "code",
   "execution_count": null,
   "id": "7ac0f710-e947-4e60-ae7c-85028871b4e7",
   "metadata": {},
   "outputs": [],
   "source": []
  },
  {
   "cell_type": "markdown",
   "id": "82e1b303-8302-42f5-80a6-2000a2701306",
   "metadata": {},
   "source": [
    "##### Que 5). What Gets Printed By This, And Explain?\n",
    "##### >>> Def Func(A, B, C=8, D=5): Print(A, B, C, D)\n",
    "##### >>> Func(1, *(5, 6))"
   ]
  },
  {
   "cell_type": "code",
   "execution_count": 244,
   "id": "580fff13-ebc9-4adb-bad5-3a7a7d2515c3",
   "metadata": {},
   "outputs": [
    {
     "name": "stdout",
     "output_type": "stream",
     "text": [
      "1 5 6 5\n"
     ]
    }
   ],
   "source": [
    "# Answer:-\n",
    "\n",
    "def func(a, b, c=8, d=5): \n",
    "    print(a, b, c, d)\n",
    "\n",
    "func(1, *(5, 6))"
   ]
  },
  {
   "cell_type": "code",
   "execution_count": 245,
   "id": "771083fa-d5de-4c0d-8e99-99f3b4a62654",
   "metadata": {},
   "outputs": [],
   "source": [
    "# Explanation:-\n",
    "# *(5, 6) Unpacks Into Positional Arguments:\n",
    "# So The Call Becomes: func(1, 5, 6)\n",
    "# a = 1, b = 5, c = 6, d Uses Default 5"
   ]
  },
  {
   "cell_type": "code",
   "execution_count": null,
   "id": "5e25e8db-5237-4098-990b-8699b48f5301",
   "metadata": {},
   "outputs": [],
   "source": []
  },
  {
   "cell_type": "code",
   "execution_count": null,
   "id": "c06fc9e5-6d15-407b-891a-ba7fef67ccb3",
   "metadata": {},
   "outputs": [],
   "source": []
  },
  {
   "cell_type": "markdown",
   "id": "d2650aba-173e-4160-90cf-6384a79734a0",
   "metadata": {},
   "source": [
    "##### Que 6). What Is The Result Of This, And Explain?\n",
    "##### >>> Def Func(A, B, C): A = 2; B[0] = 'x'; C['a'] = 'y'\n",
    "##### >>> L=1; M=[1]; N={'a':0}\n",
    "##### >>> Func(L, M, N)\n",
    "##### >>> L, M, N"
   ]
  },
  {
   "cell_type": "code",
   "execution_count": 246,
   "id": "5f0bc4ac-4dde-4954-8dc0-40432e1d3a19",
   "metadata": {},
   "outputs": [
    {
     "name": "stdout",
     "output_type": "stream",
     "text": [
      "1 ['x'] {'a': 'y'}\n"
     ]
    }
   ],
   "source": [
    "# Answer:-\n",
    "\n",
    "def func(a, b, c):\n",
    "    a = 2\n",
    "    b[0] = 'x'\n",
    "    c['a'] = 'y'\n",
    "\n",
    "l = 1\n",
    "m = [1]\n",
    "n = {'a': 0}\n",
    "\n",
    "func(l, m, n)\n",
    "print(l, m, n)"
   ]
  },
  {
   "cell_type": "code",
   "execution_count": 247,
   "id": "87ded0c5-4428-44bb-84e3-73ab654d9ada",
   "metadata": {},
   "outputs": [],
   "source": [
    "# Explanation:-\n",
    "# Inside The Function:\n",
    "\n",
    "# a = 2 Changes Local Copy Of a; l Is Not Affected.\n",
    "# b[0] = 'x' Modifies The Mutable List m — So m[0] Becomes 'x'.\n",
    "# c['a'] = 'y' Modifies The Dictionary n.\n",
    "\n",
    "# After The Function:\n",
    "# l Is Still 1 (Integers Are Immutable).\n",
    "# m Is Changed To ['x'].\n",
    "# n Is Changed To {'a': 'y'}."
   ]
  },
  {
   "cell_type": "code",
   "execution_count": null,
   "id": "ae2cf2ee-21cd-40fe-a5b1-98c26d4f1d2f",
   "metadata": {},
   "outputs": [],
   "source": []
  },
  {
   "cell_type": "code",
   "execution_count": null,
   "id": "411c1410-9cb6-4ae4-af38-8a5ca633fd31",
   "metadata": {},
   "outputs": [],
   "source": []
  },
  {
   "cell_type": "markdown",
   "id": "853b1726-e43d-4206-9c8b-51294078136b",
   "metadata": {},
   "source": [
    "### ASSIGNMENTS - 24"
   ]
  },
  {
   "cell_type": "code",
   "execution_count": null,
   "id": "9db9d826-a34b-429b-bd6d-f2a76c7a23b3",
   "metadata": {},
   "outputs": [],
   "source": []
  },
  {
   "cell_type": "code",
   "execution_count": null,
   "id": "d1d7f0ff-222f-4f79-ab9a-44a3f99482ea",
   "metadata": {},
   "outputs": [],
   "source": []
  },
  {
   "cell_type": "markdown",
   "id": "5d2bbed9-426d-49da-a47b-60434110575d",
   "metadata": {},
   "source": [
    "##### Que 1). What Is The Relationship Between Def Statements And Lambda Expressions ?"
   ]
  },
  {
   "cell_type": "code",
   "execution_count": 248,
   "id": "f02803d7-63aa-4bed-b363-21c5df0a418b",
   "metadata": {},
   "outputs": [],
   "source": [
    "# Answer:-\n",
    "\n",
    "# Both def And Lambda Are Used To define Functions In Python.\n",
    "\n",
    "# Feature\tdef (Function Definition)\t        Lambda (Anonymous Function)\n",
    "# Purpose\tCreates A Named Function\t        Creates A Small, One-Time Function\n",
    "# Syntax\tMulti-Line, Supports Complex Logic\tSingle-Line, Single-Expression\n",
    "# Use Case\tGeneral-Purpose Functions\t        Short, Throwaway Functions (E.g., In Map, Filter)\n",
    "# Naming\tRequires A Name\t                    Optional (Can Be Anonymous)"
   ]
  },
  {
   "cell_type": "code",
   "execution_count": null,
   "id": "24e112ac-7f75-40f9-a8fa-7731c76dbb35",
   "metadata": {},
   "outputs": [],
   "source": []
  },
  {
   "cell_type": "code",
   "execution_count": null,
   "id": "3cf886ab-b6c9-44db-9ab0-8044b26843f7",
   "metadata": {},
   "outputs": [],
   "source": []
  },
  {
   "cell_type": "markdown",
   "id": "026efd22-5d30-4b97-b1b8-5e2a53cb51dc",
   "metadata": {},
   "source": [
    "##### Que 2). What Is The Benefit Of Lambda?"
   ]
  },
  {
   "cell_type": "code",
   "execution_count": 249,
   "id": "9f3cf410-80e2-44d8-903f-6b9bf6f50455",
   "metadata": {},
   "outputs": [],
   "source": [
    "# Answer:-\n",
    "\n",
    "# Key Benefits:-\n",
    "# Concise:- Allows Short Function Definitions In A Single Line.\n",
    "# Inline Use:- Perfect For Passing Functions As Arguments (E.g., In Map, Filter, Sorted).\n",
    "# Anonymous:- You Don’t Need To Define And Name The Function For One-Time Use."
   ]
  },
  {
   "cell_type": "code",
   "execution_count": null,
   "id": "b4f5325a-c437-4a0b-8d56-8b80486b5321",
   "metadata": {},
   "outputs": [],
   "source": []
  },
  {
   "cell_type": "code",
   "execution_count": null,
   "id": "823a3922-352d-45a4-bbce-64327d6064d7",
   "metadata": {},
   "outputs": [],
   "source": []
  },
  {
   "cell_type": "markdown",
   "id": "66309a2f-152f-432c-93e2-2a91e597c19c",
   "metadata": {},
   "source": [
    "##### Que 3). Compare And Contrast Map, Filter, And Reduce.?"
   ]
  },
  {
   "cell_type": "code",
   "execution_count": 250,
   "id": "ecf033cc-f9dd-426f-8463-b99c27423e48",
   "metadata": {},
   "outputs": [],
   "source": [
    "# Answer:-\n",
    "\n",
    "# Function\tPurpose\t                             Returns\t        Function Input\n",
    "# Map()\t    Applies A Function To All Items\t     A Mapped Iterator\tFunction To Apply\n",
    "# Filter()\tFilters Elements Based On Condition\t Filtered Iterator\tFunction Returning True Or False\n",
    "# Reduce()\tApplies Function Cumulatively\t     A Single Value\t    Function With Two Arguments\n",
    "\n",
    "# Reduce() Needs To Be Imported: From Functools Import Reduce"
   ]
  },
  {
   "cell_type": "code",
   "execution_count": null,
   "id": "8f770d8b-5102-4993-b122-a9ee7a9b4b40",
   "metadata": {},
   "outputs": [],
   "source": []
  },
  {
   "cell_type": "code",
   "execution_count": null,
   "id": "cf83d639-355e-42a3-bb03-2589868a83f4",
   "metadata": {},
   "outputs": [],
   "source": []
  },
  {
   "cell_type": "markdown",
   "id": "0d7a2b11-6ffe-4a6e-92f8-66885da04648",
   "metadata": {},
   "source": [
    "##### Que 4). What Are Function Annotations, And How Are They Used?"
   ]
  },
  {
   "cell_type": "code",
   "execution_count": 251,
   "id": "3d786a80-c98a-4ebd-a84a-6f76b3e3b600",
   "metadata": {},
   "outputs": [],
   "source": [
    "# Answer:-\n",
    "\n",
    "# Function Annotations Provide Metadata About The Types Of Inputs And Outputs A Function Expects. \n",
    "# They Do Not Enforce Types, But Help With Documentation And Static Analysis."
   ]
  },
  {
   "cell_type": "code",
   "execution_count": 252,
   "id": "cc36a578-3d34-41b6-86f7-3e749fc3fbb2",
   "metadata": {},
   "outputs": [],
   "source": [
    "# Example:-\n",
    "\n",
    "def greet(name: str, age: int) -> str:\n",
    "    return f\"Hello {name}, you are {age} years old.\""
   ]
  },
  {
   "cell_type": "code",
   "execution_count": 253,
   "id": "ae08baf4-78a1-42a7-8a9d-a6a6d4504e35",
   "metadata": {},
   "outputs": [],
   "source": [
    "# Name: str And Age: Int Are Input Annotations.\n",
    "# -> str Is The Return Type Annotation.\n",
    "# Used Often In IDEs, Linters, And Tools Like mypy For Type Checking."
   ]
  },
  {
   "cell_type": "code",
   "execution_count": null,
   "id": "b76d9399-1168-4386-856b-723fb01cf941",
   "metadata": {},
   "outputs": [],
   "source": []
  },
  {
   "cell_type": "code",
   "execution_count": null,
   "id": "0040f1fe-1da4-4342-a043-836576589520",
   "metadata": {},
   "outputs": [],
   "source": []
  },
  {
   "cell_type": "markdown",
   "id": "b66c5b91-4c17-415c-ab99-0fd4ba45fad1",
   "metadata": {},
   "source": [
    "##### Que 5). What Are Recursive Functions, And How Are They Used?"
   ]
  },
  {
   "cell_type": "code",
   "execution_count": 254,
   "id": "93d46a58-ebd7-4f26-8577-1f6fd75851a9",
   "metadata": {},
   "outputs": [],
   "source": [
    "# Answer:-\n",
    "\n",
    "# A Recursive Function Is A Function That Calls Itself To Solve Smaller Instances Of A Problem.\n",
    "\n",
    "# Used In:-\n",
    "# Mathematical Computations (E.g., Factorial, Fibonacci)\n",
    "# Tree/Graph Traversals\n",
    "# Divide And Conquer Algorithms"
   ]
  },
  {
   "cell_type": "code",
   "execution_count": 255,
   "id": "d330bec3-1880-4acf-849d-d806aed4bc18",
   "metadata": {},
   "outputs": [],
   "source": [
    "# Example - 1 (Factorial):\n",
    "\n",
    "def factorial(n):\n",
    "    if n == 0:\n",
    "        return 1\n",
    "    return n * factorial(n - 1)\n",
    "\n",
    "\n",
    "# Make Sure To Define:-\n",
    "# Base Case:- Condition To Stop Recursion.\n",
    "# Recursive Case:- The Function Calling Itself With A Simpler Input."
   ]
  },
  {
   "cell_type": "code",
   "execution_count": null,
   "id": "e9005861-007a-4e0f-bbac-1b8b3b82ba37",
   "metadata": {},
   "outputs": [],
   "source": []
  },
  {
   "cell_type": "markdown",
   "id": "023a651c-21dc-490b-90f3-587c0883e003",
   "metadata": {},
   "source": [
    "##### Que 6). What Are Some General Design Guidelines For Coding Functions?"
   ]
  },
  {
   "cell_type": "code",
   "execution_count": 256,
   "id": "06edb47b-a028-481c-ae07-e53d8ec71f92",
   "metadata": {},
   "outputs": [],
   "source": [
    "# Answer:-\n",
    "\n",
    "# Single Responsibility:- One Function Should Do One Task Only.\n",
    "# Use Descriptive Names:- Clearly Reflect What The Function Does.\n",
    "# Keep It Short:- Ideally No Longer Than 20–30 Lines.\n",
    "# Use Docstrings:- Explain What The Function Does, Its Parameters, And Return Value.\n",
    "# Avoid Side Effects:- Functions Should Not Modify Global Variables Unnecessarily.\n",
    "# Use Default Arguments And Type Hints To Improve Usability And Readability.\n",
    "# Handle Errors Gracefully (E.g., With Try/Except)."
   ]
  },
  {
   "cell_type": "code",
   "execution_count": null,
   "id": "beca72b1-402e-4bc5-9c45-7f13133d0e7a",
   "metadata": {},
   "outputs": [],
   "source": []
  },
  {
   "cell_type": "code",
   "execution_count": null,
   "id": "db68af17-0562-43ed-8486-2886327386e0",
   "metadata": {},
   "outputs": [],
   "source": []
  },
  {
   "cell_type": "markdown",
   "id": "87509ff0-f077-402b-9199-9796609ecad9",
   "metadata": {},
   "source": [
    "##### Que 7). Name Three Or More Ways That Functions Can Communicate Results To A Caller.?"
   ]
  },
  {
   "cell_type": "code",
   "execution_count": 257,
   "id": "1cf71553-f0b3-4db7-8c1b-7e31d90fab31",
   "metadata": {},
   "outputs": [],
   "source": [
    "# Answer:-\n",
    "\n",
    "# 1) Methods:-\n",
    "# Return Value(S):\n",
    "\n",
    "# Standard Method To Send Output Back.\n",
    "# Can Return Multiple Values Using Tuples."
   ]
  },
  {
   "cell_type": "code",
   "execution_count": 258,
   "id": "737ea5f9-be37-43d3-9245-da486e2c1922",
   "metadata": {},
   "outputs": [
    {
     "ename": "SyntaxError",
     "evalue": "'return' outside function (3853832849.py, line 1)",
     "output_type": "error",
     "traceback": [
      "\u001b[1;36m  Cell \u001b[1;32mIn[258], line 1\u001b[1;36m\u001b[0m\n\u001b[1;33m    return result\u001b[0m\n\u001b[1;37m    ^\u001b[0m\n\u001b[1;31mSyntaxError\u001b[0m\u001b[1;31m:\u001b[0m 'return' outside function\n"
     ]
    }
   ],
   "source": [
    "return result\n",
    "return x, y"
   ]
  },
  {
   "cell_type": "code",
   "execution_count": null,
   "id": "c5c9a07a-765f-4014-8051-1582f7b401b3",
   "metadata": {},
   "outputs": [],
   "source": []
  },
  {
   "cell_type": "code",
   "execution_count": 259,
   "id": "78a13c59-a1fe-4f18-8b48-98ec7ec3a187",
   "metadata": {},
   "outputs": [],
   "source": [
    "# 2) Modifying Mutable Arguments:-\n",
    "\n",
    "# Lists, Dictionaries, And Objects Passed To The Function Can Be Changed Inside The Function."
   ]
  },
  {
   "cell_type": "code",
   "execution_count": 260,
   "id": "fc608c82-e727-411c-ad02-51c00beaf1b0",
   "metadata": {},
   "outputs": [],
   "source": [
    "def modify_list(lst): lst[0] = 99"
   ]
  },
  {
   "cell_type": "code",
   "execution_count": null,
   "id": "7c347cf6-f32b-4db3-bc4a-c1deaaa4d676",
   "metadata": {},
   "outputs": [],
   "source": []
  },
  {
   "cell_type": "code",
   "execution_count": 261,
   "id": "9a35ba7e-918f-4c0c-8781-3ca0c61f82ee",
   "metadata": {},
   "outputs": [],
   "source": [
    "# 3) Raising Exceptions:-\n",
    "\n",
    "# Communicates Issues Or Errors."
   ]
  },
  {
   "cell_type": "code",
   "execution_count": 262,
   "id": "79c7e61a-d6d9-447a-beb1-a75ddb8dd5c1",
   "metadata": {},
   "outputs": [
    {
     "ename": "ValueError",
     "evalue": "Invalid input",
     "output_type": "error",
     "traceback": [
      "\u001b[1;31m---------------------------------------------------------------------------\u001b[0m",
      "\u001b[1;31mValueError\u001b[0m                                Traceback (most recent call last)",
      "Cell \u001b[1;32mIn[262], line 1\u001b[0m\n\u001b[1;32m----> 1\u001b[0m \u001b[38;5;28;01mraise\u001b[39;00m \u001b[38;5;167;01mValueError\u001b[39;00m(\u001b[38;5;124m\"\u001b[39m\u001b[38;5;124mInvalid input\u001b[39m\u001b[38;5;124m\"\u001b[39m)\n",
      "\u001b[1;31mValueError\u001b[0m: Invalid input"
     ]
    }
   ],
   "source": [
    "raise ValueError(\"Invalid input\")"
   ]
  },
  {
   "cell_type": "code",
   "execution_count": null,
   "id": "46e1f47d-0075-4228-afc9-0378262f522e",
   "metadata": {},
   "outputs": [],
   "source": []
  },
  {
   "cell_type": "code",
   "execution_count": 263,
   "id": "6950e667-bc94-41e3-af7a-24d1ecd45315",
   "metadata": {},
   "outputs": [],
   "source": [
    "# 4) Using Global Variables (Not Recommended):-\n",
    "# Function Modifies Or Reads From A Global Variable."
   ]
  },
  {
   "cell_type": "code",
   "execution_count": null,
   "id": "d5bdb4ac-2e51-4999-903e-6014acd6a118",
   "metadata": {},
   "outputs": [],
   "source": []
  },
  {
   "cell_type": "code",
   "execution_count": 264,
   "id": "822e49ee-2de7-4577-944d-fefe64d2b0df",
   "metadata": {},
   "outputs": [],
   "source": [
    "# 5) Writing To External Systems:-\n",
    "# Logging, Files, Databases, Etc. (Though Not Always Best For Function Design Purity)."
   ]
  },
  {
   "cell_type": "code",
   "execution_count": null,
   "id": "f326d827-0fa9-4dcf-bc4a-d3c0804b25a4",
   "metadata": {},
   "outputs": [],
   "source": []
  },
  {
   "cell_type": "code",
   "execution_count": null,
   "id": "239ea7dd-1d0c-49fd-b7c7-d5aef595b2c7",
   "metadata": {},
   "outputs": [],
   "source": []
  },
  {
   "cell_type": "markdown",
   "id": "b5645589-7b47-43e8-9bea-e1afa5a22772",
   "metadata": {},
   "source": [
    "### ASSIGNMENTS - 25"
   ]
  },
  {
   "cell_type": "code",
   "execution_count": null,
   "id": "b066b36c-4283-48fd-bcd8-9365ac83dc89",
   "metadata": {},
   "outputs": [],
   "source": []
  },
  {
   "cell_type": "code",
   "execution_count": null,
   "id": "7d79abc3-7792-47df-9122-051ba68e322d",
   "metadata": {},
   "outputs": [],
   "source": []
  },
  {
   "cell_type": "markdown",
   "id": "4e6ec1a3-757b-43b1-9ffc-5ed130a4039d",
   "metadata": {},
   "source": [
    "##### Que 1) What Is The Difference Between Enclosing A List Comprehension In Square Brackets And Parentheses?"
   ]
  },
  {
   "cell_type": "code",
   "execution_count": 265,
   "id": "8fa5748d-cd8a-40f8-9d8e-a66d2303be14",
   "metadata": {},
   "outputs": [],
   "source": [
    "# Answer:- \n",
    "\n",
    "# The Main Difference Lies In What Type Of Object Is Created:\n",
    "# Square Brackets [ ]: This Creates A List Using List Comprehension."
   ]
  },
  {
   "cell_type": "code",
   "execution_count": 266,
   "id": "567e7fb1-21ee-41ee-94c4-db883a1d7d9e",
   "metadata": {},
   "outputs": [
    {
     "name": "stdout",
     "output_type": "stream",
     "text": [
      "[0, 1, 4, 9, 16]\n"
     ]
    }
   ],
   "source": [
    "# Example:-\n",
    "\n",
    "squares = [x*x for x in range(5)]\n",
    "print(squares)   \n",
    "\n",
    "# Eagerly Evaluated (Computes All Values Immediately).\n",
    "# Supports Indexing And Slicing."
   ]
  },
  {
   "cell_type": "code",
   "execution_count": null,
   "id": "f354eee0-aea9-4298-afa3-92d5c3adcb81",
   "metadata": {},
   "outputs": [],
   "source": []
  },
  {
   "cell_type": "code",
   "execution_count": 267,
   "id": "a35331f7-c5db-4cde-8338-bb8e1730b0fc",
   "metadata": {},
   "outputs": [
    {
     "name": "stdout",
     "output_type": "stream",
     "text": [
      "<generator object <genexpr> at 0x000001C7154206C0>\n",
      "[0, 1, 4, 9, 16]\n"
     ]
    }
   ],
   "source": [
    "# Parentheses ( ):- This Creates A Generator Expression.\n",
    "\n",
    "squares = (x*x for x in range(5))\n",
    "print(squares)   \n",
    "print(list(squares))  \n",
    "\n",
    "# Lazily Evaluated (Computes Values On Demand).\n",
    "# More Memory Efficient For Large Data."
   ]
  },
  {
   "cell_type": "code",
   "execution_count": null,
   "id": "c51deb1a-6689-4f93-8b40-4728718adec9",
   "metadata": {},
   "outputs": [],
   "source": []
  },
  {
   "cell_type": "code",
   "execution_count": null,
   "id": "b5e6ddca-7059-41b3-8e41-2f6f18af23db",
   "metadata": {},
   "outputs": [],
   "source": []
  },
  {
   "cell_type": "markdown",
   "id": "4a4b2a9c-d0de-4424-a4b7-5b4d3770501b",
   "metadata": {},
   "source": [
    "##### Que 2) What Is The Relationship Between Generators And Iterators?"
   ]
  },
  {
   "cell_type": "code",
   "execution_count": 268,
   "id": "a47b9314-4d8a-4f0c-a92c-986258293970",
   "metadata": {},
   "outputs": [],
   "source": [
    "# Answer:-\n",
    "\n",
    "# Generators And Iterators Are Closely Related Concepts In Python:\n",
    "# A Generator Is A Type Of Iterator, Created Using A Function With Yield Or A Generator Expression.\n",
    "# An Iterator Is Any Object That Implements The __iter__() And __next__() Methods.\n",
    "# Generators Automatically Implement The Iterator Protocol, So You Don’t Need To Define __iter__() Or __next__() Manually.\n",
    "\n",
    "# In Short:-\n",
    "# All Generators Are Iterators, But Not All Iterators Are Generators."
   ]
  },
  {
   "cell_type": "code",
   "execution_count": null,
   "id": "ec30d549-870c-4585-8785-3199c69cadf9",
   "metadata": {},
   "outputs": [],
   "source": []
  },
  {
   "cell_type": "code",
   "execution_count": null,
   "id": "c74262c9-9bca-4d79-b845-f1118af9e05c",
   "metadata": {},
   "outputs": [],
   "source": []
  },
  {
   "cell_type": "markdown",
   "id": "9f5b7654-c90d-42f1-8bfc-bef95fe59a39",
   "metadata": {},
   "source": [
    "##### Que 3) What Are The Signs That A Function Is A Generator Function?"
   ]
  },
  {
   "cell_type": "code",
   "execution_count": 269,
   "id": "787d338b-c2d8-4838-8200-d59f1da3b3cc",
   "metadata": {},
   "outputs": [],
   "source": [
    "# Answer:-\n",
    "\n",
    "# A Function Is Recognized As A Generator Function If It Contains At Least One Yield Statement.\n",
    "\n",
    "# Key Signs:-\n",
    "\n",
    "# Uses Yield Instead Of Return.\n",
    "# When Called, It Doesn’t Execute Immediately—It Returns A Generator Object.\n",
    "# It Can Pause Its State Between Calls."
   ]
  },
  {
   "cell_type": "code",
   "execution_count": 270,
   "id": "a0b9c3f7-a311-4f87-866d-36417c7aa1bb",
   "metadata": {},
   "outputs": [
    {
     "data": {
      "text/plain": [
       "<generator object count_up_to at 0x000001C715449480>"
      ]
     },
     "execution_count": 270,
     "metadata": {},
     "output_type": "execute_result"
    }
   ],
   "source": [
    "# Example:-\n",
    "\n",
    "def count_up_to(n):\n",
    "    i = 1\n",
    "    while i <= n:\n",
    "        yield i\n",
    "        i += 1\n",
    "\n",
    "        \n",
    "count_up_to(5)\n",
    "# Calling Count_Up_To(5) Does Not Execute The Function But Returns A Generator Object That Can Be Iterated Over."
   ]
  },
  {
   "cell_type": "code",
   "execution_count": null,
   "id": "cb0a08fb-70dc-43f8-aba7-961de3afc0e8",
   "metadata": {},
   "outputs": [],
   "source": []
  },
  {
   "cell_type": "code",
   "execution_count": null,
   "id": "3250e45a-bbd0-4686-9002-f9eb1a92312b",
   "metadata": {},
   "outputs": [],
   "source": []
  },
  {
   "cell_type": "markdown",
   "id": "5e6fde00-baaa-46f5-bde5-95c46ef237e7",
   "metadata": {},
   "source": [
    "##### Que 4) What Is The Purpose Of A Yield Statement?"
   ]
  },
  {
   "cell_type": "code",
   "execution_count": 271,
   "id": "4f92017d-f5cc-478c-8f37-d8c7e07b287d",
   "metadata": {},
   "outputs": [],
   "source": [
    "# Answer:-\n",
    "\n",
    "# The Yield Statement Is Used To Produce A Value From A Generator Function And Pause Its Execution, Saving Its State For Later Resumption.\n",
    "\n",
    "# Purpose:-\n",
    "\n",
    "# To Make A Function Act Like An Iterator.\n",
    "# It Allows Generation Of A Sequence Of Values on-the-fly, Rather Than Computing Them All At Once (As In A List).\n",
    "# It Is Useful For Memory Efficiency, Especially When Working With Large Data Streams Or Infinite Sequences."
   ]
  },
  {
   "cell_type": "code",
   "execution_count": 272,
   "id": "cc9f9642-6b1f-4733-9929-b7959199d83c",
   "metadata": {},
   "outputs": [],
   "source": [
    "# Example:-\n",
    "\n",
    "def even_numbers():\n",
    "    for i in range(10):\n",
    "        if i % 2 == 0:\n",
    "            yield i\n",
    "\n",
    "# Each Call To next() Resumes From Where The yield Paused."
   ]
  },
  {
   "cell_type": "code",
   "execution_count": null,
   "id": "1e0f5665-f3b0-4bc9-aa6e-44e4104f5a9b",
   "metadata": {},
   "outputs": [],
   "source": []
  },
  {
   "cell_type": "code",
   "execution_count": null,
   "id": "cb44e73e-268d-48af-b421-5e48a8bb2893",
   "metadata": {},
   "outputs": [],
   "source": []
  },
  {
   "cell_type": "markdown",
   "id": "cf65bb56-f6ba-4c61-b3e4-c40989235759",
   "metadata": {},
   "source": [
    "##### Que 5) What Is The Relationship Between Map Calls And List Comprehensions? Make A Comparison And Contrast Between The Two.?"
   ]
  },
  {
   "cell_type": "code",
   "execution_count": 273,
   "id": "1687e671-507b-4496-a0f2-a9dc2c9b837e",
   "metadata": {},
   "outputs": [],
   "source": [
    "# Answer:-\n",
    "\n",
    "# Both Map() And List Comprehensions Are Used For Transforming Data, But They Differ In Syntax, Performance, And Flexibility.\n",
    "\n",
    "# Feature\t       Map(Function, Iterable)\t                List Comprehension\n",
    "# Syntax\t       Functional\t                            More Pythonic And Readable\n",
    "# Return Type\t   Map Object (Lazy Iterator)\t            List (Eagerly Evaluated)\n",
    "# Performance\t   Slightly Faster For Built-in Functions\tMore Flexible And Readable\n",
    "# Use Case\t       Best For Applying A Single Function\t    Best For Transformations And Conditions\n",
    "# Example\t       Map(Str, [1, 2, 3]) → ['1', '2', '3']    [str(X) For X In [1, 2, 3]]\n",
    "\n",
    "# Conclusion:-\n",
    "\n",
    "# Use Map() When Applying A Single Function To All Items.\n",
    "# Use List Comprehension When You Need Filtering (If) Or More Readable Logic."
   ]
  },
  {
   "cell_type": "code",
   "execution_count": null,
   "id": "1462f2a4-3746-47c3-95d8-d26395deda79",
   "metadata": {},
   "outputs": [],
   "source": []
  },
  {
   "cell_type": "markdown",
   "id": "2de52340-f807-4e30-b058-ee8e4afc8279",
   "metadata": {},
   "source": [
    "##### "
   ]
  },
  {
   "cell_type": "code",
   "execution_count": null,
   "id": "f2c456d9-dcfd-4615-b846-7aa9514855a6",
   "metadata": {},
   "outputs": [],
   "source": []
  },
  {
   "cell_type": "code",
   "execution_count": null,
   "id": "49cedb4a-8ec1-448a-b1f1-5a30394c433c",
   "metadata": {},
   "outputs": [],
   "source": []
  }
 ],
 "metadata": {
  "kernelspec": {
   "display_name": "Python [conda env:base] *",
   "language": "python",
   "name": "conda-base-py"
  },
  "language_info": {
   "codemirror_mode": {
    "name": "ipython",
    "version": 3
   },
   "file_extension": ".py",
   "mimetype": "text/x-python",
   "name": "python",
   "nbconvert_exporter": "python",
   "pygments_lexer": "ipython3",
   "version": "3.12.7"
  }
 },
 "nbformat": 4,
 "nbformat_minor": 5
}
